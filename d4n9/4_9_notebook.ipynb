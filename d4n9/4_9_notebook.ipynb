{
 "cells": [
  {
   "cell_type": "code",
   "execution_count": 1,
   "metadata": {},
   "outputs": [
    {
     "name": "stdout",
     "output_type": "stream",
     "text": [
      " -----    -----    -----      -      -----   \n",
      "|     |  |     |  |     |    | |    |     |  \n",
      "|     |  |        |         |   |   |     |  \n",
      "|     |   -----   |        |     |  |-----   \n",
      "|     |        |  |        |-----|  |   |    \n",
      "|     |  |     |  |     |  |     |  |    |   \n",
      " -----    -----    -----   -     -  -     -  \n",
      "\n",
      "...combining (and extending) ANTIC, GAP, Polymake and Singular\n",
      "Version\u001b[32m 0.11.4-DEV \u001b[39m... \n",
      " ... which comes with absolutely no warranty whatsoever\n",
      "Type: '?Oscar' for more information\n",
      "(c) 2019-2023 by The OSCAR Development Team\n"
     ]
    },
    {
     "data": {
      "text/plain": [
       "61231-element Vector{Int64}:\n",
       "    369\n",
       "   1135\n",
       "   1161\n",
       "   1207\n",
       "   1319\n",
       "   1361\n",
       "   1414\n",
       "   1432\n",
       "   1440\n",
       "   1471\n",
       "   1504\n",
       "   1511\n",
       "   1612\n",
       "      ⋮\n",
       " 185858\n",
       " 185866\n",
       " 185870\n",
       " 185877\n",
       " 185879\n",
       " 185881\n",
       " 185884\n",
       " 185885\n",
       " 185887\n",
       " 185892\n",
       " 185913\n",
       " 185936"
      ]
     },
     "execution_count": 1,
     "metadata": {},
     "output_type": "execute_result"
    }
   ],
   "source": [
    "using Oscar\n",
    "using Combinatorics\n",
    "pm = Polymake\n",
    "\n",
    "currentDir = pwd()\n",
    "\n",
    "d4n9 = vec(readlines(\"../data/d4n9.dat\"));\n",
    "\n",
    "include(\"../src/matroid_realization.jl\");\n",
    "include(\"../src/reduceIdealsv2.jl\")\n",
    "include(\"../src/JacobianCriterion.jl\")\n",
    "include(\"../src/TSC_CoordRingV2.jl\")\n",
    "\n",
    "\n",
    "sp_49 = load(\"4planes_4_9.dat\")"
   ]
  },
  {
   "cell_type": "code",
   "execution_count": 4,
   "metadata": {},
   "outputs": [
    {
     "data": {
      "text/plain": [
       "make_directory (generic function with 1 method)"
      ]
     },
     "execution_count": 4,
     "metadata": {},
     "output_type": "execute_result"
    }
   ],
   "source": [
    "function int_gens(I)\n",
    "    ints = [x for x in I if is_constant(x)]\n",
    "    return length(ints)>0    \n",
    "end\n",
    "\n",
    "function make_directory(dir::AbstractString)\n",
    "    if !isdir(dir)\n",
    "        mkdir(dir)\n",
    "    end\n",
    "    return dir    \n",
    "end "
   ]
  },
  {
   "cell_type": "code",
   "execution_count": 5,
   "metadata": {},
   "outputs": [
    {
     "data": {
      "text/plain": [
       "\"/home/dante/Desktop/jupyter_notebooks/matroidRealizationSpaces/d4n9/sorting\""
      ]
     },
     "execution_count": 5,
     "metadata": {},
     "output_type": "execute_result"
    }
   ],
   "source": [
    "sortingDir = joinpath(currentDir, \"sorting\") # makes the directory \"sorting\", if not already created.\n",
    "make_directory(sortingDir)"
   ]
  },
  {
   "cell_type": "code",
   "execution_count": 6,
   "metadata": {},
   "outputs": [
    {
     "data": {
      "text/plain": [
       "IOStream(<file /home/dante/Desktop/jupyter_notebooks/matroidRealizationSpaces/d4n9/sorting/weird.dat>)"
      ]
     },
     "execution_count": 6,
     "metadata": {},
     "output_type": "execute_result"
    }
   ],
   "source": [
    "file_not_realizable = open(joinpath(sortingDir, \"not_realizable.dat\"), \"w\") \n",
    "file_zero_ideal = open(joinpath(sortingDir, \"zero_ideal.dat\"), \"w\")\n",
    "file_int_generator = open(joinpath(sortingDir, \"int_generator.dat\"), \"w\")\n",
    "file_principal_univariate = open(joinpath(sortingDir, \"principal_univariate.dat\"), \"w\")\n",
    "file_principal_multivariate = open(joinpath(sortingDir, \"principal_multivariate.dat\"), \"w\")\n",
    "file_not_principal = open(joinpath(sortingDir, \"not_principal.dat\"), \"w\")\n",
    "file_not_principal_univariate = open(joinpath(sortingDir, \"not_principal_univariate.dat\"), \"w\")\n",
    "file_not_principal_multivariate = open(joinpath(sortingDir, \"not_principal_multivariate.dat\"), \"w\")\n",
    "file_net = open(joinpath(sortingDir, \"net.dat\"), \"w\")\n",
    "file_weird = open(joinpath(sortingDir, \"weird.dat\"), \"w\")"
   ]
  },
  {
   "cell_type": "code",
   "execution_count": 7,
   "metadata": {},
   "outputs": [],
   "source": [
    "for z in sp_49\n",
    "\n",
    "    Mzstr = d4n9[z]\n",
    "    Mz = matroid_from_revlex_basis_encoding(Mzstr, 4, 9)\n",
    "    \n",
    "    C = [c for c in circuits(Mz) if length(c) == 5]\n",
    "    \n",
    "    if length(C) == 0 \n",
    "        write(file_weird, String(Mzstr),\"\\n\")\n",
    "        continue\n",
    "    end\n",
    "    \n",
    "    ISdata = matroid_to_reduced_expression(Mz, QQ)\n",
    "        \n",
    "    \n",
    "    if ISdata isa String    \n",
    "        write(file_not_realizable, String(Mzstr),\"\\n\")\n",
    "        continue\n",
    "    end\n",
    "    \n",
    "    Igens, Sgens = ISdata\n",
    "    \n",
    "    if length(Igens) == 0 #reduces to 0 \n",
    "        write(file_zero_ideal, String(Mzstr), \"\\n\")\n",
    "        continue  \n",
    "          \n",
    "    elseif (1 in Igens || -1 in Igens)\n",
    "        write(file_not_realizable, String(Mzstr),\"\\n\")\n",
    "        continue\n",
    "        \n",
    "    elseif int_gens(Igens)\n",
    "        write(file_int_generator, String(Mzstr),\"\\n\")\n",
    "        continue\n",
    "        \n",
    "    elseif length(Igens) == 1\n",
    "        if (length(vars(Igens[1])) == 1)\n",
    "            write(file_principal_univariate, String(Mzstr),\"\\n\")\n",
    "            continue\n",
    "        else\n",
    "            write(file_principal_multivariate, String(Mzstr),\"\\n\")\n",
    "            continue\n",
    "        end\n",
    "        \n",
    "    elseif length(Igens)>1\n",
    "        \n",
    "        Ivars = ideal_vars(Igens) \n",
    "        if length(Ivars) == 1\n",
    "            if isone(ideal(Igens)) \n",
    "                write(file_not_realizable, String(Mzstr),\"\\n\")\n",
    "                continue\n",
    "            else\n",
    "                write(file_not_principal_univariate, String(Mzstr),\"\\n\")\n",
    "                continue\n",
    "            end\n",
    "        else\n",
    "            write(file_not_principal_multivariate, String(Mzstr),\"\\n\")\n",
    "            continue\n",
    "        end\n",
    "    else\n",
    "        write(file_net, String(Mzstr),\"\\n\")\n",
    "        continue\n",
    "    end\n",
    "end\n",
    "\n",
    "close(file_not_realizable)\n",
    "close(file_zero_ideal)\n",
    "close(file_int_generator)\n",
    "close(file_principal_univariate)\n",
    "close(file_principal_multivariate)\n",
    "close(file_not_principal)\n",
    "close(file_net)\n",
    "close(file_weird)"
   ]
  },
  {
   "cell_type": "code",
   "execution_count": null,
   "metadata": {},
   "outputs": [],
   "source": []
  }
 ],
 "metadata": {
  "kernelspec": {
   "display_name": "Julia 1.7.1",
   "language": "julia",
   "name": "julia-1.7"
  },
  "language_info": {
   "file_extension": ".jl",
   "mimetype": "application/julia",
   "name": "julia",
   "version": "1.7.1"
  }
 },
 "nbformat": 4,
 "nbformat_minor": 4
}
