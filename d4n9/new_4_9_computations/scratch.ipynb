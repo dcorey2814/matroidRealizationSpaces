{
 "cells": [
  {
   "cell_type": "code",
   "execution_count": 1,
   "metadata": {},
   "outputs": [
    {
     "name": "stdout",
     "output_type": "stream",
     "text": [
      "\r",
      " -----    -----    -----      -      -----   \n",
      "|     |  |     |  |     |    | |    |     |  \n",
      "|     |  |        |         |   |   |     |  \n",
      "|     |   -----   |        |     |  |-----   \n",
      "|     |        |  |        |-----|  |   |    \n",
      "|     |  |     |  |     |  |     |  |    |   \n",
      " -----    -----    -----   -     -  -     -  \n",
      "\n",
      "...combining (and extending) ANTIC, GAP, Polymake and Singular\n",
      "Version\u001b[32m 0.12.2-DEV \u001b[39m... \n",
      " ... which comes with absolutely no warranty whatsoever\n",
      "Type: '?Oscar' for more information\n",
      "(c) 2019-2023 by The OSCAR Development Team\n",
      "check function1\n",
      "check function 2\n"
     ]
    },
    {
     "data": {
      "text/plain": [
       "stars_to_set (generic function with 1 method)"
      ]
     },
     "execution_count": 1,
     "metadata": {},
     "output_type": "execute_result"
    }
   ],
   "source": [
    "using Oscar\n",
    "using Combinatorics\n",
    "pm = Polymake\n",
    "\n",
    "\n",
    "#include(\"../../src/old/matroid_realization.jl\")\n",
    "#include(\"../../src/old/reduceIdealsv2.jl\")\n",
    "include(\"../../src/matroid_realization.jl\")\n",
    "include(\"../../src/Jacobian_Criterion.jl\")\n",
    "\n",
    "\n",
    "\n",
    "\n",
    "d4n9 = vec(readlines(\"../4_9_four_planes.dat\"));\n",
    "\n",
    "println(\"check function1\")\n",
    "function int_gens(I)\n",
    "    ints = [x for x in I if is_constant(x) && !(x == 0)]\n",
    "    return length(ints)>0    \n",
    "end\n",
    "\n",
    "println(\"check function 2\")\n",
    "function set_to_stars(set,n)\n",
    "    \n",
    "    z = []\n",
    "    \n",
    "    for a in 1:n\n",
    "        if a in set\n",
    "            push!(z,\"*\")\n",
    "        else\n",
    "            push!(z,\"0\")\n",
    "        end\n",
    "    end\n",
    "    return join(z)\n",
    "end\n",
    "\n",
    "#convert string to reference circuit\n",
    "function stars_to_set(string,n)\n",
    "\n",
    "    return Vector{Int64}([a for a in 1:n if string[a] == '*'])\n",
    "    \n",
    "end"
   ]
  },
  {
   "cell_type": "code",
   "execution_count": 7,
   "metadata": {},
   "outputs": [
    {
     "ename": "LoadError",
     "evalue": "The length of the string does not match the rank and number of elements",
     "output_type": "error",
     "traceback": [
      "The length of the string does not match the rank and number of elements",
      "",
      "Stacktrace:",
      " [1] error(s::String)",
      "   @ Base ./error.jl:33",
      " [2] matroid_from_revlex_basis_encoding(rvlx::String, r::Int64, n::Int64)",
      "   @ Oscar ~/.julia/dev/Oscar/src/Combinatorics/Matroids/matroids.jl:50",
      " [3] top-level scope",
      "   @ In[7]:1"
     ]
    }
   ],
   "source": [
    "Mz = matroid_from_revlex_basis_encoding(, 4, 9)"
   ]
  },
  {
   "cell_type": "code",
   "execution_count": 13,
   "metadata": {},
   "outputs": [
    {
     "data": {
      "text/plain": [
       "2979-element Vector{String}:\n",
       " \"***0*00*00********0**********0*\" ⋯ 73 bytes ⋯ \"*******0******0*****0********0*\"\n",
       " \"***0*00*00********0**********0*\" ⋯ 73 bytes ⋯ \"*****0****0************0*******\"\n",
       " \"***0*00*00********0**********0*\" ⋯ 73 bytes ⋯ \"**************0*****0********0*\"\n",
       " \"***0*00*00********0**********0*\" ⋯ 73 bytes ⋯ \"****0******0************0******\"\n",
       " \"***0*00*00********0**********0*\" ⋯ 73 bytes ⋯ \"****00***************0*****0***\"\n",
       " \"***0*00*00********0**********0*\" ⋯ 73 bytes ⋯ \"0********0***********0***0*****\"\n",
       " \"***0*00*00********0**********0*\" ⋯ 73 bytes ⋯ \"*********0***********0*****0***\"\n",
       " \"***0*00*00********0**********0*\" ⋯ 73 bytes ⋯ \"****0****************0*****0***\"\n",
       " \"***0*00*00********0**********0*\" ⋯ 73 bytes ⋯ \"*********************0*****0***\"\n",
       " \"***0*00*00********0**********0*\" ⋯ 73 bytes ⋯ \"****0************0************0\"\n",
       " \"***0*00*00********0**********0*\" ⋯ 73 bytes ⋯ \"**************0**********0*****\"\n",
       " \"***0*00*00********0**********0*\" ⋯ 73 bytes ⋯ \"**************0**************0*\"\n",
       " \"***0*00*00********0**********0*\" ⋯ 73 bytes ⋯ \"**0***************0************\"\n",
       " ⋮\n",
       " \"***0*000*0********0****0*****0*\" ⋯ 73 bytes ⋯ \"***********0**0***************0\"\n",
       " \"***0*000*0********0****0*****0*\" ⋯ 73 bytes ⋯ \"**********0****0**************0\"\n",
       " \"***0*000*0********0****0*****0*\" ⋯ 73 bytes ⋯ \"*****0*******0************0****\"\n",
       " \"***0*000*0********0****0*****0*\" ⋯ 73 bytes ⋯ \"*****0*******0**********0*0****\"\n",
       " \"***0*000*0********0****0*****0*\" ⋯ 73 bytes ⋯ \"*****0****0****0***************\"\n",
       " \"***0*000*0********0****0*****0*\" ⋯ 73 bytes ⋯ \"****************0****0*****0***\"\n",
       " \"***0*000*0********0****0*****0*\" ⋯ 73 bytes ⋯ \"***************0********0*0****\"\n",
       " \"***0*000*0********0****0*****0*\" ⋯ 73 bytes ⋯ \"***************0********00*****\"\n",
       " \"***0*000*0********0****0*****0*\" ⋯ 73 bytes ⋯ \"*************0**********0**0***\"\n",
       " \"***0*000*0********0****0*****0*\" ⋯ 73 bytes ⋯ \"**********0*************0**0***\"\n",
       " \"***0*000*0********0****0*****0*\" ⋯ 73 bytes ⋯ \"**********0****0**************0\"\n",
       " \"***0*000*0********0****0*****0*\" ⋯ 73 bytes ⋯ \"*********************0*****0***\""
      ]
     },
     "execution_count": 13,
     "metadata": {},
     "output_type": "execute_result"
    }
   ],
   "source": [
    "nr1 = vec(readlines(\"../4_9_computations/not_realizable_4_9/not_realizable_4_9_1.dat\"))\n"
   ]
  },
  {
   "cell_type": "code",
   "execution_count": 12,
   "metadata": {},
   "outputs": [
    {
     "data": {
      "text/plain": [
       "261-element Vector{String}:\n",
       " \"***0*00*00********0**********0*\" ⋯ 73 bytes ⋯ \"0********************0***0*****\"\n",
       " \"***0*00*00********0**********0*\" ⋯ 73 bytes ⋯ \"****0*******************0*0****\"\n",
       " \"***0*00*00********0**********0*\" ⋯ 73 bytes ⋯ \"****0***************0*****0****\"\n",
       " \"***0*00*00********0**********0*\" ⋯ 73 bytes ⋯ \"**0*********************00*****\"\n",
       " \"***0*00*00********0**********0*\" ⋯ 73 bytes ⋯ \"****0**0****************0*0****\"\n",
       " \"***0*00*00********0**********0*\" ⋯ 73 bytes ⋯ \"**0****0****************00*****\"\n",
       " \"***0*00*00********0**********0*\" ⋯ 73 bytes ⋯ \"*******0******0*********0******\"\n",
       " \"***0*00*00********0**********0*\" ⋯ 73 bytes ⋯ \"*********0**********0*******0**\"\n",
       " \"***0*00*00********0**********0*\" ⋯ 73 bytes ⋯ \"0********************0***0*****\"\n",
       " \"***0*00*00********0**********0*\" ⋯ 73 bytes ⋯ \"**0*********************0***0**\"\n",
       " \"***0*00*00********0**********0*\" ⋯ 73 bytes ⋯ \"0***********************0*0****\"\n",
       " \"***0*00*00********0**********0*\" ⋯ 73 bytes ⋯ \"*******0******0*********0******\"\n",
       " \"***0*00*00********0**********0*\" ⋯ 73 bytes ⋯ \"*****0******************0***0**\"\n",
       " ⋮\n",
       " \"***0*00*00********0****0*****0*\" ⋯ 73 bytes ⋯ \"*******0*********0*****0*******\"\n",
       " \"***0*00*00********0****0*****0*\" ⋯ 73 bytes ⋯ \"*******0********0******0*******\"\n",
       " \"***0*00*00********0****0*****0*\" ⋯ 73 bytes ⋯ \"*******0*******0****0**********\"\n",
       " \"***0*00*00********0****0*****0*\" ⋯ 73 bytes ⋯ \"*******0***0***********0*******\"\n",
       " \"***0*00*00********0****0*****0*\" ⋯ 73 bytes ⋯ \"*************0****0***********0\"\n",
       " \"***0*000*0********0****0*****0*\" ⋯ 73 bytes ⋯ \"*********0*********00******0***\"\n",
       " \"***0*000*0********0****0*****0*\" ⋯ 73 bytes ⋯ \"*******0*******0****0********0*\"\n",
       " \"***0*000*0********0****0*****0*\" ⋯ 73 bytes ⋯ \"**0****0********0******0*******\"\n",
       " \"***0*000*0********0****0*****0*\" ⋯ 73 bytes ⋯ \"0****0********0*******0********\"\n",
       " \"***0*000*0********0****0*****0*\" ⋯ 73 bytes ⋯ \"0****0********0*0**************\"\n",
       " \"***0*000*0********0****0*****0*\" ⋯ 73 bytes ⋯ \"0****0*****0**0****************\"\n",
       " \"***0*000*0********0****0*****0*\" ⋯ 73 bytes ⋯ \"*******0***************0**0****\""
      ]
     },
     "execution_count": 12,
     "metadata": {},
     "output_type": "execute_result"
    }
   ],
   "source": [
    "nmult = vec(readlines(\"../4_9_computations/nprinc_multivariate_4_9/smooth_1.dat\"))"
   ]
  },
  {
   "cell_type": "code",
   "execution_count": 8,
   "metadata": {},
   "outputs": [
    {
     "data": {
      "text/plain": [
       "\"***0*00*00********0**********0********0**************0*********************************************************0******0*****0********0*\""
      ]
     },
     "execution_count": 8,
     "metadata": {},
     "output_type": "execute_result"
    }
   ],
   "source": [
    "g = \"***0*00*00********0**********0********0**************0*********************************************************0******0*****0********0*\""
   ]
  },
  {
   "cell_type": "code",
   "execution_count": 14,
   "metadata": {},
   "outputs": [
    {
     "data": {
      "text/plain": [
       "5-element Vector{Int64}:\n",
       " 1\n",
       " 2\n",
       " 3\n",
       " 5\n",
       " 8"
      ]
     },
     "execution_count": 14,
     "metadata": {},
     "output_type": "execute_result"
    }
   ],
   "source": [
    "A = stars_to_set(g[1:9],9)"
   ]
  },
  {
   "cell_type": "code",
   "execution_count": 16,
   "metadata": {},
   "outputs": [
    {
     "data": {
      "text/plain": [
       "Matroid of rank 4 on 9 elements"
      ]
     },
     "execution_count": 16,
     "metadata": {},
     "output_type": "execute_result"
    }
   ],
   "source": [
    "M = matroid_from_revlex_basis_encoding(g[10:135],4,9)"
   ]
  },
  {
   "cell_type": "code",
   "execution_count": 22,
   "metadata": {},
   "outputs": [
    {
     "data": {
      "text/plain": [
       "The matroid is not representable."
      ]
     },
     "execution_count": 22,
     "metadata": {},
     "output_type": "execute_result"
    }
   ],
   "source": [
    "MR = new_matroid_realization_space(M,A;F = QQ,saturate = true)"
   ]
  },
  {
   "cell_type": "code",
   "execution_count": 23,
   "metadata": {},
   "outputs": [
    {
     "data": {
      "text/plain": [
       "\"/home/dante/Desktop/jupyter_notebooks/matroidRealizationSpaces/d4n9/new_4_9_computations\""
      ]
     },
     "execution_count": 23,
     "metadata": {},
     "output_type": "execute_result"
    }
   ],
   "source": [
    "pwd()"
   ]
  },
  {
   "cell_type": "code",
   "execution_count": 55,
   "metadata": {},
   "outputs": [
    {
     "name": "stdout",
     "output_type": "stream",
     "text": [
      "1 true\n",
      "2 true\n",
      "3 true\n",
      "4 true\n",
      "5 true\n",
      "6 true\n",
      "7 true\n",
      "8 true\n",
      "9 true\n",
      "10 true\n",
      "11 true\n",
      "12 true\n",
      "13 true\n",
      "14 true\n",
      "15 true\n",
      "16 true\n",
      "17 true\n",
      "18 true\n",
      "19 true\n",
      "20 true\n"
     ]
    }
   ],
   "source": [
    "for i in 1:20\n",
    "    Mi = matroid_from_revlex_basis_encoding(nr1[i][10:135],4,9)\n",
    "    A = stars_to_set(nr1[i][1:9],9)\n",
    "    MR = new_matroid_realization_space(Mi,A;F = QQ,saturate = true)\n",
    "    print(i,\" \",!MR.representable,\"\\n\")\n",
    "end"
   ]
  },
  {
   "cell_type": "code",
   "execution_count": 52,
   "metadata": {},
   "outputs": [
    {
     "data": {
      "text/plain": [
       "Matroid of rank 4 on 9 elements"
      ]
     },
     "execution_count": 52,
     "metadata": {},
     "output_type": "execute_result"
    }
   ],
   "source": [
    "Mg = matroid_from_revlex_basis_encoding(nmult[256][10:135],4,9)"
   ]
  },
  {
   "cell_type": "code",
   "execution_count": 50,
   "metadata": {},
   "outputs": [
    {
     "data": {
      "text/plain": [
       "2-element Vector{Vector{Int64}}:\n",
       " [1, 2, 4, 7, 8]\n",
       " [1, 3, 6, 7, 8]"
      ]
     },
     "execution_count": 50,
     "metadata": {},
     "output_type": "execute_result"
    }
   ],
   "source": [
    "As = optimal_circuits(Mg)"
   ]
  },
  {
   "cell_type": "code",
   "execution_count": 51,
   "metadata": {},
   "outputs": [
    {
     "name": "stdout",
     "output_type": "stream",
     "text": [
      "[1, 2, 4, 7, 8]4\n",
      "[1, 3, 6, 7, 8]1\n"
     ]
    }
   ],
   "source": [
    "for a in As\n",
    "    MR = new_matroid_realization_space(Mg,a;F = QQ,saturate = true)\n",
    "    MRR = reduce_ideal_full(MR)\n",
    "    print(a,length(gens(MRR.defining_ideal)),\"\\n\")\n",
    "end"
   ]
  },
  {
   "cell_type": "code",
   "execution_count": 36,
   "metadata": {},
   "outputs": [
    {
     "data": {
      "text/plain": [
       "\"***0*00*0\""
      ]
     },
     "execution_count": 36,
     "metadata": {},
     "output_type": "execute_result"
    }
   ],
   "source": [
    "argmin()"
   ]
  },
  {
   "cell_type": "code",
   "execution_count": 42,
   "metadata": {},
   "outputs": [
    {
     "data": {
      "text/plain": [
       "[1   0   0                                                                                             x1 - x2   0   16*x1^3*x2^2 - 8*x1^3*x2 - 16*x1^2*x2^3 - 8*x1^2*x2^2 + 8*x1^2*x2 + 2*x1^2 + 4*x1*x2^4 + 6*x1*x2^3 + 6*x1*x2^2 - 8*x1*x2 - x1 - 4*x2^3 + x2^2 + 2*x2                                                                x1*x2 - x1 - x2^2 + x2   1   -4*x1^2*x2 + 2*x1*x2^2 + 3*x1*x2 + x1 - 2*x2]\n",
       "[0   1   0   -16*x1^3*x2 + 16*x1^2*x2^2 + 16*x1^2*x2 + 2*x1^2 - 4*x1*x2^3 - 8*x1*x2^2 - 11*x1*x2 + x1 + 4*x2^2   0                                                                          -8*x1^3*x2 + 8*x1^2*x2^2 + 6*x1^2*x2 - 2*x1*x2^3 - 3*x1*x2^2 - 2*x1*x2 + x2^2                                                                                     0   1                                   x1^2 - x1*x2]\n",
       "[0   0   1                                                                                             x1 - x2   0                                                                                                                                                      0   -8*x1^3*x2 + 8*x1^2*x2^2 + 4*x1^2*x2 + 2*x1^2 - 2*x1*x2^3 - 5*x1*x2 - x2^3 + 2*x2^2   1                                   x1*x2 - x2^2]\n",
       "[0   0   0                                                                                                   0   1                                                                                                                                 x1*x2 - x1 - x2^2 + x2                                                                x1*x2 - x1 - x2^2 + x2   1                                        x1 - x2]"
      ]
     },
     "metadata": {},
     "output_type": "display_data"
    },
    {
     "data": {
      "text/plain": [
       "The representations of the matroid are parametrized by the matrix\n",
       "in the Multivariate polynomial ring in 2 variables over QQ\n",
       "within the vanishing set of the ideal\n",
       "ideal(8*x1^3*x2^2 - 4*x1^3*x2 - 8*x1^2*x2^3 - 4*x1^2*x2^2 + 2*x1^2*x2 + x1^2 + 2*x1*x2^4 + 3*x1*x2^3 + 4*x1*x2^2 - 3*x1*x2 - 2*x2^3 + x2^2, 4*x1^4*x2 - 8*x1^3*x2 - x1^3 - 3*x1^2*x2^3 + 2*x1^2*x2^2 + 6*x1^2*x2 + x1^2 + x1*x2^4 + x1*x2^3 - 3*x1*x2 - x2^3 + x2^2)\n",
       "avoiding the zero loci of the polynomials\n",
       "RingElem[x2, 4*x1^2 - 2*x1*x2 - 3*x1 + 1, 8*x1^3*x2 - 8*x1^2*x2^2 - 4*x1^2*x2 - 2*x1^2 + 2*x1*x2^3 + 6*x1*x2 - x1 + x2^3 - 3*x2^2 + x2, 12*x1^3*x2 + 8*x1^3 + 16*x1^2*x2^4 - 8*x1^2*x2^3 - 28*x1^2*x2^2 - 26*x1^2*x2 + x1^2 - 8*x1*x2^5 - 10*x1*x2^4 + 19*x1*x2^3 + 32*x1*x2^2 - 3*x1*x2 + 8*x2^4 - 14*x2^3 + x2^2, 12*x1^3*x2 - 4*x1^2*x2^3 - 18*x1^2*x2^2 - 4*x1^2*x2 - x1^2 + 2*x1*x2^4 + 13*x1*x2^3 + 3*x1*x2 - 2*x2^4 - x2^2, 60*x1^3*x2 + 16*x1^3 + 32*x1^2*x2^5 + 16*x1^2*x2^3 - 176*x1^2*x2^2 - 48*x1^2*x2 + 5*x1^2 - 16*x1*x2^6 - 28*x1*x2^5 - 36*x1*x2^4 + 143*x1*x2^3 + 66*x1*x2^2 - 15*x1*x2 + 32*x2^5 - 36*x2^4 - 20*x2^3 + 5*x2^2, 8*x1^3*x2 - 8*x1^2*x2^2 - 6*x1^2*x2 - x1^2 + 2*x1*x2^3 + 3*x1*x2^2 + 4*x1*x2 - 2*x2^2, 10*x1^3*x2 + 2*x1^3 - 4*x1^2*x2^3 - 12*x1^2*x2^2 - 10*x1^2*x2 - x1^2 + 2*x1*x2^4 + 7*x1*x2^3 + 6*x1*x2^2 + 3*x1*x2 - 2*x2^3 - x2^2, 20*x1^3*x2 - 12*x1^2*x2^3 - 20*x1^2*x2^2 - 10*x1^2*x2 - 3*x1^2 + 6*x1*x2^4 + 15*x1*x2^3 + 9*x1*x2 - 2*x2^3 - 3*x2^2, x1 - x2  …  8*x1^3*x2 - 8*x1^2*x2^2 - 5*x1^2*x2 - x1^2 + 2*x1*x2^3 + 2*x1*x2^2 + 3*x1*x2 - x2^2, 2*x1^2*x2 - x1^2 - x1*x2^2 - x1*x2 + x2, 4*x1^2*x2 - 2*x1*x2^2 - 3*x1*x2 - x1 + 2*x2, 16*x1^3*x2 - 16*x1^2*x2^2 - 16*x1^2*x2 - 2*x1^2 + 4*x1*x2^3 + 8*x1*x2^2 + 11*x1*x2 - x1 - 4*x2^2, 4*x1^3*x2 - 12*x1^2*x2^3 + 4*x1^2*x2^2 - x1^2 + 6*x1*x2^4 + 7*x1*x2^3 - 8*x1*x2^2 + x1*x2 - 4*x2^3 + 3*x2^2, 4*x1^3*x2 - 8*x1^2*x2^4 + 32*x1^2*x2^3 - 40*x1^2*x2^2 + 4*x1^2*x2 + 3*x1^2 + 4*x1*x2^5 - 24*x1*x2^4 + 25*x1*x2^3 + 10*x1*x2^2 - 9*x1*x2 + 8*x2^5 - 12*x2^4 + 3*x2^2, 8*x1^3*x2 - 8*x1^2*x2^2 - 2*x1^2*x2 + 2*x1*x2^3 + x1*x2^2 - x1 - 2*x2^2 + 2*x2, 8*x1^3*x2 - 8*x1^2*x2^2 - 6*x1^2*x2 + 2*x1*x2^3 + 3*x1*x2^2 + 3*x1*x2 - x1 - 2*x2^2 + x2, 16*x1^3*x2 - 16*x1^2*x2^2 - 16*x1^2*x2 - 4*x1^2 + 4*x1*x2^3 + 8*x1*x2^2 + 14*x1*x2 - 5*x2^2 - x2, 2*x1^2 - x1*x2 - x2]\n"
      ]
     },
     "execution_count": 42,
     "metadata": {},
     "output_type": "execute_result"
    }
   ],
   "source": [
    "MR = new_matroid_realization_space(Mg,stars_to_set(nmult[33][1:9],9);F = QQ,saturate = true)\n",
    "MRR = reduce_ideal_full(MR)"
   ]
  },
  {
   "cell_type": "code",
   "execution_count": 62,
   "metadata": {},
   "outputs": [
    {
     "data": {
      "text/plain": [
       "1-element Vector{QQMPolyRingElem}:\n",
       " x1^3*x2^3 - 3*x1^3*x2^2 + 3*x1^3*x2 - 2*x1^3 + x1^2*x2^2 + 2*x1^2*x2 - x1*x2^3 - 2*x1*x2^2 + x2^3"
      ]
     },
     "execution_count": 62,
     "metadata": {},
     "output_type": "execute_result"
    }
   ],
   "source": [
    "gen = gens(MRR.defining_ideal)"
   ]
  },
  {
   "cell_type": "code",
   "execution_count": 65,
   "metadata": {},
   "outputs": [
    {
     "data": {
      "text/plain": [
       "2-element Vector{QQMPolyRingElem}:\n",
       " x1\n",
       " x2"
      ]
     },
     "execution_count": 65,
     "metadata": {},
     "output_type": "execute_result"
    }
   ],
   "source": [
    "ideal_vars(gen)"
   ]
  },
  {
   "cell_type": "code",
   "execution_count": 58,
   "metadata": {},
   "outputs": [
    {
     "data": {
      "text/plain": [
       "1"
      ]
     },
     "execution_count": 58,
     "metadata": {},
     "output_type": "execute_result"
    }
   ],
   "source": [
    "length(gens(MRR.defining_ideal))"
   ]
  },
  {
   "cell_type": "code",
   "execution_count": 67,
   "metadata": {},
   "outputs": [
    {
     "data": {
      "text/plain": [
       "ideal(1)"
      ]
     },
     "execution_count": 67,
     "metadata": {},
     "output_type": "execute_result"
    }
   ],
   "source": [
    "J = realization_space_2_singular_locus(MRR)"
   ]
  },
  {
   "cell_type": "code",
   "execution_count": 68,
   "metadata": {},
   "outputs": [
    {
     "data": {
      "text/plain": [
       "true"
      ]
     },
     "execution_count": 68,
     "metadata": {},
     "output_type": "execute_result"
    }
   ],
   "source": [
    "isone(J)"
   ]
  },
  {
   "cell_type": "code",
   "execution_count": 75,
   "metadata": {},
   "outputs": [
    {
     "name": "stdout",
     "output_type": "stream",
     "text": [
      "1 1 4\n",
      "2 1 4\n",
      "3 1 4\n",
      "4 1 4\n",
      "5 1 4\n",
      "6 1 4\n",
      "7 1 4\n",
      "8 1 4\n",
      "9 1 4\n",
      "10 1 4\n",
      "11 1 4\n",
      "12 1 4\n",
      "13 1 4\n",
      "14 1 4\n",
      "15 1 4\n",
      "16 1 4\n",
      "17 1 4\n",
      "18 1 4\n",
      "19 1 4\n",
      "20 1 4\n"
     ]
    }
   ],
   "source": [
    "for i in 1:20\n",
    "    Mi = matroid_from_revlex_basis_encoding(d4n9[i],4,9)\n",
    "    As = optimal_circuits(Mi)\n",
    "    MR = new_matroid_realization_space(Mi,As[1];F = QQ,saturate = true)\n",
    "    \n",
    "    MRR = reduce_ideal_full(MR)\n",
    "    \n",
    "    Igens = gens(MRR.defining_ideal)\n",
    "    \n",
    "    print(i,\" \",length(Igens),\" \" ,length(ideal_vars(Igens)),\"\\n\")\n",
    "end"
   ]
  },
  {
   "cell_type": "code",
   "execution_count": 76,
   "metadata": {},
   "outputs": [
    {
     "name": "stdout",
     "output_type": "stream",
     "text": [
      "1 QQMPolyRingElem[x1^2*x2*x3^2 - x1^2*x2*x3*x4 - x1^2*x2*x3 + x1^2*x2*x4 + x1*x2^2*x3*x4 - x1*x2^2*x4 - x1*x2*x3^2*x4 - x1*x2*x3^2 + 2*x1*x2*x3*x4 + x1*x2*x3 - x1*x2*x4^2 + x1*x3*x4^2 - x1*x3*x4 - x2^2*x3*x4 + x2^2*x4^2 + x2*x3^2*x4 - x2*x3*x4^2]\n",
      "\n",
      "2 QQMPolyRingElem[x1^2*x2^3*x4 - x1^2*x2^2*x3*x4 + x1^2*x2^2*x3 - 2*x1^2*x2^2*x4 + x1^2*x2*x3*x4 - x1^2*x2*x3 + x1^2*x2*x4 - 2*x1*x2^3*x4 + 2*x1*x2^2*x3*x4 - 2*x1*x2^2*x3 + 2*x1*x2^2*x4^2 + 2*x1*x2^2*x4 - x1*x2*x3^2*x4 + 2*x1*x2*x3^2 - 2*x1*x2*x3*x4^2 + x1*x2*x3*x4 - 2*x1*x2*x4^2 + x1*x3^2*x4^2 - 2*x1*x3^2*x4 + x1*x3*x4^2 + x2^3*x4 - x2^2*x3*x4 + x2^2*x3 - 2*x2^2*x4^2 - x2*x3^2 + 2*x2*x3*x4^2 - x2*x3*x4 + x2*x4^3 + x3^2*x4 - x3*x4^3]\n",
      "\n",
      "3 QQMPolyRingElem[-x1^2*x2^2*x3^2 + x1^2*x2^2*x3*x4^2 + x1^2*x2^2*x3 - x1^2*x2^2*x4^2 - x1^2*x2*x3^2*x4^2 + x1^2*x2*x3^2*x4 + x1^2*x2*x3*x4^2 - x1^2*x2*x3*x4 + x1*x2^2*x3^2*x4 - 2*x1*x2^2*x3*x4 + x1*x2^2*x4^2 - x1*x2*x3^2*x4^2 + x1*x2*x3^2*x4 - x1*x2*x3*x4^3 + x1*x2*x4^3 + x1*x3^2*x4^3 - x1*x3*x4^3 + x2*x3*x4^2 - x2*x4^3 - x3^2*x4^2 + x3*x4^3]\n",
      "\n",
      "4 QQMPolyRingElem[x1^2*x2^2*x3^3*x4 - 3*x1^2*x2^2*x3^2*x4 + 3*x1^2*x2^2*x3*x4 - x1^2*x2^2*x4 - x1^2*x2*x3^3*x4^2 + x1^2*x2*x3^3*x4 + 2*x1^2*x2*x3^2*x4^2 - 2*x1^2*x2*x3^2*x4 - x1^2*x2*x3*x4^2 + x1^2*x2*x3*x4 - x1*x2^2*x3^3*x4 - x1*x2^2*x3^3 + 2*x1*x2^2*x3^2*x4^2 + 4*x1*x2^2*x3^2*x4 - 5*x1*x2^2*x3*x4^2 - x1*x2^2*x3*x4 + 2*x1*x2^2*x4^2 - x1*x2*x3^3*x4^2 + x1*x2*x3^3 - x1*x2*x3^2*x4^3 + 3*x1*x2*x3^2*x4^2 - 2*x1*x2*x3^2*x4 + x1*x2*x3*x4^3 - x1*x2*x3*x4^2 + x1*x3^3*x4^3 - x1*x3^3*x4^2 - x1*x3^2*x4^3 + x1*x3^2*x4^2 + x2^2*x3^3 - 2*x2^2*x3^2*x4^2 - x2^2*x3^2*x4 + 2*x2^2*x3*x4^3 + x2^2*x3*x4^2 - x2^2*x4^3 + 2*x2*x3^3*x4^2 - x2*x3^3*x4 - x2*x3^3 - 2*x2*x3^2*x4^3 + x2*x3^2*x4^2 + x2*x3^2*x4 - x3^3*x4^2 + x3^3*x4 + x3^2*x4^3 - x3^2*x4^2]\n",
      "\n",
      "5 QQMPolyRingElem[x1^2*x2*x3*x4 - x1^2*x2*x4 - x1^2*x3^2*x4 + x1^2*x3^2 - x1^2*x3 + x1^2*x4 - x1*x2^2*x3 - x1*x2^2*x4^2 + 2*x1*x2^2*x4 + x1*x2*x3*x4^2 - 2*x1*x2*x3*x4 + x1*x2*x3 + x1*x3*x4^2 - x1*x4^2 + x2^2*x3*x4 - x2^2*x4 - x2*x3*x4^2 + x2*x4^2]\n",
      "\n",
      "6 QQMPolyRingElem[x1^2*x2^2*x4 - x1^2*x2*x3*x4 + x1^2*x2*x3 - 2*x1^2*x2*x4 + x1^2*x3*x4 - x1^2*x3 + x1^2*x4 - x1*x2^2*x4 - x1*x2*x3^2 - x1*x2*x3*x4^2 + 2*x1*x2*x3*x4 + x1*x2*x4^2 + x1*x2*x4 + x1*x3^2*x4^2 - x1*x3^2*x4 + x1*x3^2 - x1*x3*x4 - x1*x4^2 + x2*x3^2*x4 - x2*x3*x4 - x3^2*x4^2 + x3*x4^2]\n",
      "\n",
      "7 QQMPolyRingElem[x1^2*x2*x3^2 - x1^2*x2*x3*x4 - x1^2*x3^2*x4 - x1*x2^2*x3^2 + x1*x2^2*x3*x4 + x1*x2^2*x3 - x1*x2^2*x4 + x1*x2*x3^2*x4 - x1*x2*x3*x4^2 - x1*x2*x3*x4 - x1*x2*x3 + x1*x2*x4^2 + x1*x2*x4 + 2*x1*x3*x4^2 + x1*x3*x4 - x1*x4^2 - x3*x4^2]\n",
      "\n",
      "8 QQMPolyRingElem[-x1^2*x2*x3*x4^2 + x1^2*x2*x4^2 + x1^2*x3*x4^2 - x1^2*x4^2 + x1*x2^2*x3^2*x4 - x1*x2^2*x3*x4 + x1*x2*x3^2*x4^2 - x1*x2*x3^2*x4 - 2*x1*x2*x3*x4^2 + 2*x1*x2*x3*x4 + x1*x2*x4^3 - x1*x2*x4^2 - x1*x3*x4^3 + x1*x4^3 - 2*x2^2*x3^2*x4^2 + 2*x2^2*x3^2*x4 - x2^2*x3^2 + x2^2*x3*x4^3 - x2^2*x3*x4^2 + x2^2*x3*x4 + 2*x2*x3*x4^3 - x2*x3*x4^2 - x2*x4^4]\n",
      "\n",
      "9 QQMPolyRingElem[-x1^2*x2*x3^2*x4 + x1^2*x2*x3*x4^2 + x1^2*x3^2 - x1^2*x3*x4 + x1*x2^2*x3^2*x4^2 - 2*x1*x2^2*x3*x4^2 + x1*x2^2*x3*x4 - x1*x2*x3 + x1*x2*x4 - x1*x3^2 + x1*x3*x4 + x1*x3 - x1*x4 - x2^2*x3^2*x4^2 + 2*x2^2*x3*x4^2 - x2^2*x4^2 + x2*x3^2*x4 - x2*x3*x4^2 - x2*x3*x4 + x2*x4^2]\n",
      "\n",
      "10 QQMPolyRingElem[x1^2*x2^2*x3^2 - x1^2*x2*x3^2*x4 - x1^2*x2*x3^2 + x1^2*x3^2*x4 - x1*x2^2*x3^2*x4 + x1*x2^2*x3*x4^2 - 2*x1*x2^2*x3*x4 + 2*x1*x2*x3^2*x4 + 2*x1*x2*x3*x4 + x1*x2*x4^3 - x1*x2*x4^2 - x1*x3^2*x4 - x1*x3*x4^3 + x2^2*x3*x4^2 - x2^2*x4^3 + x2^2*x4^2 - 2*x2*x3*x4^2 + x3*x4^3]\n",
      "\n",
      "11 QQMPolyRingElem[x1^2*x2^2*x4 - x1^2*x2*x3*x4 - x1^2*x2*x4 + x1^2*x3*x4 - x1*x2^2*x4 + x1*x2*x3^2 - x1*x2*x3*x4^2 + x1*x2*x3*x4 + x1*x2*x4 + x1*x3^2*x4^2 - 2*x1*x3^2*x4 + x1*x3*x4^2 - x1*x3*x4 - x2*x3^2*x4 + 2*x2*x3*x4^2 - x2*x3*x4 + x3^2*x4 - x3*x4^3]\n",
      "\n",
      "12 QQMPolyRingElem[x1^2*x2*x3*x4 - x1^2*x2*x3 - x1^2*x3^2*x4 + x1^2*x3^2 + x1*x2^2*x3 - x1*x2^2*x4^2 + x1*x2*x3*x4^2 - 2*x1*x2*x3*x4 + x1*x2*x4 + x1*x3*x4^2 - x1*x3*x4 - x2^2*x3*x4 + 2*x2^2*x4^2 - x2^2*x4 + x2*x3*x4 - x2*x4^3]\n",
      "\n",
      "13 QQMPolyRingElem[-x1^2*x2^2*x4 + x1^2*x2*x3^2 + x1^2*x2*x3*x4 - x1^2*x2*x3 + x1^2*x2*x4 - x1^2*x3^2*x4 - x1*x2^2*x3*x4 + x1*x2^2*x4^2 + x1*x2^2*x4 - x1*x2*x3*x4 - x1*x2*x4^2 + x1*x3*x4^2 + x1*x3*x4 - x1*x4^2 + x2^2*x3*x4 - x2^2*x4^2 - x2*x3*x4 + x2*x4^2]\n",
      "\n",
      "14 QQMPolyRingElem[x1^2*x2*x3^2 - x1^2*x2*x4 - x1^2*x3^2*x4 - x1^2*x3^2 + 2*x1^2*x3*x4 - x1*x2^2*x3*x4 + x1*x2^2*x4 + x1*x2*x3*x4^2 - 2*x1*x2*x3*x4 + x1*x2*x4 + x1*x3^2*x4 - x1*x4^2 + x2^2*x3*x4 - x2^2*x4 - x2*x3*x4^2 + x2*x4^2]\n",
      "\n",
      "15 QQMPolyRingElem[x1^2*x2^2*x3 - x1^2*x2^2*x4 + x1^2*x2*x3*x4 - x1^2*x2*x3 - x1^2*x3^2*x4 + x1^2*x3*x4 - x1*x2^2*x3^2 + x1*x2^2*x3*x4 + x1*x2*x3^2 - x1*x2*x3*x4^2 - 2*x1*x2*x3*x4 + x1*x2*x4^2 + x1*x2*x4 + x1*x3^2*x4^2 - x1*x4^2 + x2*x3^2*x4 - x2*x3*x4 - x3^2*x4^2 + x3*x4^2]\n",
      "\n",
      "16 QQMPolyRingElem[-x1*x2^2*x3 + x1*x2^2*x4 + x1*x2*x3^2*x4 - x1*x2*x4^2 - x1*x3^2*x4 + x1*x3*x4 - x2^2*x3*x4^2 + x2^2*x3 + x2^2*x4^2 - x2^2*x4 + x2*x3*x4^2 - x2*x3*x4]\n",
      "\n",
      "17 QQMPolyRingElem[x1*x2^2*x3*x4 - x1*x2^2*x4^2 - x1*x2*x3^2*x4 + x1*x2*x3*x4 - x1*x2*x3 + x1*x2*x4 + x1*x3^2*x4 - x1*x3*x4 + x2^2*x3*x4^2 - x2^2*x3*x4 - x2*x3^2*x4 + x2*x3^2]\n",
      "\n",
      "18 QQMPolyRingElem[x1*x2^3*x3 + x1*x2^2*x3*x4^2 - 2*x1*x2^2*x3*x4 - 2*x1*x2^2*x3 - x1*x2^2*x4^2 + x1*x2^2*x4 - x1*x2*x3^2*x4^2 + x1*x2*x3^2*x4 + 2*x1*x2*x3*x4 + x1*x2*x3 + x1*x2*x4^2 - x1*x2*x4 + x1*x3^2*x4^2 - x1*x3^2*x4 - x1*x3*x4^2 - x2^3*x3 - 2*x2^2*x3^2*x4 + 2*x2^2*x3^2 + 3*x2^2*x3*x4 - x2*x3^3*x4^2 + 3*x2*x3^3*x4 - 2*x2*x3^3 + 3*x2*x3^2*x4^2 - 4*x2*x3^2*x4 + x2*x3^2 - 2*x2*x3*x4^2 - x2*x3*x4 + x3^4*x4^2 - 2*x3^4*x4 + x3^4 - 2*x3^3*x4^2 + 3*x3^3*x4 - x3^3 + x3*x4^2]\n",
      "\n",
      "19 QQMPolyRingElem[x1*x2^2*x3 - x1*x2^2*x4 + x1*x2*x3*x4^2 - x1*x2*x3*x4 - x1*x2*x3 + x1*x2*x4 - x1*x3^2*x4^2 + x1*x3^2*x4 - x2*x3^2*x4 - x2*x3^2 + 2*x2*x3*x4 + x2*x3 - x2*x4 + x3^3*x4 - x3^2*x4]\n",
      "\n",
      "20 QQMPolyRingElem[-x1*x2^2*x3 + x1*x2^2 + x1*x2*x3*x4^2 - x1*x2*x4 - x1*x3^2*x4^2 + x1*x3^2*x4 + 2*x2^2*x3 - x2^2*x4 - x2^2 - x2*x3^2*x4 - x2*x3^2 + x2*x3*x4 + x2*x4 + x3^3*x4 - x3^2*x4]\n",
      "\n"
     ]
    }
   ],
   "source": [
    "for i in 1:20\n",
    "    Mi = matroid_from_revlex_basis_encoding(d4n9[i],4,9)\n",
    "    As = optimal_circuits(Mi)\n",
    "    MR = new_matroid_realization_space(Mi,As[1];F = QQ,saturate = true)\n",
    "    \n",
    "    MRR = reduce_ideal_full(MR)\n",
    "    \n",
    "    Igens = gens(MRR.defining_ideal)\n",
    "    \n",
    "    print(i,\" \",Igens,\"\\n\\n\")\n",
    "end"
   ]
  },
  {
   "cell_type": "code",
   "execution_count": 78,
   "metadata": {},
   "outputs": [
    {
     "data": {
      "text/plain": [
       "Matroid of rank 4 on 9 elements"
      ]
     },
     "execution_count": 78,
     "metadata": {},
     "output_type": "execute_result"
    }
   ],
   "source": [
    "M = matroid_from_revlex_basis_encoding(d4n9[30016],4,9)"
   ]
  },
  {
   "cell_type": "code",
   "execution_count": 81,
   "metadata": {},
   "outputs": [
    {
     "data": {
      "text/plain": [
       "[1   3//4   0   1//2   1//2   0   3//8   0   1]\n",
       "[0   1//2   1      0   1//2   0   1//4   0   1]\n",
       "[0   3//5   0   3//5   2//5   1   2//5   0   1]\n",
       "[0      1   0      1      1   0      1   1   1]"
      ]
     },
     "metadata": {},
     "output_type": "display_data"
    },
    {
     "data": {
      "text/plain": [
       "The representations of the matroid are parametrized by the matrix\n",
       "in the Rational field\n",
       "within the vanishing set of the ideal\n",
       "ideal(0)\n",
       "avoiding the zero loci of the polynomials\n",
       "RingElem[]\n"
      ]
     },
     "execution_count": 81,
     "metadata": {},
     "output_type": "execute_result"
    }
   ],
   "source": [
    "  As = optimal_circuits(M)\n",
    "    MR = new_matroid_realization_space(M,As[1];F = QQ,saturate = true)\n",
    "    \n",
    "    MRR = reduce_ideal_full(MR)\n",
    "    "
   ]
  },
  {
   "cell_type": "code",
   "execution_count": 82,
   "metadata": {},
   "outputs": [
    {
     "data": {
      "text/plain": [
       "true"
      ]
     },
     "execution_count": 82,
     "metadata": {},
     "output_type": "execute_result"
    }
   ],
   "source": [
    "iszero(MRR.defining_ideal)"
   ]
  },
  {
   "cell_type": "code",
   "execution_count": null,
   "metadata": {},
   "outputs": [],
   "source": []
  }
 ],
 "metadata": {
  "kernelspec": {
   "display_name": "Julia 1.7.1",
   "language": "julia",
   "name": "julia-1.7"
  },
  "language_info": {
   "file_extension": ".jl",
   "mimetype": "application/julia",
   "name": "julia",
   "version": "1.7.1"
  }
 },
 "nbformat": 4,
 "nbformat_minor": 4
}
