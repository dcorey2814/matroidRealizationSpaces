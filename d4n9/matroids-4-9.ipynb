{
 "cells": [
  {
   "cell_type": "code",
   "execution_count": 55,
   "metadata": {},
   "outputs": [],
   "source": [
    "using Oscar"
   ]
  },
  {
   "cell_type": "code",
   "execution_count": 1,
   "metadata": {},
   "outputs": [],
   "source": [
    "cd(\"..\")"
   ]
  },
  {
   "cell_type": "code",
   "execution_count": 56,
   "metadata": {},
   "outputs": [
    {
     "data": {
      "text/plain": [
       "realization_space_2_singular_locus (generic function with 1 method)"
      ]
     },
     "execution_count": 56,
     "metadata": {},
     "output_type": "execute_result"
    }
   ],
   "source": [
    "currentDir = pwd() # make sure you are running from the main directory.\n",
    "include(joinpath(currentDir, \"src/fileHandling.jl\"))\n",
    "include(joinpath(currentDir, \"src/matroid_realization.jl\"))\n",
    "include(joinpath(currentDir, \"src/Jacobian_Criterion.jl\"))"
   ]
  },
  {
   "cell_type": "markdown",
   "metadata": {},
   "source": [
    "We isolate those simple, connected, $(4,9)$-matroids that satisfy the four-planes property. That is, every element of $[9]$ is contained in at least $4$ hyperplanes of cardinality at least $4$. There are $61,228$ such matroids.\n",
    "\n",
    "**Warning** this cell takes a long time to run"
   ]
  },
  {
   "cell_type": "code",
   "execution_count": null,
   "metadata": {},
   "outputs": [],
   "source": [
    "#pull database of simple 4-9 matroids\n",
    "db = Polymake.Polydb.get_db();\n",
    "collection = db[\"Matroids.Small\"];\n",
    "d4n9 = Polymake.Polydb.find(collection, Dict(\"RANK\" => 4, \"SIMPLE\"=>true, \"N_ELEMENTS\"=>9));\n",
    "\n",
    "#counts number of planes an element of the ground set is in\n",
    "function in_planes(n,L)\n",
    "\n",
    "    Ln = [l for l in L if n in l]\n",
    "\n",
    "    return(length(Ln))\n",
    "\n",
    "end\n",
    "\n",
    "\n",
    "\n",
    "d4C9 = subsets(collect(1:9), 4);\n",
    "d4C9 = sort(d4C9, by =  x-> reverse(x));\n",
    "\n",
    "#isolate simple connected matroids satisfying 4 lines property\n",
    "planes_4 = []\n",
    "\n",
    "for t in d4n9\n",
    "    \n",
    "   # println(t)\n",
    "\n",
    "    Qt = Matroid(t)\n",
    "\n",
    "    L = [h for h in hyperplanes(Qt) if length(h)>3]\n",
    "\n",
    "    ns = [n for n in 1:9 if in_planes(n,L)>3]\n",
    "\n",
    "    if (length(ns) == 9 && is_connected(Qt))\n",
    "                push!(planes_4,to_revlex(Qt,d4C9))\n",
    "    end\n",
    "end\n"
   ]
  },
  {
   "cell_type": "markdown",
   "metadata": {},
   "source": [
    "This data is precomputed in `d4n9/d4n9_4planes_conneced.dat`."
   ]
  },
  {
   "cell_type": "code",
   "execution_count": 60,
   "metadata": {},
   "outputs": [
    {
     "data": {
      "text/plain": [
       "61228"
      ]
     },
     "execution_count": 60,
     "metadata": {},
     "output_type": "execute_result"
    }
   ],
   "source": [
    "four_planes_precomputed = vec(readlines(\"d4n9/4planes_connected_4_9.dat\"))\n",
    "length(four_planes_precomputed)"
   ]
  },
  {
   "cell_type": "code",
   "execution_count": null,
   "metadata": {},
   "outputs": [],
   "source": [
    "Set(planes_4) == Set(four_planes_precomputed)"
   ]
  },
  {
   "cell_type": "markdown",
   "metadata": {},
   "source": [
    "Alternately, run `julia d4n9/src/isolate_4_planes.jl`."
   ]
  },
  {
   "cell_type": "markdown",
   "metadata": {},
   "source": [
    "The files `d4n9/nonrealizable_4_9.dat`, `d4n9/zero_ideal_4_9.dat`, `d4n9/univariate_ideal_4_9.dat`, and`d4n9/multivariate_principal_ideal_4_9.dat`, record matroids and a maximal circuit. A pair of matroid and circuit is recorded as a `*/0` vector. The first 9 entries record the circuit (e.g., `00*0**0**` is the circuit `[3,5,6,8,9]`) and the rest record the matroid in the usual revlex basis encoding. "
   ]
  },
  {
   "cell_type": "markdown",
   "metadata": {},
   "source": [
    "The file `d4n9/nonrealizable_4_9.dat` contains those matroids in `d4n9_4planes_connected.dat` that are not realizable over $\\mathbb{Q}$. There are $21,982$ such matroids."
   ]
  },
  {
   "cell_type": "code",
   "execution_count": 61,
   "metadata": {},
   "outputs": [
    {
     "data": {
      "text/plain": [
       "21982"
      ]
     },
     "execution_count": 61,
     "metadata": {},
     "output_type": "execute_result"
    }
   ],
   "source": [
    "nonrealizable = vec(readlines(\"d4n9/nonrealizable_4_9.dat\"))\n",
    "length(nonrealizable)"
   ]
  },
  {
   "cell_type": "markdown",
   "metadata": {},
   "source": [
    "**Warning**: This cell takes a long time to run."
   ]
  },
  {
   "cell_type": "code",
   "execution_count": null,
   "metadata": {},
   "outputs": [],
   "source": [
    "test_nonrealizable = []\n",
    "\n",
    "for Qstr in not_realizable\n",
    "    Q = matroid_from_revlex_basis_encoding(Qstr[10:135], 4, 9) \n",
    "    As = rank_plus1_circuits(Q) \n",
    "    MR = new_matroid_realization_space(Q, As[1]; F=QQ, saturate=true)\n",
    "    push!(test_nonrealizable, !MR.representable)\n",
    "end"
   ]
  },
  {
   "cell_type": "code",
   "execution_count": null,
   "metadata": {},
   "outputs": [],
   "source": [
    "all(test_nonrealizable)"
   ]
  },
  {
   "cell_type": "markdown",
   "metadata": {},
   "source": [
    "Alternately, run `julia d4n9/src/test_nonrealizable.jl`."
   ]
  },
  {
   "cell_type": "markdown",
   "metadata": {},
   "source": [
    "We now examine the realizable matroids in `d4n9/4planes_connected_4_9.dat`. We compute the data for their realization spaces with respect to the maximal circuit given by the first $9$ elements of the corresponding string of $*$'s and $0$'s. We sort them based on properties of the defining ideal, and for each class show that all realization spaces are smooth.\n",
    "\n",
    "**Note:** One could check that these are smooth using the `singular_locus` function in `src/Jacobian_Criterion.jl`. To make this computation more transparent, we carry out the smoothness check explicitly."
   ]
  },
  {
   "cell_type": "markdown",
   "metadata": {},
   "source": [
    "The files `d4n9/zero_ideal_4_9.dat` contains those matroids in `d4n9/planes_connected_4_9.dat` and a maximal circuit such that the ideal of the realization space is zero. There are **20051** such matroids. Therefore these realization spaces are smooth. "
   ]
  },
  {
   "cell_type": "code",
   "execution_count": 62,
   "metadata": {},
   "outputs": [
    {
     "data": {
      "text/plain": [
       "20051"
      ]
     },
     "execution_count": 62,
     "metadata": {},
     "output_type": "execute_result"
    }
   ],
   "source": [
    "zero_ideal = vec(readlines(\"d4n9/zero_ideal_4_9.dat\"))\n",
    "length(zero_ideal)"
   ]
  },
  {
   "cell_type": "markdown",
   "metadata": {},
   "source": [
    "**Warning:** This cell takes a long time to run."
   ]
  },
  {
   "cell_type": "code",
   "execution_count": null,
   "metadata": {},
   "outputs": [],
   "source": [
    "test_zero = []\n",
    "for cir_Qstr in zero_ideal\n",
    "    A = [i for i in 1:9 if string(cir_Qstr[i]) == \"*\"]     \n",
    "    Qstr = cir_Qstr[10:135]\n",
    "    Q = matroid_from_revlex_basis_encoding(Qstr, 4, 9) \n",
    "    MR = new_matroid_realization_space(Q, A; F=QQ, saturate=false)\n",
    "        \n",
    "    MR = reduce_ideal_full(MR)\n",
    "    I = MR.defining_ideal\n",
    "    push!(test_zero, iszero(I))\n",
    "end"
   ]
  },
  {
   "cell_type": "code",
   "execution_count": null,
   "metadata": {},
   "outputs": [],
   "source": [
    "all(test_zero)"
   ]
  },
  {
   "cell_type": "markdown",
   "metadata": {},
   "source": [
    "Alternately, run `julia d4n9/src/test_zero_ideal.jl`."
   ]
  },
  {
   "cell_type": "markdown",
   "metadata": {},
   "source": [
    "The files `d4n9/univariate_ideal_4_9.dat` contains those matroids in `d4n9/4planes_connected_4_9.dat` and a maximal circuit such that the ideal of the realization space is univariate. There are **5058** such matroids."
   ]
  },
  {
   "cell_type": "code",
   "execution_count": 20,
   "metadata": {},
   "outputs": [
    {
     "data": {
      "text/plain": [
       "5058"
      ]
     },
     "execution_count": 20,
     "metadata": {},
     "output_type": "execute_result"
    }
   ],
   "source": [
    "univariate_ideal = vec(readlines(\"d4n9/univariate_ideal_4_9.dat\"))\n",
    "length(univariate_ideal)"
   ]
  },
  {
   "cell_type": "markdown",
   "metadata": {},
   "source": [
    "**Warning:** This cell takes a long time to run."
   ]
  },
  {
   "cell_type": "code",
   "execution_count": null,
   "metadata": {},
   "outputs": [],
   "source": [
    "test_univariate = []\n",
    "for cir_Qstr in univariate_ideal\n",
    "    A = [i for i in 1:9 if string(cir_Qstr[i]) == \"*\"]     \n",
    "    Qstr = cir_Qstr[10:135]\n",
    "    Q = matroid_from_revlex_basis_encoding(Qstr, 4, 9) \n",
    "    MR = new_matroid_realization_space(Q, A; F=QQ, saturate=true)\n",
    "        \n",
    "    MR = reduce_ideal_full(MR)\n",
    "    I = MR.defining_ideal\n",
    "    length_vs = length(ideal_vars(gens(I))) \n",
    "    push!(test_univariate, isone(length_vs))\n",
    "end"
   ]
  },
  {
   "cell_type": "code",
   "execution_count": null,
   "metadata": {},
   "outputs": [],
   "source": [
    "all(test_univariate)"
   ]
  },
  {
   "cell_type": "markdown",
   "metadata": {},
   "source": [
    "Alternately, run `julia d4n9/src/test_univariate_ideal.jl`."
   ]
  },
  {
   "cell_type": "markdown",
   "metadata": {},
   "source": [
    "The file `d4n9/multivariate_principal_ideal_4_9.dat` contains those matroids in `d4n9/4planes_connected_4_9.dat` and a maximal circuit such that the defining ideal of the realization space is multivariate and principal. There are **14137** such matroids."
   ]
  },
  {
   "cell_type": "code",
   "execution_count": 23,
   "metadata": {},
   "outputs": [
    {
     "data": {
      "text/plain": [
       "14137"
      ]
     },
     "execution_count": 23,
     "metadata": {},
     "output_type": "execute_result"
    }
   ],
   "source": [
    "multivariate_principal = vec(readlines(\"d4n9/multivariate_principal_ideal_4_9.dat\"))\n",
    "length(multivariate_principal)"
   ]
  },
  {
   "cell_type": "markdown",
   "metadata": {},
   "source": [
    "**Warning:** This cell takes a long time to run."
   ]
  },
  {
   "cell_type": "code",
   "execution_count": null,
   "metadata": {},
   "outputs": [],
   "source": [
    "test_multivariate = []\n",
    "for cir_Qstr in multivariate_principal\n",
    "    A = [i for i in 1:9 if string(cir_Qstr[i]) == \"*\"]     \n",
    "    Qstr = cir_Qstr[10:135]\n",
    "    Q = matroid_from_revlex_basis_encoding(Qstr, 4, 9) \n",
    "    MR = new_matroid_realization_space(Q, A; F=QQ, saturate=true)\n",
    "        \n",
    "    MR = reduce_ideal_full(MR)\n",
    "    I = MR.defining_ideal\n",
    "    length_gens = length(gens(I))\n",
    "    length_vs = length(ideal_vars(gens(I))) \n",
    "    \n",
    "    x = (length(Igens) == 1 && length(ideal_vars(Igens))>1)\n",
    "    \n",
    "    push!(test_multivariate,x)\n",
    "       \n",
    "end"
   ]
  },
  {
   "cell_type": "code",
   "execution_count": null,
   "metadata": {},
   "outputs": [],
   "source": [
    "all(test_multivariate)"
   ]
  },
  {
   "cell_type": "markdown",
   "metadata": {},
   "source": [
    "Alternately, run `julia d4n9/src/test_multivariate_principal_ideal.jl`."
   ]
  },
  {
   "cell_type": "markdown",
   "metadata": {},
   "source": [
    "The files `d4n9/univariate_ideal_3_11.dat` and `d4n9/multivariate_principal_ideal_4_9.dat` contain those matroids in `d4n9/4planes_connected_4_9.dat` and a maximal circuit such that the ideal of the realization space is nonzero and principal. There are **19195**  matroids. By the Jacobian criterion, the affine scheme $\\mathsf{Spec}(S^{-1}\\mathbb{Q}[x_1,\\ldots,x_n] / \\langle f \\rangle)$ is smooth if and only if the ideal\n",
    "\n",
    "$$\n",
    "J = \\langle f, \\frac{\\partial f}{\\partial x_1}, \\ldots, \\frac{\\partial f}{\\partial x_n}\\rangle\n",
    "$$\n",
    "\n",
    "is the unit ideal in $S^{-1} \\mathbb{Q}[x_1,\\ldots,x_n]$. This is equivalent to the saturation $(J:S^{\\infty})$ being the unit ideal in $\\mathbb{Q}[x_1,\\ldots,x_n]$. We perform this explicit check here. "
   ]
  },
  {
   "cell_type": "code",
   "execution_count": 41,
   "metadata": {},
   "outputs": [
    {
     "data": {
      "text/plain": [
       "19195"
      ]
     },
     "execution_count": 41,
     "metadata": {},
     "output_type": "execute_result"
    }
   ],
   "source": [
    "principal = union(univariate_ideal,multivariate_principal)\n",
    "length(principal)"
   ]
  },
  {
   "cell_type": "markdown",
   "metadata": {},
   "source": [
    "**Warning:** This cell takes a long time to run"
   ]
  },
  {
   "cell_type": "code",
   "execution_count": null,
   "metadata": {},
   "outputs": [],
   "source": [
    "test_principal = []\n",
    "for cir_Qstr in principal\n",
    "    A = [i for i in 1:9 if string(cir_Qstr[i]) == \"*\"]     \n",
    "    Qstr = cir_Qstr[10:135]\n",
    "    Q = matroid_from_revlex_basis_encoding(Qstr, 4, 9) \n",
    "    MR = new_matroid_realization_space(Q, A; F=QQ, saturate=true)\n",
    "        \n",
    "    MR = reduce_ideal_full(MR)\n",
    "    R = MR.ambient_ring\n",
    "    x = gens(R)\n",
    "    I = MR.defining_ideal\n",
    "    Igens = gens(I)\n",
    "    length(Igens) != 1 && error(\"not principal\") \n",
    "    JM = jacobian_matrix(R, x, Igens)\n",
    "    nr, nc = size(JM) \n",
    "    J = I + ideal(R, [JM[1,c] for c in 1:nc])\n",
    "    Sing = stepwise_saturation(J, MR.inequations)\n",
    "    #Sing = realization_space_2_singular_locus(MR)\n",
    "    push!(test_principal, isone(Sing))\n",
    "end"
   ]
  },
  {
   "cell_type": "code",
   "execution_count": null,
   "metadata": {},
   "outputs": [],
   "source": [
    "all(test_principal)"
   ]
  },
  {
   "cell_type": "markdown",
   "metadata": {},
   "source": [
    "Finally, we verify that all matroids have been checked. "
   ]
  },
  {
   "cell_type": "code",
   "execution_count": 65,
   "metadata": {},
   "outputs": [
    {
     "data": {
      "text/plain": [
       "true"
      ]
     },
     "execution_count": 65,
     "metadata": {},
     "output_type": "execute_result"
    }
   ],
   "source": [
    "checked = vcat(zero_ideal, multivariate_principal,univariate_ideal,nonrealizable)\n",
    "checked = [x[10:135] for x in checked]\n",
    "unique!(checked)\n",
    "Set(checked) == Set(four_planes_precomputed)"
   ]
  },
  {
   "cell_type": "code",
   "execution_count": null,
   "metadata": {},
   "outputs": [],
   "source": []
  }
 ],
 "metadata": {
  "kernelspec": {
   "display_name": "Julia 1.7.1",
   "language": "julia",
   "name": "julia-1.7"
  },
  "language_info": {
   "file_extension": ".jl",
   "mimetype": "application/julia",
   "name": "julia",
   "version": "1.7.1"
  }
 },
 "nbformat": 4,
 "nbformat_minor": 4
}
