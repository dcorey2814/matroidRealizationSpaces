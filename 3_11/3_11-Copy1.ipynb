{
 "cells": [
  {
   "cell_type": "markdown",
   "metadata": {},
   "source": [
    "testing stuff"
   ]
  },
  {
   "cell_type": "code",
   "execution_count": 9,
   "metadata": {},
   "outputs": [
    {
     "data": {
      "text/plain": [
       "16216-element Vector{String}:\n",
       " \"0000************0*********0***0\" ⋯ 104 bytes ⋯ \"***0**********0******0********\"\n",
       " \"0000************0*********0***0\" ⋯ 104 bytes ⋯ \"***0*********0********0*******\"\n",
       " \"0000************0*********0***0\" ⋯ 104 bytes ⋯ \"***0**0***************0*******\"\n",
       " \"0000************0*********0***0\" ⋯ 104 bytes ⋯ \"***0**0*******0***************\"\n",
       " \"0000************0*********0***0\" ⋯ 104 bytes ⋯ \"***0**0*******0********0******\"\n",
       " \"0000************0*********0***0\" ⋯ 104 bytes ⋯ \"**0***********0******0********\"\n",
       " \"0000************0*********0***0\" ⋯ 104 bytes ⋯ \"**0**********0********0*******\"\n",
       " \"0000************0*********0***0\" ⋯ 104 bytes ⋯ \"**0***0***************0*******\"\n",
       " \"0000************0*********0***0\" ⋯ 104 bytes ⋯ \"**0***0*******0***************\"\n",
       " \"0000************0*********0***0\" ⋯ 104 bytes ⋯ \"*0***********0*********0******\"\n",
       " \"0000************0*********0***0\" ⋯ 104 bytes ⋯ \"*0*******0******0***00********\"\n",
       " \"0000************0*********0***0\" ⋯ 104 bytes ⋯ \"*0****0****************0******\"\n",
       " \"0000************0*********0***0\" ⋯ 104 bytes ⋯ \"*0****0***********0*******0**0\"\n",
       " ⋮\n",
       " \"0000************0*********0***0\" ⋯ 104 bytes ⋯ \"******0************0*****0****\"\n",
       " \"0000************0*********0***0\" ⋯ 104 bytes ⋯ \"******0************0***0******\"\n",
       " \"0000************0*********0***0\" ⋯ 104 bytes ⋯ \"***0**0***********0***0*******\"\n",
       " \"0000************0*********0***0\" ⋯ 104 bytes ⋯ \"***0**0*******0***********0***\"\n",
       " \"0000************0*********0***0\" ⋯ 104 bytes ⋯ \"**0***0***********0***0*******\"\n",
       " \"0000************0*********0***0\" ⋯ 104 bytes ⋯ \"**0***0*******0***********0***\"\n",
       " \"0000************0*********0***0\" ⋯ 104 bytes ⋯ \"*0****************0**0********\"\n",
       " \"0000************0*********0***0\" ⋯ 104 bytes ⋯ \"*0***********0************0***\"\n",
       " \"0000************0*********0***0\" ⋯ 104 bytes ⋯ \"*0****0*******************0***\"\n",
       " \"0000************0*********0***0\" ⋯ 104 bytes ⋯ \"*0****0***********0****0******\"\n",
       " \"0000************0*********0***0\" ⋯ 104 bytes ⋯ \"************0*0******0********\"\n",
       " \"0000************0*********0***0\" ⋯ 104 bytes ⋯ \"************00********0*******\""
      ]
     },
     "execution_count": 9,
     "metadata": {},
     "output_type": "execute_result"
    }
   ],
   "source": [
    "using Oscar\n",
    "using Combinatorics\n",
    "pm = Polymake\n",
    "\n",
    "include(\"matroid_realization.jl\");\n",
    "include(\"reduceIdeals.jl\")\n",
    "include(\"fileHandling.jl\")\n",
    "\n",
    "d3n11 = vec(readlines(\"d3n11.dat\"))\n",
    "d3n11_3_lines = vec(readlines(\"d3n11_3lines.dat\"))"
   ]
  },
  {
   "cell_type": "code",
   "execution_count": 8,
   "metadata": {},
   "outputs": [
    {
     "data": {
      "text/plain": [
       "in_lines (generic function with 1 method)"
      ]
     },
     "execution_count": 8,
     "metadata": {},
     "output_type": "execute_result"
    }
   ],
   "source": [
    "function in_lines(n,L)\n",
    "    Ln = [l for l in L if n in l]\n",
    "    return Ln\n",
    "end"
   ]
  },
  {
   "cell_type": "code",
   "execution_count": 5,
   "metadata": {},
   "outputs": [
    {
     "data": {
      "text/plain": [
       "int_gens (generic function with 1 method)"
      ]
     },
     "execution_count": 5,
     "metadata": {},
     "output_type": "execute_result"
    }
   ],
   "source": [
    "function int_gens(I)\n",
    "    \n",
    "    ints = [x for x in I if is_constant(x)]\n",
    "    \n",
    "    if length(ints)>1\n",
    "        \n",
    "        return true\n",
    "        \n",
    "    else\n",
    "        \n",
    "        return false\n",
    "        \n",
    "    end\n",
    "    \n",
    "end"
   ]
  },
  {
   "cell_type": "code",
   "execution_count": 8,
   "metadata": {},
   "outputs": [],
   "source": [
    "#classification over QQ\n",
    "\n",
    "#not_realizable = []\n",
    "\n",
    "#int_generator = []#algebraic closure of integral generator not equal to 1\n",
    "\n",
    "\n",
    "#simplified_not_principle = []#ideal simplifies,al not principle\n",
    "#simplified_principle_n_reducible = [] #ideal simplifies to something principle\n",
    "#simplified_principle_reducible = []#ideal fully simplifies, principally generated in one variable\n",
    "\n",
    "#zero_ideal = []#ideal fully simplifies to 0\n",
    "\n",
    "#net = [] #make sure classification is exhaustive. This should be empty\n",
    "\n",
    "for z in 1532:length(d3n11_3_lines)\n",
    "    \n",
    "    #println(z,\"\\n\\n\")\n",
    "  \n",
    "    Mz = matroid_from_revlex_basis_encoding(d3n11_3_lines[z], 3, 11)\n",
    "    I = matroid_to_reduced_expression(Mz, QQ,2)\n",
    "    \n",
    "    #println(\"ch1\")\n",
    "    if I[1] == [0] #reduces to 0\n",
    "        \n",
    "        #push!(zero_ideal,z)\n",
    "        \n",
    "        #txtcvp = vec2String(cone)\n",
    "        open(\"zero_ideal.dat\", \"a\")do file\n",
    "        write(file, String(d3n11_3_lines[z]),\"\\n\")\n",
    "        end\n",
    "        continue\n",
    "    \n",
    "    elseif (1 in I[1] || -1 in I[1] || I == \"Not Realizable 0 in Semigroup\")\n",
    "        \n",
    "    #println(\"ch2\")\n",
    "        \n",
    "        #push!(not_realizable,z)\n",
    "        open(\"not_realizable.dat\", \"a\")do file\n",
    "        write(file, String(d3n11_3_lines[z]),\"\\n\")\n",
    "        end\n",
    "        continue\n",
    "        \n",
    "    elseif int_gens(I[1])\n",
    "        \n",
    "               \n",
    "    #println(\"ch3\")\n",
    "        \n",
    "       # push!(int_generator,z)\n",
    "    \n",
    "        open(\"int_generator.dat\", \"a\")do file\n",
    "        write(file, String(d3n11_3_lines[z]),\"\\n\")\n",
    "        end\n",
    "        continue\n",
    "        \n",
    "    elseif length(I[1]) == 2\n",
    "            \n",
    "        if (length(vars(I[1][2])) == 1 && degree(I[1][2],vars(I[1][2])[1]) >=2)\n",
    "                \n",
    "            #push!(simplified_principle_reducible,z)\n",
    "            \n",
    "        open(\"simplified_principle_reducible.dat\", \"a\")do file\n",
    "        write(file, String(d3n11_3_lines[z]),\"\\n\")\n",
    "        end\n",
    "        continue\n",
    "                \n",
    "        else\n",
    "                \n",
    "        #push!(simplified_principle_n_reducible,z)\n",
    "        open(\"simplified_principle_n_reducible.dat\", \"a\")do file\n",
    "        write(file, String(d3n11_3_lines[z]),\"\\n\")\n",
    "        end\n",
    "        continue\n",
    "        \n",
    "        end\n",
    "            \n",
    "    elseif length(I[1])>2\n",
    "        \n",
    "            #push!(simplified_not_principle,z)\n",
    "        \n",
    "    \n",
    "        open(\"simplified_not_principle.dat\", \"a\")do file\n",
    "        write(file, String(d3n11_3_lines[z]),\"\\n\")\n",
    "        end\n",
    "        continue\n",
    "    else\n",
    "        \n",
    "        #push!(net,z)\n",
    "        open(\"net.dat\", \"a\")do file\n",
    "        write(file, String(d3n11_3_lines[z]),\"\\n\")\n",
    "        end\n",
    "        continue\n",
    "        \n",
    "    end\n",
    "end\n"
   ]
  },
  {
   "cell_type": "code",
   "execution_count": 16,
   "metadata": {},
   "outputs": [
    {
     "data": {
      "text/plain": [
       "350-element Vector{String}:\n",
       " \"0000************0*********0***0\" ⋯ 104 bytes ⋯ \"***0**********0******0********\"\n",
       " \"0000************0*********0***0\" ⋯ 104 bytes ⋯ \"***0*********0********0*******\"\n",
       " \"0000************0*********0***0\" ⋯ 104 bytes ⋯ \"**0***********0******0********\"\n",
       " \"0000************0*********0***0\" ⋯ 104 bytes ⋯ \"**0**********0********0*******\"\n",
       " \"0000************0*********0***0\" ⋯ 104 bytes ⋯ \"*0*******0******0***00********\"\n",
       " \"0000************0*********0***0\" ⋯ 104 bytes ⋯ \"*0*******************0********\"\n",
       " \"0000************0*********0***0\" ⋯ 104 bytes ⋯ \"*0***********0****************\"\n",
       " \"0000************0*********0***0\" ⋯ 104 bytes ⋯ \"*0***********0*********0******\"\n",
       " \"0000************0*********0***0\" ⋯ 104 bytes ⋯ \"*0****0****************0******\"\n",
       " \"0000************0*********0***0\" ⋯ 104 bytes ⋯ \"*0***********0*********0******\"\n",
       " \"0000************0*********0***0\" ⋯ 104 bytes ⋯ \"***0**0*******0***********0***\"\n",
       " \"0000************0*********0***0\" ⋯ 104 bytes ⋯ \"**0***0***********0***0*******\"\n",
       " \"0000************0*********0***0\" ⋯ 104 bytes ⋯ \"**0***0*******0***********0***\"\n",
       " ⋮\n",
       " \"0000************0**********0***\" ⋯ 104 bytes ⋯ \"*********0****0**********0****\"\n",
       " \"0000************0**********0***\" ⋯ 104 bytes ⋯ \"*********0***0***********0****\"\n",
       " \"0000************0**********0***\" ⋯ 104 bytes ⋯ \"***************0*********0****\"\n",
       " \"0000************0**********0***\" ⋯ 104 bytes ⋯ \"*******0*******0**************\"\n",
       " \"0000************0**********0***\" ⋯ 104 bytes ⋯ \"******0********0**************\"\n",
       " \"0000************0**********0***\" ⋯ 104 bytes ⋯ \"******0********0*********0****\"\n",
       " \"0000************0*********0***0\" ⋯ 104 bytes ⋯ \"*********0*********0******0***\"\n",
       " \"0000************0*********0***0\" ⋯ 104 bytes ⋯ \"*********0*********0*****0****\"\n",
       " \"0000************0**********0***\" ⋯ 104 bytes ⋯ \"***0*********************0****\"\n",
       " \"0000************0**********0***\" ⋯ 104 bytes ⋯ \"***0***0**********************\"\n",
       " \"0000************0**********0***\" ⋯ 104 bytes ⋯ \"***0***0*****************0****\"\n",
       " \"0000************0*********0***0\" ⋯ 104 bytes ⋯ \"**0******0***0************0***\""
      ]
     },
     "execution_count": 16,
     "metadata": {},
     "output_type": "execute_result"
    }
   ],
   "source": [
    "zero_ideal = vec(readlines(\"sorting/zero_ideal.dat\"))\n",
    "not_realizable= vec(readlines(\"sorting/not_realizable.dat\"))\n",
    "int_gen = vec(readlines(\"sorting/int_generator.dat\"))\n",
    "simplified_principle_reducible = vec(readlines(\"sorting/simplified_principle_reducible.dat\"))\n",
    "simplified_principle_n_reducible = vec(readlines(\"sorting/simplified_principle_n_reducible.dat\"))\n",
    "simplified_not_principle = vec(readlines(\"sorting/simplified_not_principle.dat\"))"
   ]
  },
  {
   "cell_type": "code",
   "execution_count": 17,
   "metadata": {},
   "outputs": [
    {
     "data": {
      "text/plain": [
       "1531-element Vector{String}:\n",
       " \"0000************0*********0***0\" ⋯ 104 bytes ⋯ \"******0************0******0***\"\n",
       " \"0000************0*********0***0\" ⋯ 104 bytes ⋯ \"***0**0*******************0***\"\n",
       " \"0000************0*********0***0\" ⋯ 104 bytes ⋯ \"**0***0*******************0***\"\n",
       " \"0000************0*********0***0\" ⋯ 104 bytes ⋯ \"**0***0***********0***********\"\n",
       " \"0000************0*********0***0\" ⋯ 104 bytes ⋯ \"******0************0**********\"\n",
       " \"0000************0*********0***0\" ⋯ 104 bytes ⋯ \"******0************0***0******\"\n",
       " \"0000************0**********0***\" ⋯ 104 bytes ⋯ \"*******0********0****0********\"\n",
       " \"0000************0*********0***0\" ⋯ 104 bytes ⋯ \"*******************0*0********\"\n",
       " \"0000************0*********0***0\" ⋯ 104 bytes ⋯ \"************00****************\"\n",
       " \"0000************0*********0***0\" ⋯ 104 bytes ⋯ \"************00****************\"\n",
       " \"0000************0**********0***\" ⋯ 104 bytes ⋯ \"0********0************0*******\"\n",
       " \"0000************0**********0***\" ⋯ 104 bytes ⋯ \"***0*************0***0********\"\n",
       " \"0000************0**********0***\" ⋯ 104 bytes ⋯ \"*********0***0***********0****\"\n",
       " ⋮\n",
       " \"0000************0**********0***\" ⋯ 104 bytes ⋯ \"*********0****0**********0****\"\n",
       " \"0000************0**********0***\" ⋯ 104 bytes ⋯ \"*********0***0***********0****\"\n",
       " \"0000************0**********0***\" ⋯ 104 bytes ⋯ \"***************0*********0****\"\n",
       " \"0000************0**********0***\" ⋯ 104 bytes ⋯ \"*******0*******0**************\"\n",
       " \"0000************0**********0***\" ⋯ 104 bytes ⋯ \"******0********0**************\"\n",
       " \"0000************0**********0***\" ⋯ 104 bytes ⋯ \"******0********0*********0****\"\n",
       " \"0000************0*********0***0\" ⋯ 104 bytes ⋯ \"*********0*********0******0***\"\n",
       " \"0000************0*********0***0\" ⋯ 104 bytes ⋯ \"*********0*********0*****0****\"\n",
       " \"0000************0**********0***\" ⋯ 104 bytes ⋯ \"***0*********************0****\"\n",
       " \"0000************0**********0***\" ⋯ 104 bytes ⋯ \"***0***0**********************\"\n",
       " \"0000************0**********0***\" ⋯ 104 bytes ⋯ \"***0***0*****************0****\"\n",
       " \"0000************0*********0***0\" ⋯ 104 bytes ⋯ \"**0******0***0************0***\""
      ]
     },
     "execution_count": 17,
     "metadata": {},
     "output_type": "execute_result"
    }
   ],
   "source": [
    "union(zero_ideal,not_realizable,int_gen,simplified_principle_reducible,simplified_principle_n_reducible,simplified_not_principle)"
   ]
  },
  {
   "cell_type": "code",
   "execution_count": null,
   "metadata": {},
   "outputs": [],
   "source": []
  }
 ],
 "metadata": {
  "kernelspec": {
   "display_name": "Julia 1.7.1",
   "language": "julia",
   "name": "julia-1.7"
  },
  "language_info": {
   "file_extension": ".jl",
   "mimetype": "application/julia",
   "name": "julia",
   "version": "1.7.1"
  }
 },
 "nbformat": 4,
 "nbformat_minor": 4
}
