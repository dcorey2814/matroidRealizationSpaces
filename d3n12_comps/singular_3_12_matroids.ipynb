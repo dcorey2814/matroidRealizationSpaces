{
 "cells": [
  {
   "cell_type": "markdown",
   "metadata": {},
   "source": [
    "**Singular realization spaces for 3-12 matroids**"
   ]
  },
  {
   "cell_type": "code",
   "execution_count": 1,
   "metadata": {},
   "outputs": [
    {
     "name": "stdout",
     "output_type": "stream",
     "text": [
      "\r",
      " -----    -----    -----      -      -----   \n",
      "|     |  |     |  |     |    | |    |     |  \n",
      "|     |  |        |         |   |   |     |  \n",
      "|     |   -----   |        |     |  |-----   \n",
      "|     |        |  |        |-----|  |   |    \n",
      "|     |  |     |  |     |  |     |  |    |   \n",
      " -----    -----    -----   -     -  -     -  \n",
      "\n",
      "...combining (and extending) ANTIC, GAP, Polymake and Singular\n",
      "Version\u001b[32m 0.12.2-DEV \u001b[39m... \n",
      " ... which comes with absolutely no warranty whatsoever\n",
      "Type: '?Oscar' for more information\n",
      "(c) 2019-2023 by The OSCAR Development Team\n"
     ]
    }
   ],
   "source": [
    "using Oscar"
   ]
  },
  {
   "cell_type": "code",
   "execution_count": 2,
   "metadata": {},
   "outputs": [],
   "source": [
    "cd(\"..\")"
   ]
  },
  {
   "cell_type": "code",
   "execution_count": 3,
   "metadata": {},
   "outputs": [
    {
     "data": {
      "text/plain": [
       "realization_space_2_singular_locus (generic function with 1 method)"
      ]
     },
     "execution_count": 3,
     "metadata": {},
     "output_type": "execute_result"
    }
   ],
   "source": [
    "currentDir = pwd() # make sure you are running from the main directory.\n",
    "include(joinpath(currentDir, \"src/fileHandling.jl\"))\n",
    "include(joinpath(currentDir, \"src/matroid_realization.jl\"))\n",
    "include(joinpath(currentDir, \"src/Jacobian_Criterion.jl\"))"
   ]
  },
  {
   "cell_type": "code",
   "execution_count": 4,
   "metadata": {},
   "outputs": [
    {
     "data": {
      "text/plain": [
       "67-element Vector{String}:\n",
       " \"0******0******0**********0*****\" ⋯ 159 bytes ⋯ \"****0***********0*******0*****\"\n",
       " \"0******0******0**********0*****\" ⋯ 159 bytes ⋯ \"*********0***0******0*********\"\n",
       " \"0******0******0**********0*****\" ⋯ 159 bytes ⋯ \"********0***************0*****\"\n",
       " \"0******0******0**********0*****\" ⋯ 159 bytes ⋯ \"******0*****0************0****\"\n",
       " \"0******0******0**********0*****\" ⋯ 159 bytes ⋯ \"*********0***********0********\"\n",
       " \"0******0******0**********0*****\" ⋯ 159 bytes ⋯ \"**00*************************0\"\n",
       " \"0******0******0**********0*****\" ⋯ 159 bytes ⋯ \"***0*********0*********0******\"\n",
       " \"0******0******0**********0*****\" ⋯ 159 bytes ⋯ \"*********0**0**************0**\"\n",
       " \"0******0******0**********0*****\" ⋯ 159 bytes ⋯ \"***0********0************0****\"\n",
       " \"0******0******0**********0*****\" ⋯ 159 bytes ⋯ \"*********0**0**************0**\"\n",
       " \"0******0******0**********0*****\" ⋯ 159 bytes ⋯ \"*0*****************0**0*******\"\n",
       " \"0******0******0**********0*****\" ⋯ 159 bytes ⋯ \"****0**********0******0*******\"\n",
       " \"0******0******0***0******0*****\" ⋯ 159 bytes ⋯ \"***0*********0*******0********\"\n",
       " ⋮\n",
       " \"0000************0*********0***0\" ⋯ 159 bytes ⋯ \"***0**********0************0**\"\n",
       " \"0000************0*********0***0\" ⋯ 159 bytes ⋯ \"*******************0******0***\"\n",
       " \"0000************0*********0***0\" ⋯ 159 bytes ⋯ \"***0************0******0******\"\n",
       " \"0******0******0**********0*****\" ⋯ 159 bytes ⋯ \"****0******0***************0**\"\n",
       " \"0******0******0**********0*****\" ⋯ 159 bytes ⋯ \"******0***********0******0****\"\n",
       " \"0******0******0**********0*****\" ⋯ 159 bytes ⋯ \"**********0******0***0********\"\n",
       " \"0******0******0**********0*****\" ⋯ 159 bytes ⋯ \"*********0******0**********0**\"\n",
       " \"0******0******0**********0*****\" ⋯ 159 bytes ⋯ \"**********0***0*********0*****\"\n",
       " \"0******0******0***0******0*****\" ⋯ 159 bytes ⋯ \"**********0*0*************0***\"\n",
       " \"0000************0**********0***\" ⋯ 159 bytes ⋯ \"*0************0*********0*****\"\n",
       " \"0000************0**********0***\" ⋯ 159 bytes ⋯ \"*****0*********0*********0****\"\n",
       " \"0000************0**********0***\" ⋯ 159 bytes ⋯ \"**0**0***********00****0******\""
      ]
     },
     "execution_count": 4,
     "metadata": {},
     "output_type": "execute_result"
    }
   ],
   "source": [
    "principal = vec(readlines(\"d3n12/singular/singular_principal_3_12.dat\"))"
   ]
  },
  {
   "cell_type": "code",
   "execution_count": 5,
   "metadata": {},
   "outputs": [
    {
     "data": {
      "text/plain": [
       "9-element Vector{String}:\n",
       " \"0******0******0**********0*****\" ⋯ 159 bytes ⋯ \"****0***********0***0*********\"\n",
       " \"0******0******0**********0*****\" ⋯ 159 bytes ⋯ \"*********0**0************0****\"\n",
       " \"0******0******0***0******0*****\" ⋯ 159 bytes ⋯ \"*******0******0************0**\"\n",
       " \"0******0******0***0******0*****\" ⋯ 159 bytes ⋯ \"*******0*****0*********0******\"\n",
       " \"0******0******0***0******0*****\" ⋯ 159 bytes ⋯ \"*********0******0*************\"\n",
       " \"0******0******0***0******0*****\" ⋯ 159 bytes ⋯ \"*0*****0************0*********\"\n",
       " \"0******0******0***0******0*****\" ⋯ 159 bytes ⋯ \"*******0**********0***0*******\"\n",
       " \"0******0******0***0******0*****\" ⋯ 159 bytes ⋯ \"*******0********0*****0*******\"\n",
       " \"0******0******0**********0*****\" ⋯ 159 bytes ⋯ \"*********0**0*******0*********\""
      ]
     },
     "execution_count": 5,
     "metadata": {},
     "output_type": "execute_result"
    }
   ],
   "source": [
    "not_principal = vec(readlines(\"d3n12/singular_not_principal/singular_not_principal_3_12.dat\"))"
   ]
  },
  {
   "cell_type": "code",
   "execution_count": null,
   "metadata": {},
   "outputs": [],
   "source": []
  }
 ],
 "metadata": {
  "kernelspec": {
   "display_name": "Julia 1.7.1",
   "language": "julia",
   "name": "julia-1.7"
  },
  "language_info": {
   "file_extension": ".jl",
   "mimetype": "application/julia",
   "name": "julia",
   "version": "1.7.1"
  }
 },
 "nbformat": 4,
 "nbformat_minor": 4
}
