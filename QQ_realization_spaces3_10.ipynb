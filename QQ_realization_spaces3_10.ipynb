{
 "cells": [
  {
   "cell_type": "code",
   "execution_count": 1,
   "metadata": {},
   "outputs": [
    {
     "name": "stdout",
     "output_type": "stream",
     "text": [
      " -----    -----    -----      -      -----   \n",
      "|     |  |     |  |     |    | |    |     |  \n",
      "|     |  |        |         |   |   |     |  \n",
      "|     |   -----   |        |     |  |-----   \n",
      "|     |        |  |        |-----|  |   |    \n",
      "|     |  |     |  |     |  |     |  |    |   \n",
      " -----    -----    -----   -     -  -     -  \n",
      "\n",
      "...combining (and extending) ANTIC, GAP, Polymake and Singular\n",
      "Version\u001b[32m 0.11.2 \u001b[39m... \n",
      " ... which comes with absolutely no warranty whatsoever\n",
      "Type: '?Oscar' for more information\n",
      "(c) 2019-2022 by The OSCAR Development Team\n"
     ]
    },
    {
     "data": {
      "text/plain": [
       "Polymake"
      ]
     },
     "execution_count": 1,
     "metadata": {},
     "output_type": "execute_result"
    }
   ],
   "source": [
    "using Oscar\n",
    "using Combinatorics\n",
    "pm = Polymake"
   ]
  },
  {
   "cell_type": "code",
   "execution_count": 2,
   "metadata": {},
   "outputs": [],
   "source": [
    "include(\"matroid_realization.jl\");\n",
    "include(\"reduceIdeals.jl\")\n",
    "include(\"d3n10_special_matroids.jl\")\n",
    "\n",
    "d3n10 = vec(readlines(\"d3n10.dat\"));\n"
   ]
  },
  {
   "cell_type": "code",
   "execution_count": 3,
   "metadata": {},
   "outputs": [
    {
     "data": {
      "text/plain": [
       "5249-element Vector{String}:\n",
       " \"*******************************\" ⋯ 58 bytes ⋯ \"*******************************\"\n",
       " \"0******************************\" ⋯ 58 bytes ⋯ \"*******************************\"\n",
       " \"0******************0***********\" ⋯ 58 bytes ⋯ \"*******************************\"\n",
       " \"0******************0***********\" ⋯ 58 bytes ⋯ \"*******************************\"\n",
       " \"0******0***********************\" ⋯ 58 bytes ⋯ \"*******************************\"\n",
       " \"0******0***********************\" ⋯ 58 bytes ⋯ \"*******************************\"\n",
       " \"0******0***********************\" ⋯ 58 bytes ⋯ \"****************************0**\"\n",
       " \"0******0***********************\" ⋯ 58 bytes ⋯ \"*******************************\"\n",
       " \"0******0***********************\" ⋯ 58 bytes ⋯ \"******************************0\"\n",
       " \"0******0***********************\" ⋯ 58 bytes ⋯ \"*******************************\"\n",
       " \"0******0***********************\" ⋯ 58 bytes ⋯ \"*********************0*********\"\n",
       " \"0******0***********************\" ⋯ 58 bytes ⋯ \"*******************************\"\n",
       " \"0******0***********************\" ⋯ 58 bytes ⋯ \"*******************************\"\n",
       " ⋮\n",
       " \"00000000000000000000***********\" ⋯ 58 bytes ⋯ \"***********0******0************\"\n",
       " \"00000000000000000000***********\" ⋯ 58 bytes ⋯ \"***********0******0*******0****\"\n",
       " \"00000000000000000000***********\" ⋯ 58 bytes ⋯ \"**********0*****0*****00*****00\"\n",
       " \"0000000000000000000000000000000\" ⋯ 58 bytes ⋯ \"*******************************\"\n",
       " \"0000000000000000000000000000000\" ⋯ 58 bytes ⋯ \"******************************0\"\n",
       " \"0000000000000000000000000000000\" ⋯ 58 bytes ⋯ \"*******************************\"\n",
       " \"0000000000000000000000000000000\" ⋯ 58 bytes ⋯ \"*****************0*************\"\n",
       " \"0000000000000000000000000000000\" ⋯ 58 bytes ⋯ \"*****************0*******0*****\"\n",
       " \"0000000000000000000000000000000\" ⋯ 58 bytes ⋯ \"****************0******0******0\"\n",
       " \"0000000000000000000000000000000\" ⋯ 58 bytes ⋯ \"*******************************\"\n",
       " \"0000000000000000000000000000000\" ⋯ 58 bytes ⋯ \"***********************0*******\"\n",
       " \"0000000000000000000000000000000\" ⋯ 58 bytes ⋯ \"*******************************\""
      ]
     },
     "execution_count": 3,
     "metadata": {},
     "output_type": "execute_result"
    }
   ],
   "source": [
    "d3n10"
   ]
  },
  {
   "cell_type": "code",
   "execution_count": 3,
   "metadata": {},
   "outputs": [
    {
     "data": {
      "text/plain": [
       "151-element Vector{Any}:\n",
       "  324\n",
       "  423\n",
       "  428\n",
       "  450\n",
       "  630\n",
       "  635\n",
       "  798\n",
       "  884\n",
       "  894\n",
       "  903\n",
       "  904\n",
       "  906\n",
       "  908\n",
       "    ⋮\n",
       " 4810\n",
       " 4822\n",
       " 4825\n",
       " 4829\n",
       " 4839\n",
       " 4841\n",
       " 4903\n",
       " 4910\n",
       " 4916\n",
       " 4917\n",
       " 4919\n",
       " 5085"
      ]
     },
     "execution_count": 3,
     "metadata": {},
     "output_type": "execute_result"
    }
   ],
   "source": [
    "has_property #matroids with \"3 lines property\""
   ]
  },
  {
   "cell_type": "code",
   "execution_count": 23,
   "metadata": {},
   "outputs": [
    {
     "data": {
      "text/plain": [
       "151"
      ]
     },
     "execution_count": 23,
     "metadata": {},
     "output_type": "execute_result"
    }
   ],
   "source": [
    "connected = []\n",
    "for z in has_property\n",
    "     Mz = matroid_from_revlex_basis_encoding(d3n10[z], 3, 10)\n",
    "     if n_connected_components(Mz) == 1\n",
    "        push!(connected,z)\n",
    "    end\n",
    "end\n",
    "length(connected)"
   ]
  },
  {
   "cell_type": "code",
   "execution_count": 4,
   "metadata": {},
   "outputs": [
    {
     "data": {
      "text/plain": [
       "int_gens (generic function with 1 method)"
      ]
     },
     "execution_count": 4,
     "metadata": {},
     "output_type": "execute_result"
    }
   ],
   "source": [
    "function int_gens(I)\n",
    "    \n",
    "    ints = [x for x in I if is_constant(x)]\n",
    "    \n",
    "    if length(ints)>1\n",
    "        \n",
    "        return true\n",
    "        \n",
    "    else\n",
    "        \n",
    "        return false\n",
    "        \n",
    "    end\n",
    "    \n",
    "end"
   ]
  },
  {
   "cell_type": "code",
   "execution_count": 5,
   "metadata": {},
   "outputs": [],
   "source": [
    "#classification over QQ\n",
    "\n",
    "not_realizable = []\n",
    "\n",
    "int_generator = []#algebraic closure of integral generator not equal to 1\n",
    "\n",
    "\n",
    "simplified_not_principle = []#ideal simplifies,al not principle\n",
    "simplified_principle_n_reducible = [] #ideal simplifies to something principle\n",
    "simplified_principle_reducible = []#ideal fully simplifies, principally generated in one variable\n",
    "\n",
    "zero_ideal = []#ideal fully simplifies to 0\n",
    "\n",
    "net = [] #make sure classification is exhaustive. This should be empty\n",
    "\n",
    "for z in has_property\n",
    "    \n",
    "    #println(z,\"\\n\\n\")\n",
    "  \n",
    "    Mz = matroid_from_revlex_basis_encoding(d3n10[z], 3, 10)\n",
    "    I = matroid_to_reduced_expression(Mz, QQ,2)\n",
    "    \n",
    "    #println(\"ch1\")\n",
    "    if I[1] == [0] #reduces to 0\n",
    "        \n",
    "        push!(zero_ideal,z)\n",
    "    \n",
    "    elseif (1 in I[1] || -1 in I[1] || I == \"Not Realizable 0 in Semigroup\")\n",
    "        \n",
    "    #println(\"ch2\")\n",
    "        \n",
    "        push!(not_realizable,z)\n",
    "        \n",
    "    elseif int_gens(I[1])\n",
    "        \n",
    "               \n",
    "    #println(\"ch3\")\n",
    "        \n",
    "        push!(int_generator,z)\n",
    "    \n",
    "        \n",
    "    elseif length(I[1]) == 2\n",
    "            \n",
    "        if (length(vars(I[1][2])) == 1 && degree(I[1][2],vars(I[1][2])[1]) >=2)\n",
    "                \n",
    "            push!(simplified_principle_reducible,z)\n",
    "                \n",
    "        else\n",
    "                \n",
    "                push!(simplified_principle_n_reducible,z)\n",
    "        \n",
    "        end\n",
    "            \n",
    "    elseif length(I[1])>2\n",
    "        \n",
    "            push!(simplified_not_principle,z)\n",
    "        \n",
    "    else\n",
    "        \n",
    "        push!(net,z)\n",
    "        \n",
    "        \n",
    "    end\n",
    "end\n"
   ]
  },
  {
   "cell_type": "code",
   "execution_count": 6,
   "metadata": {},
   "outputs": [
    {
     "data": {
      "text/plain": [
       "7-element Vector{Vector{Any}}:\n",
       " [1072, 1544, 1546, 2460, 2671, 2742, 2743, 3123, 3599, 3626, 3658, 3666, 3725, 4825]\n",
       " [1607, 3648, 3802, 3840, 4493, 4789, 4800, 4808, 4809, 4810, 4839, 4841, 4910, 4917, 4919]\n",
       " [1412, 1521, 1522, 1543, 1556, 1593, 1602, 2669, 3588, 3645, 3647, 4568]\n",
       " [324, 423, 428, 450, 884, 894, 903, 904, 906, 908  …  3124, 3154, 3157, 3234, 3235, 3349, 3359, 3417, 3419, 3426]\n",
       " [635, 798, 965, 995, 1524, 1594, 1596, 1598, 1674, 1675  …  3809, 4276, 4490, 4557, 4570, 4571, 4758, 4761, 4903, 5085]\n",
       " [630, 1082, 1525, 1672, 2459, 2739, 2786, 2955, 2958, 3156  …  3800, 3801, 3811, 3812, 3839, 4279, 4784, 4822, 4829, 4916]\n",
       " []"
      ]
     },
     "execution_count": 6,
     "metadata": {},
     "output_type": "execute_result"
    }
   ],
   "source": [
    "C = [not_realizable,\n",
    "int_generator,\n",
    "\n",
    "simplified_not_principle,\n",
    "simplified_principle_n_reducible,\n",
    "simplified_principle_reducible,\n",
    "\n",
    "zero_ideal,\n",
    "\n",
    "net]"
   ]
  },
  {
   "cell_type": "code",
   "execution_count": 11,
   "metadata": {},
   "outputs": [
    {
     "name": "stdout",
     "output_type": "stream",
     "text": [
      "14\n",
      "15\n",
      "12\n",
      "52\n",
      "32\n",
      "26\n",
      "0\n"
     ]
    },
    {
     "data": {
      "text/plain": [
       "151"
      ]
     },
     "execution_count": 11,
     "metadata": {},
     "output_type": "execute_result"
    }
   ],
   "source": [
    "for c in C\n",
    "    print(length(c),\"\\n\")\n",
    "end\n",
    "lc = [length(c) for c in C]\n",
    "sum(lc)"
   ]
  },
  {
   "cell_type": "code",
   "execution_count": 13,
   "metadata": {},
   "outputs": [
    {
     "name": "stdout",
     "output_type": "stream",
     "text": [
      "Matroid : 1607\n",
      "\n",
      "1 Factored : 0\n",
      "Expanded : 0\n",
      "\n",
      "2 Factored : -1 * 2\n",
      "Expanded : -2\n",
      "\n",
      "3 Factored : 1 * (x_{1, 6}^2 - x_{1, 6}*x_{2, 6} - x_{2, 6}^2 + x_{2, 6})\n",
      "Expanded : x_{1, 6}^2 - x_{1, 6}*x_{2, 6} - x_{2, 6}^2 + x_{2, 6}\n",
      "\n",
      "4 Factored : 1 * (x_{1, 6}^3 - x_{1, 6}^2*x_{2, 6} + x_{1, 6}*x_{2, 6}^2 - x_{2, 6}^2)\n",
      "Expanded : x_{1, 6}^3 - x_{1, 6}^2*x_{2, 6} + x_{1, 6}*x_{2, 6}^2 - x_{2, 6}^2\n",
      "\n",
      "Matroid : 3648\n",
      "\n",
      "1 Factored : 0\n",
      "Expanded : 0\n",
      "\n",
      "2 Factored : -1 * 2\n",
      "Expanded : -2\n",
      "\n",
      "3 Factored : 1 * (x_{1, 6}^2 - x_{1, 6} - 1)\n",
      "Expanded : x_{1, 6}^2 - x_{1, 6} - 1\n",
      "\n",
      "4 Factored : 1 * (x_{1, 6}^2 + x_{1, 6} + 1)\n",
      "Expanded : x_{1, 6}^2 + x_{1, 6} + 1\n",
      "\n",
      "Matroid : 3802\n",
      "\n",
      "1 Factored : 0\n",
      "Expanded : 0\n",
      "\n",
      "2 Factored : -1 * 3\n",
      "Expanded : -3\n",
      "\n",
      "Matroid : 3840\n",
      "\n",
      "1 Factored : 0\n",
      "Expanded : 0\n",
      "\n",
      "2 Factored : 1 * 2\n",
      "Expanded : 2\n",
      "\n",
      "Matroid : 4493\n",
      "\n",
      "1 Factored : 0\n",
      "Expanded : 0\n",
      "\n",
      "2 Factored : 1 * 2\n",
      "Expanded : 2\n",
      "\n",
      "Matroid : 4789\n",
      "\n",
      "1 Factored : 0\n",
      "Expanded : 0\n",
      "\n",
      "2 Factored : -1 * 5\n",
      "Expanded : -5\n",
      "\n",
      "Matroid : 4800\n",
      "\n",
      "1 Factored : 0\n",
      "Expanded : 0\n",
      "\n",
      "2 Factored : -1 * 3\n",
      "Expanded : -3\n",
      "\n",
      "Matroid : 4808\n",
      "\n",
      "1 Factored : 0\n",
      "Expanded : 0\n",
      "\n",
      "2 Factored : -1 * 3\n",
      "Expanded : -3\n",
      "\n",
      "Matroid : 4809\n",
      "\n",
      "1 Factored : 0\n",
      "Expanded : 0\n",
      "\n",
      "2 Factored : -1 * 3\n",
      "Expanded : -3\n",
      "\n",
      "3 Factored : 1 * 3\n",
      "Expanded : 3\n",
      "\n",
      "Matroid : 4810\n",
      "\n",
      "1 Factored : 0\n",
      "Expanded : 0\n",
      "\n",
      "2 Factored : -1 * 3\n",
      "Expanded : -3\n",
      "\n",
      "Matroid : 4839\n",
      "\n",
      "1 Factored : 0\n",
      "Expanded : 0\n",
      "\n",
      "2 Factored : 1 * 2\n",
      "Expanded : 2\n",
      "\n",
      "3 Factored : 1 * (2*x_{1, 6} - 1)\n",
      "Expanded : 2*x_{1, 6} - 1\n",
      "\n",
      "Matroid : 4841\n",
      "\n",
      "1 Factored : 0\n",
      "Expanded : 0\n",
      "\n",
      "2 Factored : 1 * 2\n",
      "Expanded : 2\n",
      "\n",
      "Matroid : 4910\n",
      "\n",
      "1 Factored : 0\n",
      "Expanded : 0\n",
      "\n",
      "2 Factored : 1 * 2\n",
      "Expanded : 2\n",
      "\n",
      "3 Factored : 1 * (x_{2, 6}^2 - x_{2, 6} + 1)\n",
      "Expanded : x_{2, 6}^2 - x_{2, 6} + 1\n",
      "\n",
      "Matroid : 4917\n",
      "\n",
      "1 Factored : 0\n",
      "Expanded : 0\n",
      "\n",
      "2 Factored : 1 * 2\n",
      "Expanded : 2\n",
      "\n",
      "3 Factored : 1 * (x_{2, 6}^2 + 1)\n",
      "Expanded : x_{2, 6}^2 + 1\n",
      "\n",
      "Matroid : 4919\n",
      "\n",
      "1 Factored : 0\n",
      "Expanded : 0\n",
      "\n",
      "2 Factored : -1 * 3\n",
      "Expanded : -3\n",
      "\n"
     ]
    }
   ],
   "source": [
    "#Check out whatever\n",
    "\n",
    "for z in C[2]\n",
    "    \n",
    "     Mz = matroid_from_revlex_basis_encoding(d3n10[z], 3, 10)\n",
    "     I = matroid_to_reduced_expression(Mz, ZZ,2)\n",
    "    \n",
    "    print(\"Matroid : \",z,\"\\n\\n\")\n",
    "    \n",
    "    if I isa String\n",
    "\n",
    "        print(I,\"\\n\\n\")\n",
    "        \n",
    "    else\n",
    "        \n",
    "    for j in 1:length(I[1])\n",
    "        print(j,\" Factored : \", factor(I[1][j]),\"\\n\", \"Expanded : \",I[1][j],\"\\n\\n\")\n",
    "    end\n",
    "    end\n",
    "end"
   ]
  },
  {
   "cell_type": "markdown",
   "metadata": {},
   "source": [
    "check hypersurfaces with jacobian criteria"
   ]
  },
  {
   "cell_type": "code",
   "execution_count": 8,
   "metadata": {},
   "outputs": [
    {
     "name": "stdout",
     "output_type": "stream",
     "text": [
      "324 : ideal(1)\n",
      "\n",
      "423 : ideal(1)\n",
      "\n",
      "428 : ideal(1)\n",
      "\n",
      "450 : ideal(1)\n",
      "\n",
      "884 : ideal(1)\n",
      "\n",
      "894 : ideal(1)\n",
      "\n",
      "903 : ideal(1)\n",
      "\n",
      "904 : ideal(1)\n",
      "\n",
      "906 : ideal(1)\n",
      "\n",
      "908 : ideal(1)\n",
      "\n",
      "923 : ideal(1)\n",
      "\n",
      "1061 : ideal(1)\n",
      "\n",
      "1070 : ideal(1)\n",
      "\n",
      "1076 : ideal(1)\n",
      "\n",
      "1080 : ideal(x_{2, 5} - 2*x_{2, 6} + 1, x_{1, 4} - 2*x_{2, 6} + 1)\n",
      "\n",
      "1252 : ideal(1)\n",
      "\n",
      "1253 : ideal(1)\n",
      "\n",
      "1272 : ideal(1)\n",
      "\n",
      "1273 : ideal(1)\n",
      "\n",
      "1275 : ideal(1)\n",
      "\n",
      "1278 : ideal(1)\n",
      "\n",
      "1289 : ideal(1)\n",
      "\n",
      "1291 : ideal(1)\n",
      "\n",
      "1376 : ideal(1)\n",
      "\n",
      "1382 : ideal(1)\n",
      "\n",
      "1383 : ideal(1)\n",
      "\n",
      "1413 : ideal(1)\n",
      "\n",
      "1415 : ideal(1)\n",
      "\n",
      "1416 : ideal(1)\n",
      "\n",
      "1417 : ideal(1)\n",
      "\n",
      "1423 : ideal(1)\n",
      "\n",
      "1426 : ideal(1)\n",
      "\n",
      "1432 : ideal(1)\n",
      "\n",
      "1433 : ideal(1)\n",
      "\n",
      "1435 : ideal(1)\n",
      "\n",
      "1438 : ideal(1)\n",
      "\n",
      "1455 : ideal(1)\n",
      "\n",
      "1456 : ideal(1)\n",
      "\n",
      "1457 : ideal(1)\n",
      "\n",
      "1558 : ideal(1)\n",
      "\n",
      "2934 : ideal(1)\n",
      "\n",
      "3121 : ideal(1)\n",
      "\n",
      "3124 : ideal(1)\n",
      "\n",
      "3154 : ideal(1)\n",
      "\n",
      "3157 : ideal(1)\n",
      "\n",
      "3234 : ideal(1)\n",
      "\n",
      "3235 : ideal(1)\n",
      "\n",
      "3349 : ideal(1)\n",
      "\n",
      "3359 : ideal(1)\n",
      "\n",
      "3417 : ideal(1)\n",
      "\n",
      "3419 : ideal(1)\n",
      "\n",
      "3426 : ideal(1)\n",
      "\n"
     ]
    }
   ],
   "source": [
    "for z in C[4]\n",
    "     Ms = matroid_from_revlex_basis_encoding(d3n10[z],3,10)\n",
    "     I = matroid_to_reduced_expression(Ms, QQ,2)\n",
    "    if length(I[1]) == 2\n",
    "        \n",
    "        f = I[1][2]\n",
    "        R = parent(f)\n",
    "        v = vars(f)\n",
    "        J = union([derivative(f,x) for x in v],[f])\n",
    "        \n",
    "          \n",
    "        Sgens = I[2]\n",
    "        S = MPolyPowersOfElement(R , Sgens)\n",
    "        \n",
    "        Rloc ,iota = localization(R,S)\n",
    "        Q = ideal(Rloc,J)\n",
    "        Sat = saturated_ideal(Q)\n",
    "        print(z,\" : \", Sat,\"\\n\\n\")\n",
    "        \n",
    "    else \n",
    "        \n",
    "        print(z,\" : \",\"not hypersurface\",\"\\n\\n\")\n",
    "    end\n",
    "end\n",
    "        \n",
    "    \n",
    "    "
   ]
  },
  {
   "cell_type": "code",
   "execution_count": 9,
   "metadata": {},
   "outputs": [
    {
     "name": "stdout",
     "output_type": "stream",
     "text": [
      "635 : ideal(1)\n",
      "\n",
      "798 : ideal(1)\n",
      "\n",
      "965 : ideal(1)\n",
      "\n",
      "995 : ideal(1)\n",
      "\n",
      "1524 : ideal(1)\n",
      "\n",
      "1594 : ideal(1)\n",
      "\n",
      "1596 : ideal(1)\n",
      "\n",
      "1598 : ideal(1)\n",
      "\n",
      "1674 : ideal(1)\n",
      "\n",
      "1675 : ideal(1)\n",
      "\n",
      "2740 : ideal(1)\n",
      "\n",
      "2741 : ideal(1)\n",
      "\n",
      "2782 : ideal(1)\n",
      "\n",
      "3516 : ideal(1)\n",
      "\n",
      "3517 : ideal(1)\n",
      "\n",
      "3592 : ideal(1)\n",
      "\n",
      "3598 : ideal(1)\n",
      "\n",
      "3625 : ideal(1)\n",
      "\n",
      "3636 : ideal(1)\n",
      "\n",
      "3638 : ideal(1)\n",
      "\n",
      "3772 : ideal(1)\n",
      "\n",
      "3808 : ideal(1)\n",
      "\n",
      "3809 : ideal(1)\n",
      "\n",
      "4276 : ideal(1)\n",
      "\n",
      "4490 : ideal(1)\n",
      "\n",
      "4557 : ideal(1)\n",
      "\n",
      "4570 : ideal(1)\n",
      "\n",
      "4571 : ideal(1)\n",
      "\n",
      "4758 : ideal(1)\n",
      "\n",
      "4761 : ideal(1)\n",
      "\n",
      "4903 : ideal(1)\n",
      "\n",
      "5085 : ideal(1)\n",
      "\n"
     ]
    }
   ],
   "source": [
    "for z in C[5]\n",
    "     Ms = matroid_from_revlex_basis_encoding(d3n10[z],3,10)\n",
    "     I = matroid_to_reduced_expression(Ms, QQ,2)\n",
    "    if length(I[1]) == 2\n",
    "        \n",
    "        f = I[1][2]\n",
    "        R = parent(f)\n",
    "        v = vars(f)\n",
    "        J = union([derivative(f,x) for x in v],[f])\n",
    "        \n",
    "          \n",
    "        Sgens = I[2]\n",
    "        S = MPolyPowersOfElement(R , Sgens)\n",
    "        \n",
    "        Rloc ,iota = localization(R,S)\n",
    "        Q = ideal(Rloc,J)\n",
    "        Sat = saturated_ideal(Q)\n",
    "        print(z,\" : \", Sat,\"\\n\\n\")\n",
    "        \n",
    "    else \n",
    "        \n",
    "        print(z,\" : \",\"not hypersurface\",\"\\n\\n\")\n",
    "    end\n",
    "end\n",
    "        \n",
    "    "
   ]
  },
  {
   "cell_type": "markdown",
   "metadata": {},
   "source": [
    "check out matroid 1080, saturation not unit ideal"
   ]
  },
  {
   "cell_type": "code",
   "execution_count": 32,
   "metadata": {},
   "outputs": [
    {
     "data": {
      "text/plain": [
       "(fmpq_mpoly[0, x_{1, 4}^2*x_{2, 5} - x_{1, 4}^2*x_{2, 6} - x_{1, 4}*x_{2, 5}^2 + 2*x_{1, 4}*x_{2, 6} - x_{1, 4} + x_{2, 5}^2*x_{2, 6} - 2*x_{2, 5}*x_{2, 6} + x_{2, 5}], fmpq_mpoly[1, x_{2, 5}^2*x_{2, 6} - 2*x_{2, 5}*x_{2, 6} + x_{2, 6}, -x_{2, 5}^2*x_{2, 6} + 2*x_{2, 5}*x_{2, 6} - x_{2, 6}, x_{2, 5}^4*x_{2, 6}^2 - 4*x_{2, 5}^3*x_{2, 6}^2 + 6*x_{2, 5}^2*x_{2, 6}^2 - 4*x_{2, 5}*x_{2, 6}^2 + x_{2, 6}^2, -1, x_{1, 4}*x_{2, 5}^2*x_{2, 6} - 2*x_{1, 4}*x_{2, 5}*x_{2, 6} + x_{1, 4}*x_{2, 6} + x_{2, 5}^3*x_{2, 6} - 4*x_{2, 5}^2*x_{2, 6} + 5*x_{2, 5}*x_{2, 6} - 2*x_{2, 6}, -x_{2, 5}^2*x_{2, 6} + x_{2, 5}^2 + x_{2, 5}*x_{2, 6} - x_{2, 5}, -x_{1, 4}*x_{2, 5} + x_{1, 4}*x_{2, 6} + x_{2, 5}^2*x_{2, 6} - 2*x_{2, 5}*x_{2, 6} + x_{2, 5}, x_{1, 4}, x_{1, 4}*x_{2, 5}^3*x_{2, 6} - 2*x_{1, 4}*x_{2, 5}^2*x_{2, 6} + x_{1, 4}*x_{2, 5}*x_{2, 6} - x_{2, 5}^2*x_{2, 6} + 2*x_{2, 5}*x_{2, 6} - x_{2, 6}  …  -x_{2, 5}*x_{2, 6}^2 + x_{2, 5}*x_{2, 6} + x_{2, 6}^2 - x_{2, 6}, x_{2, 5}^2*x_{2, 6}^2 - 2*x_{2, 5}*x_{2, 6}^2 + x_{2, 6}^2, -x_{1, 4}*x_{2, 5}*x_{2, 6} + x_{1, 4}*x_{2, 6}^2 + x_{2, 5}^2*x_{2, 6} - x_{2, 5}*x_{2, 6} - x_{2, 6}^2 + x_{2, 6}, -x_{2, 5}^2*x_{2, 6}^2 + 2*x_{2, 5}*x_{2, 6}^2 - x_{2, 6}^2, -x_{2, 6} + 1, x_{2, 6} - 1, -x_{1, 4} + x_{2, 6}, x_{1, 4}*x_{2, 6} - x_{2, 6}, x_{2, 5} - x_{2, 6}, -x_{2, 5}*x_{2, 6} + x_{2, 6}])"
      ]
     },
     "execution_count": 32,
     "metadata": {},
     "output_type": "execute_result"
    }
   ],
   "source": [
    "Ms = matroid_from_revlex_basis_encoding(d3n10[1080],3,10)\n",
    "I = matroid_to_reduced_expression(Ms, QQ,2)"
   ]
  },
  {
   "cell_type": "code",
   "execution_count": 16,
   "metadata": {},
   "outputs": [
    {
     "data": {
      "text/plain": [
       "10-element Vector{Vector{Int64}}:\n",
       " [1, 2, 3]\n",
       " [1, 4, 5]\n",
       " [1, 7, 8]\n",
       " [2, 4, 6]\n",
       " [2, 7, 9]\n",
       " [3, 5, 6]\n",
       " [3, 8, 9]\n",
       " [4, 7, 10]\n",
       " [5, 9, 10]\n",
       " [6, 8, 10]"
      ]
     },
     "execution_count": 16,
     "metadata": {},
     "output_type": "execute_result"
    }
   ],
   "source": [
    "nonbases(Ms)"
   ]
  },
  {
   "cell_type": "code",
   "execution_count": 24,
   "metadata": {},
   "outputs": [
    {
     "data": {
      "text/plain": [
       "10-element Vector{Vector{Int64}}:\n",
       " [1, 2, 3]\n",
       " [1, 4, 5]\n",
       " [1, 7, 8]\n",
       " [2, 4, 6]\n",
       " [2, 7, 9]\n",
       " [3, 5, 6]\n",
       " [3, 8, 9]\n",
       " [4, 7, 10]\n",
       " [5, 9, 10]\n",
       " [6, 8, 10]"
      ]
     },
     "execution_count": 24,
     "metadata": {},
     "output_type": "execute_result"
    }
   ],
   "source": [
    "C = [c for c in circuits(Ms) if length(c) == 3]"
   ]
  },
  {
   "cell_type": "code",
   "execution_count": 19,
   "metadata": {},
   "outputs": [
    {
     "data": {
      "text/plain": [
       "in_lines (generic function with 1 method)"
      ]
     },
     "execution_count": 19,
     "metadata": {},
     "output_type": "execute_result"
    }
   ],
   "source": [
    "function in_lines(n,L)\n",
    "    xn = 0\n",
    "    for z in 1:length(L)\n",
    "        if n in L[z]\n",
    "           xn += 1 \n",
    "        end\n",
    "    end\n",
    "    return xn\n",
    "end"
   ]
  },
  {
   "cell_type": "code",
   "execution_count": 26,
   "metadata": {},
   "outputs": [
    {
     "data": {
      "text/plain": [
       "10-element Vector{Int64}:\n",
       "  1\n",
       "  2\n",
       "  3\n",
       "  4\n",
       "  5\n",
       "  6\n",
       "  7\n",
       "  8\n",
       "  9\n",
       " 10"
      ]
     },
     "execution_count": 26,
     "metadata": {},
     "output_type": "execute_result"
    }
   ],
   "source": [
    "ns = [n for n in 1:10 if in_lines(n,C) == 3]"
   ]
  },
  {
   "cell_type": "code",
   "execution_count": 28,
   "metadata": {},
   "outputs": [
    {
     "data": {
      "text/plain": [
       "x_{1, 4}^2*x_{2, 5} - x_{1, 4}^2*x_{2, 6} - x_{1, 4}*x_{2, 5}^2 + 2*x_{1, 4}*x_{2, 6} - x_{1, 4} + x_{2, 5}^2*x_{2, 6} - 2*x_{2, 5}*x_{2, 6} + x_{2, 5}"
      ]
     },
     "execution_count": 28,
     "metadata": {},
     "output_type": "execute_result"
    }
   ],
   "source": [
    "f = I[1][2]"
   ]
  },
  {
   "cell_type": "code",
   "execution_count": 29,
   "metadata": {},
   "outputs": [
    {
     "data": {
      "text/plain": [
       "3-element Vector{fmpq_mpoly}:\n",
       " x_{1, 4}\n",
       " x_{2, 5}\n",
       " x_{2, 6}"
      ]
     },
     "execution_count": 29,
     "metadata": {},
     "output_type": "execute_result"
    }
   ],
   "source": [
    "vars(f)"
   ]
  },
  {
   "cell_type": "code",
   "execution_count": 31,
   "metadata": {},
   "outputs": [
    {
     "data": {
      "text/plain": [
       "t_matroid_to_reduced_expression (generic function with 1 method)"
      ]
     },
     "execution_count": 31,
     "metadata": {},
     "output_type": "execute_result"
    }
   ],
   "source": [
    "function t_matroid_to_reduced_expression(Q, F)\n",
    "    \n",
    "    charts = [c for c in circuits(Q) if length(c) == rank(Q)+1]\n",
    "    A = charts[1]\n",
    "    RQ = matroid_realization_space(Q, A, F)\n",
    "    R = parent(RQ[1][1])\n",
    "    Sgens = [s for s in RQ[2]]#new 13.1.2023\n",
    "    I = reduce_ideal_full(RQ[1], Sgens, R, gens(R), false)\n",
    "    \n",
    "    \n",
    " \n",
    "    if I isa String\n",
    "        \n",
    "        return I\n",
    "        \n",
    "     #I[1] = ideal generators, I[2] = subgroup generators   \n",
    "    else\n",
    "        \n",
    "       Iclean = unique!([clean(f,R) for f in I[1]])\n",
    "    \n",
    "            \n",
    "       return (Iclean, I[2])\n",
    "        \n",
    "       # return(I[1],I[2])\n",
    "        \n",
    "    end\n",
    "end\n",
    "\n"
   ]
  },
  {
   "cell_type": "code",
   "execution_count": null,
   "metadata": {},
   "outputs": [],
   "source": [
    "t_matroid_to_reduced_expression(Ms,QQ)"
   ]
  },
  {
   "cell_type": "code",
   "execution_count": null,
   "metadata": {},
   "outputs": [],
   "source": []
  }
 ],
 "metadata": {
  "kernelspec": {
   "display_name": "Julia 1.7.1",
   "language": "julia",
   "name": "julia-1.7"
  },
  "language_info": {
   "file_extension": ".jl",
   "mimetype": "application/julia",
   "name": "julia",
   "version": "1.7.1"
  }
 },
 "nbformat": 4,
 "nbformat_minor": 4
}
