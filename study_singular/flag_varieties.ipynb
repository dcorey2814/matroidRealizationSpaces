{
 "cells": [
  {
   "cell_type": "code",
   "execution_count": 1,
   "metadata": {},
   "outputs": [
    {
     "name": "stdout",
     "output_type": "stream",
     "text": [
      "\r",
      " -----    -----    -----      -      -----   \n",
      "|     |  |     |  |     |    | |    |     |  \n",
      "|     |  |        |         |   |   |     |  \n",
      "|     |   -----   |        |     |  |-----   \n",
      "|     |        |  |        |-----|  |   |    \n",
      "|     |  |     |  |     |  |     |  |    |   \n",
      " -----    -----    -----   -     -  -     -  \n",
      "\n",
      "...combining (and extending) ANTIC, GAP, Polymake and Singular\n",
      "Version\u001b[32m 0.12.1 \u001b[39m... \n",
      " ... which comes with absolutely no warranty whatsoever\n",
      "Type: '?Oscar' for more information\n",
      "(c) 2019-2023 by The OSCAR Development Team\n"
     ]
    }
   ],
   "source": [
    "using Oscar"
   ]
  },
  {
   "cell_type": "code",
   "execution_count": 2,
   "metadata": {},
   "outputs": [
    {
     "data": {
      "text/plain": [
       "realization_space_2_singular_locus (generic function with 1 method)"
      ]
     },
     "execution_count": 2,
     "metadata": {},
     "output_type": "execute_result"
    }
   ],
   "source": [
    "include(joinpath(\"../src/reduceTSC.jl\"))\n",
    "include(joinpath(\"../src/fileHandling.jl\"))\n",
    "include(joinpath(\"../src/isolate3Lines.jl\"))\n",
    "include(joinpath(\"../src/matroid_realization.jl\"))\n",
    "include(joinpath(\"../src/Jacobian_Criterion.jl\"))"
   ]
  },
  {
   "cell_type": "code",
   "execution_count": 3,
   "metadata": {},
   "outputs": [
    {
     "data": {
      "text/plain": [
       "flag_stratum_data (generic function with 1 method)"
      ]
     },
     "execution_count": 3,
     "metadata": {},
     "output_type": "execute_result"
    }
   ],
   "source": [
    "#make [r] a basis, not useful here\n",
    "function standardize_matroid(M)\n",
    "    Bs = bases(M)\n",
    "    \n",
    "    ref = Bs[1]\n",
    "    \n",
    "    n = length(matroid_groundset(M))\n",
    "\n",
    "    G = symmetric_group(n)\n",
    "    \n",
    "    t = vcat(ref,setdiff(1:n,ref))\n",
    "    \n",
    "    x = G(t)^(-1)\n",
    "    \n",
    "    new_Bs = [on_tuples(b,x) for b in Bs]\n",
    "    \n",
    "    new_M = matroid_from_bases(new_Bs,n)\n",
    "    \n",
    "    return new_M\n",
    "    \n",
    "end\n",
    "\n",
    "#higgs lifs of M, not useful here\n",
    "function Higgs(M)\n",
    "    \n",
    "    r = rank(M)\n",
    "    gr = matroid_groundset(M)\n",
    "    n = length(gr)\n",
    "    \n",
    "    Bs = [b for b in subsets(gr,r+1) if rank(M,b) == r]\n",
    "    \n",
    "    newM = matroid_from_bases(Bs,n)\n",
    "    \n",
    "    return newM\n",
    "    \n",
    "end\n",
    "\n",
    "\n",
    "\n",
    "#obtain bases of flag matroid of the form [i-1]\\cup{j}, (section 5.1 of Corey, Olarte)\n",
    "function flag_bases_matrix_coordinates(Bs)\n",
    "    coord_bases = [b for b in Bs if issubset(1:length(b)-1,b)]\n",
    "    inds = [[length(b),maximum(b)] for b in coord_bases if !(length(b) == maximum(b))]\n",
    "    \n",
    "    return sort(inds)\n",
    "    \n",
    "end\n",
    "\n",
    "#polynomial ring indexed by elements above.\n",
    "function make_flag_polynomial_ring(Bs::Vector{Vector{Int}}, F::AbstractAlgebra.Ring)\n",
    "    \n",
    "    MC = flag_bases_matrix_coordinates(Bs)\n",
    "    #R, x = PolynomialRing(F, :\"x\"=>MC)\n",
    "    R, x = PolynomialRing(F, length(MC))\n",
    "    xdict = Dict{Vector{Int}, MPolyElem}([MC[i] => x[i] for i in 1:length(MC)])\n",
    "    return R, x, xdict\n",
    "end\n",
    "\n",
    "#obtain flag matroid from matrix. We assume that the columns indexed by sta\n",
    "function flag_from_matrix(A)\n",
    "    \n",
    "    mats = []\n",
    "    \n",
    "    n = length(A[:,1])\n",
    "    \n",
    "    for i in 1:n\n",
    "        \n",
    "        Qi = matroid_from_matrix_columns(A[1:i,:])\n",
    "        \n",
    "        push!(mats,Qi)\n",
    "        \n",
    "    end\n",
    "    \n",
    "    return mats\n",
    "end\n",
    "\n",
    "function flag_bases(T)\n",
    "    \n",
    "    Bs = reduce(union,[bases(T[i]) for i in 1:length(T)])\n",
    "    \n",
    "    return Bs\n",
    "    \n",
    "end\n",
    "\n",
    "function flag_nonbases(T)\n",
    "    \n",
    "    Bs = reduce(union,[nonbases(T[i]) for i in 1:length(T)])\n",
    "    \n",
    "    return Bs\n",
    "    \n",
    "end\n",
    "\n",
    "function flag_var_matrix(T,F,Ring,dict)\n",
    "    \n",
    "    Bs = flag_bases(T)\n",
    "    \n",
    "   # Ring,x,dict = make_flag_polynomial_ring(Bs::Vector{Vector{Int}}, F::AbstractAlgebra.Ring)\n",
    "    \n",
    "    n = length(matroid_groundset(T[1]))\n",
    "    \n",
    "    r = maximum([rank(t) for t in T])\n",
    "    \n",
    "    X = MatrixSpace(Ring,r,n)\n",
    "    \n",
    "    XX = X(0)\n",
    "    \n",
    "    dict_keys = Vector([key for key in keys(dict)])\n",
    "    \n",
    "    for k in dict_keys\n",
    "        XX[k[1],k[2]] = dict[[k[1],k[2]]]\n",
    "    end\n",
    "    \n",
    "    for i in 1:r\n",
    "        \n",
    "        XX[i,i] = 1\n",
    "        \n",
    "    end\n",
    "    \n",
    "    return XX\n",
    "    \n",
    "end\n",
    "\n",
    "#function data_gens(X,Bs)\n",
    "    \n",
    "  #  data = unique([det(X[1:length(b),b]) for b in Bs])\n",
    "    \n",
    " #   return data\n",
    "#end\n",
    "\n",
    "\n",
    "function data_gens(X,Bs)\n",
    "    \n",
    "    data = []\n",
    "    \n",
    "    for b in Bs\n",
    "        \n",
    "        t = det(X[1:length(b),b])\n",
    "        \n",
    "        if !(-t in data)\n",
    "                \n",
    "                push!(data,t)\n",
    "                    \n",
    "         end\n",
    "                \n",
    "     end\n",
    "            \n",
    "        return unique(data)\n",
    "            \n",
    "end\n",
    "\n",
    "#function to produce statrum data from flag matroid. We assume that the \n",
    "#sandard flag ([i] is a constituent) is a flag basis\n",
    "    \n",
    "function flag_stratum_data(T,F)\n",
    "    \n",
    "    Bs = flag_bases(T)\n",
    "    nBs = flag_nonbases(T)\n",
    "    \n",
    "    R,x,dict = make_flag_polynomial_ring(Bs,F)\n",
    "    \n",
    "    X = flag_var_matrix(T,F,R,dict)\n",
    "    \n",
    "    Igens = data_gens(X,nBs)\n",
    "    \n",
    "    Sgens = data_gens(X,Bs)\n",
    "    \n",
    "    return (Igens, Sgens, R,x,dict,X)\n",
    "end"
   ]
  },
  {
   "cell_type": "code",
   "execution_count": null,
   "metadata": {},
   "outputs": [],
   "source": [
    "#reproduce example 5.2 in  Corey, Olarte"
   ]
  },
  {
   "cell_type": "code",
   "execution_count": 4,
   "metadata": {},
   "outputs": [
    {
     "data": {
      "text/plain": [
       "flag_stratum_data (generic function with 1 method)"
      ]
     },
     "execution_count": 4,
     "metadata": {},
     "output_type": "execute_result"
    }
   ],
   "source": [
    "m1 = matroid_from_bases([[1],[2],[4]],4)\n",
    "m2 = matroid_from_bases([[1,2],[2,4]],4)\n",
    "m3 = matroid_from_bases([[1,2,3],[1,2,4],[2,3,4]],4)\n",
    "m4 = matroid_from_bases([[1,2,3,4]],4)\n",
    "\n",
    "M1 = [m1,m2,m3,m4]\n",
    "\n",
    "flag_stratum_data"
   ]
  },
  {
   "cell_type": "code",
   "execution_count": 5,
   "metadata": {},
   "outputs": [
    {
     "data": {
      "text/plain": [
       "[1   x1   0   x2]\n",
       "[0    1   0    0]\n",
       "[0    0   1   x3]\n",
       "[0    0   0    1]"
      ]
     },
     "execution_count": 5,
     "metadata": {},
     "output_type": "execute_result"
    }
   ],
   "source": [
    "dat1 = flag_stratum_data(M1,QQ)\n",
    "dat1[6]#matrix"
   ]
  },
  {
   "cell_type": "code",
   "execution_count": 6,
   "metadata": {},
   "outputs": [
    {
     "data": {
      "text/plain": [
       "1-element Vector{Any}:\n",
       " 0"
      ]
     },
     "execution_count": 6,
     "metadata": {},
     "output_type": "execute_result"
    }
   ],
   "source": [
    "dat1[1]#ideal gens"
   ]
  },
  {
   "cell_type": "code",
   "execution_count": 7,
   "metadata": {},
   "outputs": [
    {
     "data": {
      "text/plain": [
       "4-element Vector{Any}:\n",
       " 1\n",
       " x1\n",
       " x2\n",
       " x3"
      ]
     },
     "execution_count": 7,
     "metadata": {},
     "output_type": "execute_result"
    }
   ],
   "source": [
    "dat1[2]#semigroup gens"
   ]
  },
  {
   "cell_type": "code",
   "execution_count": 72,
   "metadata": {},
   "outputs": [],
   "source": [
    "#construct singular flag matroid stratum. \n",
    "#We start with a realization of the matroid in the paper. \n",
    "#This realization corresponds to a singular point in the realization space."
   ]
  },
  {
   "cell_type": "code",
   "execution_count": 10,
   "metadata": {},
   "outputs": [
    {
     "data": {
      "text/plain": [
       "[1   0   0   1   1   1   -1//2*a1*a2 - 1//2                    1                    1      -1//3*a1*a2 + 1   -1//2*a1*a2 - 1//2      -1//3*a1*a2 + 1]\n",
       "[0   1   0   1   0   1                    0   -1//2*a1*a2 + 1//2   -1//2*a1*a2 + 1//2   -1//2*a1*a2 + 1//2   -1//6*a1*a2 - 1//2   -1//2*a1*a2 + 1//2]\n",
       "[0   0   1   1   1   0   -1//2*a1*a2 + 1//2                    0                    1    1//6*a1*a2 + 1//2   -1//2*a1*a2 + 1//2                    1]\n",
       "[0   0   0   1   0   0                    0                    0                    0                    0                    0                    0]\n",
       "[0   0   0   0   1   0                    0                    0                    0                    0                    0                    0]\n",
       "[0   0   0   0   0   1                    0                    0                    0                    0                    0                    0]\n",
       "[0   0   0   0   0   0                    1                    0                    0                    0                    0                    0]\n",
       "[0   0   0   0   0   0                    0                    1                    0                    0                    0                    0]\n",
       "[0   0   0   0   0   0                    0                    0                    1                    0                    0                    0]\n",
       "[0   0   0   0   0   0                    0                    0                    0                    1                    0                    0]\n",
       "[0   0   0   0   0   0                    0                    0                    0                    0                    1                    0]\n",
       "[0   0   0   0   0   0                    0                    0                    0                    0                    0                    1]"
      ]
     },
     "execution_count": 10,
     "metadata": {},
     "output_type": "execute_result"
    }
   ],
   "source": [
    "#matroid with singular TSC in paper\n",
    "NB = [[1,2,6],[1,2,8],[1,3,5],[1,3,7],[1,5,7],\n",
    "      [1,6,8],[1,9,12],[2,4,5],[2,4,9],[2,5,9],\n",
    "      [2,6,8],[2,7,11],[3,4,6],[3,5,7],[3,8,9],\n",
    "      [3,10,12],[4,5,9],[4,7,8],[4,10,11],[5,6,10],\n",
    "      [8,11,12]]\n",
    "\n",
    "Q = matroid_from_nonbases(NB, 12)\n",
    "\n",
    "MR2 = reduce_ideal_full(new_matroid_realization_space(Q,[1,2,3,4];F =QQ,saturate = true))\n",
    "\n",
    "X = MR2.representation_matrix\n",
    "#setup \n",
    "Qs, s = QQ[\"s\"];\n",
    "K, (i, r3) = number_field([s^2 + 1, s^2 - 3], \"a\") # i = sqrt(-1) and r3 = sqrt(3)\n",
    "\n",
    "R_og = MR2.ambient_ring\n",
    "R, (x,y) = K[\"x\", \"y\"]\n",
    "phi = hom(R_og, R, a->a,  [x,y])\n",
    "U = phi.(MR2.inequations);\n",
    "X = phi.(MR2.representation_matrix)\n",
    "\n",
    "q1 = [(3-i*r3)//3, (1-i*r3)//2]\n",
    "q2 = [(3+i*r3)//3, (1+i*r3)//2]\n",
    "\n",
    "\n",
    "A3 = matrix(R,[evaluate(X[i,j],q1) for i in 1:3, j in 1:12])#realization of matroid\n",
    "\n",
    "I = identity_matrix(R,12)#\n",
    "\n",
    "Acat = vcat(A3,I[4:12,:])#this matrix corrsponds to a full flag of subspaces in FL(12)."
   ]
  },
  {
   "cell_type": "code",
   "execution_count": 11,
   "metadata": {},
   "outputs": [
    {
     "data": {
      "text/plain": [
       "(Any[0, x1*x11 - x3*x10, x5*x13 - x6*x12, x7*x16 - x9*x14, x13*x23 - x16*x20, -x1*x18 + x2*x17, -x1*x20 + x6*x17, -x2*x20 + x6*x18, -x4*x22 + x8*x19, -x1*x13*x18 - x2*x10*x20 + x2*x13*x17 + x6*x10*x18, -x1*x12*x19 + x4*x12*x17 + x5*x10*x19, x1*x14*x22 - x1*x15*x21 - x7*x10*x22 + x7*x15*x17 + x8*x10*x21 - x8*x14*x17, x2*x11*x21 + x3*x14*x18 - x7*x11*x18, x5*x15*x23 - x5*x16*x22 - x8*x12*x23 + x9*x12*x22], Any[1, x1, x2, x3, x4, x5, x6, x7, x8, x9  …  -x1*x19 + x4*x17, x19, -x11*x18, x3*x18, -x1*x11*x18 + x2*x11*x17 + x3*x10*x18, -x11*x17, x3*x17, x10*x18, x18, x17], Multivariate polynomial ring in 23 variables over non-simple number field, AbstractAlgebra.Generic.MPoly{NfAbsNSElem}[x1, x2, x3, x4, x5, x6, x7, x8, x9, x10  …  x14, x15, x16, x17, x18, x19, x20, x21, x22, x23], Dict{Vector{Int64}, MPolyRingElem}([3, 10] => x21, [1, 8] => x5, [1, 6] => x3, [3, 5] => x18, [1, 11] => x8, [2, 12] => x16, [1, 9] => x6, [2, 8] => x12, [3, 12] => x23, [2, 6] => x11…), [1 0 0 x1 x2 x3 x4 x5 x6 x7 x8 x9; 0 1 0 x10 0 x11 0 x12 x13 x14 x15 x16; 0 0 1 x17 x18 0 x19 0 x20 x21 x22 x23; 0 0 0 1 0 0 0 0 0 0 0 0; 0 0 0 0 1 0 0 0 0 0 0 0; 0 0 0 0 0 1 0 0 0 0 0 0; 0 0 0 0 0 0 1 0 0 0 0 0; 0 0 0 0 0 0 0 1 0 0 0 0; 0 0 0 0 0 0 0 0 1 0 0 0; 0 0 0 0 0 0 0 0 0 1 0 0; 0 0 0 0 0 0 0 0 0 0 1 0; 0 0 0 0 0 0 0 0 0 0 0 1])"
      ]
     },
     "execution_count": 11,
     "metadata": {},
     "output_type": "execute_result"
    }
   ],
   "source": [
    "Tcat = flag_from_matrix(Acat)\n",
    "FScat = flag_stratum_data(Tcat,K)"
   ]
  },
  {
   "cell_type": "code",
   "execution_count": 13,
   "metadata": {},
   "outputs": [
    {
     "data": {
      "text/plain": [
       "(AbstractAlgebra.Generic.MPoly{NfAbsNSElem}[x10^4*x22*x23^3 + x10^3*x15*x17*x23^3 - 2*x10^3*x16*x17*x22*x23^2 + 2*x10^2*x16^2*x17^2*x22*x23 - x10*x16^3*x17^3*x22 + x15*x16^3*x17^4], AbstractAlgebra.Generic.MPoly{NfAbsNSElem}[x16, x8, x17, x20, x11, x10, x18, x19, x12, x10*x22 - x15*x17  …  x10^4*x22^2*x23^2 - x10^3*x15*x17*x22*x23^2 + 2*x10^2*x15*x16*x17^2*x22*x23 - x10*x15*x16^2*x17^3*x22 + x15^2*x16^2*x17^4, x10*x23 - a1*x16*x17, x10*x23 + a1*x16*x17, x10^4*x22*x23^3 - 2*x10^3*x16*x17*x22*x23^2 + 2*x10^2*x16^2*x17^2*x22*x23 - x10*x16^3*x17^3*x22 + x15*x16^3*x17^4, x10^3*x22*x23^2 - x10^2*x16*x17*x22*x23 + 1//2*x10*x16^2*x17^2*x22 - 1//2*x15*x16^2*x17^3, x10^4*x22*x23^3 - x10^3*x16*x17*x22*x23^2 + x10^2*x16^2*x17^2*x22*x23 - x10*x16^3*x17^3*x22 + x15*x16^3*x17^4, x10^2*x22*x23^2 + x15*x16*x17^2*x23 - x16^2*x17^2*x22, x10*x22 + x15*x17, x10^3*x22*x23^2 - x10^2*x16*x17*x22*x23 - x15*x16^2*x17^3, x10*x23 + x16*x17], Multivariate polynomial ring in 23 variables over non-simple number field, AbstractAlgebra.Generic.MPoly{NfAbsNSElem}[x1, x2, x3, x4, x5, x6, x7, x8, x9, x10  …  x14, x15, x16, x17, x18, x19, x20, x21, x22, x23], true)"
      ]
     },
     "execution_count": 13,
     "metadata": {},
     "output_type": "execute_result"
    }
   ],
   "source": [
    "redcat = reduce_ideal_full(FScat[1],FScat[2],FScat[3],FScat[4],false)"
   ]
  },
  {
   "cell_type": "code",
   "execution_count": 14,
   "metadata": {},
   "outputs": [
    {
     "data": {
      "text/plain": [
       "ideal(x10^4*x22*x23^3 + x10^3*x15*x17*x23^3 - 2*x10^3*x16*x17*x22*x23^2 + 2*x10^2*x16^2*x17^2*x22*x23 - x10*x16^3*x17^3*x22 + x15*x16^3*x17^4)"
      ]
     },
     "execution_count": 14,
     "metadata": {},
     "output_type": "execute_result"
    }
   ],
   "source": [
    "Icat = ideal(redcat[3],redcat[1])#note this is a principle ideal."
   ]
  },
  {
   "cell_type": "code",
   "execution_count": 16,
   "metadata": {},
   "outputs": [
    {
     "data": {
      "text/plain": [
       "ideal(x10^4*x22*x23^3 + x10^3*x15*x17*x23^3 - 2*x10^3*x16*x17*x22*x23^2 + 2*x10^2*x16^2*x17^2*x22*x23 - x10*x16^3*x17^3*x22 + x15*x16^3*x17^4)"
      ]
     },
     "execution_count": 16,
     "metadata": {},
     "output_type": "execute_result"
    }
   ],
   "source": [
    "satcat = stepwise_saturation(Icat,redcat[2])#check saturation. "
   ]
  },
  {
   "cell_type": "code",
   "execution_count": 17,
   "metadata": {},
   "outputs": [
    {
     "data": {
      "text/plain": [
       "true"
      ]
     },
     "execution_count": 17,
     "metadata": {},
     "output_type": "execute_result"
    }
   ],
   "source": [
    "Icat == satcat"
   ]
  },
  {
   "cell_type": "code",
   "execution_count": 18,
   "metadata": {},
   "outputs": [
    {
     "data": {
      "text/plain": [
       "Dict{AbstractAlgebra.Generic.MPoly{NfAbsNSElem}, Int64} with 3 entries:\n",
       "  x10^2*x22*x23 + x10*x15*x17*x23 - x10*x16*x17*x22 + x15*x16*x17^2 => 1\n",
       "  x10*x23 + (1//2*a1*a2 - 1//2)*x16*x17                             => 1\n",
       "  x10*x23 + (-1//2*a1*a2 - 1//2)*x16*x17                            => 1"
      ]
     },
     "execution_count": 18,
     "metadata": {},
     "output_type": "execute_result"
    }
   ],
   "source": [
    "#generator of ideal factors \n",
    "Dict(factor(redcat[1][1]))"
   ]
  },
  {
   "cell_type": "code",
   "execution_count": 20,
   "metadata": {},
   "outputs": [
    {
     "data": {
      "text/plain": [
       "ideal(x10^4*x22*x23^3 + x10^3*x15*x17*x23^3 - 2*x10^3*x16*x17*x22*x23^2 + 2*x10^2*x16^2*x17^2*x22*x23 - x10*x16^3*x17^3*x22 + x15*x16^3*x17^4, 4*x10^3*x22*x23^3 + 3*x10^2*x15*x17*x23^3 - 6*x10^2*x16*x17*x22*x23^2 + 4*x10*x16^2*x17^2*x22*x23 - x16^3*x17^3*x22, x10^3*x17*x23^3 + x16^3*x17^4, -2*x10^3*x17*x22*x23^2 + 4*x10^2*x16*x17^2*x22*x23 - 3*x10*x16^2*x17^3*x22 + 3*x15*x16^2*x17^4, x10^3*x15*x23^3 - 2*x10^3*x16*x22*x23^2 + 4*x10^2*x16^2*x17*x22*x23 - 3*x10*x16^3*x17^2*x22 + 4*x15*x16^3*x17^3, x10^4*x23^3 - 2*x10^3*x16*x17*x23^2 + 2*x10^2*x16^2*x17^2*x23 - x10*x16^3*x17^3, 3*x10^4*x22*x23^2 + 3*x10^3*x15*x17*x23^2 - 4*x10^3*x16*x17*x22*x23 + 2*x10^2*x16^2*x17^2*x22)"
      ]
     },
     "execution_count": 20,
     "metadata": {},
     "output_type": "execute_result"
    }
   ],
   "source": [
    "JJ = ideal(redcat[3],redcat[1])+ideal(redcat[3],[derivative(redcat[1][1],i) for i in 1:length(redcat[4])])"
   ]
  },
  {
   "cell_type": "code",
   "execution_count": 21,
   "metadata": {},
   "outputs": [
    {
     "data": {
      "text/plain": [
       "false"
      ]
     },
     "execution_count": 21,
     "metadata": {},
     "output_type": "execute_result"
    }
   ],
   "source": [
    "isone(JJ)"
   ]
  },
  {
   "cell_type": "markdown",
   "metadata": {},
   "source": [
    "The potential issue with using the above is that the kth constituent has k-3 coloops. Maybe this this doesn't matter if the matroid polytope is full dim. If we can use this, I think its the best since it could let us reduce the case to studying the first 3 constituents."
   ]
  },
  {
   "cell_type": "code",
   "execution_count": null,
   "metadata": {},
   "outputs": [],
   "source": []
  },
  {
   "cell_type": "code",
   "execution_count": 24,
   "metadata": {},
   "outputs": [
    {
     "data": {
      "text/plain": [
       "[1   0   0   1   1   1   -1//2*a1*a2 - 1//2                    1                    1      -1//3*a1*a2 + 1   -1//2*a1*a2 - 1//2      -1//3*a1*a2 + 1]\n",
       "[0   1   0   1   0   1                    0   -1//2*a1*a2 + 1//2   -1//2*a1*a2 + 1//2   -1//2*a1*a2 + 1//2   -1//6*a1*a2 - 1//2   -1//2*a1*a2 + 1//2]\n",
       "[0   0   1   1   1   0   -1//2*a1*a2 + 1//2                    0                    1    1//6*a1*a2 + 1//2   -1//2*a1*a2 + 1//2                    1]\n",
       "[0   0   0   1   0   1                    0                    0                    0                    0                    0                    0]\n",
       "[0   0   0   0   1   0                    0                    1                    0                    0                    0                    0]\n",
       "[0   0   0   0   0   1                    0                    0                    1                    0                    0                    0]\n",
       "[0   0   0   0   0   0                    1                    0                    0                    1                    0                    0]\n",
       "[0   0   0   0   0   0                    0                    1                    0                    0                    1                    0]\n",
       "[0   0   0   0   0   0                    0                    0                    1                    0                    0                    1]\n",
       "[0   0   0   0   0   0                    0                    0                    0                    1                    1                    0]\n",
       "[0   0   0   0   0   0                    0                    0                    0                    0                    1                    0]\n",
       "[0   0   0   0   0   0                    0                    0                    0                    0                    0                    1]"
      ]
     },
     "execution_count": 24,
     "metadata": {},
     "output_type": "execute_result"
    }
   ],
   "source": [
    "#additional flag with slightly more interesting matroid\n",
    "\n",
    "Acat2 = Acat\n",
    "\n",
    "Acat2[4,6]=1\n",
    "Acat2[5,8] = 1\n",
    "Acat2[6,9] =1\n",
    "Acat2[7,10] = 1\n",
    "Acat2[8,11] =1\n",
    "Acat2[9,12] = 1\n",
    "Acat2[10,11] =1\n"
   ]
  },
  {
   "cell_type": "code",
   "execution_count": 25,
   "metadata": {},
   "outputs": [
    {
     "name": "stdout",
     "output_type": "stream",
     "text": [
      "[1 0 0 1 1 1 -1//2*a1*a2-1//2 1 1 -1//3*a1*a2+1 -1//2*a1*a2-1//2 -1//3*a1*a2+1]\n",
      "[0 1 0 1 0 1 0 -1//2*a1*a2+1//2 -1//2*a1*a2+1//2 -1//2*a1*a2+1//2 -1//6*a1*a2-1//2 -1//2*a1*a2+1//2]\n",
      "[0 0 1 1 1 0 -1//2*a1*a2+1//2 0 1 1//6*a1*a2+1//2 -1//2*a1*a2+1//2 1]\n",
      "[0 0 0 1 0 1 0 0 0 0 0 0]\n",
      "[0 0 0 0 1 0 0 1 0 0 0 0]\n",
      "[0 0 0 0 0 1 0 0 1 0 0 0]\n",
      "[0 0 0 0 0 0 1 0 0 1 0 0]\n",
      "[0 0 0 0 0 0 0 1 0 0 1 0]\n",
      "[0 0 0 0 0 0 0 0 1 0 0 1]\n",
      "[0 0 0 0 0 0 0 0 0 1 1 0]\n",
      "[0 0 0 0 0 0 0 0 0 0 1 0]\n",
      "[0 0 0 0 0 0 0 0 0 0 0 1]\n"
     ]
    }
   ],
   "source": [
    "for i in 1:12\n",
    "    print(Acat2[i,:],\"\\n\")\n",
    "    end"
   ]
  },
  {
   "cell_type": "code",
   "execution_count": 27,
   "metadata": {
    "scrolled": true
   },
   "outputs": [
    {
     "data": {
      "text/plain": [
       "(Any[0, x1*x11 - x3*x10, x5*x13 - x6*x12, x7*x16 - x9*x14, x13*x23 - x16*x20, -x1*x18 + x2*x17, -x1*x20 + x6*x17, -x2*x20 + x6*x18, -x4*x22 + x8*x19, -x1*x13*x18 - x2*x10*x20 + x2*x13*x17 + x6*x10*x18  …  -x2*x25*x26*x27 + x5*x26*x27, x2*x24*x25*x26*x27 - x5*x24*x26*x27, x10*x24*x26*x29 - x11*x26*x29 + x13*x29 - x16, -x10*x24*x26*x28*x29 + x11*x26*x28*x29 - x13*x28*x29 + x16*x28, x10*x24*x26*x27*x29 - x11*x26*x27*x29 + x13*x27*x29 - x16*x27, x10*x24*x26*x27*x28*x29 - x11*x26*x27*x28*x29 + x13*x27*x28*x29 - x16*x27*x28, -x10*x24*x25*x26*x28*x29 + x11*x25*x26*x28*x29 - x13*x25*x28*x29 + x16*x25*x28, -x10*x24*x25*x26*x27*x28*x29 + x11*x25*x26*x27*x28*x29 - x13*x25*x27*x28*x29 + x16*x25*x27*x28, -x10*x24*x26*x29*x30 + x11*x26*x29*x30 - x13*x29*x30 + x16*x30, -x10*x24*x26*x27*x29*x30 + x11*x26*x27*x29*x30 - x13*x27*x29*x30 + x16*x27*x30], Any[1, x1, x2, x3, x4, x5, x6, x7, x8, x9  …  x1*x24*x26*x29*x30 - x3*x26*x29*x30 + x6*x29*x30 - x9*x30, x17*x24*x26*x29*x30 + x20*x29*x30 - x23*x30, x24*x26*x29*x30, -x26*x29*x30, -x29*x30, -x12*x28 - x14*x30 + x15, -x2*x25*x28 - x4*x27*x30 + x5*x28 + x7*x30 - x8, -x18*x25*x28 - x19*x27*x30 + x21*x30 - x22, x27*x30, x30], Multivariate polynomial ring in 30 variables over non-simple number field, AbstractAlgebra.Generic.MPoly{NfAbsNSElem}[x1, x2, x3, x4, x5, x6, x7, x8, x9, x10  …  x21, x22, x23, x24, x25, x26, x27, x28, x29, x30], Dict{Vector{Int64}, MPolyRingElem}([3, 10] => x21, [1, 8] => x5, [6, 9] => x26, [1, 6] => x3, [3, 5] => x18, [1, 11] => x8, [2, 12] => x16, [1, 9] => x6, [2, 8] => x12, [3, 12] => x23…), [1 0 0 x1 x2 x3 x4 x5 x6 x7 x8 x9; 0 1 0 x10 0 x11 0 x12 x13 x14 x15 x16; 0 0 1 x17 x18 0 x19 0 x20 x21 x22 x23; 0 0 0 1 0 x24 0 0 0 0 0 0; 0 0 0 0 1 0 0 x25 0 0 0 0; 0 0 0 0 0 1 0 0 x26 0 0 0; 0 0 0 0 0 0 1 0 0 x27 0 0; 0 0 0 0 0 0 0 1 0 0 x28 0; 0 0 0 0 0 0 0 0 1 0 0 x29; 0 0 0 0 0 0 0 0 0 1 x30 0; 0 0 0 0 0 0 0 0 0 0 1 0; 0 0 0 0 0 0 0 0 0 0 0 1])"
      ]
     },
     "execution_count": 27,
     "metadata": {},
     "output_type": "execute_result"
    }
   ],
   "source": [
    "T = flag_from_matrix(Acat2)\n",
    "FS = flag_stratum_data(T,K)"
   ]
  },
  {
   "cell_type": "code",
   "execution_count": 28,
   "metadata": {},
   "outputs": [
    {
     "data": {
      "text/plain": [
       "(Any[0, x1*x11 - x3*x10, x5*x13 - x6*x12, x7*x16 - x9*x14, x13*x23 - x16*x20, -x1*x18 + x2*x17, -x1*x20 + x6*x17, -x2*x20 + x6*x18, -x4*x22 + x8*x19, -x1*x13*x18 - x2*x10*x20 + x2*x13*x17 + x6*x10*x18  …  -x2*x25*x26*x27 + x5*x26*x27, x2*x24*x25*x26*x27 - x5*x24*x26*x27, x10*x24*x26*x29 - x11*x26*x29 + x13*x29 - x16, -x10*x24*x26*x28*x29 + x11*x26*x28*x29 - x13*x28*x29 + x16*x28, x10*x24*x26*x27*x29 - x11*x26*x27*x29 + x13*x27*x29 - x16*x27, x10*x24*x26*x27*x28*x29 - x11*x26*x27*x28*x29 + x13*x27*x28*x29 - x16*x27*x28, -x10*x24*x25*x26*x28*x29 + x11*x25*x26*x28*x29 - x13*x25*x28*x29 + x16*x25*x28, -x10*x24*x25*x26*x27*x28*x29 + x11*x25*x26*x27*x28*x29 - x13*x25*x27*x28*x29 + x16*x25*x27*x28, -x10*x24*x26*x29*x30 + x11*x26*x29*x30 - x13*x29*x30 + x16*x30, -x10*x24*x26*x27*x29*x30 + x11*x26*x27*x29*x30 - x13*x27*x29*x30 + x16*x27*x30], Any[1, x1, x2, x3, x4, x5, x6, x7, x8, x9  …  x1*x24*x26*x29*x30 - x3*x26*x29*x30 + x6*x29*x30 - x9*x30, x17*x24*x26*x29*x30 + x20*x29*x30 - x23*x30, x24*x26*x29*x30, -x26*x29*x30, -x29*x30, -x12*x28 - x14*x30 + x15, -x2*x25*x28 - x4*x27*x30 + x5*x28 + x7*x30 - x8, -x18*x25*x28 - x19*x27*x30 + x21*x30 - x22, x27*x30, x30], Multivariate polynomial ring in 30 variables over non-simple number field, AbstractAlgebra.Generic.MPoly{NfAbsNSElem}[x1, x2, x3, x4, x5, x6, x7, x8, x9, x10  …  x21, x22, x23, x24, x25, x26, x27, x28, x29, x30], Dict{Vector{Int64}, MPolyRingElem}([3, 10] => x21, [1, 8] => x5, [6, 9] => x26, [1, 6] => x3, [3, 5] => x18, [1, 11] => x8, [2, 12] => x16, [1, 9] => x6, [2, 8] => x12, [3, 12] => x23…), [1 0 0 x1 x2 x3 x4 x5 x6 x7 x8 x9; 0 1 0 x10 0 x11 0 x12 x13 x14 x15 x16; 0 0 1 x17 x18 0 x19 0 x20 x21 x22 x23; 0 0 0 1 0 x24 0 0 0 0 0 0; 0 0 0 0 1 0 0 x25 0 0 0 0; 0 0 0 0 0 1 0 0 x26 0 0 0; 0 0 0 0 0 0 1 0 0 x27 0 0; 0 0 0 0 0 0 0 1 0 0 x28 0; 0 0 0 0 0 0 0 0 1 0 0 x29; 0 0 0 0 0 0 0 0 0 1 x30 0; 0 0 0 0 0 0 0 0 0 0 1 0; 0 0 0 0 0 0 0 0 0 0 0 1])"
      ]
     },
     "execution_count": 28,
     "metadata": {},
     "output_type": "execute_result"
    }
   ],
   "source": [
    "FS2 = flag_stratum_data(T,K)"
   ]
  },
  {
   "cell_type": "code",
   "execution_count": 29,
   "metadata": {},
   "outputs": [
    {
     "data": {
      "text/plain": [
       "74-element Vector{Any}:\n",
       " 0\n",
       " x1*x11 - x3*x10\n",
       " x5*x13 - x6*x12\n",
       " x7*x16 - x9*x14\n",
       " x13*x23 - x16*x20\n",
       " -x1*x18 + x2*x17\n",
       " -x1*x20 + x6*x17\n",
       " -x2*x20 + x6*x18\n",
       " -x4*x22 + x8*x19\n",
       " -x1*x13*x18 - x2*x10*x20 + x2*x13*x17 + x6*x10*x18\n",
       " -x1*x12*x19 + x4*x12*x17 + x5*x10*x19\n",
       " x1*x14*x22 - x1*x15*x21 - x7*x10*x22 + x7*x15*x17 + x8*x10*x21 - x8*x14*x17\n",
       " x2*x11*x21 + x3*x14*x18 - x7*x11*x18\n",
       " ⋮\n",
       " x7*x16*x24*x25*x26 - x9*x14*x24*x25*x26\n",
       " x2*x25*x27 - x5*x27\n",
       " -x2*x25*x26*x27 + x5*x26*x27\n",
       " x2*x24*x25*x26*x27 - x5*x24*x26*x27\n",
       " x10*x24*x26*x29 - x11*x26*x29 + x13*x29 - x16\n",
       " -x10*x24*x26*x28*x29 + x11*x26*x28*x29 - x13*x28*x29 + x16*x28\n",
       " x10*x24*x26*x27*x29 - x11*x26*x27*x29 + x13*x27*x29 - x16*x27\n",
       " x10*x24*x26*x27*x28*x29 - x11*x26*x27*x28*x29 + x13*x27*x28*x29 - x16*x27*x28\n",
       " -x10*x24*x25*x26*x28*x29 + x11*x25*x26*x28*x29 - x13*x25*x28*x29 + x16*x25*x28\n",
       " -x10*x24*x25*x26*x27*x28*x29 + x11*x25*x26*x27*x28*x29 - x13*x25*x27*x28*x29 + x16*x25*x27*x28\n",
       " -x10*x24*x26*x29*x30 + x11*x26*x29*x30 - x13*x29*x30 + x16*x30\n",
       " -x10*x24*x26*x27*x29*x30 + x11*x26*x27*x29*x30 - x13*x27*x29*x30 + x16*x27*x30"
      ]
     },
     "execution_count": 29,
     "metadata": {},
     "output_type": "execute_result"
    }
   ],
   "source": [
    "FS2[1]"
   ]
  },
  {
   "cell_type": "code",
   "execution_count": 31,
   "metadata": {},
   "outputs": [
    {
     "data": {
      "text/plain": [
       "(AbstractAlgebra.Generic.MPoly{NfAbsNSElem}[x11^4*x18^3*x22*x25^3 - 2*x11^3*x12*x17*x18^2*x22*x24*x25^2 + x11^3*x15*x17*x18^3*x24*x25^3 + 2*x11^2*x12^2*x17^2*x18*x22*x24^2*x25 - x11*x12^3*x17^3*x22*x24^3 + x12^3*x15*x17^4*x24^4], AbstractAlgebra.Generic.MPoly{NfAbsNSElem}[x11, x17, x8, x12, x23, x18, x19, x11*x22 - x15*x17*x24, x11^2*x18*x22*x25 - 1//2*x11*x12*x17*x22*x24 + 1//2*x12*x15*x17^2*x24^2, x21  …  x18*x25*x28 + x22, x29, x11^7*x18^4*x21*x22^3*x25^4*x26*x29 - x11^6*x12*x17*x18^4*x19*x22^2*x24*x25^4*x26*x27*x28*x29 - x11^6*x12*x17*x18^3*x21*x22^3*x24*x25^3*x26*x29 + x11^6*x12*x18^4*x21*x22^2*x23*x25^4*x28 + x11^6*x12*x18^3*x21*x22^3*x23*x25^3 + x11^6*x15*x17*x18^4*x19*x22^2*x24*x25^4*x26*x27*x29 + 2*x11^5*x12^2*x17^2*x18^3*x19*x22^2*x24^2*x25^3*x26*x27*x28*x29 - 2*x11^5*x12^2*x17^2*x18^3*x21*x22^2*x24^2*x25^3*x26*x28*x29 - x11^5*x12^2*x17*x18^3*x19*x22^2*x23*x24*x25^3*x27*x28 - x11^5*x12^2*x17*x18^3*x21*x22^2*x23*x24*x25^3*x28 - 2*x11^5*x12^2*x17*x18^2*x21*x22^3*x23*x24*x25^2 - 2*x11^5*x12*x15*x17^2*x18^3*x19*x22^2*x24^2*x25^3*x26*x27*x29 + 2*x11^5*x12*x15*x17^2*x18^3*x21*x22^2*x24^2*x25^3*x26*x29 + x11^5*x12*x15*x17*x18^3*x19*x22^2*x23*x24*x25^3*x27 - x11^5*x12*x15*x17*x18^3*x21*x22^2*x23*x24*x25^3 - x11^4*x12^3*x17^3*x18^2*x19*x22^2*x24^3*x25^2*x26*x27*x28*x29 + x11^4*x12^3*x17^3*x18^2*x21*x22^2*x24^3*x25^2*x26*x28*x29 + 3*x11^4*x12^3*x17^2*x18^2*x19*x22^2*x23*x24^2*x25^2*x27*x28 - 2*x11^4*x12^3*x17^2*x18^2*x21*x22^2*x23*x24^2*x25^2*x28 + x11^4*x12^3*x17^2*x18*x21*x22^3*x23*x24^2*x25 - x11^4*x12^2*x15*x17^3*x18^3*x19*x22*x24^3*x25^3*x26*x27*x28*x29 + x11^4*x12^2*x15*x17^3*x18^2*x19*x22^2*x24^3*x25^2*x26*x27*x29 - x11^4*x12^2*x15*x17^3*x18^2*x21*x22^2*x24^3*x25^2*x26*x29 - 3*x11^4*x12^2*x15*x17^2*x18^2*x19*x22^2*x23*x24^2*x25^2*x27 + 3*x11^4*x12^2*x15*x17^2*x18^2*x21*x22^2*x23*x24^2*x25^2 + x11^4*x12*x15^2*x17^3*x18^3*x19*x22*x24^3*x25^3*x26*x27*x29 - 3*x11^3*x12^4*x17^3*x18*x19*x22^2*x23*x24^3*x25*x27*x28 + 3*x11^3*x12^4*x17^3*x18*x21*x22^2*x23*x24^3*x25*x28 + x11^3*x12^3*x15*x17^4*x18^2*x19*x22*x24^4*x25^2*x26*x27*x28*x29 - x11^3*x12^3*x15*x17^4*x18^2*x21*x22*x24^4*x25^2*x26*x28*x29 - x11^3*x12^3*x15*x17^3*x18^2*x19*x22*x23*x24^3*x25^2*x27*x28 + 3*x11^3*x12^3*x15*x17^3*x18*x19*x22^2*x23*x24^3*x25*x27 - 4*x11^3*x12^3*x15*x17^3*x18*x21*x22^2*x23*x24^3*x25 - x11^3*x12^2*x15^2*x17^4*x18^2*x19*x22*x24^4*x25^2*x26*x27*x29 + x11^3*x12^2*x15^2*x17^4*x18^2*x21*x22*x24^4*x25^2*x26*x29 + x11^3*x12^2*x15^2*x17^3*x18^2*x19*x22*x23*x24^3*x25^2*x27 - x11^3*x12^2*x15^2*x17^3*x18^2*x21*x22*x23*x24^3*x25^2 + x11^2*x12^5*x17^4*x19*x22^2*x23*x24^4*x27*x28 - x11^2*x12^5*x17^4*x21*x22^2*x23*x24^4*x28 + 3*x11^2*x12^4*x15*x17^4*x18*x19*x22*x23*x24^4*x25*x27*x28 - 3*x11^2*x12^4*x15*x17^4*x18*x21*x22*x23*x24^4*x25*x28 - x11^2*x12^4*x15*x17^4*x19*x22^2*x23*x24^4*x27 + x11^2*x12^4*x15*x17^4*x21*x22^2*x23*x24^4 - 3*x11^2*x12^3*x15^2*x17^4*x18*x19*x22*x23*x24^4*x25*x27 + 3*x11^2*x12^3*x15^2*x17^4*x18*x21*x22*x23*x24^4*x25 - 2*x11*x12^5*x15*x17^5*x19*x22*x23*x24^5*x27*x28 + 2*x11*x12^5*x15*x17^5*x21*x22*x23*x24^5*x28 + 2*x11*x12^4*x15^2*x17^5*x19*x22*x23*x24^5*x27 - 2*x11*x12^4*x15^2*x17^5*x21*x22*x23*x24^5 + x12^5*x15^2*x17^6*x19*x23*x24^6*x27*x28 - x12^5*x15^2*x17^6*x21*x23*x24^6*x28 - x12^4*x15^3*x17^6*x19*x23*x24^6*x27 + x12^4*x15^3*x17^6*x21*x23*x24^6, x11^6*x18^4*x19*x22^2*x25^4*x26*x27*x29 - 2*x11^5*x12*x17*x18^3*x19*x22^2*x24*x25^3*x26*x27*x29 + 2*x11^5*x12*x17*x18^3*x21*x22^2*x24*x25^3*x26*x29 + x11^5*x12*x18^3*x19*x22^2*x23*x25^3*x27 - x11^5*x12*x18^3*x21*x22^2*x23*x25^3 + x11^4*x12^2*x17^2*x18^2*x19*x22^2*x24^2*x25^2*x26*x27*x29 - x11^4*x12^2*x17^2*x18^2*x21*x22^2*x24^2*x25^2*x26*x29 - 3*x11^4*x12^2*x17*x18^2*x19*x22^2*x23*x24*x25^2*x27 + 3*x11^4*x12^2*x17*x18^2*x21*x22^2*x23*x24*x25^2 + x11^4*x12*x15*x17^2*x18^3*x19*x22*x24^2*x25^3*x26*x27*x29 + 3*x11^3*x12^3*x17^2*x18*x19*x22^2*x23*x24^2*x25*x27 - 3*x11^3*x12^3*x17^2*x18*x21*x22^2*x23*x24^2*x25 - x11^3*x12^2*x15*x17^3*x18^2*x19*x22*x24^3*x25^2*x26*x27*x29 + x11^3*x12^2*x15*x17^3*x18^2*x21*x22*x24^3*x25^2*x26*x29 + x11^3*x12^2*x15*x17^2*x18^2*x19*x22*x23*x24^2*x25^2*x27 - x11^3*x12^2*x15*x17^2*x18^2*x21*x22*x23*x24^2*x25^2 - x11^2*x12^4*x17^3*x19*x22^2*x23*x24^3*x27 + x11^2*x12^4*x17^3*x21*x22^2*x23*x24^3 - 3*x11^2*x12^3*x15*x17^3*x18*x19*x22*x23*x24^3*x25*x27 + 3*x11^2*x12^3*x15*x17^3*x18*x21*x22*x23*x24^3*x25 + 2*x11*x12^4*x15*x17^4*x19*x22*x23*x24^4*x27 - 2*x11*x12^4*x15*x17^4*x21*x22*x23*x24^4 - x12^4*x15^2*x17^5*x19*x23*x24^5*x27 + x12^4*x15^2*x17^5*x21*x23*x24^5, x11^4*x18^3*x22^2*x25^3*x26*x29 - x11^3*x12*x17*x18^2*x22^2*x24*x25^2*x26*x29 + x11^3*x12*x18^3*x22*x23*x25^3*x28 + x11^3*x12*x18^2*x22^2*x23*x25^2 - 2*x11^2*x12^2*x17*x18^2*x22*x23*x24*x25^2*x28 - 2*x11^2*x12^2*x17*x18*x22^2*x23*x24*x25 + x11*x12^3*x17^2*x18*x22*x23*x24^2*x25*x28 + x11*x12^3*x17^2*x22^2*x23*x24^2 - x12^3*x15*x17^3*x18*x23*x24^3*x25*x28 - x12^3*x15*x17^3*x22*x23*x24^3, x11^3*x18*x21*x22*x25*x30 + x11^2*x12*x17*x18*x22*x24*x25*x28 - x11^2*x15*x17*x18*x22*x24*x25 - x11*x12^2*x17^2*x22*x24^2*x28 + x11*x12*x15*x17^2*x22*x24^2 + x12^2*x15*x17^3*x24^3*x28 - x12*x15^2*x17^3*x24^3, x11^6*x18^4*x19*x22^2*x25^4*x26*x27*x29*x30 + x11^6*x18^4*x22^3*x25^4*x26*x29 - 2*x11^5*x12*x17*x18^3*x19*x22^2*x24*x25^3*x26*x27*x29*x30 + 2*x11^5*x12*x17*x18^3*x21*x22^2*x24*x25^3*x26*x29*x30 - 2*x11^5*x12*x17*x18^3*x22^3*x24*x25^3*x26*x29 + x11^5*x12*x18^4*x22^2*x23*x25^4*x28 + x11^5*x12*x18^3*x19*x22^2*x23*x25^3*x27*x30 - x11^5*x12*x18^3*x21*x22^2*x23*x25^3*x30 + x11^5*x12*x18^3*x22^3*x23*x25^3 + x11^4*x12^2*x17^2*x18^2*x19*x22^2*x24^2*x25^2*x26*x27*x29*x30 - x11^4*x12^2*x17^2*x18^2*x21*x22^2*x24^2*x25^2*x26*x29*x30 + x11^4*x12^2*x17^2*x18^2*x22^3*x24^2*x25^2*x26*x29 - 3*x11^4*x12^2*x17*x18^3*x22^2*x23*x24*x25^3*x28 - 3*x11^4*x12^2*x17*x18^2*x19*x22^2*x23*x24*x25^2*x27*x30 + 3*x11^4*x12^2*x17*x18^2*x21*x22^2*x23*x24*x25^2*x30 - 3*x11^4*x12^2*x17*x18^2*x22^3*x23*x24*x25^2 + x11^4*x12*x15*x17^2*x18^3*x19*x22*x24^2*x25^3*x26*x27*x29*x30 + x11^4*x12*x15*x17^2*x18^3*x22^2*x24^2*x25^3*x26*x29 + 3*x11^3*x12^3*x17^2*x18^2*x22^2*x23*x24^2*x25^2*x28 + 3*x11^3*x12^3*x17^2*x18*x19*x22^2*x23*x24^2*x25*x27*x30 - 3*x11^3*x12^3*x17^2*x18*x21*x22^2*x23*x24^2*x25*x30 + 3*x11^3*x12^3*x17^2*x18*x22^3*x23*x24^2*x25 - x11^3*x12^2*x15*x17^3*x18^2*x19*x22*x24^3*x25^2*x26*x27*x29*x30 + x11^3*x12^2*x15*x17^3*x18^2*x21*x22*x24^3*x25^2*x26*x29*x30 - x11^3*x12^2*x15*x17^3*x18^2*x22^2*x24^3*x25^2*x26*x29 + x11^3*x12^2*x15*x17^2*x18^3*x22*x23*x24^2*x25^3*x28 + x11^3*x12^2*x15*x17^2*x18^2*x19*x22*x23*x24^2*x25^2*x27*x30 - x11^3*x12^2*x15*x17^2*x18^2*x21*x22*x23*x24^2*x25^2*x30 + x11^3*x12^2*x15*x17^2*x18^2*x22^2*x23*x24^2*x25^2 - x11^2*x12^4*x17^3*x18*x22^2*x23*x24^3*x25*x28 - x11^2*x12^4*x17^3*x19*x22^2*x23*x24^3*x27*x30 + x11^2*x12^4*x17^3*x21*x22^2*x23*x24^3*x30 - x11^2*x12^4*x17^3*x22^3*x23*x24^3 - 3*x11^2*x12^3*x15*x17^3*x18^2*x22*x23*x24^3*x25^2*x28 - 3*x11^2*x12^3*x15*x17^3*x18*x19*x22*x23*x24^3*x25*x27*x30 + 3*x11^2*x12^3*x15*x17^3*x18*x21*x22*x23*x24^3*x25*x30 - 3*x11^2*x12^3*x15*x17^3*x18*x22^2*x23*x24^3*x25 + 2*x11*x12^4*x15*x17^4*x18*x22*x23*x24^4*x25*x28 + 2*x11*x12^4*x15*x17^4*x19*x22*x23*x24^4*x27*x30 - 2*x11*x12^4*x15*x17^4*x21*x22*x23*x24^4*x30 + 2*x11*x12^4*x15*x17^4*x22^2*x23*x24^4 - x12^4*x15^2*x17^5*x18*x23*x24^5*x25*x28 - x12^4*x15^2*x17^5*x19*x23*x24^5*x27*x30 + x12^4*x15^2*x17^5*x21*x23*x24^5*x30 - x12^4*x15^2*x17^5*x22*x23*x24^5, x11^3*x18^2*x19*x22*x25^2*x27*x30 + x11^3*x18^2*x22^2*x25^2 - 2*x11^2*x12*x17*x18*x19*x22*x24*x25*x27*x30 + 2*x11^2*x12*x17*x18*x21*x22*x24*x25*x30 - 2*x11^2*x12*x17*x18*x22^2*x24*x25 + x11*x12^2*x17^2*x19*x22*x24^2*x27*x30 - x11*x12^2*x17^2*x21*x22*x24^2*x30 + x11*x12^2*x17^2*x22^2*x24^2 + x11*x12*x15*x17^2*x18*x19*x24^2*x25*x27*x30 + x11*x12*x15*x17^2*x18*x22*x24^2*x25 - x12^2*x15*x17^3*x19*x24^3*x27*x30 + x12^2*x15*x17^3*x21*x24^3*x30 - x12^2*x15*x17^3*x22*x24^3, x18*x25*x28 + x19*x27*x30 - x21*x30 + x22, x30], Multivariate polynomial ring in 30 variables over non-simple number field, AbstractAlgebra.Generic.MPoly{NfAbsNSElem}[x1, x2, x3, x4, x5, x6, x7, x8, x9, x10  …  x21, x22, x23, x24, x25, x26, x27, x28, x29, x30], true)"
      ]
     },
     "execution_count": 31,
     "metadata": {},
     "output_type": "execute_result"
    }
   ],
   "source": [
    "red = reduce_ideal_full(FS2[1],FS2[2],FS2[3],FS2[4],false)"
   ]
  },
  {
   "cell_type": "code",
   "execution_count": 32,
   "metadata": {},
   "outputs": [
    {
     "data": {
      "text/plain": [
       "Dict{AbstractAlgebra.Generic.MPoly{NfAbsNSElem}, Int64} with 3 entries:\n",
       "  x11^2*x18*x22*x25 - x11*x12*x17*x22*x24 + x11*x15*x17*x18*x24*x25 + x12*… => 1\n",
       "  x11*x18*x25 + (1//2*a1*a2 - 1//2)*x12*x17*x24                             => 1\n",
       "  x11*x18*x25 + (-1//2*a1*a2 - 1//2)*x12*x17*x24                            => 1"
      ]
     },
     "execution_count": 32,
     "metadata": {},
     "output_type": "execute_result"
    }
   ],
   "source": [
    "Dict(factor(red[1][1]))"
   ]
  },
  {
   "cell_type": "code",
   "execution_count": null,
   "metadata": {},
   "outputs": [],
   "source": []
  }
 ],
 "metadata": {
  "kernelspec": {
   "display_name": "Julia 1.7.1",
   "language": "julia",
   "name": "julia-1.7"
  },
  "language_info": {
   "file_extension": ".jl",
   "mimetype": "application/julia",
   "name": "julia",
   "version": "1.7.1"
  }
 },
 "nbformat": 4,
 "nbformat_minor": 4
}
