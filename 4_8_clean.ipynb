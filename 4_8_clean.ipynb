{
 "cells": [
  {
   "cell_type": "markdown",
   "metadata": {},
   "source": [
    "In this notebook we analyze connected rank 4 matroids on 8 elements. We develop theory that can be used to eliminate matroids from consideration. In particular, we check how many rank 3 circuits an elements are contained in."
   ]
  },
  {
   "cell_type": "code",
   "execution_count": 1,
   "metadata": {},
   "outputs": [
    {
     "name": "stdout",
     "output_type": "stream",
     "text": [
      " -----    -----    -----      -      -----   \n",
      "|     |  |     |  |     |    | |    |     |  \n",
      "|     |  |        |         |   |   |     |  \n",
      "|     |   -----   |        |     |  |-----   \n",
      "|     |        |  |        |-----|  |   |    \n",
      "|     |  |     |  |     |  |     |  |    |   \n",
      " -----    -----    -----   -     -  -     -  \n",
      "\n",
      "...combining (and extending) ANTIC, GAP, Polymake and Singular\n",
      "Version\u001b[32m 0.11.2 \u001b[39m... \n",
      " ... which comes with absolutely no warranty whatsoever\n",
      "Type: '?Oscar' for more information\n",
      "(c) 2019-2022 by The OSCAR Development Team\n"
     ]
    }
   ],
   "source": [
    "using Oscar\n",
    "using Combinatorics\n",
    "pm = Polymake\n",
    "\n",
    "include(\"matroid_realization.jl\");\n",
    "include(\"reduceIdeals.jl\")\n",
    "include(\"tscCoordRing.jl\");\n",
    "\n",
    "d4n8 = vec(readlines(\"d4n8.dat\"));"
   ]
  },
  {
   "cell_type": "code",
   "execution_count": 5,
   "metadata": {},
   "outputs": [],
   "source": [
    "connected_d4n8 = []\n",
    "for z in 1:length(d4n8)\n",
    "    Mz = matroid_from_revlex_basis_encoding(d4n8[z], 4, 8)\n",
    "    if n_connected_components(Mz) == 1\n",
    "        push!(connected_d4n8,z)\n",
    "    end\n",
    "end\n"
   ]
  },
  {
   "cell_type": "markdown",
   "metadata": {},
   "source": [
    "***Condition:*** There exists a rank 3 circuit. (I am worried this might not work anymore)"
   ]
  },
  {
   "cell_type": "code",
   "execution_count": 13,
   "metadata": {},
   "outputs": [],
   "source": [
    "c3 = []\n",
    "for z in connected_d4n8\n",
    "    Mz = matroid_from_revlex_basis_encoding(d4n8[z], 4, 8)\n",
    "    c = [t for t in circuits(Mz) if length(t) == 3]\n",
    "    if length(c)>0\n",
    "        push!(c3,z)\n",
    "    end\n",
    "end"
   ]
  },
  {
   "cell_type": "code",
   "execution_count": 14,
   "metadata": {},
   "outputs": [
    {
     "data": {
      "text/plain": [
       "271"
      ]
     },
     "execution_count": 14,
     "metadata": {},
     "output_type": "execute_result"
    }
   ],
   "source": [
    "length(c3)"
   ]
  },
  {
   "cell_type": "markdown",
   "metadata": {},
   "source": [
    "***Counting number of circuits an element is contained in.*** "
   ]
  },
  {
   "cell_type": "code",
   "execution_count": 6,
   "metadata": {},
   "outputs": [
    {
     "data": {
      "text/plain": [
       "in_lines (generic function with 1 method)"
      ]
     },
     "execution_count": 6,
     "metadata": {},
     "output_type": "execute_result"
    }
   ],
   "source": [
    "#function that counts the number of lines/hyperplanes/cirtcuits containing an element of [n]\n",
    "#for an element n, counts how many lines its in\n",
    "function in_lines(n,L)\n",
    "    xn = 0\n",
    "    for z in 1:length(L)\n",
    "        if n in L[z]\n",
    "           xn += 1 \n",
    "        end\n",
    "    end\n",
    "    return xn\n",
    "end"
   ]
  },
  {
   "cell_type": "markdown",
   "metadata": {},
   "source": [
    "***No circuits***"
   ]
  },
  {
   "cell_type": "code",
   "execution_count": 9,
   "metadata": {},
   "outputs": [],
   "source": [
    "no_planes = []\n",
    "for z in connected_d4n8\n",
    "    Mz = matroid_from_revlex_basis_encoding(d4n8[z], 4, 8)\n",
    "    L = [h for h in circuits(Mz) if length(h) == 4]\n",
    "    ns = [n for n in 1:8 if in_lines(n,L) == 0]\n",
    "    if length(ns)>0\n",
    "        push!(no_planes,z)\n",
    "    end\n",
    "end"
   ]
  },
  {
   "cell_type": "code",
   "execution_count": 12,
   "metadata": {},
   "outputs": [
    {
     "data": {
      "text/plain": [
       "101"
      ]
     },
     "execution_count": 12,
     "metadata": {},
     "output_type": "execute_result"
    }
   ],
   "source": [
    "length(no_planes)"
   ]
  },
  {
   "cell_type": "markdown",
   "metadata": {},
   "source": [
    "***One Circuit***"
   ]
  },
  {
   "cell_type": "code",
   "execution_count": 10,
   "metadata": {},
   "outputs": [],
   "source": [
    "one_planes = []\n",
    "for z in connected_d4n8\n",
    "   Mz = matroid_from_revlex_basis_encoding(d4n8[z], 4, 8)\n",
    "    L = [h for h in circuits(Mz) if length(h) == 4]\n",
    "    ns = [n for n in 1:8 if in_lines(n,L) == 1]\n",
    "    if length(ns)>0\n",
    "        push!(one_planes,z)\n",
    "    end\n",
    "end"
   ]
  },
  {
   "cell_type": "code",
   "execution_count": 11,
   "metadata": {},
   "outputs": [
    {
     "data": {
      "text/plain": [
       "174"
      ]
     },
     "execution_count": 11,
     "metadata": {},
     "output_type": "execute_result"
    }
   ],
   "source": [
    "length(one_planes)"
   ]
  },
  {
   "cell_type": "markdown",
   "metadata": {},
   "source": [
    "***Two circuits, $\\eta_1,\\eta_2$ such that there exists a basis $B$ with $\\eta_1\\setminus n\\subset B$ and $\\eta_2\\setminus\\eta_1 \\cap B\\neq\\emptyset$***"
   ]
  },
  {
   "cell_type": "code",
   "execution_count": 19,
   "metadata": {},
   "outputs": [
    {
     "data": {
      "text/plain": [
       "327"
      ]
     },
     "execution_count": 19,
     "metadata": {},
     "output_type": "execute_result"
    }
   ],
   "source": [
    "two_circs_prop = []\n",
    "for z in connected_d4n8\n",
    "    \n",
    "    Mz = matroid_from_revlex_basis_encoding(d4n8[z], 4, 8)\n",
    "    Hyps = [c for c in circuits(Mz) if length(c) == 4]\n",
    "    ns = [n for n in 1:8 if in_lines(n,Hyps) == 2]\n",
    "    \n",
    "    for n in ns\n",
    "        \n",
    "        Cn = [c for c in Hyps if n in c]\n",
    "        bn1 = [b for b in bases(Mz) if issubset(setdiff(Cn[1],[n]),b)]\n",
    "        int = [intersect(setdiff(Cn[2],[n]),b) for b in bn1]\n",
    "        if length(int)>0\n",
    "            push!(two_circs_prop,z)\n",
    "        end\n",
    "    end\n",
    "end\n",
    "two = unique(two_circs_prop)  \n",
    "length(two)"
   ]
  },
  {
   "cell_type": "markdown",
   "metadata": {},
   "source": [
    "***Condition***\n",
    "There exists an element $t$ such that $t$ is contained in 3 circuit hyperplanes \n",
    "$\\eta_1$, $\\eta_2$, $\\eta_3$, and there exists a basis $B$ such that $\\eta_1\\setminus t\\subset B$, and we have $B\\setminus\\eta_1\\subset\\eta_2, \\eta_3$, and $|\\eta_i\\cap B|>=2$ for $i \\in [3]$. "
   ]
  },
  {
   "cell_type": "code",
   "execution_count": 20,
   "metadata": {},
   "outputs": [
    {
     "data": {
      "text/plain": [
       "253"
      ]
     },
     "execution_count": 20,
     "metadata": {},
     "output_type": "execute_result"
    }
   ],
   "source": [
    "uu = []\n",
    "for z in connected_d4n8\n",
    "    Mz = matroid_from_revlex_basis_encoding(d4n8[z], 4, 8)\n",
    "    C4 = [c for c in circuits(Mz) if length(c) == 4]\n",
    "    ns = [n for n in 1:8 if in_lines(n,C4) == 3]\n",
    "    Bz = bases(Mz)\n",
    "    for n in ns\n",
    "        Cn = [setdiff(c,n) for c in C4 if n in c]\n",
    "        b1 = [b for b in Bz if issubset(Cn[1],b)]\n",
    "        b2 = [b for b in b1 if length(intersect(b,Cn[2]))>1 && issubset(setdiff(b,Cn[1]),Cn[2])]\n",
    "        b3 = [b for b in b2 if length(intersect(b,Cn[2]))>1 && !(issubset(setdiff(Cn[2],b),Cn[3]))]\n",
    "        \n",
    "        \n",
    "        if length(b3)>0 \n",
    "            push!(uu,z)\n",
    "        end\n",
    "    end\n",
    "end\n",
    "three = unique!(uu)"
   ]
  },
  {
   "cell_type": "code",
   "execution_count": 22,
   "metadata": {},
   "outputs": [
    {
     "data": {
      "text/plain": [
       "516"
      ]
     },
     "execution_count": 22,
     "metadata": {},
     "output_type": "execute_result"
    }
   ],
   "source": [
    "K = union(no_planes,one_planes,c3,two,three)\n",
    "length(K)"
   ]
  },
  {
   "cell_type": "code",
   "execution_count": 27,
   "metadata": {},
   "outputs": [
    {
     "data": {
      "text/plain": [
       "76"
      ]
     },
     "execution_count": 27,
     "metadata": {},
     "output_type": "execute_result"
    }
   ],
   "source": [
    "S = setdiff(connected_d4n8,K)\n",
    "length(S)"
   ]
  },
  {
   "cell_type": "code",
   "execution_count": 26,
   "metadata": {},
   "outputs": [
    {
     "data": {
      "text/plain": [
       "true"
      ]
     },
     "execution_count": 26,
     "metadata": {},
     "output_type": "execute_result"
    }
   ],
   "source": [
    "270 in S #connected matroid with no rank 4 circuits."
   ]
  },
  {
   "cell_type": "markdown",
   "metadata": {},
   "source": [
    "We now compute the realization spaces for the remaining matroids, excluding 270. We check whether or not the ideal reduces to the 0 ideal, is nonrealizable, or if more work is needed."
   ]
  },
  {
   "cell_type": "code",
   "execution_count": 29,
   "metadata": {},
   "outputs": [],
   "source": [
    "zero_ideal = []\n",
    "not_realizable = []\n",
    "more_needed = []\n",
    "\n",
    "for s in setdiff(setdiff(connected_d4n8,K),[270])\n",
    "    #print(s,\"\\n\")\n",
    "    Ms = matroid_from_revlex_basis_encoding(d4n8[s],4,8)\n",
    "    I = matroid_to_reduced_expression(Ms, QQ,2)\n",
    "    \n",
    "    if I[1] == [0]\n",
    "        push!(zero_ideal,s)\n",
    "        \n",
    "    elseif (1 in I[1] || -1 in I[1] || I == \"Not Realizable 0 in Semigroup\")\n",
    "        \n",
    "        push!(not_realizable,s)\n",
    "        \n",
    "    else\n",
    "        push!(more_needed,s)\n",
    "        \n",
    "    end\n",
    "end"
   ]
  },
  {
   "cell_type": "code",
   "execution_count": 30,
   "metadata": {},
   "outputs": [
    {
     "data": {
      "text/plain": [
       "41"
      ]
     },
     "execution_count": 30,
     "metadata": {},
     "output_type": "execute_result"
    }
   ],
   "source": [
    "length(zero_ideal)"
   ]
  },
  {
   "cell_type": "code",
   "execution_count": 31,
   "metadata": {},
   "outputs": [
    {
     "data": {
      "text/plain": [
       "16"
      ]
     },
     "execution_count": 31,
     "metadata": {},
     "output_type": "execute_result"
    }
   ],
   "source": [
    "length(not_realizable)"
   ]
  },
  {
   "cell_type": "code",
   "execution_count": 32,
   "metadata": {},
   "outputs": [
    {
     "data": {
      "text/plain": [
       "18"
      ]
     },
     "execution_count": 32,
     "metadata": {},
     "output_type": "execute_result"
    }
   ],
   "source": [
    "length(more_needed)"
   ]
  },
  {
   "cell_type": "markdown",
   "metadata": {},
   "source": [
    "We look at the ideals corresponding to the realization spaces of the remaining matroids."
   ]
  },
  {
   "cell_type": "code",
   "execution_count": 33,
   "metadata": {},
   "outputs": [
    {
     "name": "stdout",
     "output_type": "stream",
     "text": [
      "73;\n",
      "\n",
      "fmpq_mpoly[0, x_{1, 3}^2*x_{3, 3} - x_{1, 3}^2 - x_{1, 3}*x_{3, 3}^2 + x_{3, 3}^2]\n",
      "\n",
      " has 1 generator(s)\n",
      "\n",
      "92;\n",
      "\n",
      "fmpq_mpoly[0, 2]\n",
      "\n",
      " has 1 generator(s)\n",
      "\n",
      "96;\n",
      "\n",
      "fmpq_mpoly[0, x_{2, 3}^2*x_{3, 3} - x_{2, 3}^2 - x_{2, 3}*x_{3, 3}^2 + x_{2, 3}*x_{3, 3} + x_{2, 3} - x_{3, 3}]\n",
      "\n",
      " has 1 generator(s)\n",
      "\n",
      "100;\n",
      "\n",
      "fmpq_mpoly[0, x_{2, 3}^2*x_{3, 3} + x_{2, 3}^2 - x_{2, 3}*x_{3, 3}^2 - 2*x_{2, 3}*x_{3, 3} - x_{2, 3} + x_{3, 3}^2 + x_{3, 3}]\n",
      "\n",
      " has 1 generator(s)\n",
      "\n",
      "160;\n",
      "\n",
      "fmpq_mpoly[0, x_{1, 2}^2 - x_{1, 2} + 1]\n",
      "\n",
      " has 1 generator(s)\n",
      "\n",
      "173;\n",
      "\n",
      "fmpq_mpoly[0, 2*x_{2, 3}*x_{3, 3} - x_{2, 3} - x_{3, 3}^2 - x_{3, 3} + 1]\n",
      "\n",
      " has 1 generator(s)\n",
      "\n",
      "180;\n",
      "\n",
      "fmpq_mpoly[0, x_{2, 3}*x_{3, 3} + x_{2, 3} - 2*x_{3, 3}]\n",
      "\n",
      " has 1 generator(s)\n",
      "\n",
      "181;\n",
      "\n",
      "fmpq_mpoly[0, x_{2, 3}*x_{3, 3} + x_{2, 3} - 2*x_{3, 3}, 2*x_{2, 3} - x_{3, 3} - 1]\n",
      "\n",
      " has 2 generator(s)\n",
      "\n",
      "183;\n",
      "\n",
      "fmpq_mpoly[0, x_{2, 3}^2 - 1]\n",
      "\n",
      " has 1 generator(s)\n",
      "\n",
      "184;\n",
      "\n",
      "fmpq_mpoly[0, x_{2, 3}^2 - 1]\n",
      "\n",
      " has 1 generator(s)\n",
      "\n",
      "229;\n",
      "\n",
      "fmpq_mpoly[0, x_{3, 3}^2 - 3*x_{3, 3} + 1]\n",
      "\n",
      " has 1 generator(s)\n",
      "\n",
      "231;\n",
      "\n",
      "fmpq_mpoly[0, 3*x_{1, 3}^2 - 3*x_{1, 3} + 1]\n",
      "\n",
      " has 1 generator(s)\n",
      "\n",
      "234;\n",
      "\n",
      "fmpq_mpoly[0, 2*x_{1, 3}*x_{3, 3} - x_{1, 3} - x_{3, 3}]\n",
      "\n",
      " has 1 generator(s)\n",
      "\n",
      "253;\n",
      "\n",
      "fmpq_mpoly[0, 2]\n",
      "\n",
      " has 1 generator(s)\n",
      "\n",
      "260;\n",
      "\n",
      "fmpq_mpoly[0, 3]\n",
      "\n",
      " has 1 generator(s)\n",
      "\n",
      "269;\n",
      "\n",
      "fmpq_mpoly[0, -2]\n",
      "\n",
      " has 1 generator(s)\n",
      "\n",
      "361;\n",
      "\n",
      "fmpq_mpoly[0, 2]\n",
      "\n",
      " has 1 generator(s)\n",
      "\n",
      "362;\n",
      "\n",
      "fmpq_mpoly[0, 2]\n",
      "\n",
      " has 1 generator(s)\n",
      "\n"
     ]
    }
   ],
   "source": [
    "for z in more_needed\n",
    "    print(z,\";\",\"\\n\\n\")\n",
    "    Ms = matroid_from_revlex_basis_encoding(d4n8[z],4,8)\n",
    "    I = matroid_to_reduced_expression(Ms, QQ,2)\n",
    "    \n",
    "    if I isa String \n",
    "        print(I,\"\\n\\n\")\n",
    "        \n",
    "    else \n",
    "        print(I[1],\"\\n\\n\",\" has \", length(I[1])-1,\" generator(s)\",\"\\n\\n\")\n",
    "    end\n",
    "end"
   ]
  },
  {
   "cell_type": "markdown",
   "metadata": {},
   "source": [
    "Analysis of 270"
   ]
  },
  {
   "cell_type": "code",
   "execution_count": 34,
   "metadata": {},
   "outputs": [
    {
     "data": {
      "text/plain": [
       "Matroid of rank 4 on 8 elements"
      ]
     },
     "execution_count": 34,
     "metadata": {},
     "output_type": "execute_result"
    }
   ],
   "source": [
    "#wierd matroid\n",
    "M270 = matroid_from_revlex_basis_encoding(d4n8[270], 4, 8)"
   ]
  },
  {
   "cell_type": "code",
   "execution_count": 36,
   "metadata": {},
   "outputs": [
    {
     "data": {
      "text/plain": [
       "14-element Vector{Vector{Int64}}:\n",
       " [1, 2, 3, 4]\n",
       " [1, 2, 5, 6]\n",
       " [1, 2, 7, 8]\n",
       " [1, 3, 5, 7]\n",
       " [1, 3, 6, 8]\n",
       " [1, 4, 5, 8]\n",
       " [1, 4, 6, 7]\n",
       " [2, 3, 5, 8]\n",
       " [2, 3, 6, 7]\n",
       " [2, 4, 5, 7]\n",
       " [2, 4, 6, 8]\n",
       " [3, 4, 5, 6]\n",
       " [3, 4, 7, 8]\n",
       " [5, 6, 7, 8]"
      ]
     },
     "execution_count": 36,
     "metadata": {},
     "output_type": "execute_result"
    }
   ],
   "source": [
    "C = circuits(M270)"
   ]
  },
  {
   "cell_type": "markdown",
   "metadata": {},
   "source": [
    "exclusively has rank 3 circuits, each element contained in exactly 7."
   ]
  },
  {
   "cell_type": "code",
   "execution_count": 37,
   "metadata": {},
   "outputs": [
    {
     "data": {
      "text/plain": [
       "true"
      ]
     },
     "execution_count": 37,
     "metadata": {},
     "output_type": "execute_result"
    }
   ],
   "source": [
    "is_binary(M270)"
   ]
  },
  {
   "cell_type": "code",
   "execution_count": 38,
   "metadata": {},
   "outputs": [
    {
     "data": {
      "text/plain": [
       "false"
      ]
     },
     "execution_count": 38,
     "metadata": {},
     "output_type": "execute_result"
    }
   ],
   "source": [
    "is_ternary(M270)"
   ]
  },
  {
   "cell_type": "markdown",
   "metadata": {},
   "source": [
    "So far I think the conditions I have above will also work for (4,9) matroids thanks to duality and our (3,8) paper. However, I think we will still need to keep thinking up new ones since there are way more (4,9) matroids. I am not sure what to make of the 270 guy.\n",
    "\n"
   ]
  },
  {
   "cell_type": "code",
   "execution_count": null,
   "metadata": {},
   "outputs": [],
   "source": []
  }
 ],
 "metadata": {
  "kernelspec": {
   "display_name": "Julia 1.7.1",
   "language": "julia",
   "name": "julia-1.7"
  },
  "language_info": {
   "file_extension": ".jl",
   "mimetype": "application/julia",
   "name": "julia",
   "version": "1.7.1"
  }
 },
 "nbformat": 4,
 "nbformat_minor": 4
}
