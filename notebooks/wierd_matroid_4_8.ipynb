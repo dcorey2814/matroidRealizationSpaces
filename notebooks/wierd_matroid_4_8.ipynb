{
 "cells": [
  {
   "cell_type": "code",
   "execution_count": 168,
   "metadata": {},
   "outputs": [],
   "source": [
    "using Oscar\n",
    "using Combinatorics\n",
    "pm = Polymake\n",
    "\n",
    "include(\"matroid_realization.jl\");\n",
    "include(\"reduceIdeals.jl\")\n",
    "include(\"tscCoordRing.jl\");\n"
   ]
  },
  {
   "cell_type": "code",
   "execution_count": 21,
   "metadata": {},
   "outputs": [],
   "source": [
    "d4n8 = vec(readlines(\"d4n8.dat\"));"
   ]
  },
  {
   "cell_type": "code",
   "execution_count": 22,
   "metadata": {},
   "outputs": [
    {
     "data": {
      "text/plain": [
       "Matroid of rank 4 on 8 elements"
      ]
     },
     "execution_count": 22,
     "metadata": {},
     "output_type": "execute_result"
    }
   ],
   "source": [
    "#wierd matroid\n",
    "M270 = matroid_from_revlex_basis_encoding(d4n8[270], 4, 8)"
   ]
  },
  {
   "cell_type": "code",
   "execution_count": 27,
   "metadata": {},
   "outputs": [
    {
     "data": {
      "text/plain": [
       "Group([ (1,2)(7,8), (2,3)(6,7), (3,5)(4,6), (1,2)(3,4) ])"
      ]
     },
     "execution_count": 27,
     "metadata": {},
     "output_type": "execute_result"
    }
   ],
   "source": [
    "AG270  =automorphism_group(M270)"
   ]
  },
  {
   "cell_type": "code",
   "execution_count": 7,
   "metadata": {},
   "outputs": [
    {
     "data": {
      "text/plain": [
       "14-element Vector{Vector{Int64}}:\n",
       " [1, 2, 3, 4]\n",
       " [1, 2, 5, 6]\n",
       " [1, 2, 7, 8]\n",
       " [1, 3, 5, 7]\n",
       " [1, 3, 6, 8]\n",
       " [1, 4, 5, 8]\n",
       " [1, 4, 6, 7]\n",
       " [2, 3, 5, 8]\n",
       " [2, 3, 6, 7]\n",
       " [2, 4, 5, 7]\n",
       " [2, 4, 6, 8]\n",
       " [3, 4, 5, 6]\n",
       " [3, 4, 7, 8]\n",
       " [5, 6, 7, 8]"
      ]
     },
     "execution_count": 7,
     "metadata": {},
     "output_type": "execute_result"
    }
   ],
   "source": [
    "nonbases(M270) "
   ]
  },
  {
   "cell_type": "code",
   "execution_count": null,
   "metadata": {},
   "outputs": [],
   "source": [
    "#note that the matroid is connected:\n",
    "is_connected(M270)"
   ]
  },
  {
   "cell_type": "code",
   "execution_count": null,
   "metadata": {},
   "outputs": [],
   "source": [
    "#that is, it has 1 connected component (not a direct sum of smaller matroids)\n",
    "n_connected_components(M270)"
   ]
  },
  {
   "cell_type": "code",
   "execution_count": 8,
   "metadata": {},
   "outputs": [
    {
     "data": {
      "text/plain": [
       "14-element Vector{Vector{Int64}}:\n",
       " [1, 2, 3, 4]\n",
       " [1, 2, 5, 6]\n",
       " [1, 2, 7, 8]\n",
       " [1, 3, 5, 7]\n",
       " [1, 3, 6, 8]\n",
       " [1, 4, 5, 8]\n",
       " [1, 4, 6, 7]\n",
       " [2, 3, 5, 8]\n",
       " [2, 3, 6, 7]\n",
       " [2, 4, 5, 7]\n",
       " [2, 4, 6, 8]\n",
       " [3, 4, 5, 6]\n",
       " [3, 4, 7, 8]\n",
       " [5, 6, 7, 8]"
      ]
     },
     "execution_count": 8,
     "metadata": {},
     "output_type": "execute_result"
    }
   ],
   "source": [
    "#these are the circuits. Note that we have all rank 3 circuits, \n",
    "#such that each element is contained in exactly 7. This is odd, since we (Dan and myself) expected connected\n",
    "#matroids to have at least one circuit of cardinality rank+1\n",
    "circuits(M270)"
   ]
  },
  {
   "cell_type": "code",
   "execution_count": 9,
   "metadata": {},
   "outputs": [
    {
     "data": {
      "text/plain": [
       "56-element Vector{Vector{Int64}}:\n",
       " [1, 2, 3, 5]\n",
       " [1, 2, 4, 5]\n",
       " [1, 3, 4, 5]\n",
       " [2, 3, 4, 5]\n",
       " [1, 2, 3, 6]\n",
       " [1, 2, 4, 6]\n",
       " [1, 3, 4, 6]\n",
       " [2, 3, 4, 6]\n",
       " [1, 3, 5, 6]\n",
       " [2, 3, 5, 6]\n",
       " [1, 4, 5, 6]\n",
       " [2, 4, 5, 6]\n",
       " [1, 2, 3, 7]\n",
       " ⋮\n",
       " [1, 3, 7, 8]\n",
       " [2, 3, 7, 8]\n",
       " [1, 4, 7, 8]\n",
       " [2, 4, 7, 8]\n",
       " [1, 5, 7, 8]\n",
       " [2, 5, 7, 8]\n",
       " [3, 5, 7, 8]\n",
       " [4, 5, 7, 8]\n",
       " [1, 6, 7, 8]\n",
       " [2, 6, 7, 8]\n",
       " [3, 6, 7, 8]\n",
       " [4, 6, 7, 8]"
      ]
     },
     "execution_count": 9,
     "metadata": {},
     "output_type": "execute_result"
    }
   ],
   "source": [
    "B= bases(M270)"
   ]
  },
  {
   "cell_type": "code",
   "execution_count": 10,
   "metadata": {},
   "outputs": [
    {
     "data": {
      "text/plain": [
       "\"(C2 x C2 x C2) : PSL(3,2)\""
      ]
     },
     "execution_count": 10,
     "metadata": {},
     "output_type": "execute_result"
    }
   ],
   "source": [
    "#automorphism group. I was having trouble getting the code from git, so I wrote my own for this special case\n",
    "\n",
    "edges = []\n",
    "for i in 1:8\n",
    "    bi = [[i,j+8] for j in 1:length(B) if i in B[j]]\n",
    "    edges = union(edges,bi)\n",
    "end\n",
    "\n",
    "eedges = Vector{Vector{Int64}}(edges)\n",
    "G = pm.graph.graph_from_edges(eedges)   \n",
    "GG = Graph{Undirected}(G.ADJACENCY)\n",
    "\n",
    "describe(automorphism_group(GG))"
   ]
  },
  {
   "cell_type": "code",
   "execution_count": 156,
   "metadata": {},
   "outputs": [
    {
     "data": {
      "text/plain": [
       "new_TSC (generic function with 3 methods)"
      ]
     },
     "execution_count": 156,
     "metadata": {},
     "output_type": "execute_result"
    }
   ],
   "source": [
    "function new_TSC(M, F)\n",
    "    d = rank(M)\n",
    "    n = length(matroid_groundset(M))\n",
    "    Bs = bases(M)\n",
    "    NBs = nonbases(M)\n",
    "    B = Bs[1]\n",
    "    R,x = makePolyRing(d,n,F)\n",
    "   \n",
    "    Mx = reducedCoordinateMatrix(M,d,n,B,R,x)\n",
    "    I = ideal(unique!([det(Mx[:, nb]) for nb in NBs ]))\n",
    "    toInvert = unique!([det(Mx[:, b])  for b in Bs])\n",
    "    \n",
    "    return (I,toInvert)\n",
    "end"
   ]
  },
  {
   "cell_type": "markdown",
   "metadata": {},
   "source": [
    "We can interpret the output above using this key: https://docs.oscar-system.org/dev/Groups/basics/#describe-Tuple{Oscar.GAPGroup}\n",
    "\n",
    "That is, the automorphism group of the weird matroid is the semi direct product of $\\mathbb{Z}/2\\mathbb{Z}$ with $PSL(3,2)$, where $PSL(3,2)$  denotes the projective special linear group of $3\\times 3$ matrices with entries from $F_2$"
   ]
  },
  {
   "cell_type": "code",
   "execution_count": 149,
   "metadata": {},
   "outputs": [
    {
     "data": {
      "text/plain": [
       "TSC_to_reduced_expression (generic function with 2 methods)"
      ]
     },
     "execution_count": 149,
     "metadata": {},
     "output_type": "execute_result"
    }
   ],
   "source": [
    "function TSC_to_reduced_expression(M, F)\n",
    "    \n",
    "    charts = bases(M)\n",
    "    #println(\"1\")\n",
    "    A = charts[1]\n",
    "   # println(\"2\")\n",
    "    RQ = new_TSC(M,F)\n",
    "    #println(\"3\")\n",
    "    R = parent(RQ[1][1])\n",
    "    #println(\"4\")\n",
    "    Sgens = [s for s in RQ[2]]#new 13.1.2023\n",
    "    #print(length(Sgens),\"\\n\")\n",
    "    #print(length(gens(RQ[1])))\n",
    "    #println(\"5\")\n",
    "    I = reduce_ideal_full(gens(RQ[1]), Sgens, R, gens(R), false)\n",
    "   # println(\"6\")\n",
    "    \n",
    "     varlist = \n",
    "    if I isa String\n",
    "        \n",
    "        return I\n",
    "        \n",
    "     #I[1] = ideal generators, I[2] = subgroup generators   \n",
    "    else\n",
    "        \n",
    "       Iclean = unique!([clean(f,R) for f in I[1]])\n",
    "    \n",
    "            \n",
    "       return (Iclean, I[2])\n",
    "        \n",
    "       # return(I[1],I[2])\n",
    "        \n",
    "    end\n",
    "end"
   ]
  },
  {
   "cell_type": "code",
   "execution_count": 155,
   "metadata": {},
   "outputs": [
    {
     "data": {
      "text/plain": [
       "2-element Vector{MPolyDecRingElem{fmpz, fmpz_mpoly}}:\n",
       " 0\n",
       " 2"
      ]
     },
     "execution_count": 155,
     "metadata": {},
     "output_type": "execute_result"
    }
   ],
   "source": [
    "TSC_to_reduced_expression(M270, ZZ)[1]"
   ]
  },
  {
   "cell_type": "code",
   "execution_count": 164,
   "metadata": {},
   "outputs": [
    {
     "data": {
      "text/plain": [
       "Matroid of rank 4 on 8 elements"
      ]
     },
     "execution_count": 164,
     "metadata": {},
     "output_type": "execute_result"
    }
   ],
   "source": [
    "M = matroid_from_revlex_basis_encoding(d4n8[64], 4, 8)"
   ]
  },
  {
   "cell_type": "code",
   "execution_count": 165,
   "metadata": {},
   "outputs": [
    {
     "data": {
      "text/plain": [
       "(MPolyDecRingElem{fmpq, fmpq_mpoly}[0], MPolyDecRingElem{fmpq, fmpq_mpoly}[1, x_{3, 1}, -x_{3, 1}*x_{2, 4}, x_{3, 1}*x_{1, 2}*x_{3, 3}^2*x_{4, 4}^2 - x_{3, 1}*x_{1, 2}*x_{3, 3}*x_{4, 3}*x_{3, 4}*x_{4, 4} - x_{3, 1}*x_{4, 2}*x_{3, 3}^2*x_{1, 4}*x_{4, 4} + x_{3, 1}*x_{4, 2}*x_{3, 3}*x_{4, 3}*x_{1, 4}*x_{3, 4}, x_{4, 2}, x_{3, 1}*x_{4, 2}, -x_{3, 1}*x_{4, 2}*x_{2, 4}, x_{4, 2}*x_{3, 3}*x_{2, 4}, -x_{1, 2}, x_{3, 1}*x_{4, 2}*x_{3, 3}*x_{2, 4}  …  x_{4, 3}*x_{2, 4}, x_{1, 2}*x_{3, 3}^2*x_{4, 4}^3 - x_{1, 2}*x_{3, 3}*x_{4, 3}*x_{3, 4}*x_{4, 4}^2 + x_{1, 2}*x_{4, 3}^2*x_{3, 4}^2*x_{4, 4} - x_{4, 2}*x_{3, 3}^2*x_{1, 4}*x_{4, 4}^2 + x_{4, 2}*x_{3, 3}*x_{4, 3}*x_{1, 4}*x_{3, 4}*x_{4, 4} - x_{4, 2}*x_{4, 3}^2*x_{1, 4}*x_{3, 4}^2, x_{3, 1}*x_{3, 3}*x_{2, 4}*x_{4, 4}, -x_{3, 1}*x_{1, 2}*x_{3, 3}^3*x_{2, 4}*x_{4, 4}^3 + x_{3, 1}*x_{4, 2}*x_{3, 3}^3*x_{1, 4}*x_{2, 4}*x_{4, 4}^2, -x_{3, 3}*x_{2, 4}, -x_{1, 2}*x_{3, 3}^2*x_{4, 4}^2 + x_{1, 2}*x_{3, 3}*x_{4, 3}*x_{3, 4}*x_{4, 4} - x_{1, 2}*x_{4, 3}^2*x_{3, 4}^2 + x_{4, 2}*x_{3, 3}^2*x_{1, 4}*x_{4, 4}, x_{1, 2}*x_{3, 3}^2*x_{2, 4}*x_{4, 4}^2 - x_{1, 2}*x_{3, 3}*x_{4, 3}*x_{2, 4}*x_{3, 4}*x_{4, 4} + x_{1, 2}*x_{4, 3}^2*x_{2, 4}*x_{3, 4}^2 - x_{4, 2}*x_{3, 3}^2*x_{1, 4}*x_{2, 4}*x_{4, 4} + x_{4, 2}*x_{3, 3}*x_{4, 3}*x_{1, 4}*x_{2, 4}*x_{3, 4}, -x_{1, 2}*x_{3, 3}^2*x_{4, 4}^2 + x_{4, 2}*x_{3, 3}^2*x_{1, 4}*x_{4, 4}, -x_{1, 2}*x_{3, 3}^2*x_{2, 4}*x_{4, 4}^2 + x_{4, 2}*x_{3, 3}^2*x_{1, 4}*x_{2, 4}*x_{4, 4}, x_{1, 2}*x_{3, 3}^3*x_{2, 4}*x_{4, 4}^2 - x_{4, 2}*x_{3, 3}^3*x_{1, 4}*x_{2, 4}*x_{4, 4}])"
      ]
     },
     "execution_count": 165,
     "metadata": {},
     "output_type": "execute_result"
    }
   ],
   "source": [
    "TSC_to_reduced_expression(M, QQ)"
   ]
  },
  {
   "cell_type": "code",
   "execution_count": null,
   "metadata": {},
   "outputs": [],
   "source": []
  }
 ],
 "metadata": {
  "kernelspec": {
   "display_name": "Julia 1.7.1",
   "language": "julia",
   "name": "julia-1.7"
  },
  "language_info": {
   "file_extension": ".jl",
   "mimetype": "application/julia",
   "name": "julia",
   "version": "1.7.1"
  }
 },
 "nbformat": 4,
 "nbformat_minor": 4
}
