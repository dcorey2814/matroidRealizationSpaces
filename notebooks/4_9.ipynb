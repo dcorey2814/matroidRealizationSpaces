{
 "cells": [
  {
   "cell_type": "code",
   "execution_count": 1,
   "metadata": {},
   "outputs": [
    {
     "name": "stdout",
     "output_type": "stream",
     "text": [
      " -----    -----    -----      -      -----   \n",
      "|     |  |     |  |     |    | |    |     |  \n",
      "|     |  |        |         |   |   |     |  \n",
      "|     |   -----   |        |     |  |-----   \n",
      "|     |        |  |        |-----|  |   |    \n",
      "|     |  |     |  |     |  |     |  |    |   \n",
      " -----    -----    -----   -     -  -     -  \n",
      "\n",
      "...combining (and extending) ANTIC, GAP, Polymake and Singular\n",
      "Version\u001b[32m 0.11.4-DEV \u001b[39m... \n",
      " ... which comes with absolutely no warranty whatsoever\n",
      "Type: '?Oscar' for more information\n",
      "(c) 2019-2023 by The OSCAR Development Team\n"
     ]
    }
   ],
   "source": [
    "using Oscar\n",
    "using Combinatorics\n",
    "pm = Polymake\n",
    "\n",
    "include(\"matroid_realization.jl\");\n",
    "include(\"reduceIdeals.jl\")\n",
    "include(\"tscCoordRing.jl\");\n",
    "\n",
    "d4n9 = vec(readlines(\"d4n9.dat\"));"
   ]
  },
  {
   "cell_type": "code",
   "execution_count": 2,
   "metadata": {},
   "outputs": [
    {
     "name": "stderr",
     "output_type": "stream",
     "text": [
      "\u001b[36m\u001b[1m[ \u001b[22m\u001b[39m\u001b[36m\u001b[1mInfo: \u001b[22m\u001b[39mupgrading serialized data....\n"
     ]
    },
    {
     "data": {
      "text/plain": [
       "185911-element Vector{Int64}:\n",
       "      1\n",
       "      2\n",
       "      3\n",
       "      4\n",
       "      5\n",
       "      6\n",
       "      7\n",
       "      8\n",
       "      9\n",
       "     10\n",
       "     11\n",
       "     12\n",
       "     13\n",
       "      ⋮\n",
       " 185901\n",
       " 185902\n",
       " 185903\n",
       " 185904\n",
       " 185905\n",
       " 185906\n",
       " 185907\n",
       " 185908\n",
       " 185909\n",
       " 185910\n",
       " 185911\n",
       " 185912"
      ]
     },
     "execution_count": 2,
     "metadata": {},
     "output_type": "execute_result"
    }
   ],
   "source": [
    "#save(\"/home/dante/Desktop/jupyter_notebooks/matroidRealizationSpaces/connected_d4n9\",connected_d4n9)\n",
    "connected_d4n9 = load(\"connected_d4n9.dat\")"
   ]
  },
  {
   "cell_type": "code",
   "execution_count": 15,
   "metadata": {},
   "outputs": [],
   "source": [
    "c3 = []\n",
    "for z in connected_d4n9\n",
    "    Mz = matroid_from_revlex_basis_encoding(d4n9[z], 4, 9)\n",
    "    c = [t for t in circuits(Mz) if length(t) == 3]\n",
    "    if length(c)>0\n",
    "        push!(c3,z)\n",
    "    end\n",
    "end"
   ]
  },
  {
   "cell_type": "code",
   "execution_count": 17,
   "metadata": {},
   "outputs": [
    {
     "data": {
      "text/plain": [
       "38749"
      ]
     },
     "execution_count": 17,
     "metadata": {},
     "output_type": "execute_result"
    }
   ],
   "source": [
    "length(c3)"
   ]
  },
  {
   "cell_type": "code",
   "execution_count": 19,
   "metadata": {},
   "outputs": [
    {
     "data": {
      "text/plain": [
       "in_lines (generic function with 1 method)"
      ]
     },
     "execution_count": 19,
     "metadata": {},
     "output_type": "execute_result"
    }
   ],
   "source": [
    "function in_lines(n,L)\n",
    "    xn = 0\n",
    "    for z in 1:length(L)\n",
    "        if n in L[z]\n",
    "           xn += 1 \n",
    "        end\n",
    "    end\n",
    "    return xn\n",
    "end"
   ]
  },
  {
   "cell_type": "code",
   "execution_count": 20,
   "metadata": {},
   "outputs": [
    {
     "data": {
      "text/plain": [
       "1844"
      ]
     },
     "execution_count": 20,
     "metadata": {},
     "output_type": "execute_result"
    }
   ],
   "source": [
    "no_circuits = []\n",
    "for z in connected_d4n9\n",
    "    Mz = matroid_from_revlex_basis_encoding(d4n9[z], 4, 9)\n",
    "    L = [h for h in circuits(Mz) if length(h) == 4]\n",
    "    ns = [n for n in 1:9 if in_lines(n,L) == 0]\n",
    "    if length(ns)>0\n",
    "        push!(no_circuits,z)\n",
    "    end\n",
    "end\n",
    "length(no_circuits)"
   ]
  },
  {
   "cell_type": "code",
   "execution_count": 21,
   "metadata": {},
   "outputs": [
    {
     "data": {
      "text/plain": [
       "3721"
      ]
     },
     "execution_count": 21,
     "metadata": {},
     "output_type": "execute_result"
    }
   ],
   "source": [
    "no_hyps = []\n",
    "for z in connected_d4n9\n",
    "    Mz = matroid_from_revlex_basis_encoding(d4n9[z], 4, 9)\n",
    "    L = [h for h in hyperplanes(Mz) if length(h) == 4]\n",
    "    ns = [n for n in 1:9 if in_lines(n,L) == 0]\n",
    "    if length(ns)>0\n",
    "        push!(no_hyps,z)\n",
    "    end\n",
    "end\n",
    "length(no_hyps)"
   ]
  },
  {
   "cell_type": "code",
   "execution_count": 22,
   "metadata": {},
   "outputs": [
    {
     "data": {
      "text/plain": [
       "19270"
      ]
     },
     "execution_count": 22,
     "metadata": {},
     "output_type": "execute_result"
    }
   ],
   "source": [
    "one_hyp = []\n",
    "for z in connected_d4n9\n",
    "   Mz = matroid_from_revlex_basis_encoding(d4n9[z], 4, 9)\n",
    "   L = [h for h in hyperplanes(Mz) if length(h) == 4]\n",
    "   ns = [n for n in 1:9 if in_lines(n,L) == 1]\n",
    "   if length(ns)>0\n",
    "        push!(one_hyp,z)\n",
    "   end\n",
    "end\n",
    "length(one_hyp)"
   ]
  },
  {
   "cell_type": "code",
   "execution_count": 23,
   "metadata": {},
   "outputs": [
    {
     "data": {
      "text/plain": [
       "9720"
      ]
     },
     "execution_count": 23,
     "metadata": {},
     "output_type": "execute_result"
    }
   ],
   "source": [
    "one_circuit = []\n",
    "for z in connected_d4n9\n",
    "   Mz = matroid_from_revlex_basis_encoding(d4n9[z], 4, 9)\n",
    "    L = [h for h in circuits(Mz) if length(h) == 4]\n",
    "    ns = [n for n in 1:9 if in_lines(n,L) == 1]\n",
    "    if length(ns)>0\n",
    "        push!(one_circuit,z)\n",
    "    end\n",
    "end\n",
    "length(one_circuit)"
   ]
  },
  {
   "cell_type": "code",
   "execution_count": 24,
   "metadata": {},
   "outputs": [
    {
     "data": {
      "text/plain": [
       "44345"
      ]
     },
     "execution_count": 24,
     "metadata": {},
     "output_type": "execute_result"
    }
   ],
   "source": [
    "two_circs_prop = []\n",
    "for z in connected_d4n9\n",
    "    \n",
    "    Mz = matroid_from_revlex_basis_encoding(d4n9[z], 4, 9)\n",
    "    Hyps = [c for c in circuits(Mz) if length(c) == 4]\n",
    "    ns = [n for n in 1:9 if in_lines(n,Hyps) == 2]\n",
    "    \n",
    "    for n in ns\n",
    "        \n",
    "        Cn = [c for c in Hyps if n in c]\n",
    "        bn1 = [b for b in bases(Mz) if issubset(setdiff(Cn[1],[n]),b)]\n",
    "        int = [intersect(setdiff(Cn[2],[n]),b) for b in bn1]\n",
    "        if length(int)>0\n",
    "            push!(two_circs_prop,z)\n",
    "        end\n",
    "    end\n",
    "end\n",
    "two = unique(two_circs_prop)  \n",
    "length(two)"
   ]
  },
  {
   "cell_type": "code",
   "execution_count": 25,
   "metadata": {},
   "outputs": [
    {
     "data": {
      "text/plain": [
       "98419"
      ]
     },
     "execution_count": 25,
     "metadata": {},
     "output_type": "execute_result"
    }
   ],
   "source": [
    "uu = []\n",
    "for z in connected_d4n9\n",
    "    Mz = matroid_from_revlex_basis_encoding(d4n9[z], 4, 9)\n",
    "    C4 = [c for c in circuits(Mz) if length(c) == 4]\n",
    "    ns = [n for n in 1:9 if in_lines(n,C4) == 3]\n",
    "    Bz = bases(Mz)\n",
    "    for n in ns\n",
    "        Cn = [setdiff(c,n) for c in C4 if n in c]\n",
    "        b1 = [b for b in Bz if issubset(Cn[1],b)]\n",
    "        b2 = [b for b in b1 if length(intersect(b,Cn[2]))>1 && issubset(setdiff(b,Cn[1]),Cn[2])]\n",
    "        b3 = [b for b in b2 if length(intersect(b,Cn[2]))>1 && !(issubset(setdiff(Cn[2],b),Cn[3]))]\n",
    "        \n",
    "        \n",
    "        if length(b3)>0 \n",
    "            push!(uu,z)\n",
    "        end\n",
    "    end\n",
    "end\n",
    "three = unique!(uu)\n",
    "length(three)"
   ]
  },
  {
   "cell_type": "code",
   "execution_count": 26,
   "metadata": {},
   "outputs": [
    {
     "data": {
      "text/plain": [
       "126614"
      ]
     },
     "execution_count": 26,
     "metadata": {},
     "output_type": "execute_result"
    }
   ],
   "source": [
    "K = union(no_circuits,no_hyps,one_circuit, one_hyp,c3,two,three)\n",
    "length(K)"
   ]
  },
  {
   "cell_type": "code",
   "execution_count": 3,
   "metadata": {},
   "outputs": [
    {
     "data": {
      "text/plain": [
       "59297-element Vector{Int64}:\n",
       "    369\n",
       "    915\n",
       "   1125\n",
       "   1135\n",
       "   1161\n",
       "   1207\n",
       "   1319\n",
       "   1361\n",
       "   1414\n",
       "   1432\n",
       "   1440\n",
       "   1471\n",
       "   1504\n",
       "      ⋮\n",
       " 183420\n",
       " 183425\n",
       " 183426\n",
       " 183427\n",
       " 183428\n",
       " 183429\n",
       " 183430\n",
       " 183431\n",
       " 183434\n",
       " 183435\n",
       " 183436\n",
       " 183439"
      ]
     },
     "execution_count": 3,
     "metadata": {},
     "output_type": "execute_result"
    }
   ],
   "source": [
    "#S = setdiff(connected_d4n9,K)\n",
    "#save(\"/home/dante/Desktop/jupyter_notebooks/matroidRealizationSpaces/unchecked_d4n9\",S)\n",
    "unchecked = load(\"unchecked_d4n9.dat\")"
   ]
  },
  {
   "cell_type": "code",
   "execution_count": 4,
   "metadata": {},
   "outputs": [
    {
     "data": {
      "text/plain": [
       "126614-element Vector{Int64}:\n",
       "      1\n",
       "      2\n",
       "      3\n",
       "      4\n",
       "      6\n",
       "      9\n",
       "     13\n",
       "     14\n",
       "     16\n",
       "     17\n",
       "     28\n",
       "     32\n",
       "     49\n",
       "      ⋮\n",
       " 151364\n",
       " 151370\n",
       " 151371\n",
       " 151372\n",
       " 151379\n",
       " 151380\n",
       " 151383\n",
       " 151386\n",
       " 151391\n",
       " 151412\n",
       " 183410\n",
       " 183424"
      ]
     },
     "execution_count": 4,
     "metadata": {},
     "output_type": "execute_result"
    }
   ],
   "source": [
    "#save(\"/home/dante/Desktop/jupyter_notebooks/matroidRealizationSpaces/4_9_checked\",K)\n",
    "checked =load(\"4_9_checked.dat\")"
   ]
  },
  {
   "cell_type": "code",
   "execution_count": null,
   "metadata": {},
   "outputs": [],
   "source": []
  }
 ],
 "metadata": {
  "kernelspec": {
   "display_name": "Julia 1.7.1",
   "language": "julia",
   "name": "julia-1.7"
  },
  "language_info": {
   "file_extension": ".jl",
   "mimetype": "application/julia",
   "name": "julia",
   "version": "1.7.1"
  }
 },
 "nbformat": 4,
 "nbformat_minor": 4
}
