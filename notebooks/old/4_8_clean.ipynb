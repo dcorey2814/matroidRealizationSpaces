{
 "cells": [
  {
   "cell_type": "markdown",
   "metadata": {},
   "source": [
    "In this notebook we analyze connected rank 4 matroids on 8 elements. We develop theory that can be used to eliminate matroids from consideration. In particular, we check how many rank 3 circuits an elements are contained in."
   ]
  },
  {
   "cell_type": "code",
   "execution_count": 11,
   "metadata": {},
   "outputs": [],
   "source": [
    "using Oscar\n",
    "using Combinatorics\n",
    "pm = Polymake\n",
    "\n",
    "include(\"matroid_realization.jl\");\n",
    "include(\"reduceIdeals.jl\")\n",
    "include(\"tscCoordRing.jl\");\n",
    "\n",
    "d4n8 = vec(readlines(\"d4n8.dat\"));"
   ]
  },
  {
   "cell_type": "code",
   "execution_count": 15,
   "metadata": {},
   "outputs": [],
   "source": [
    "connected_d4n8 = []\n",
    "for z in 1:length(d4n8)\n",
    "    Mz = matroid_from_revlex_basis_encoding(d4n8[z], 4, 8)\n",
    "    if n_connected_components(Mz) == 1\n",
    "        push!(connected_d4n8,z)\n",
    "    end\n",
    "end\n"
   ]
  },
  {
   "cell_type": "markdown",
   "metadata": {},
   "source": [
    "***Condition:*** There exists a rank 3 circuit. "
   ]
  },
  {
   "cell_type": "code",
   "execution_count": 16,
   "metadata": {},
   "outputs": [],
   "source": [
    "c3 = []\n",
    "for z in connected_d4n8\n",
    "    Mz = matroid_from_revlex_basis_encoding(d4n8[z], 4, 8)\n",
    "    c = [t for t in circuits(Mz) if length(t) == 3]\n",
    "    if length(c)>0\n",
    "        push!(c3,z)\n",
    "    end\n",
    "end"
   ]
  },
  {
   "cell_type": "code",
   "execution_count": 17,
   "metadata": {},
   "outputs": [
    {
     "data": {
      "text/plain": [
       "271"
      ]
     },
     "execution_count": 17,
     "metadata": {},
     "output_type": "execute_result"
    }
   ],
   "source": [
    "length(c3)"
   ]
  },
  {
   "cell_type": "markdown",
   "metadata": {},
   "source": [
    "***Counting number of circuits or circuits an element is contained in.*** \n",
    "\n",
    "note that hyperplane or circuit always refers to cardinality 4"
   ]
  },
  {
   "cell_type": "code",
   "execution_count": 18,
   "metadata": {},
   "outputs": [
    {
     "data": {
      "text/plain": [
       "in_lines (generic function with 1 method)"
      ]
     },
     "execution_count": 18,
     "metadata": {},
     "output_type": "execute_result"
    }
   ],
   "source": [
    "#function that counts the number of lines/hyperplanes/cirtcuits containing an element of [n]\n",
    "#for an element n, counts how many lines its in\n",
    "function in_lines(n,L)\n",
    "    xn = 0\n",
    "    for z in 1:length(L)\n",
    "        if n in L[z]\n",
    "           xn += 1 \n",
    "        end\n",
    "    end\n",
    "    return xn\n",
    "end"
   ]
  },
  {
   "cell_type": "markdown",
   "metadata": {},
   "source": [
    "***No circuits, no hyperplanes***"
   ]
  },
  {
   "cell_type": "code",
   "execution_count": 19,
   "metadata": {},
   "outputs": [
    {
     "data": {
      "text/plain": [
       "101"
      ]
     },
     "execution_count": 19,
     "metadata": {},
     "output_type": "execute_result"
    }
   ],
   "source": [
    "no_circuits = []\n",
    "for z in connected_d4n8\n",
    "    Mz = matroid_from_revlex_basis_encoding(d4n8[z], 4, 8)\n",
    "    L = [h for h in circuits(Mz) if length(h) == 4]\n",
    "    ns = [n for n in 1:8 if in_lines(n,L) == 0]\n",
    "    if length(ns)>0\n",
    "        push!(no_circuits,z)\n",
    "    end\n",
    "end\n",
    "length(no_circuits)"
   ]
  },
  {
   "cell_type": "code",
   "execution_count": 20,
   "metadata": {},
   "outputs": [
    {
     "data": {
      "text/plain": [
       "105"
      ]
     },
     "execution_count": 20,
     "metadata": {},
     "output_type": "execute_result"
    }
   ],
   "source": [
    "no_hyps = []\n",
    "for z in connected_d4n8\n",
    "    Mz = matroid_from_revlex_basis_encoding(d4n8[z], 4, 8)\n",
    "    L = [h for h in hyperplanes(Mz) if length(h) == 4]\n",
    "    ns = [n for n in 1:8 if in_lines(n,L) == 0]\n",
    "    if length(ns)>0\n",
    "        push!(no_hyps,z)\n",
    "    end\n",
    "end\n",
    "length(no_hyps)"
   ]
  },
  {
   "cell_type": "markdown",
   "metadata": {},
   "source": [
    "I am pretty sure not being in any circuits gives us the same torus factor as not being in any proper hyperplanes..."
   ]
  },
  {
   "cell_type": "markdown",
   "metadata": {},
   "source": [
    "***One proper hyperplane***"
   ]
  },
  {
   "cell_type": "code",
   "execution_count": 21,
   "metadata": {},
   "outputs": [
    {
     "data": {
      "text/plain": [
       "206"
      ]
     },
     "execution_count": 21,
     "metadata": {},
     "output_type": "execute_result"
    }
   ],
   "source": [
    "one_hyp = []\n",
    "for z in connected_d4n8\n",
    "   Mz = matroid_from_revlex_basis_encoding(d4n8[z], 4, 8)\n",
    "   L = [h for h in hyperplanes(Mz) if length(h) == 4]\n",
    "   ns = [n for n in 1:8 if in_lines(n,L) == 1]\n",
    "   if length(ns)>0\n",
    "        push!(one_hyp,z)\n",
    "   end\n",
    "end\n",
    "length(one_hyp)"
   ]
  },
  {
   "cell_type": "markdown",
   "metadata": {},
   "source": [
    "***one circuit***"
   ]
  },
  {
   "cell_type": "code",
   "execution_count": 22,
   "metadata": {},
   "outputs": [
    {
     "data": {
      "text/plain": [
       "174"
      ]
     },
     "execution_count": 22,
     "metadata": {},
     "output_type": "execute_result"
    }
   ],
   "source": [
    "one_circuit = []\n",
    "for z in connected_d4n8\n",
    "   Mz = matroid_from_revlex_basis_encoding(d4n8[z], 4, 8)\n",
    "    L = [h for h in circuits(Mz) if length(h) == 4]\n",
    "    ns = [n for n in 1:8 if in_lines(n,L) == 1]\n",
    "    if length(ns)>0\n",
    "        push!(one_circuit,z)\n",
    "    end\n",
    "end\n",
    "length(one_circuit)"
   ]
  },
  {
   "cell_type": "code",
   "execution_count": 23,
   "metadata": {},
   "outputs": [
    {
     "data": {
      "text/plain": [
       "false"
      ]
     },
     "execution_count": 23,
     "metadata": {},
     "output_type": "execute_result"
    }
   ],
   "source": [
    "issubset(one_circuit,one_hyp)"
   ]
  },
  {
   "cell_type": "markdown",
   "metadata": {},
   "source": [
    "***I don't know if I have a proof for two hyperplanes, haven't been able to completely convince myself***"
   ]
  },
  {
   "cell_type": "markdown",
   "metadata": {},
   "source": [
    "***Two circuits, $\\eta_1,\\eta_2$ such that there exists a basis $B$ with $\\eta_1\\setminus n\\subset B$ and $\\eta_2\\setminus\\eta_1 \\cap B\\neq\\emptyset$***"
   ]
  },
  {
   "cell_type": "code",
   "execution_count": 24,
   "metadata": {},
   "outputs": [
    {
     "data": {
      "text/plain": [
       "327"
      ]
     },
     "execution_count": 24,
     "metadata": {},
     "output_type": "execute_result"
    }
   ],
   "source": [
    "two_circs_prop = []\n",
    "for z in connected_d4n8\n",
    "    \n",
    "    Mz = matroid_from_revlex_basis_encoding(d4n8[z], 4, 8)\n",
    "    Hyps = [c for c in circuits(Mz) if length(c) == 4]\n",
    "    ns = [n for n in 1:8 if in_lines(n,Hyps) == 2]\n",
    "    \n",
    "    for n in ns\n",
    "        \n",
    "        Cn = [c for c in Hyps if n in c]\n",
    "        bn1 = [b for b in bases(Mz) if issubset(setdiff(Cn[1],[n]),b)]\n",
    "        int = [intersect(setdiff(Cn[2],[n]),b) for b in bn1]\n",
    "        if length(int)>0\n",
    "            push!(two_circs_prop,z)\n",
    "        end\n",
    "    end\n",
    "end\n",
    "two = unique(two_circs_prop)  \n",
    "length(two)"
   ]
  },
  {
   "cell_type": "markdown",
   "metadata": {},
   "source": [
    "***Condition***\n",
    "There exists an element $t$ such that $t$ is contained in 3 circuit hyperplanes \n",
    "$\\eta_1$, $\\eta_2$, $\\eta_3$, and there exists a basis $B$ such that $\\eta_1\\setminus t\\subset B$, and we have $B\\setminus\\eta_1\\subset\\eta_2, \\eta_3$, and $|\\eta_i\\cap B|>=2$ for $i \\in [3]$. (would like something cleaner, but this has been the only guarantee I have found that the second and third equation have a coefficient in the semigroup for a nonzero $x_{i,4}$.)"
   ]
  },
  {
   "cell_type": "code",
   "execution_count": 25,
   "metadata": {},
   "outputs": [
    {
     "data": {
      "text/plain": [
       "318"
      ]
     },
     "execution_count": 25,
     "metadata": {},
     "output_type": "execute_result"
    }
   ],
   "source": [
    "uu = []\n",
    "for z in connected_d4n8\n",
    "    Mz = matroid_from_revlex_basis_encoding(d4n8[z], 4, 8)\n",
    "    C4 = [c for c in circuits(Mz) if length(c) == 4]\n",
    "    ns = [n for n in 1:8 if in_lines(n,C4) == 3]\n",
    "    Bz = bases(Mz)\n",
    "    for n in ns\n",
    "        Cn = [setdiff(c,n) for c in C4 if n in c]\n",
    "        b1 = [b for b in Bz if issubset(Cn[1],b)]\n",
    "        b2 = [b for b in b1 if length(intersect(b,Cn[2]))>1 && issubset(setdiff(b,Cn[1]),Cn[2])]\n",
    "        b3 = [b for b in b2 if length(intersect(b,Cn[2]))>1 && !(issubset(setdiff(Cn[2],b),Cn[3]))]\n",
    "        \n",
    "        \n",
    "        if length(b3)>0 \n",
    "            push!(uu,z)\n",
    "        end\n",
    "    end\n",
    "end\n",
    "three = unique!(uu)\n",
    "length(three)"
   ]
  },
  {
   "cell_type": "code",
   "execution_count": 26,
   "metadata": {},
   "outputs": [
    {
     "data": {
      "text/plain": [
       "547"
      ]
     },
     "execution_count": 26,
     "metadata": {},
     "output_type": "execute_result"
    }
   ],
   "source": [
    "K = union(no_circuits,no_hyps,one_circuit, one_hyp,c3,two,three)\n",
    "length(K)"
   ]
  },
  {
   "cell_type": "code",
   "execution_count": 27,
   "metadata": {},
   "outputs": [
    {
     "data": {
      "text/plain": [
       "45"
      ]
     },
     "execution_count": 27,
     "metadata": {},
     "output_type": "execute_result"
    }
   ],
   "source": [
    "S = setdiff(connected_d4n8,K)\n",
    "length(S)"
   ]
  },
  {
   "cell_type": "code",
   "execution_count": 14,
   "metadata": {},
   "outputs": [
    {
     "data": {
      "text/plain": [
       "true"
      ]
     },
     "execution_count": 14,
     "metadata": {},
     "output_type": "execute_result"
    }
   ],
   "source": [
    "270 in S #connected matroid with no rank 4 circuits."
   ]
  },
  {
   "cell_type": "markdown",
   "metadata": {},
   "source": [
    "We now compute the realization spaces for the remaining matroids, excluding 270. We check whether or not the ideal reduces to the 0 ideal, is nonrealizable, or if more work is needed."
   ]
  },
  {
   "cell_type": "code",
   "execution_count": 29,
   "metadata": {},
   "outputs": [],
   "source": [
    "zero_ideal = []\n",
    "not_realizable = []\n",
    "more_needed = []\n",
    "\n",
    "for s in setdiff(setdiff(connected_d4n8,K),[270])\n",
    "    #print(s,\"\\n\")\n",
    "    Ms = matroid_from_revlex_basis_encoding(d4n8[s],4,8)\n",
    "    I = matroid_to_reduced_expression(Ms, QQ,2)\n",
    "    \n",
    "    if I[1] == [0]\n",
    "        push!(zero_ideal,s)\n",
    "        \n",
    "    elseif (1 in I[1] || -1 in I[1] || I == \"Not Realizable 0 in Semigroup\")\n",
    "        \n",
    "        push!(not_realizable,s)\n",
    "        \n",
    "    else\n",
    "        push!(more_needed,s)\n",
    "        \n",
    "    end\n",
    "end"
   ]
  },
  {
   "cell_type": "code",
   "execution_count": 36,
   "metadata": {},
   "outputs": [
    {
     "data": {
      "text/plain": [
       "19"
      ]
     },
     "execution_count": 36,
     "metadata": {},
     "output_type": "execute_result"
    }
   ],
   "source": [
    "length(zero_ideal)"
   ]
  },
  {
   "cell_type": "code",
   "execution_count": 37,
   "metadata": {},
   "outputs": [
    {
     "data": {
      "text/plain": [
       "13"
      ]
     },
     "execution_count": 37,
     "metadata": {},
     "output_type": "execute_result"
    }
   ],
   "source": [
    "length(not_realizable)"
   ]
  },
  {
   "cell_type": "code",
   "execution_count": 38,
   "metadata": {},
   "outputs": [
    {
     "data": {
      "text/plain": [
       "12"
      ]
     },
     "execution_count": 38,
     "metadata": {},
     "output_type": "execute_result"
    }
   ],
   "source": [
    "length(more_needed)"
   ]
  },
  {
   "cell_type": "markdown",
   "metadata": {},
   "source": [
    "We look at the ideals corresponding to the realization spaces of the remaining matroids."
   ]
  },
  {
   "cell_type": "code",
   "execution_count": 30,
   "metadata": {},
   "outputs": [
    {
     "name": "stdout",
     "output_type": "stream",
     "text": [
      "73;\n",
      "\n",
      "fmpq_mpoly[0, x_{1, 3}^2*x_{3, 3} - x_{1, 3}^2 - x_{1, 3}*x_{3, 3}^2 + x_{3, 3}^2]\n",
      "\n",
      " has 1 generator(s)\n",
      "\n",
      "96;\n",
      "\n",
      "fmpq_mpoly[0, x_{2, 3}^2*x_{3, 3} - x_{2, 3}^2 - x_{2, 3}*x_{3, 3}^2 + x_{2, 3}*x_{3, 3} + x_{2, 3} - x_{3, 3}]\n",
      "\n",
      " has 1 generator(s)\n",
      "\n",
      "100;\n",
      "\n",
      "fmpq_mpoly[0, x_{2, 3}^2*x_{3, 3} + x_{2, 3}^2 - x_{2, 3}*x_{3, 3}^2 - 2*x_{2, 3}*x_{3, 3} - x_{2, 3} + x_{3, 3}^2 + x_{3, 3}]\n",
      "\n",
      " has 1 generator(s)\n",
      "\n",
      "173;\n",
      "\n",
      "fmpq_mpoly[0, 2*x_{2, 3}*x_{3, 3} - x_{2, 3} - x_{3, 3}^2 - x_{3, 3} + 1]\n",
      "\n",
      " has 1 generator(s)\n",
      "\n",
      "180;\n",
      "\n",
      "fmpq_mpoly[0, x_{2, 3}*x_{3, 3} + x_{2, 3} - 2*x_{3, 3}]\n",
      "\n",
      " has 1 generator(s)\n",
      "\n",
      "181;\n",
      "\n",
      "fmpq_mpoly[0, x_{2, 3}*x_{3, 3} + x_{2, 3} - 2*x_{3, 3}, 2*x_{2, 3} - x_{3, 3} - 1]\n",
      "\n",
      " has 2 generator(s)\n",
      "\n",
      "183;\n",
      "\n",
      "fmpq_mpoly[0, x_{2, 3}^2 - 1]\n",
      "\n",
      " has 1 generator(s)\n",
      "\n",
      "184;\n",
      "\n",
      "fmpq_mpoly[0, x_{2, 3}^2 - 1]\n",
      "\n",
      " has 1 generator(s)\n",
      "\n",
      "229;\n",
      "\n",
      "fmpq_mpoly[0, x_{3, 3}^2 - 3*x_{3, 3} + 1]\n",
      "\n",
      " has 1 generator(s)\n",
      "\n",
      "231;\n",
      "\n",
      "fmpq_mpoly[0, 3*x_{1, 3}^2 - 3*x_{1, 3} + 1]\n",
      "\n",
      " has 1 generator(s)\n",
      "\n",
      "260;\n",
      "\n",
      "fmpq_mpoly[0, 3]\n",
      "\n",
      " has 1 generator(s)\n",
      "\n",
      "269;\n",
      "\n",
      "fmpq_mpoly[0, -2]\n",
      "\n",
      " has 1 generator(s)\n",
      "\n"
     ]
    }
   ],
   "source": [
    "for z in more_needed\n",
    "    print(z,\";\",\"\\n\\n\")\n",
    "    Ms = matroid_from_revlex_basis_encoding(d4n8[z],4,8)\n",
    "    I = matroid_to_reduced_expression(Ms, QQ,2)\n",
    "    \n",
    "    if I isa String \n",
    "        print(I,\"\\n\\n\")\n",
    "        \n",
    "    else \n",
    "        print(I[1],\"\\n\\n\",\" has \", length(I[1])-1,\" generator(s)\",\"\\n\\n\")\n",
    "    end\n",
    "end"
   ]
  },
  {
   "cell_type": "markdown",
   "metadata": {},
   "source": [
    "Analysis of 270"
   ]
  },
  {
   "cell_type": "code",
   "execution_count": 5,
   "metadata": {},
   "outputs": [
    {
     "data": {
      "text/plain": [
       "Matroid of rank 4 on 8 elements"
      ]
     },
     "execution_count": 5,
     "metadata": {},
     "output_type": "execute_result"
    }
   ],
   "source": [
    "#wierd matroid\n",
    "M270 = matroid_from_revlex_basis_encoding(d4n8[270], 4, 8)"
   ]
  },
  {
   "cell_type": "code",
   "execution_count": 6,
   "metadata": {},
   "outputs": [
    {
     "data": {
      "text/plain": [
       "14-element Vector{Vector{Int64}}:\n",
       " [1, 2, 3, 4]\n",
       " [1, 2, 5, 6]\n",
       " [1, 2, 7, 8]\n",
       " [1, 3, 5, 7]\n",
       " [1, 3, 6, 8]\n",
       " [1, 4, 5, 8]\n",
       " [1, 4, 6, 7]\n",
       " [2, 3, 5, 8]\n",
       " [2, 3, 6, 7]\n",
       " [2, 4, 5, 7]\n",
       " [2, 4, 6, 8]\n",
       " [3, 4, 5, 6]\n",
       " [3, 4, 7, 8]\n",
       " [5, 6, 7, 8]"
      ]
     },
     "execution_count": 6,
     "metadata": {},
     "output_type": "execute_result"
    }
   ],
   "source": [
    "nonbases(M270)"
   ]
  },
  {
   "cell_type": "code",
   "execution_count": 7,
   "metadata": {},
   "outputs": [
    {
     "data": {
      "text/plain": [
       "Group([ (1,2)(7,8), (2,3)(6,7), (3,5)(4,6), (1,2)(3,4) ])"
      ]
     },
     "execution_count": 7,
     "metadata": {},
     "output_type": "execute_result"
    }
   ],
   "source": [
    "automorphism_group(M270)"
   ]
  },
  {
   "cell_type": "code",
   "execution_count": 9,
   "metadata": {},
   "outputs": [
    {
     "data": {
      "text/plain": [
       "\"(C2 x C2 x C2) : PSL(3,2)\""
      ]
     },
     "execution_count": 9,
     "metadata": {},
     "output_type": "execute_result"
    }
   ],
   "source": [
    "describe(automorphism_group(M270))"
   ]
  },
  {
   "cell_type": "code",
   "execution_count": 8,
   "metadata": {},
   "outputs": [
    {
     "data": {
      "text/plain": [
       "14-element Vector{Vector{Int64}}:\n",
       " [1, 2, 3, 4]\n",
       " [1, 2, 5, 6]\n",
       " [1, 2, 7, 8]\n",
       " [1, 3, 5, 7]\n",
       " [1, 3, 6, 8]\n",
       " [1, 4, 5, 8]\n",
       " [1, 4, 6, 7]\n",
       " [2, 3, 5, 8]\n",
       " [2, 3, 6, 7]\n",
       " [2, 4, 5, 7]\n",
       " [2, 4, 6, 8]\n",
       " [3, 4, 5, 6]\n",
       " [3, 4, 7, 8]\n",
       " [5, 6, 7, 8]"
      ]
     },
     "execution_count": 8,
     "metadata": {},
     "output_type": "execute_result"
    }
   ],
   "source": [
    "C = circuits(M270)"
   ]
  },
  {
   "cell_type": "markdown",
   "metadata": {},
   "source": [
    "exclusively has rank 3 circuits, each element contained in exactly 7."
   ]
  },
  {
   "cell_type": "code",
   "execution_count": 37,
   "metadata": {},
   "outputs": [
    {
     "data": {
      "text/plain": [
       "true"
      ]
     },
     "execution_count": 37,
     "metadata": {},
     "output_type": "execute_result"
    }
   ],
   "source": [
    "is_binary(M270)"
   ]
  },
  {
   "cell_type": "code",
   "execution_count": 38,
   "metadata": {},
   "outputs": [
    {
     "data": {
      "text/plain": [
       "false"
      ]
     },
     "execution_count": 38,
     "metadata": {},
     "output_type": "execute_result"
    }
   ],
   "source": [
    "is_ternary(M270)"
   ]
  },
  {
   "cell_type": "code",
   "execution_count": 14,
   "metadata": {},
   "outputs": [],
   "source": [
    "#we compute the TSC of M270, and its reduced coordinate ring \n",
    "#(see tsc CoordinRing.jl and reduceideals.jl for code)"
   ]
  },
  {
   "cell_type": "code",
   "execution_count": 13,
   "metadata": {},
   "outputs": [
    {
     "data": {
      "text/plain": [
       "2-element Vector{MPolyDecRingElem{fmpq, fmpq_mpoly}}:\n",
       " 0\n",
       " 2"
      ]
     },
     "execution_count": 13,
     "metadata": {},
     "output_type": "execute_result"
    }
   ],
   "source": [
    "TSC_to_reduced_expression(M270,QQ)[1]"
   ]
  },
  {
   "cell_type": "markdown",
   "metadata": {},
   "source": [
    "So far I think the conditions I have above will also work for (4,9) matroids thanks to duality and our (3,8) paper. However, I think we will still need to keep thinking up new ones since there are way more (4,9) matroids. I am not sure what to make of the 270 guy.\n",
    "\n"
   ]
  },
  {
   "cell_type": "markdown",
   "metadata": {},
   "source": [
    "check out hypersurfaces for smoothness with Jacobian criteria"
   ]
  },
  {
   "cell_type": "code",
   "execution_count": 32,
   "metadata": {},
   "outputs": [
    {
     "name": "stdout",
     "output_type": "stream",
     "text": [
      "73 : ideal(1)\n",
      "\n",
      "96 : ideal(1)\n",
      "\n",
      "100 : ideal(1)\n",
      "\n",
      "173 : ideal(1)\n",
      "\n",
      "180 : ideal(1)\n",
      "\n",
      "181 : not hypersurface\n",
      "\n",
      "183 : ideal(1)\n",
      "\n",
      "184 : ideal(1)\n",
      "\n",
      "229 : ideal(1)\n",
      "\n",
      "231 : ideal(1)\n",
      "\n",
      "260 : ideal(3)\n",
      "\n",
      "269 : ideal(-2)\n",
      "\n"
     ]
    }
   ],
   "source": [
    "for z in more_needed\n",
    "     Ms = matroid_from_revlex_basis_encoding(d4n8[z],4,8)\n",
    "     I = matroid_to_reduced_expression(Ms, QQ,2)\n",
    "    if length(I[1]) == 2\n",
    "        \n",
    "        f = I[1][2]\n",
    "        R = parent(f)\n",
    "        v = vars(f)\n",
    "        J = union([derivative(f,x) for x in v],[f])\n",
    "        \n",
    "          \n",
    "        Sgens = I[2]\n",
    "        S = MPolyPowersOfElement(R , Sgens)\n",
    "        \n",
    "        Rloc ,iota = localization(R,S)\n",
    "        Q = ideal(Rloc,J)\n",
    "        Sat = saturated_ideal(Q)\n",
    "        print(z,\" : \", Sat,\"\\n\\n\")\n",
    "        \n",
    "    else \n",
    "        \n",
    "        print(z,\" : \",\"not hypersurface\",\"\\n\\n\")\n",
    "    end\n",
    "end\n",
    "        \n",
    "    \n",
    "    "
   ]
  },
  {
   "cell_type": "code",
   "execution_count": null,
   "metadata": {},
   "outputs": [],
   "source": []
  }
 ],
 "metadata": {
  "kernelspec": {
   "display_name": "Julia 1.7.1",
   "language": "julia",
   "name": "julia-1.7"
  },
  "language_info": {
   "file_extension": ".jl",
   "mimetype": "application/julia",
   "name": "julia",
   "version": "1.7.1"
  }
 },
 "nbformat": 4,
 "nbformat_minor": 4
}
