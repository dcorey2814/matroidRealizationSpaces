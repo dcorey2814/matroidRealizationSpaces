{
 "cells": [
  {
   "cell_type": "code",
   "execution_count": 40,
   "metadata": {},
   "outputs": [],
   "source": [
    "using Oscar\n",
    "using Combinatorics\n",
    "pm = Polymake\n",
    "\n",
    "include(\"matroid_realization.jl\");\n",
    "include(\"reduceIdeals.jl\")\n",
    "include(\"tscCoordRing.jl\");\n",
    "\n",
    "d4n8 = vec(readlines(\"d4n8.dat\"));\n",
    "d3n7 = vec(readlines(\"d3n7.dat\"));"
   ]
  },
  {
   "cell_type": "code",
   "execution_count": 2,
   "metadata": {},
   "outputs": [],
   "source": [
    "connected_d4n8 = []\n",
    "for z in 1:length(d4n8)\n",
    "    Mz = matroid_from_revlex_basis_encoding(d4n8[z], 4, 8)\n",
    "    if n_connected_components(Mz) == 1\n",
    "        push!(connected_d4n8,z)\n",
    "    end\n",
    "end\n"
   ]
  },
  {
   "cell_type": "code",
   "execution_count": 39,
   "metadata": {},
   "outputs": [
    {
     "data": {
      "text/plain": [
       "617"
      ]
     },
     "execution_count": 39,
     "metadata": {},
     "output_type": "execute_result"
    }
   ],
   "source": [
    "length(d4n8)"
   ]
  },
  {
   "cell_type": "code",
   "execution_count": 3,
   "metadata": {},
   "outputs": [
    {
     "data": {
      "text/plain": [
       "592-element Vector{Any}:\n",
       "   1\n",
       "   2\n",
       "   3\n",
       "   4\n",
       "   5\n",
       "   6\n",
       "   7\n",
       "   8\n",
       "   9\n",
       "  10\n",
       "  11\n",
       "  12\n",
       "  13\n",
       "   ⋮\n",
       " 582\n",
       " 583\n",
       " 584\n",
       " 585\n",
       " 586\n",
       " 587\n",
       " 588\n",
       " 589\n",
       " 590\n",
       " 591\n",
       " 592\n",
       " 593"
      ]
     },
     "execution_count": 3,
     "metadata": {},
     "output_type": "execute_result"
    }
   ],
   "source": [
    "connected_d4n8"
   ]
  },
  {
   "cell_type": "code",
   "execution_count": 43,
   "metadata": {},
   "outputs": [
    {
     "data": {
      "text/plain": [
       "in_lines (generic function with 1 method)"
      ]
     },
     "execution_count": 43,
     "metadata": {},
     "output_type": "execute_result"
    }
   ],
   "source": [
    "#for an element n, counts how many lines its in\n",
    "function in_lines(n,L)\n",
    "    xn = 0\n",
    "    for z in 1:length(L)\n",
    "        if n in L[z]\n",
    "           xn += 1 \n",
    "        end\n",
    "    end\n",
    "    return xn\n",
    "end"
   ]
  },
  {
   "cell_type": "code",
   "execution_count": 41,
   "metadata": {},
   "outputs": [],
   "source": [
    "no_planes = []\n",
    "for z in connected_d4n8\n",
    "    Mz = matroid_from_revlex_basis_encoding(d4n8[z], 4, 8)\n",
    "    L = [h for h in circuits(Mz) if length(h) == 4]\n",
    "    ns = [n for n in 1:8 if in_lines(n,L) == 0]\n",
    "    if length(ns)>0\n",
    "        push!(no_planes,z)\n",
    "    end\n",
    "end"
   ]
  },
  {
   "cell_type": "code",
   "execution_count": 42,
   "metadata": {},
   "outputs": [],
   "source": [
    "one_planes = []\n",
    "for z in connected_d4n8\n",
    "   Mz = matroid_from_revlex_basis_encoding(d4n8[z], 4, 8)\n",
    "    L = [h for h in circuits(Mz) if length(h) == 4]\n",
    "    ns = [n for n in 1:8 if in_lines(n,L) == 1]\n",
    "    if length(ns)>0\n",
    "        push!(one_planes,z)\n",
    "    end\n",
    "end"
   ]
  },
  {
   "cell_type": "code",
   "execution_count": 43,
   "metadata": {},
   "outputs": [],
   "source": [
    "c3 = []\n",
    "for z in connected_d4n8\n",
    "    Mz = matroid_from_revlex_basis_encoding(d4n8[z], 4, 8)\n",
    "    c = [t for t in circuits(Mz) if length(t) == 3]\n",
    "    if length(c)>0\n",
    "        push!(c3,z)\n",
    "    end\n",
    "end"
   ]
  },
  {
   "cell_type": "code",
   "execution_count": 44,
   "metadata": {},
   "outputs": [
    {
     "data": {
      "text/plain": [
       "327-element Vector{Any}:\n",
       "   4\n",
       "   5\n",
       "   6\n",
       "   7\n",
       "   8\n",
       "   9\n",
       "  10\n",
       "  12\n",
       "  13\n",
       "  14\n",
       "  15\n",
       "  16\n",
       "  17\n",
       "   ⋮\n",
       " 571\n",
       " 572\n",
       " 573\n",
       " 575\n",
       " 576\n",
       " 580\n",
       " 584\n",
       " 585\n",
       " 586\n",
       " 587\n",
       " 588\n",
       " 590"
      ]
     },
     "execution_count": 44,
     "metadata": {},
     "output_type": "execute_result"
    }
   ],
   "source": [
    "#I think this is the better two circuit check\n",
    "two_circs_prop = []\n",
    "for z in connected_d4n8\n",
    "    \n",
    "    Mz = matroid_from_revlex_basis_encoding(d4n8[z], 4, 8)\n",
    "    Hyps = [c for c in circuits(Mz) if length(c) == 4]\n",
    "    ns = [n for n in 1:8 if in_lines(n,Hyps) == 2]\n",
    "    \n",
    "    for n in ns\n",
    "        \n",
    "        Cn = [c for c in Hyps if n in c]\n",
    "        bn1 = [b for b in bases(Mz) if issubset(setdiff(Cn[1],[n]),b)]\n",
    "        int = [intersect(setdiff(Cn[2],[n]),b) for b in bn1]\n",
    "        if length(int)>0\n",
    "            push!(two_circs_prop,z)\n",
    "        end\n",
    "    end\n",
    "end\n",
    "two = unique(two_circs_prop)        "
   ]
  },
  {
   "cell_type": "markdown",
   "metadata": {},
   "source": [
    "***Condition***\n",
    "There exists an element $t$ such that $t$ is contained in 3 circuit hyperplanes \n",
    "$\\eta_1$, $\\eta_2$, $\\eta_3$, and there exists a basis $B$ such that $\\eta_1\\setminus t\\subset B$, and we have $B\\setminus\\eta_1\\subset\\eta_2, \\eta_3$, and $|\\eta_i\\cap B|>=2$ for $i \\in [3]$."
   ]
  },
  {
   "cell_type": "code",
   "execution_count": 45,
   "metadata": {},
   "outputs": [
    {
     "data": {
      "text/plain": [
       "288-element Vector{Any}:\n",
       "  19\n",
       "  20\n",
       "  21\n",
       "  22\n",
       "  23\n",
       "  24\n",
       "  25\n",
       "  26\n",
       "  27\n",
       "  28\n",
       "  29\n",
       "  32\n",
       "  33\n",
       "   ⋮\n",
       " 577\n",
       " 578\n",
       " 579\n",
       " 580\n",
       " 581\n",
       " 584\n",
       " 585\n",
       " 586\n",
       " 587\n",
       " 588\n",
       " 589\n",
       " 590"
      ]
     },
     "execution_count": 45,
     "metadata": {},
     "output_type": "execute_result"
    }
   ],
   "source": [
    "#this is doesn't exactly work the way i need it to\n",
    "\n",
    "planes_3_prop = []\n",
    "for z in connected_d4n8\n",
    "    \n",
    "    Mz = matroid_from_revlex_basis_encoding(d4n8[z], 4, 8)\n",
    "    L = [c for c in circuits(Mz) if length(c) == 4]\n",
    "    \n",
    "    Bz = bases(Mz)\n",
    "    \n",
    "    ns = [n for n in 1:8 if in_lines(n,L) == 3]\n",
    "    for n in ns\n",
    "        \n",
    "        withn = [setdiff(c,[n]) for c in L if n in c]\n",
    "    \n",
    "        b1 = [b for b in Bz if length(intersect(b,withn[1]))>2]\n",
    "        b2 = [b for b in Bz if length(intersect(b,withn[2]))>=2]\n",
    "        b3 = [b for b in Bz if length(intersect(b,withn[3]))>=2]\n",
    "        \n",
    "        int = intersect(b1,b2,b3)\n",
    "        \n",
    "        if length(int)>0\n",
    "            push!(planes_3_prop,z)\n",
    "        end\n",
    "        \n",
    "    end\n",
    "end\n",
    "\n",
    "three = unique!(planes_3_prop)"
   ]
  },
  {
   "cell_type": "code",
   "execution_count": 44,
   "metadata": {},
   "outputs": [
    {
     "data": {
      "text/plain": [
       "318-element Vector{Any}:\n",
       "  10\n",
       "  11\n",
       "  14\n",
       "  15\n",
       "  16\n",
       "  17\n",
       "  18\n",
       "  19\n",
       "  20\n",
       "  21\n",
       "  22\n",
       "  23\n",
       "  24\n",
       "   ⋮\n",
       " 511\n",
       " 512\n",
       " 513\n",
       " 514\n",
       " 520\n",
       " 521\n",
       " 529\n",
       " 536\n",
       " 544\n",
       " 556\n",
       " 566\n",
       " 574"
      ]
     },
     "execution_count": 44,
     "metadata": {},
     "output_type": "execute_result"
    }
   ],
   "source": [
    "#modified 3 condition\n",
    "uu = []\n",
    "for z in connected_d4n8\n",
    "    Mz = matroid_from_revlex_basis_encoding(d4n8[z], 4, 8)\n",
    "    C4 = [c for c in circuits(Mz) if length(c) == 4]\n",
    "    ns = [n for n in 1:8 if in_lines(n,C4) == 3]\n",
    "    Bz = bases(Mz)\n",
    "    for n in ns\n",
    "        Cn = [setdiff(c,n) for c in C4 if n in c]\n",
    "        b1 = [b for b in Bz if issubset(Cn[1],b)]\n",
    "        b2 = [b for b in b1 if length(intersect(b,Cn[2]))>1 && issubset(setdiff(b,Cn[1]),Cn[2])]\n",
    "        b3 = [b for b in b2 if length(intersect(b,Cn[2]))>1 && !(issubset(setdiff(Cn[2],b),Cn[3]))]\n",
    "        \n",
    "        \n",
    "        if length(b3)>0 \n",
    "            push!(uu,z)\n",
    "        end\n",
    "    end\n",
    "end\n",
    "three = unique!(uu)"
   ]
  },
  {
   "cell_type": "code",
   "execution_count": 49,
   "metadata": {},
   "outputs": [
    {
     "data": {
      "text/plain": [
       "538-element Vector{Any}:\n",
       "   1\n",
       "   2\n",
       "   4\n",
       "   5\n",
       "  12\n",
       "  19\n",
       "  42\n",
       "  77\n",
       " 103\n",
       " 113\n",
       " 157\n",
       " 185\n",
       " 235\n",
       "   ⋮\n",
       " 329\n",
       " 331\n",
       " 333\n",
       " 347\n",
       " 349\n",
       " 350\n",
       " 352\n",
       " 353\n",
       " 356\n",
       " 357\n",
       " 358\n",
       " 529"
      ]
     },
     "execution_count": 49,
     "metadata": {},
     "output_type": "execute_result"
    }
   ],
   "source": [
    "K = union(no_planes,one_planes,c3,two,three)"
   ]
  },
  {
   "cell_type": "code",
   "execution_count": 50,
   "metadata": {},
   "outputs": [],
   "source": [
    "zero_ideal = []\n",
    "not_realizable = []\n",
    "more_needed = []\n",
    "\n",
    "for s in setdiff(setdiff(connected_d4n8,K),[270])\n",
    "    #print(s,\"\\n\")\n",
    "    Ms = matroid_from_revlex_basis_encoding(d4n8[s],4,8)\n",
    "    I = matroid_to_reduced_expression(Ms, QQ,2)\n",
    "    \n",
    "    if I[1] == [0]\n",
    "        push!(zero_ideal,s)\n",
    "        \n",
    "    elseif (1 in I[1] || -1 in I[1] || I == \"Not Realizable 0 in Semigroup\")\n",
    "        \n",
    "        push!(not_realizable,s)\n",
    "        \n",
    "    else\n",
    "        push!(more_needed,s)\n",
    "        \n",
    "    end\n",
    "end"
   ]
  },
  {
   "cell_type": "code",
   "execution_count": 209,
   "metadata": {},
   "outputs": [
    {
     "data": {
      "text/plain": [
       "23-element Vector{Any}:\n",
       "  76\n",
       " 102\n",
       " 129\n",
       " 133\n",
       " 135\n",
       " 179\n",
       " 209\n",
       " 213\n",
       " 214\n",
       " 215\n",
       " 245\n",
       " 247\n",
       " 248\n",
       " 249\n",
       " 259\n",
       " 334\n",
       " 351\n",
       " 354\n",
       " 359\n",
       " 360\n",
       " 363\n",
       " 364\n",
       " 365"
      ]
     },
     "execution_count": 209,
     "metadata": {},
     "output_type": "execute_result"
    }
   ],
   "source": [
    "zero_ideal"
   ]
  },
  {
   "cell_type": "code",
   "execution_count": 210,
   "metadata": {},
   "outputs": [
    {
     "data": {
      "text/plain": [
       "12-element Vector{Any}:\n",
       " 202\n",
       " 210\n",
       " 211\n",
       " 226\n",
       " 228\n",
       " 243\n",
       " 256\n",
       " 257\n",
       " 258\n",
       " 266\n",
       " 267\n",
       " 268"
      ]
     },
     "execution_count": 210,
     "metadata": {},
     "output_type": "execute_result"
    }
   ],
   "source": [
    "not_realizable"
   ]
  },
  {
   "cell_type": "code",
   "execution_count": 51,
   "metadata": {},
   "outputs": [
    {
     "data": {
      "text/plain": [
       "14-element Vector{Any}:\n",
       "  73\n",
       "  96\n",
       " 100\n",
       " 173\n",
       " 180\n",
       " 181\n",
       " 183\n",
       " 184\n",
       " 229\n",
       " 231\n",
       " 260\n",
       " 269\n",
       " 361\n",
       " 362"
      ]
     },
     "execution_count": 51,
     "metadata": {},
     "output_type": "execute_result"
    }
   ],
   "source": [
    "more_needed"
   ]
  },
  {
   "cell_type": "code",
   "execution_count": 109,
   "metadata": {},
   "outputs": [
    {
     "name": "stdout",
     "output_type": "stream",
     "text": [
      "73;\n",
      "\n",
      "fmpq_mpoly[0, x_{1, 3}^2*x_{3, 3} - x_{1, 3}^2 - x_{1, 3}*x_{3, 3}^2 + x_{3, 3}^2]\n",
      "\n",
      " has 1 generator(s)\n",
      "\n",
      "92;\n",
      "\n",
      "fmpq_mpoly[0, 2]\n",
      "\n",
      " has 1 generator(s)\n",
      "\n",
      "96;\n",
      "\n",
      "fmpq_mpoly[0, x_{2, 3}^2*x_{3, 3} - x_{2, 3}^2 - x_{2, 3}*x_{3, 3}^2 + x_{2, 3}*x_{3, 3} + x_{2, 3} - x_{3, 3}]\n",
      "\n",
      " has 1 generator(s)\n",
      "\n",
      "100;\n",
      "\n",
      "fmpq_mpoly[0, x_{2, 3}^2*x_{3, 3} + x_{2, 3}^2 - x_{2, 3}*x_{3, 3}^2 - 2*x_{2, 3}*x_{3, 3} - x_{2, 3} + x_{3, 3}^2 + x_{3, 3}]\n",
      "\n",
      " has 1 generator(s)\n",
      "\n",
      "160;\n",
      "\n",
      "fmpq_mpoly[0, x_{1, 2}^2 - x_{1, 2} + 1]\n",
      "\n",
      " has 1 generator(s)\n",
      "\n",
      "173;\n",
      "\n",
      "fmpq_mpoly[0, 2*x_{2, 3}*x_{3, 3} - x_{2, 3} - x_{3, 3}^2 - x_{3, 3} + 1]\n",
      "\n",
      " has 1 generator(s)\n",
      "\n",
      "180;\n",
      "\n",
      "fmpq_mpoly[0, x_{2, 3}*x_{3, 3} + x_{2, 3} - 2*x_{3, 3}]\n",
      "\n",
      " has 1 generator(s)\n",
      "\n",
      "181;\n",
      "\n",
      "fmpq_mpoly[0, x_{2, 3}*x_{3, 3} + x_{2, 3} - 2*x_{3, 3}, 2*x_{2, 3} - x_{3, 3} - 1]\n",
      "\n",
      " has 2 generator(s)\n",
      "\n",
      "183;\n",
      "\n",
      "fmpq_mpoly[0, x_{2, 3}^2 - 1]\n",
      "\n",
      " has 1 generator(s)\n",
      "\n",
      "184;\n",
      "\n",
      "fmpq_mpoly[0, x_{2, 3}^2 - 1]\n",
      "\n",
      " has 1 generator(s)\n",
      "\n",
      "229;\n",
      "\n",
      "fmpq_mpoly[0, x_{3, 3}^2 - 3*x_{3, 3} + 1]\n",
      "\n",
      " has 1 generator(s)\n",
      "\n",
      "231;\n",
      "\n",
      "fmpq_mpoly[0, 3*x_{1, 3}^2 - 3*x_{1, 3} + 1]\n",
      "\n",
      " has 1 generator(s)\n",
      "\n",
      "234;\n",
      "\n",
      "fmpq_mpoly[0, 2*x_{1, 3}*x_{3, 3} - x_{1, 3} - x_{3, 3}]\n",
      "\n",
      " has 1 generator(s)\n",
      "\n",
      "253;\n",
      "\n",
      "fmpq_mpoly[0, 2]\n",
      "\n",
      " has 1 generator(s)\n",
      "\n",
      "260;\n",
      "\n",
      "fmpq_mpoly[0, 3]\n",
      "\n",
      " has 1 generator(s)\n",
      "\n",
      "269;\n",
      "\n",
      "fmpq_mpoly[0, -2]\n",
      "\n",
      " has 1 generator(s)\n",
      "\n",
      "361;\n",
      "\n",
      "fmpq_mpoly[0, 2]\n",
      "\n",
      " has 1 generator(s)\n",
      "\n",
      "362;\n",
      "\n",
      "fmpq_mpoly[0, 2]\n",
      "\n",
      " has 1 generator(s)\n",
      "\n"
     ]
    }
   ],
   "source": [
    "for z in more_needed\n",
    "    print(z,\";\",\"\\n\\n\")\n",
    "    Ms = matroid_from_revlex_basis_encoding(d4n8[z],4,8)\n",
    "    I = matroid_to_reduced_expression(Ms, QQ,2)\n",
    "    \n",
    "    if I isa String \n",
    "        print(I,\"\\n\\n\")\n",
    "        \n",
    "    else \n",
    "        print(I[1],\"\\n\\n\",\" has \", length(I[1])-1,\" generator(s)\",\"\\n\\n\")\n",
    "    end\n",
    "end"
   ]
  },
  {
   "cell_type": "code",
   "execution_count": 110,
   "metadata": {},
   "outputs": [
    {
     "data": {
      "text/plain": [
       "Matroid of rank 4 on 8 elements"
      ]
     },
     "execution_count": 110,
     "metadata": {},
     "output_type": "execute_result"
    }
   ],
   "source": [
    "#wierd matroid\n",
    "M270 = matroid_from_revlex_basis_encoding(d4n8[270], 4, 8)"
   ]
  },
  {
   "cell_type": "code",
   "execution_count": 111,
   "metadata": {},
   "outputs": [
    {
     "data": {
      "text/plain": [
       "14-element Vector{Vector{Int64}}:\n",
       " [1, 2, 3, 4]\n",
       " [1, 2, 5, 6]\n",
       " [1, 2, 7, 8]\n",
       " [1, 3, 5, 7]\n",
       " [1, 3, 6, 8]\n",
       " [1, 4, 5, 8]\n",
       " [1, 4, 6, 7]\n",
       " [2, 3, 5, 8]\n",
       " [2, 3, 6, 7]\n",
       " [2, 4, 5, 7]\n",
       " [2, 4, 6, 8]\n",
       " [3, 4, 5, 6]\n",
       " [3, 4, 7, 8]\n",
       " [5, 6, 7, 8]"
      ]
     },
     "execution_count": 111,
     "metadata": {},
     "output_type": "execute_result"
    }
   ],
   "source": [
    "nonbases(M270)"
   ]
  },
  {
   "cell_type": "code",
   "execution_count": 215,
   "metadata": {},
   "outputs": [
    {
     "data": {
      "text/plain": [
       "14-element Vector{Vector{Int64}}:\n",
       " [1, 2, 3, 4]\n",
       " [1, 2, 5, 6]\n",
       " [1, 2, 7, 8]\n",
       " [1, 3, 5, 7]\n",
       " [1, 3, 6, 8]\n",
       " [1, 4, 5, 8]\n",
       " [1, 4, 6, 7]\n",
       " [2, 3, 5, 8]\n",
       " [2, 3, 6, 7]\n",
       " [2, 4, 5, 7]\n",
       " [2, 4, 6, 8]\n",
       " [3, 4, 5, 6]\n",
       " [3, 4, 7, 8]\n",
       " [5, 6, 7, 8]"
      ]
     },
     "execution_count": 215,
     "metadata": {},
     "output_type": "execute_result"
    }
   ],
   "source": [
    "C270 = [c for c in circuits(M270) if length(c) == 4]"
   ]
  },
  {
   "cell_type": "markdown",
   "metadata": {},
   "source": [
    "***what about self dual***"
   ]
  },
  {
   "cell_type": "code",
   "execution_count": 34,
   "metadata": {},
   "outputs": [],
   "source": [
    "sd = []\n",
    "for z in connected_d4n8\n",
    "    Mz = matroid_from_revlex_basis_encoding(d4n8[z], 4, 8)\n",
    "    dMz = dual_matroid(Mz)\n",
    "    if !(bases(Mz) == bases(dMz))\n",
    "        push!(sd,z)\n",
    "    end\n",
    "end"
   ]
  },
  {
   "cell_type": "code",
   "execution_count": 35,
   "metadata": {},
   "outputs": [
    {
     "data": {
      "text/plain": [
       "592-element Vector{Any}:\n",
       "   1\n",
       "   2\n",
       "   3\n",
       "   4\n",
       "   5\n",
       "   6\n",
       "   7\n",
       "   8\n",
       "   9\n",
       "  10\n",
       "  11\n",
       "  12\n",
       "  13\n",
       "   ⋮\n",
       " 582\n",
       " 583\n",
       " 584\n",
       " 585\n",
       " 586\n",
       " 587\n",
       " 588\n",
       " 589\n",
       " 590\n",
       " 591\n",
       " 592\n",
       " 593"
      ]
     },
     "execution_count": 35,
     "metadata": {},
     "output_type": "execute_result"
    }
   ],
   "source": [
    "sd#are theere no self duals?"
   ]
  },
  {
   "cell_type": "code",
   "execution_count": 36,
   "metadata": {},
   "outputs": [
    {
     "data": {
      "text/plain": [
       "101-element Vector{Any}:\n",
       "   1\n",
       "   2\n",
       "   4\n",
       "   5\n",
       "  12\n",
       "  19\n",
       "  42\n",
       "  77\n",
       " 103\n",
       " 113\n",
       " 157\n",
       " 185\n",
       " 235\n",
       "   ⋮\n",
       " 548\n",
       " 551\n",
       " 561\n",
       " 571\n",
       " 577\n",
       " 581\n",
       " 584\n",
       " 585\n",
       " 586\n",
       " 591\n",
       " 592\n",
       " 593"
      ]
     },
     "execution_count": 36,
     "metadata": {},
     "output_type": "execute_result"
    }
   ],
   "source": [
    "no_planes"
   ]
  },
  {
   "cell_type": "code",
   "execution_count": 37,
   "metadata": {},
   "outputs": [
    {
     "data": {
      "text/plain": [
       "Matroid of rank 4 on 8 elements"
      ]
     },
     "execution_count": 37,
     "metadata": {},
     "output_type": "execute_result"
    }
   ],
   "source": [
    " Mz = matroid_from_revlex_basis_encoding(d4n8[12], 4, 8)"
   ]
  },
  {
   "cell_type": "code",
   "execution_count": 38,
   "metadata": {},
   "outputs": [
    {
     "data": {
      "text/plain": [
       "47-element Vector{Vector{Int64}}:\n",
       " [3, 4, 5, 7]\n",
       " [1, 2, 5, 6]\n",
       " [1, 2, 3, 4]\n",
       " [6, 7, 8]\n",
       " [5, 7, 8]\n",
       " [5, 6, 8]\n",
       " [5, 6, 7]\n",
       " [4, 7, 8]\n",
       " [4, 6, 8]\n",
       " [4, 6, 7]\n",
       " [4, 5, 8]\n",
       " [4, 5, 6]\n",
       " [3, 7, 8]\n",
       " ⋮\n",
       " [1, 5, 8]\n",
       " [1, 5, 7]\n",
       " [1, 4, 8]\n",
       " [1, 4, 7]\n",
       " [1, 4, 6]\n",
       " [1, 4, 5]\n",
       " [1, 3, 8]\n",
       " [1, 3, 7]\n",
       " [1, 3, 6]\n",
       " [1, 3, 5]\n",
       " [1, 2, 8]\n",
       " [1, 2, 7]"
      ]
     },
     "execution_count": 38,
     "metadata": {},
     "output_type": "execute_result"
    }
   ],
   "source": [
    "H = hyperplanes(Mz)"
   ]
  },
  {
   "cell_type": "code",
   "execution_count": 6,
   "metadata": {},
   "outputs": [
    {
     "data": {
      "text/plain": [
       "Set{Int64} with 2 elements:\n",
       "  2\n",
       "  1"
      ]
     },
     "execution_count": 6,
     "metadata": {},
     "output_type": "execute_result"
    }
   ],
   "source": [
    "A = Set([1,2])\n",
    "B = Set([2,1])"
   ]
  },
  {
   "cell_type": "code",
   "execution_count": 7,
   "metadata": {},
   "outputs": [
    {
     "data": {
      "text/plain": [
       "true"
      ]
     },
     "execution_count": 7,
     "metadata": {},
     "output_type": "execute_result"
    }
   ],
   "source": [
    "A == B"
   ]
  },
  {
   "cell_type": "code",
   "execution_count": 8,
   "metadata": {},
   "outputs": [],
   "source": [
    "sd = []\n",
    "for z in connected_d4n8\n",
    "    Mz = matroid_from_revlex_basis_encoding(d4n8[z], 4, 8)\n",
    "    dMz = dual_matroid(Mz)\n",
    "    Bmz = Set(bases(Mz))\n",
    "    BdMz = Set(bases(dMz))\n",
    "    \n",
    "    if Bmz == BdMz\n",
    "        push!(sd,z)\n",
    "    end\n",
    "end"
   ]
  },
  {
   "cell_type": "code",
   "execution_count": 9,
   "metadata": {},
   "outputs": [
    {
     "data": {
      "text/plain": [
       "12-element Vector{Any}:\n",
       "   1\n",
       "   3\n",
       "   9\n",
       "  29\n",
       " 102\n",
       " 112\n",
       " 135\n",
       " 215\n",
       " 249\n",
       " 270\n",
       " 320\n",
       " 380"
      ]
     },
     "execution_count": 9,
     "metadata": {},
     "output_type": "execute_result"
    }
   ],
   "source": [
    "sd"
   ]
  },
  {
   "cell_type": "markdown",
   "metadata": {},
   "source": [
    "play with jacobian stuff for hypersurfaces"
   ]
  },
  {
   "cell_type": "code",
   "execution_count": 52,
   "metadata": {},
   "outputs": [
    {
     "name": "stdout",
     "output_type": "stream",
     "text": [
      "73 : ideal(1)\n",
      "\n",
      "96 : ideal(1)\n",
      "\n",
      "100 : ideal(1)\n",
      "\n",
      "173 : ideal(1)\n",
      "\n",
      "180 : ideal(1)\n",
      "\n",
      "181 : not hypersurface\n",
      "\n",
      "183 : ideal(1)\n",
      "\n",
      "184 : ideal(1)\n",
      "\n",
      "229 : ideal(1)\n",
      "\n",
      "231 : ideal(1)\n",
      "\n",
      "260 : ideal(3)\n",
      "\n",
      "269 : ideal(-2)\n",
      "\n",
      "361 : ideal(1)\n",
      "\n",
      "362 : ideal(1)\n",
      "\n"
     ]
    },
    {
     "ename": "LoadError",
     "evalue": "syntax: unexpected \"end\"",
     "output_type": "error",
     "traceback": [
      "syntax: unexpected \"end\"",
      "",
      "Stacktrace:",
      " [1] top-level scope",
      "   @ In[52]:27"
     ]
    }
   ],
   "source": [
    "for z in more_needed\n",
    "     Ms = matroid_from_revlex_basis_encoding(d4n8[z],4,8)\n",
    "     I = matroid_to_reduced_expression(Ms, QQ,2)\n",
    "    if length(I[1]) == 2\n",
    "        \n",
    "        f = I[1][2]\n",
    "        R = parent(f)\n",
    "        v = vars(f)\n",
    "        J = union([derivative(f,x) for x in v],[f])\n",
    "        \n",
    "          \n",
    "        Sgens = I[2]\n",
    "        S = MPolyPowersOfElement(R , Sgens)\n",
    "        \n",
    "        Rloc ,iota = localization(R,S)\n",
    "        Q = ideal(Rloc,J)\n",
    "        Sat = saturated_ideal(Q)\n",
    "        print(z,\" : \", Sat,\"\\n\\n\")\n",
    "        \n",
    "    else \n",
    "        \n",
    "        print(z,\" : \",\"not hypersurface\",\"\\n\\n\")\n",
    "    end\n",
    "end\n",
    "        \n",
    "        \n",
    "\n",
    "    "
   ]
  },
  {
   "cell_type": "code",
   "execution_count": 7,
   "metadata": {},
   "outputs": [],
   "source": [
    "test = []\n",
    "for z in connected_d4n8\n",
    "    Ms = matroid_from_revlex_basis_encoding(d4n8[z],4,8)\n",
    "    B = [b for b in bases(Ms) if\n",
    "    nB = nonbases(Ms)\n",
    "    if issubset([[1,2,3,4],[2,3,4,8],[1,3,4,8]],B) && issubset([[2,3,4,8],[1,2,3,8]],nB)\n",
    "        push!(test,z)\n",
    "    end\n",
    "end"
   ]
  },
  {
   "cell_type": "code",
   "execution_count": 8,
   "metadata": {},
   "outputs": [
    {
     "data": {
      "text/plain": [
       "Any[]"
      ]
     },
     "execution_count": 8,
     "metadata": {},
     "output_type": "execute_result"
    }
   ],
   "source": [
    "test"
   ]
  },
  {
   "cell_type": "code",
   "execution_count": 13,
   "metadata": {},
   "outputs": [
    {
     "data": {
      "text/plain": [
       "4-element Vector{Vector{Int64}}:\n",
       " [2, 3, 5, 8]\n",
       " [2, 4, 6, 8]\n",
       " [3, 6, 7, 8]\n",
       " [4, 5, 7, 8]"
      ]
     },
     "execution_count": 13,
     "metadata": {},
     "output_type": "execute_result"
    }
   ],
   "source": [
    "Ms = matroid_from_revlex_basis_encoding(d4n8[100],4,8)\n",
    "B8 = [b for b in bases(Ms) if 8 in b]\n",
    "bB8 = [nb for nb in nonbases(Ms) if 8 in nb]"
   ]
  },
  {
   "cell_type": "code",
   "execution_count": 22,
   "metadata": {},
   "outputs": [],
   "source": [
    "test = []\n",
    "for z in connected_d4n8\n",
    "    Ms = matroid_from_revlex_basis_encoding(d4n8[z],4,8)\n",
    "    B = bases(Ms)\n",
    "    if issubset(B8,B)\n",
    "        push!(test,z)\n",
    "    end\n",
    "end"
   ]
  },
  {
   "cell_type": "code",
   "execution_count": 23,
   "metadata": {},
   "outputs": [
    {
     "data": {
      "text/plain": [
       "41-element Vector{Any}:\n",
       "   1\n",
       "   2\n",
       "   4\n",
       "   5\n",
       "  12\n",
       "  19\n",
       "  25\n",
       "  26\n",
       "  27\n",
       "  40\n",
       "  42\n",
       "  43\n",
       "  44\n",
       "   ⋮\n",
       " 169\n",
       " 185\n",
       " 216\n",
       " 235\n",
       " 250\n",
       " 261\n",
       " 262\n",
       " 318\n",
       " 321\n",
       " 322\n",
       " 335\n",
       " 526"
      ]
     },
     "execution_count": 23,
     "metadata": {},
     "output_type": "execute_result"
    }
   ],
   "source": [
    "test"
   ]
  },
  {
   "cell_type": "code",
   "execution_count": 15,
   "metadata": {},
   "outputs": [
    {
     "data": {
      "text/plain": [
       "Matroid of rank 4 on 8 elements"
      ]
     },
     "execution_count": 15,
     "metadata": {},
     "output_type": "execute_result"
    }
   ],
   "source": [
    "U4_8 = uniform_matroid(4,8)"
   ]
  },
  {
   "cell_type": "code",
   "execution_count": 21,
   "metadata": {},
   "outputs": [
    {
     "data": {
      "text/plain": [
       "Matroid of rank 4 on 8 elements"
      ]
     },
     "execution_count": 21,
     "metadata": {},
     "output_type": "execute_result"
    }
   ],
   "source": [
    "matroid_from_bases(B8,8)"
   ]
  },
  {
   "cell_type": "code",
   "execution_count": 17,
   "metadata": {},
   "outputs": [
    {
     "data": {
      "text/plain": [
       "35"
      ]
     },
     "execution_count": 17,
     "metadata": {},
     "output_type": "execute_result"
    }
   ],
   "source": [
    "length([b for b in bases(U4_8) if 8 in b])"
   ]
  },
  {
   "cell_type": "code",
   "execution_count": null,
   "metadata": {},
   "outputs": [],
   "source": [
    "#do we get a matroid of rank 3 on 7 by getting rid of bases and nonbases containting 8\n",
    "#want to know the isomorphisms (or morphisms)"
   ]
  },
  {
   "cell_type": "code",
   "execution_count": 39,
   "metadata": {},
   "outputs": [
    {
     "data": {
      "text/plain": [
       "220-element Vector{Any}:\n",
       "   1\n",
       "   2\n",
       "   4\n",
       "   5\n",
       "  12\n",
       "  19\n",
       "  42\n",
       "  77\n",
       " 103\n",
       " 113\n",
       " 157\n",
       " 185\n",
       " 235\n",
       "   ⋮\n",
       " 386\n",
       " 409\n",
       " 424\n",
       " 440\n",
       " 444\n",
       " 454\n",
       " 457\n",
       " 472\n",
       " 481\n",
       " 485\n",
       " 500\n",
       " 519"
      ]
     },
     "execution_count": 39,
     "metadata": {},
     "output_type": "execute_result"
    }
   ],
   "source": [
    "test = []\n",
    "for t in 1:length(d3n7)\n",
    "     Mt = matroid_from_revlex_basis_encoding(d3n7[t],3,7)\n",
    "     Bt = [union(b,[8]) for b in bases(Mt)]\n",
    "    \n",
    "    for z in connected_d4n8\n",
    "        \n",
    "        Mz = matroid_from_revlex_basis_encoding(d4n8[z],4,8)\n",
    "        Bz = bases(Mz)\n",
    "        \n",
    "        if issubset(Bt,Bz)\n",
    "            push!(test,z)\n",
    "        end\n",
    "        \n",
    "    end\n",
    "end\n",
    "\n",
    "tested = unique(test)"
   ]
  },
  {
   "cell_type": "code",
   "execution_count": 30,
   "metadata": {},
   "outputs": [
    {
     "data": {
      "text/plain": [
       "23"
      ]
     },
     "execution_count": 30,
     "metadata": {},
     "output_type": "execute_result"
    }
   ],
   "source": [
    "length(d3n7)"
   ]
  },
  {
   "cell_type": "code",
   "execution_count": 46,
   "metadata": {},
   "outputs": [
    {
     "data": {
      "text/plain": [
       "318-element Vector{Any}:\n",
       "  10\n",
       "  11\n",
       "  14\n",
       "  15\n",
       "  16\n",
       "  17\n",
       "  18\n",
       "  19\n",
       "  20\n",
       "  21\n",
       "  22\n",
       "  23\n",
       "  24\n",
       "   ⋮\n",
       " 511\n",
       " 512\n",
       " 513\n",
       " 514\n",
       " 520\n",
       " 521\n",
       " 529\n",
       " 536\n",
       " 544\n",
       " 556\n",
       " 566\n",
       " 574"
      ]
     },
     "execution_count": 46,
     "metadata": {},
     "output_type": "execute_result"
    }
   ],
   "source": [
    "three"
   ]
  },
  {
   "cell_type": "code",
   "execution_count": 68,
   "metadata": {},
   "outputs": [
    {
     "data": {
      "text/plain": [
       "31-element Vector{Vector{Int64}}:\n",
       " [1, 2, 4, 8]\n",
       " [1, 3, 4, 8]\n",
       " [2, 3, 4, 8]\n",
       " [1, 2, 5, 8]\n",
       " [1, 3, 5, 8]\n",
       " [2, 3, 5, 8]\n",
       " [2, 4, 5, 8]\n",
       " [3, 4, 5, 8]\n",
       " [1, 2, 6, 8]\n",
       " [1, 3, 6, 8]\n",
       " [2, 3, 6, 8]\n",
       " [1, 4, 6, 8]\n",
       " [3, 4, 6, 8]\n",
       " ⋮\n",
       " [2, 3, 7, 8]\n",
       " [1, 4, 7, 8]\n",
       " [2, 4, 7, 8]\n",
       " [3, 4, 7, 8]\n",
       " [1, 5, 7, 8]\n",
       " [2, 5, 7, 8]\n",
       " [3, 5, 7, 8]\n",
       " [4, 5, 7, 8]\n",
       " [2, 6, 7, 8]\n",
       " [3, 6, 7, 8]\n",
       " [4, 6, 7, 8]\n",
       " [5, 6, 7, 8]"
      ]
     },
     "execution_count": 68,
     "metadata": {},
     "output_type": "execute_result"
    }
   ],
   "source": [
    "Mt = matroid_from_revlex_basis_encoding(d4n8[511],4,8)\n",
    "B = bases(Mt)\n",
    "B8 = [b for b in B if 8 in b]"
   ]
  },
  {
   "cell_type": "code",
   "execution_count": 48,
   "metadata": {},
   "outputs": [
    {
     "data": {
      "text/plain": [
       "51-element Vector{Vector{Int64}}:\n",
       " [1, 2, 4, 6]\n",
       " [1, 3, 4, 6]\n",
       " [2, 3, 4, 6]\n",
       " [1, 2, 5, 6]\n",
       " [1, 3, 5, 6]\n",
       " [2, 3, 5, 6]\n",
       " [2, 4, 5, 6]\n",
       " [3, 4, 5, 6]\n",
       " [1, 2, 4, 7]\n",
       " [1, 3, 4, 7]\n",
       " [2, 3, 4, 7]\n",
       " [1, 2, 5, 7]\n",
       " [1, 3, 5, 7]\n",
       " ⋮\n",
       " [2, 3, 7, 8]\n",
       " [1, 4, 7, 8]\n",
       " [2, 4, 7, 8]\n",
       " [3, 4, 7, 8]\n",
       " [1, 5, 7, 8]\n",
       " [2, 5, 7, 8]\n",
       " [3, 5, 7, 8]\n",
       " [4, 5, 7, 8]\n",
       " [2, 6, 7, 8]\n",
       " [3, 6, 7, 8]\n",
       " [4, 6, 7, 8]\n",
       " [5, 6, 7, 8]"
      ]
     },
     "execution_count": 48,
     "metadata": {},
     "output_type": "execute_result"
    }
   ],
   "source": [
    "B = bases(Mt)"
   ]
  },
  {
   "cell_type": "code",
   "execution_count": 72,
   "metadata": {},
   "outputs": [
    {
     "data": {
      "text/plain": [
       "19-element Vector{Vector{Int64}}:\n",
       " [1, 2, 3, 4]\n",
       " [1, 2, 3, 5]\n",
       " [1, 2, 3, 6]\n",
       " [1, 2, 3, 7]\n",
       " [1, 2, 3, 8]\n",
       " [1, 2, 4, 5]\n",
       " [1, 2, 6, 7]\n",
       " [1, 3, 4, 5]\n",
       " [1, 3, 6, 7]\n",
       " [1, 4, 5, 6]\n",
       " [1, 4, 5, 7]\n",
       " [1, 4, 5, 8]\n",
       " [1, 4, 6, 7]\n",
       " [1, 5, 6, 7]\n",
       " [1, 6, 7, 8]\n",
       " [2, 3, 4, 5]\n",
       " [2, 3, 6, 7]\n",
       " [2, 4, 6, 8]\n",
       " [4, 5, 6, 7]"
      ]
     },
     "execution_count": 72,
     "metadata": {},
     "output_type": "execute_result"
    }
   ],
   "source": [
    "nonbases(Mt)"
   ]
  },
  {
   "cell_type": "code",
   "execution_count": 73,
   "metadata": {},
   "outputs": [
    {
     "data": {
      "text/plain": [
       "4-element Vector{Vector{Int64}}:\n",
       " [1, 2, 3, 8]\n",
       " [1, 4, 5, 8]\n",
       " [1, 6, 7, 8]\n",
       " [2, 4, 6, 8]"
      ]
     },
     "execution_count": 73,
     "metadata": {},
     "output_type": "execute_result"
    }
   ],
   "source": [
    "[nb for nb in nonbases(Mt) if 8 in nb]"
   ]
  },
  {
   "cell_type": "code",
   "execution_count": null,
   "metadata": {},
   "outputs": [],
   "source": []
  },
  {
   "cell_type": "code",
   "execution_count": 50,
   "metadata": {},
   "outputs": [
    {
     "data": {
      "text/plain": [
       "true"
      ]
     },
     "execution_count": 50,
     "metadata": {},
     "output_type": "execute_result"
    }
   ],
   "source": [
    "[1,2,4,8] in B"
   ]
  },
  {
   "cell_type": "code",
   "execution_count": 51,
   "metadata": {},
   "outputs": [
    {
     "data": {
      "text/plain": [
       "true"
      ]
     },
     "execution_count": 51,
     "metadata": {},
     "output_type": "execute_result"
    }
   ],
   "source": [
    "[1,2,6,8] in B"
   ]
  },
  {
   "cell_type": "code",
   "execution_count": 52,
   "metadata": {},
   "outputs": [
    {
     "data": {
      "text/plain": [
       "true"
      ]
     },
     "execution_count": 52,
     "metadata": {},
     "output_type": "execute_result"
    }
   ],
   "source": [
    "[1,4,6,8] in B"
   ]
  },
  {
   "cell_type": "code",
   "execution_count": 53,
   "metadata": {},
   "outputs": [
    {
     "data": {
      "text/plain": [
       "false"
      ]
     },
     "execution_count": 53,
     "metadata": {},
     "output_type": "execute_result"
    }
   ],
   "source": [
    "[2,4,6,8] in B"
   ]
  },
  {
   "cell_type": "code",
   "execution_count": 54,
   "metadata": {},
   "outputs": [
    {
     "data": {
      "text/plain": [
       "19-element Vector{Vector{Int64}}:\n",
       " [1, 2, 3, 4]\n",
       " [1, 2, 3, 5]\n",
       " [1, 2, 3, 6]\n",
       " [1, 2, 3, 7]\n",
       " [1, 2, 3, 8]\n",
       " [1, 2, 4, 5]\n",
       " [1, 2, 6, 7]\n",
       " [1, 3, 4, 5]\n",
       " [1, 3, 6, 7]\n",
       " [1, 4, 5, 6]\n",
       " [1, 4, 5, 7]\n",
       " [1, 4, 5, 8]\n",
       " [1, 4, 6, 7]\n",
       " [1, 5, 6, 7]\n",
       " [1, 6, 7, 8]\n",
       " [2, 3, 4, 5]\n",
       " [2, 3, 6, 7]\n",
       " [2, 4, 6, 8]\n",
       " [4, 5, 6, 7]"
      ]
     },
     "execution_count": 54,
     "metadata": {},
     "output_type": "execute_result"
    }
   ],
   "source": [
    "nB = nonbases(Mt)"
   ]
  },
  {
   "cell_type": "code",
   "execution_count": 84,
   "metadata": {},
   "outputs": [
    {
     "data": {
      "text/plain": [
       "7-element Vector{Int64}:\n",
       " 1\n",
       " 2\n",
       " 3\n",
       " 4\n",
       " 5\n",
       " 6\n",
       " 7"
      ]
     },
     "execution_count": 84,
     "metadata": {},
     "output_type": "execute_result"
    }
   ],
   "source": [
    "reduce(union,[setdiff(b,[8]) for b in nB if 8 in b])"
   ]
  },
  {
   "cell_type": "code",
   "execution_count": 83,
   "metadata": {},
   "outputs": [
    {
     "data": {
      "text/plain": [
       "Any[]"
      ]
     },
     "execution_count": 83,
     "metadata": {},
     "output_type": "execute_result"
    }
   ],
   "source": [
    "T"
   ]
  },
  {
   "cell_type": "code",
   "execution_count": 81,
   "metadata": {},
   "outputs": [
    {
     "data": {
      "text/plain": [
       "false"
      ]
     },
     "execution_count": 81,
     "metadata": {},
     "output_type": "execute_result"
    }
   ],
   "source": [
    "issubset([1,4,6,7],nB)"
   ]
  },
  {
   "cell_type": "code",
   "execution_count": null,
   "metadata": {},
   "outputs": [],
   "source": []
  }
 ],
 "metadata": {
  "kernelspec": {
   "display_name": "Julia 1.7.1",
   "language": "julia",
   "name": "julia-1.7"
  },
  "language_info": {
   "file_extension": ".jl",
   "mimetype": "application/julia",
   "name": "julia",
   "version": "1.7.1"
  }
 },
 "nbformat": 4,
 "nbformat_minor": 4
}
