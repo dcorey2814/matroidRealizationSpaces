{
 "cells": [
  {
   "cell_type": "markdown",
   "metadata": {},
   "source": [
    "In this notebook, we demonstrate the techniques and procedures used to study matroids of rank 4 on 8 elements. These techniques scale in a straightforward way to our analysis of (4,9)-matroids."
   ]
  },
  {
   "cell_type": "code",
   "execution_count": 37,
   "metadata": {},
   "outputs": [
    {
     "ename": "LoadError",
     "evalue": "SystemError: opening file \"../data/d4n8.dat\": No such file or directory",
     "output_type": "error",
     "traceback": [
      "SystemError: opening file \"../data/d4n8.dat\": No such file or directory",
      "",
      "Stacktrace:",
      "  [1] systemerror(p::String, errno::Int32; extrainfo::Nothing)",
      "    @ Base ./error.jl:174",
      "  [2] #systemerror#68",
      "    @ ./error.jl:173 [inlined]",
      "  [3] systemerror",
      "    @ ./error.jl:173 [inlined]",
      "  [4] open(fname::String; lock::Bool, read::Nothing, write::Nothing, create::Nothing, truncate::Nothing, append::Nothing)",
      "    @ Base ./iostream.jl:293",
      "  [5] open",
      "    @ ./iostream.jl:282 [inlined]",
      "  [6] open(f::Base.var\"#376#377\"{Base.Pairs{Symbol, Union{}, Tuple{}, NamedTuple{(), Tuple{}}}}, args::String; kwargs::Base.Pairs{Symbol, Union{}, Tuple{}, NamedTuple{(), Tuple{}}})",
      "    @ Base ./io.jl:328",
      "  [7] open",
      "    @ ./io.jl:328 [inlined]",
      "  [8] #readlines#375",
      "    @ ./io.jl:549 [inlined]",
      "  [9] readlines(filename::String)",
      "    @ Base ./io.jl:549",
      " [10] top-level scope",
      "    @ In[37]:11"
     ]
    }
   ],
   "source": [
    "using Oscar\n",
    "using Combinatorics\n",
    "pm = Polymake\n",
    "\n",
    "\n",
    "include(\"../src/matroid_realization.jl\");\n",
    "include(\"../src/old/reduceIdealsv2.jl\")\n",
    "include(\"../src/old/JacobianCriterion.jl\")\n",
    "include(\"../src/old/TSC_CoordRingV2.jl\")\n",
    "\n",
    "d4n8 = vec(readlines(\"../data/d4n8.dat\"))"
   ]
  },
  {
   "cell_type": "markdown",
   "metadata": {},
   "source": [
    "We begin by removing matroids whose realization spaces are known to be smooth. We apply the following lemma:\n",
    "\n",
    "**Lemma:** Let $M$ be a $(4,8)$-matroid such that there exists an element $i\\in [8]$ contained in exactly $0\\leq k\\leq 3$ rank $3$ flats of cardinality at least $4$. Then there exists a smooth morphism $Gr_{M}\\to Gr_{M|[8]\\setminus i}$.\n",
    "\n",
    "**Remark:** Matroid duality induces an isomorphism $Gr_{M}\\cong Gr_{M^*}$. In other words, $Gr_{M|[8]\\setminus i}\\cong Gr_{(M|[8]\\setminus i)^*}$. By prior work, we know that all $(3,7)$ matroids have smooth thin Schubert cells, and therefore smooth realization spaces. Hence, we can restrict our search for singular realization spaces to those $(4,8)$ matroids that do not satisfy the hypotheses of the above lemma.\n",
    "\n",
    "We begin by isolating $(4,8)$-matroids such that every element of $[8]$ is contained in at least $4$ rank $3$ flats of cardinality at least $4$."
   ]
  },
  {
   "cell_type": "code",
   "execution_count": 6,
   "metadata": {},
   "outputs": [
    {
     "name": "stdout",
     "output_type": "stream",
     "text": [
      "isolate matroids with such that every element of [1,8] is in at least 4 planes\n"
     ]
    }
   ],
   "source": [
    "function in_planes(n,L)\n",
    "\n",
    "    Ln = [l for l in L if n in l]\n",
    "\n",
    "    return(length(Ln))\n",
    "\n",
    "end\n",
    "\n",
    "println(\"isolate matroids with such that every element of [1,8] is in at least 4 planes\")\n",
    "\n",
    "for t in 1:length(d4n8)\n",
    "    \n",
    "   # println(t)\n",
    "\n",
    "    Mt = matroid_from_revlex_basis_encoding(d4n8[t],4,8)\n",
    "\n",
    "    L = [h for h in hyperplanes(Mt) if length(h)>3]\n",
    "\n",
    "    ns = [n for n in 1:8 if in_planes(n,L)>3]\n",
    "\n",
    "    if length(ns) == 8\n",
    "                #println(\"four planes\")\n",
    "                    open(\"4_8_four_planes.dat\", \"a\") do file\n",
    "                         write(file,d4n8[t],\"\\n\")\n",
    "                    end \n",
    "    end\n",
    "end"
   ]
  },
  {
   "cell_type": "markdown",
   "metadata": {},
   "source": [
    "We have thus significantly cut down the number of matroids we need to consider:"
   ]
  },
  {
   "cell_type": "code",
   "execution_count": 7,
   "metadata": {},
   "outputs": [
    {
     "data": {
      "text/plain": [
       "95-element Vector{String}:\n",
       " \"0********0**********0********0***********0********0*************00****\"\n",
       " \"0********0**********0********0***********0******0***************0**0**\"\n",
       " \"0********0**********0*******0************0********0*************0*0***\"\n",
       " \"0********0**********0*******0************0*******0**************0**0**\"\n",
       " \"0********0**********0*******0************0*******0**********0********0\"\n",
       " \"0********0****0*****0****************************0*******0******00****\"\n",
       " \"0********0****0*****0****************************0*****0********0**0**\"\n",
       " \"0********0****0*****0****************************0*****0****0********0\"\n",
       " \"0********0****0*****0********0***********0******0***************0**0**\"\n",
       " \"0********0****0*****0********0***********0******0***********0********0\"\n",
       " \"0********0****0*****0********0***********0******0******0********0*****\"\n",
       " \"0********0****0*****0********0***********0******0******0********0**0**\"\n",
       " \"0********0****0*****0**0**********************0**********00**********0\"\n",
       " ⋮\n",
       " \"0000000000000000******0************0******0**********************00000\"\n",
       " \"0000000000000000******0******0*****0******0******0**********0********0\"\n",
       " \"0000000000000000******0******0*****0******0******0**********0*0**0****\"\n",
       " \"0000000000000000******0******0*****0******0******0*****000**0**0***0**\"\n",
       " \"0000000000000000******0******0***0*0******0******0***0****************\"\n",
       " \"0000000000000000******0******0***0*0******0******0***0******0*********\"\n",
       " \"0000000000000000******0******0***0*0******0******0***0******0*0*******\"\n",
       " \"0000000000000000******0******0***0*0******0******0***0******0*0**0****\"\n",
       " \"0000000000000000******0******0***0*0******0******0***0*000************\"\n",
       " \"0000000000000000******0******0***0*0******0******0***0*0000**0**00****\"\n",
       " \"0000000000000000000000000**********0000000000********************00000\"\n",
       " \"000000000000000000000000000000000000******0******0***0******0*0**0****\""
      ]
     },
     "execution_count": 7,
     "metadata": {},
     "output_type": "execute_result"
    }
   ],
   "source": [
    "four_planes = vec(readlines(\"4_8_four_planes.dat\"))"
   ]
  },
  {
   "cell_type": "markdown",
   "metadata": {},
   "source": [
    "We now check the remaining matroids to see if their realization spaces are singular. Note that this computation relies on the existence of a circuit of cardinality $n+1$, called a *reference circuit*. Therefore, the first step of the following computation checks for the existence of such a circuit. Matroids without such a reference circuit will be studied via their thin Schubert cells. The data for the coordinate rings consists of a polynomial ring, a multiplicative semigroup, and the vanishing ideal.\n",
    "\n",
    "We sort the matroids into the following categories: \n",
    "\n",
    "1) Not realizable.\n",
    "\n",
    "2) Vanishing idel reduces to 0.\n",
    "\n",
    "3) Vanishing ideal is univariate and principle.\n",
    "\n",
    "4) Vanishing ideal is multivariate and principle.\n",
    "\n",
    "5) Vanishing ideal is multivariate and principle.\n",
    "\n",
    "6) Vanishing ideal is multivariate with multiple generators.\n",
    "\n",
    "7) No reference Circuit\n",
    "\n",
    "**Note:** Different reference circuits lead to difference presenation of the coordinate ring of the realization space. Of course all presentations yield isomorphic realization spaces. However, we keep track of the reference circuit used for computing the coordinate ring using the following function."
   ]
  },
  {
   "cell_type": "code",
   "execution_count": 8,
   "metadata": {},
   "outputs": [
    {
     "data": {
      "text/plain": [
       "set_to_stars (generic function with 1 method)"
      ]
     },
     "execution_count": 8,
     "metadata": {},
     "output_type": "execute_result"
    }
   ],
   "source": [
    "function set_to_stars(set,n)\n",
    "    \n",
    "    z = []\n",
    "    \n",
    "    for a in 1:n\n",
    "        if a in set\n",
    "            push!(z,\"*\")\n",
    "        else\n",
    "            push!(z,\"0\")\n",
    "        end\n",
    "    end\n",
    "    return join(z)\n",
    "end\n"
   ]
  },
  {
   "cell_type": "markdown",
   "metadata": {},
   "source": [
    "Then we save the data as a string of $*$'s and $0$'s, such that the first $8$ entries of the string tell us the reference circuit. That is, we have a \"$*$\" in the $i$th position if $i$ is an element of the referenc circuit, \"$0$\" otherwise. The remaining $70$ entries of the string correspond to the the elements of ${[8]\\choose 4}$ listed in reverse lex order.\n",
    "\n",
    "Hence, we classify each matroid into one of the 7 categories above, and record which reference basis give us such a presentation of the coordinate ring. Then, where applicable, we check if the realization space is singular or smooth."
   ]
  },
  {
   "cell_type": "code",
   "execution_count": 9,
   "metadata": {},
   "outputs": [],
   "source": [
    "for z in 1:length(four_planes)\n",
    "    ##printn(z)\n",
    "    Mz = matroid_from_revlex_basis_encoding(four_planes[z], 4, 8)\n",
    "    #printn(\"check reference circuits\")\n",
    "\n",
    "    C = [c for c in circuits(Mz) if length(c) == rank(Mz) + 1]\n",
    "\n",
    "if length(C) == 0\n",
    "   # #printn(\"no_ref_circuit\")\n",
    "\n",
    "     open(\"4_planes_no_ref_circuit_4_8.dat\", \"a\") do file\n",
    "            write(file,four_planes[z],\"\\n\")\n",
    "        end\n",
    "\n",
    "else\n",
    "\n",
    "    I = matroid_to_reduced_expression_min_chart(Mz, QQ)\n",
    "    data = join([set_to_stars(I[3],8),four_planes[z]])\n",
    "\n",
    " #check realizability   \n",
    "    if I isa String    \n",
    "        #printn(\"not realizable\")\n",
    "        open(\"not_realizable_4_8.dat\", \"a\") do file\n",
    "            write(file,data,\"\\n\")\n",
    "        end\n",
    "\n",
    "    elseif isone(ideal(I[1])) \n",
    "               #printn(\"not realizable unit ideal\")\n",
    "\n",
    "               open(\"not_realizable_4_8.dat\", \"a\") do file\n",
    "                     write(file,data,\"\\n\")\n",
    "                end\n",
    "\n",
    "    elseif (1 in I[1] || -1 in I[1])\n",
    "            #printn(\"not realizable 1 or -1\")\n",
    "            open(\"not_realizable_4_8.dat\", \"a\") do file\n",
    "                write(file,data,\"\\n\")\n",
    "            end  \n",
    "#classify if realizable\n",
    "    elseif (length(I[1]) == 0||I[1] == [0]) #reduces to 0 \n",
    "            #printn(\"zero ideal\")\n",
    "            open(\"reduce_to_zero_4_8.dat\", \"a\") do file\n",
    "            write(file,data,\"\\n\")\n",
    "        end   \n",
    " \n",
    "   # elseif int_gens(I[1])#has integral generator. This only matters if reducing over ZZ\n",
    "\n",
    "                #printn(\"Computing Jacobian ideal with saturation\")\n",
    "    #            J = simplified_2_singular_locus(I[1],I[2],true)   \n",
    "\n",
    "     #       if !(isone(J))\n",
    "                 #printn(\"int gen singular\")\n",
    "      #              open(\"int_generator_4_8/singular.dat\", \"a\") do file\n",
    "       #                  write(file,data,\"\\n\")\n",
    "        #         end \n",
    "         #   else\n",
    "                #printn(\"int gen smooth\")\n",
    "          #          open(\"int_generator_4_8/smooth.dat\", \"a\") do file\n",
    "           #              write(file,data,\"\\n\")\n",
    "            #        end\n",
    "             #end\n",
    "  \n",
    "\n",
    "    elseif length(I[1]) == 1\n",
    "        if (length(vars(I[1][1])) == 1)\n",
    "                  #printn(\"Computing Jacobian ideal with saturation\")\n",
    "                    J = simplified_2_singular_locus(I[1],I[2],true)   \n",
    "              if !(isone(J))\n",
    "                     #printn(\"princ univariate singular\")\n",
    "                        open(\"princ_univariate_4_8_singular.dat\", \"a\") do file\n",
    "                             write(file,data,\"\\n\")\n",
    "                         end \n",
    "              else\n",
    "                    #printn(\"princ univariate smooth\")\n",
    "                      open(\"princ_univariate_4_8_smooth.dat\", \"a\") do file\n",
    "                          write(file,data,\"\\n\")\n",
    "                        end\n",
    "              end\n",
    "\n",
    "            \n",
    "        else\n",
    "                 #printn(\"Computing Jacobian ideal with saturation\")\n",
    "                 J = simplified_2_singular_locus(I[1],I[2],true)   \n",
    "             if !(isone(J))\n",
    "                 #printn(\"princ multivariate singular\")\n",
    "                    open(\"princ_multivariate_4_8_singular.dat\", \"a\") do file\n",
    "                         write(file,data,\"\\n\")\n",
    "                 end \n",
    "            else\n",
    "                #printn(\"princ multivariate smooth\")\n",
    "                    open(\"princ_multivariate_4_8_smooth.dat\", \"a\") do file\n",
    "                         write(file,data,\"\\n\")\n",
    "                    end\n",
    "            end \n",
    "        end\n",
    "    elseif length(I[1])>1\n",
    "        \n",
    "        Ivars = ideal_vars(I[1]) \n",
    "        if length(Ivars) == 1\n",
    "                 ##printn(\"not principal univariate\")#univariate ideal with multiple generators\n",
    "                        #printn(\"Computing Jacobian ideal with saturation\")\n",
    "                      J = simplified_2_singular_locus(I[1],I[2],true)   \n",
    "                   if !(isone(J))\n",
    "                     #printn(\"not principle univariate singular\")\n",
    "                        open(\"np_univariate_4_8_singular.dat\", \"a\") do file\n",
    "                             write(file,data,\"\\n\")\n",
    "                          end \n",
    "                    else\n",
    "                     #printn(\"not principle univariate smooth\")\n",
    "                      open(\"np_univariate_4_8_smooth.dat\", \"a\") do file\n",
    "                          write(file,data,\"\\n\")\n",
    "                        end\n",
    "                    end\n",
    "        else    \n",
    "            ##printn(\"not principle multivariate\")#multivariate ideal with multiple generators\n",
    "                  #printn(\"Computing Jacobian ideal with saturation\")\n",
    "                  J = simplified_2_singular_locus(I[1],I[2],true)   \n",
    "             if !(isone(J))\n",
    "                 #printn(\"np multivariate singular\")\n",
    "                    open(\"nprinc_multivariate_4_8_singular.dat\", \"a\") do file\n",
    "                         write(file,data,\"\\n\")\n",
    "                    end \n",
    "            else\n",
    "                #printn(\"not principal multivariate smooth\")\n",
    "                    open(\"nprinc_multivariate_4_8_smooth.dat\", \"a\") do file\n",
    "                         write(file,data,\"\\n\")\n",
    "                    end\n",
    "             end\n",
    "        end\n",
    "        \n",
    "    else\n",
    "       #printn(\"to net\")#to make sure sorting is exhaustive\n",
    "       open(\"net_4_8.dat\", \"a\") do file\n",
    "            write(file,data,\"\\n\")\n",
    "     end\n",
    "end\n",
    "end\n",
    "end\n"
   ]
  },
  {
   "cell_type": "markdown",
   "metadata": {},
   "source": [
    "We study the four remaining matroids, those which do not have a reference circuit. We do so at the level of thin Schubert cells."
   ]
  },
  {
   "cell_type": "code",
   "execution_count": 5,
   "metadata": {},
   "outputs": [
    {
     "data": {
      "text/plain": [
       "4-element Vector{String}:\n",
       " \"0********0****0*****0**0***00************00***0**0*****0****0********0\"\n",
       " \"000000000******0000************00000000************0000******000000000\"\n",
       " \"0000000000000000000000000**********0000000000********************00000\"\n",
       " \"000000000000000000000000000000000000******0******0***0******0*0**0****\""
      ]
     },
     "execution_count": 5,
     "metadata": {},
     "output_type": "execute_result"
    }
   ],
   "source": [
    "no_circs = vec(readlines(\"4_planes_no_ref_circuit_4_8.dat\"))"
   ]
  },
  {
   "cell_type": "code",
   "execution_count": 33,
   "metadata": {},
   "outputs": [
    {
     "name": "stdout",
     "output_type": "stream",
     "text": [
      "matroid 1 : (fmpq_mpoly[1], fmpq_mpoly[x_{3, 1}, x_{2, 4}, x_{1, 3}, x_{4, 4}, x_{4, 2}, x_{4, 3}, x_{3, 4}], [1, 2, 3, 5])\n",
      "\n",
      "matroid 2 : (fmpq_mpoly[0], fmpq_mpoly[x_{2, 1}, x_{1, 1}, x_{2, 2}, x_{1, 2}, x_{1, 1}*x_{2, 2} - x_{2, 1}*x_{1, 2}, x_{4, 3}, x_{3, 3}, x_{4, 4}, x_{3, 4}, x_{3, 3}*x_{4, 4} - x_{4, 3}*x_{3, 4}], [1, 2, 5, 6])\n",
      "\n",
      "matroid 3 : (fmpq_mpoly[0], fmpq_mpoly[x_{2, 1}, x_{1, 1}, x_{2, 2}, x_{1, 2}, x_{1, 1}*x_{2, 2} - x_{2, 1}*x_{1, 2}, x_{2, 3}, x_{1, 3}, x_{1, 1}*x_{2, 3} - x_{2, 1}*x_{1, 3}, x_{1, 2}*x_{2, 3} - x_{2, 2}*x_{1, 3}, x_{4, 4}, x_{3, 4}], [1, 2, 6, 7])\n",
      "\n",
      "matroid 4 : (fmpq_mpoly[1], fmpq_mpoly[x_{2, 1}, x_{1, 4}, x_{3, 2}, x_{3, 3}, x_{2, 4}, x_{3, 4}], [1, 2, 4, 8])\n",
      "\n"
     ]
    }
   ],
   "source": [
    "for i in 1:4\n",
    "    Mi = matroid_from_revlex_basis_encoding(no_circs[i],4,8)\n",
    "    T = matroid_to_reduced_TSC_min_basis(Mi,QQ)\n",
    "    \n",
    "    print(\"matroid \",i,\" : \", T,\"\\n\\n\")\n",
    "end"
   ]
  },
  {
   "cell_type": "markdown",
   "metadata": {},
   "source": [
    "Observe that the vanishing ideal of the thin Schubert cells for matroids 1 and 4 are the unit ideal. Hence these matroids are not realizable. For matroids 2 and 3, the vanishing ideal is trivial. Hence, all realization spaces for $(4,8)$ matoids are nonsingular."
   ]
  },
  {
   "cell_type": "code",
   "execution_count": null,
   "metadata": {},
   "outputs": [],
   "source": []
  }
 ],
 "metadata": {
  "kernelspec": {
   "display_name": "Julia 1.7.1",
   "language": "julia",
   "name": "julia-1.7"
  },
  "language_info": {
   "file_extension": ".jl",
   "mimetype": "application/julia",
   "name": "julia",
   "version": "1.7.1"
  }
 },
 "nbformat": 4,
 "nbformat_minor": 4
}
