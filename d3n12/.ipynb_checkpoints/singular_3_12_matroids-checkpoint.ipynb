{
 "cells": [
  {
   "cell_type": "markdown",
   "metadata": {},
   "source": [
    "**Singular realization spaces for 3-12 matroids**"
   ]
  },
  {
   "cell_type": "code",
   "execution_count": 1,
   "metadata": {},
   "outputs": [
    {
     "name": "stdout",
     "output_type": "stream",
     "text": [
      "\r",
      " -----    -----    -----      -      -----   \n",
      "|     |  |     |  |     |    | |    |     |  \n",
      "|     |  |        |         |   |   |     |  \n",
      "|     |   -----   |        |     |  |-----   \n",
      "|     |        |  |        |-----|  |   |    \n",
      "|     |  |     |  |     |  |     |  |    |   \n",
      " -----    -----    -----   -     -  -     -  \n",
      "\n",
      "...combining (and extending) ANTIC, GAP, Polymake and Singular\n",
      "Version\u001b[32m 0.12.2-DEV \u001b[39m... \n",
      " ... which comes with absolutely no warranty whatsoever\n",
      "Type: '?Oscar' for more information\n",
      "(c) 2019-2023 by The OSCAR Development Team\n"
     ]
    }
   ],
   "source": [
    "using Oscar"
   ]
  },
  {
   "cell_type": "code",
   "execution_count": 5,
   "metadata": {},
   "outputs": [],
   "source": [
    "cd(\"..\")"
   ]
  },
  {
   "cell_type": "code",
   "execution_count": 6,
   "metadata": {},
   "outputs": [
    {
     "data": {
      "text/plain": [
       "realization_space_2_singular_locus (generic function with 1 method)"
      ]
     },
     "execution_count": 6,
     "metadata": {},
     "output_type": "execute_result"
    }
   ],
   "source": [
    "currentDir = pwd() # make sure you are running from the main directory.\n",
    "include(joinpath(currentDir, \"src/fileHandling.jl\"))\n",
    "include(joinpath(currentDir, \"src/matroid_realization.jl\"))\n",
    "include(joinpath(currentDir, \"src/Jacobian_Criterion.jl\"))"
   ]
  },
  {
   "cell_type": "markdown",
   "metadata": {},
   "source": [
    "**Example in paper**"
   ]
  },
  {
   "cell_type": "markdown",
   "metadata": {},
   "source": [
    "We begin by studying the $(3,12)$-matroid with a singular realization space presented in section 4."
   ]
  },
  {
   "cell_type": "code",
   "execution_count": 13,
   "metadata": {},
   "outputs": [
    {
     "data": {
      "text/plain": [
       "Matroid of rank 3 on 12 elements"
      ]
     },
     "execution_count": 13,
     "metadata": {},
     "output_type": "execute_result"
    }
   ],
   "source": [
    "nbs = [[1,2,6],[1,2,8],[1,6,8],[2,6,8], [1,3,5],[1,3,7],[1,5,7],[3,5,7], [1,9,12],[2,4,5],[2,4,9],[2,5,9],[4,5,9],[2,7,11], [3,4,6], \n",
    "[5,6,10], [4,7,8], [3,8,9], [8,11,12], [3,10,12], [4,10,11]]\n",
    "Msing = matroid_from_nonbases(nbs,12)"
   ]
  },
  {
   "cell_type": "markdown",
   "metadata": {},
   "source": [
    "We compute the data for the realization space below."
   ]
  },
  {
   "cell_type": "code",
   "execution_count": 15,
   "metadata": {},
   "outputs": [
    {
     "data": {
      "text/plain": [
       "[1   0   0   1   x1   x2   x3   x4   x5   x7    x9   x11]\n",
       "[0   1   0   1    0    1    0    1   x6   x8   x10   x12]\n",
       "[0   0   1   1    1    0    1    0    1    1     1     1]"
      ]
     },
     "metadata": {},
     "output_type": "display_data"
    },
    {
     "data": {
      "text/plain": [
       "The representations of the matroid are parametrized by the matrix\n",
       "in the Multivariate polynomial ring in 12 variables over QQ\n",
       "within the vanishing set of the ideal\n",
       "ideal(x7 - x8 - 1, x6 - x12, x5 - 1, x4 + x9 - 1, x3 - x9, x2 - 1, x1 - 1, x10 + x11*x12 - 2*x12 + 1, x9*x12 - x12 + 1, x9*x11 + x10*x12 - x11 - x12 + 2, x8*x11 - x8*x12 - x12, x9*x10 + x9 - x10 - x11 + 1, x8*x9 - x8*x10 - x9 + 1, x10*x12^2 - x11 - x12^2 + 2*x12, x8*x10 + x8*x12^2 - 2*x8*x12 + x8 + x12^2, x10^2*x12 + 2*x10 + x11^2 - 2*x11 - x12 + 2, x8*x10*x12 - x8*x12 + x8 - 1, x10^3 + x10^2 - 2*x10*x11 + 3*x10 - x11^3 + 4*x11^2 - 6*x11 + 3, x8*x10^2 - x8*x12 + x8 + x11 - x12 - 2)\n",
       "avoiding the zero loci of the polynomials\n",
       "RingElem[x10 - x12, x9 - x11, x9*x12 - x10*x11, x9*x12 - x9 - x10*x11 + x10 + x11 - x12, x1*x10 - x1*x12 + x9*x12 - x10*x11, x2*x10 - x2*x12 - x9 + x11, x3*x10 - x3*x12 + x9*x12 - x10*x11, x5*x10 - x5*x12 - x6*x9 + x6*x11 + x9*x12 - x10*x11, x7*x10 - x7*x12 - x8*x9 + x8*x11 + x9*x12 - x10*x11, x8 - x12  …  x2*x6 - x2 - x5 + 1, x1 + x2*x6 - x5, x6 - 1, x5 - x6, x5, x1 + x4 - 1, x4 - 1, x2 + x3 - 1, x3 - 1, x1 + x2 - 1]\n"
      ]
     },
     "execution_count": 15,
     "metadata": {},
     "output_type": "execute_result"
    }
   ],
   "source": [
    "MR = new_matroid_realization_space(Msing, [1,2,3,4]; F = QQ,saturate = true)"
   ]
  },
  {
   "cell_type": "markdown",
   "metadata": {},
   "source": [
    "We compute the simplified presentation of the data."
   ]
  },
  {
   "cell_type": "code",
   "execution_count": 16,
   "metadata": {},
   "outputs": [
    {
     "data": {
      "text/plain": [
       "[1   0   0   1   1   1   x2 - 1    1    1        x1                   x2 - 1   x1]\n",
       "[0   1   0   1   0   1        0   x2   x2        x2   -x1*x2^2 + 2*x2^2 - x2   x2]\n",
       "[0   0   1   1   1   0       x2    0    1   x1 - x2                       x2    1]"
      ]
     },
     "metadata": {},
     "output_type": "display_data"
    },
    {
     "data": {
      "text/plain": [
       "The representations of the matroid are parametrized by the matrix\n",
       "in the Multivariate polynomial ring in 2 variables over QQ\n",
       "within the vanishing set of the ideal\n",
       "ideal(x1*x2^3 + x1 - 2*x2^3 + 2*x2^2 - 2*x2)\n",
       "avoiding the zero loci of the polynomials\n",
       "RingElem[x1*x2 - x2 + 1, x1 - 1, x1*x2 - 2*x2 + 1, x1 - 2, x2 - 1, x1 - x2 - 1, x2, x1, x1*x2 - x2^2 - x2 + 1, x1 - x2  …  x1 + x2^2 - x2, x1*x2^2 - 2*x2^2 + x2 - 1, x2^2 + 1, x1*x2^2 - x2^2 + x2 - 1, x1*x2^2 - 2*x2^2 + 2*x2 - 1, x1*x2 - 2*x2 + 2, x1 + x2^2 - x2 - 1, x1 + x2^2 - 2*x2, x1 - 2*x2, x2 + 1]\n"
      ]
     },
     "execution_count": 16,
     "metadata": {},
     "output_type": "execute_result"
    }
   ],
   "source": [
    "MRR = reduce_ideal_full(MR)"
   ]
  },
  {
   "cell_type": "code",
   "execution_count": 22,
   "metadata": {},
   "outputs": [
    {
     "data": {
      "text/plain": [
       "41-element Vector{RingElem}:\n",
       " x2 - x3\n",
       " x1*x2*x3^2 - x1*x2*x3 + x1*x3^2 - x1*x3 - 2*x2*x3^2 + 2*x2*x3 - 2*x3^2 + 4*x3 - 1\n",
       " x1*x2*x3 - x1*x2 + x1*x3 - x1 - 2*x2*x3 + 2*x2 + 1\n",
       " x1*x2*x3^2 - x1*x2*x3 + x1*x3^2 - x1*x3 - 2*x2*x3^2 + 2*x2*x3 + 1\n",
       " x3 - 1\n",
       " x1\n",
       " x1*x2*x3 - x1*x2 + x1*x3 - x1 - x2*x3 + x2 + 1\n",
       " x1*x2*x3 + x1*x3 - x1 - 2*x2*x3\n",
       " x1 - x3\n",
       " x1*x2 + x1 - 2*x2 - 1\n",
       " x1 - 2\n",
       " x2*x3 - 2*x2 + x3 - 1\n",
       " x2\n",
       " ⋮\n",
       " x1*x2*x3 - 2*x1*x2 + x1*x3 - x1 - x2*x3 + 2*x2\n",
       " x1*x2*x3 - x1*x2 + x1*x3 - x1 - x2*x3 + 1\n",
       " x1*x3 - x2\n",
       " x1*x2 - x1*x3 - x2\n",
       " x1*x2*x3^2 - x1*x2*x3 + x1*x3^2 - x1*x3 - 2*x2*x3^2 + x2*x3 + x2 + x3\n",
       " x1*x3 - x1 - 2*x3 + 3\n",
       " x1*x2 + x1 - 2*x2\n",
       " x1*x2*x3 - x1*x2 + x1*x3 - 2*x1 - x2*x3 + x2 + 1\n",
       " x1*x2*x3 - x1*x2 + x1*x3 - x1 - x2*x3 + x2 - x3 + 2\n",
       " 2*x1*x2*x3 - 2*x1*x2 + x1*x3 - x1 - 4*x2*x3 + 4*x2 + 1\n",
       " x1*x2 + x1 - x2\n",
       " x1*x2*x3 - x1*x2 - 2*x2*x3 + 2*x2 + 1"
      ]
     },
     "execution_count": 22,
     "metadata": {},
     "output_type": "execute_result"
    }
   ],
   "source": [
    "MRR.inequations"
   ]
  },
  {
   "cell_type": "markdown",
   "metadata": {},
   "source": [
    "We compute the singular locus."
   ]
  },
  {
   "cell_type": "code",
   "execution_count": 17,
   "metadata": {},
   "outputs": [
    {
     "data": {
      "text/plain": [
       "ideal(3*x1 - 2*x2 - 2, x2^2 - x2 + 1)"
      ]
     },
     "execution_count": 17,
     "metadata": {},
     "output_type": "execute_result"
    }
   ],
   "source": [
    "S = realization_space_2_singular_locus(MRR)"
   ]
  },
  {
   "cell_type": "markdown",
   "metadata": {},
   "source": [
    "The vanishing set of the polynomials above yields the singular locus of realization space."
   ]
  },
  {
   "cell_type": "code",
   "execution_count": 18,
   "metadata": {},
   "outputs": [
    {
     "data": {
      "text/plain": [
       "2-element Vector{QQMPolyRingElem}:\n",
       " 3*x1 - 2*x2 - 2\n",
       " x2^2 - x2 + 1"
      ]
     },
     "execution_count": 18,
     "metadata": {},
     "output_type": "execute_result"
    }
   ],
   "source": [
    "gens(S)"
   ]
  },
  {
   "cell_type": "markdown",
   "metadata": {},
   "source": [
    "Setting the equations above equal to $0$ gives us the coordinates of the nodal singularities on our realization space."
   ]
  },
  {
   "cell_type": "markdown",
   "metadata": {},
   "source": [
    "**More examples**"
   ]
  },
  {
   "cell_type": "markdown",
   "metadata": {},
   "source": [
    "Below we have the $(3,12)$-matroids with singular realization spaces we were able to isolate. Note our search was not exhaustive. Hence, it is likely these are not all the rank $3$ matroids on $12$ elements with singular realization spaces."
   ]
  },
  {
   "cell_type": "code",
   "execution_count": 19,
   "metadata": {},
   "outputs": [
    {
     "data": {
      "text/plain": [
       "76"
      ]
     },
     "execution_count": 19,
     "metadata": {},
     "output_type": "execute_result"
    }
   ],
   "source": [
    "singular = vec(readlines(\"d3n12/singular_3_12.dat\"))\n",
    "length(singular)"
   ]
  },
  {
   "cell_type": "markdown",
   "metadata": {},
   "source": [
    "We compute the matroid, the data for its realization space with respect to a certain reference circuit, and simplfiy the presentation."
   ]
  },
  {
   "cell_type": "code",
   "execution_count": 20,
   "metadata": {},
   "outputs": [
    {
     "data": {
      "text/plain": [
       "[1   0   -x1*x2*x3 + x1*x2 - x1*x3 + x1 + 2*x2*x3 - 2*x2 + 2*x3 - 3   x1*x2*x3 - x1*x2 + x1*x3 - x1 - 2*x2*x3 + 2*x2 + 1   0   x1*x2*x3 - x1*x2 + x1*x3 - x1 - 2*x2*x3 + 2*x2 + 1   x1                                                0   1   x1*x2 + x1 - 2*x2      x2    1]\n",
       "[0   1                                                       x3 - 1                                                    0   0                                               x3 - 1   x1   x1*x2*x3 - x1*x2 + x1*x3 - x1 - x2*x3 + x2 + 1   1                  x1   x2*x3   x3]\n",
       "[0   0                                                            0                                               x3 - 1   1                                               x3 - 1    1                                                1   1                   1      x3    1]"
      ]
     },
     "metadata": {},
     "output_type": "display_data"
    },
    {
     "data": {
      "text/plain": [
       "The representations of the matroid are parametrized by the matrix\n",
       "in the Multivariate polynomial ring in 3 variables over QQ\n",
       "within the vanishing set of the ideal\n",
       "ideal(x1^2*x2 - x1^2*x3 + x1^2 + x1*x2*x3 - 4*x1*x2 + 3*x1*x3 - 3*x1 - 2*x2*x3 + 3*x2 + 1, x1^2*x3^2 - x1^2*x3 - x1*x2*x3^2 + 2*x1*x2*x3 - x1*x2 - 3*x1*x3^2 + 4*x1*x3 + 2*x2*x3^2 - 3*x2*x3 + x2 - x3, x1*x2^2*x3 - x1*x2^2 - 2*x1*x2*x3^2 + 4*x1*x2*x3 - x1*x2 - 2*x1*x3^2 + 2*x1*x3 - x2^2*x3 + x2^2 + 2*x2*x3^2 - 2*x2*x3 - x3, 2*x1*x2*x3^3 - 5*x1*x2*x3^2 + 2*x1*x2*x3 + 2*x1*x3^3 - 3*x1*x3^2 + x1*x3 - x2^2*x3^2 + x2^2*x3 - 2*x2*x3^3 + 4*x2*x3^2 - x2 + x3^2 - x3, x1*x2^2 - 4*x1*x2*x3 + x1*x2 + 2*x1*x3^3 + x1*x3^2 - 3*x1*x3 + x2^3*x3^2 - x2^3*x3 - 2*x2^2*x3^3 + 4*x2^2*x3^2 - 3*x2^2*x3 - x2*x3^2 + x2*x3 + x2 + 2*x3)\n",
       "avoiding the zero loci of the polynomials\n",
       "RingElem[x2 - x3, x1*x2*x3^2 - x1*x2*x3 + x1*x3^2 - x1*x3 - 2*x2*x3^2 + 2*x2*x3 - 2*x3^2 + 4*x3 - 1, x1*x2*x3 - x1*x2 + x1*x3 - x1 - 2*x2*x3 + 2*x2 + 1, x1*x2*x3^2 - x1*x2*x3 + x1*x3^2 - x1*x3 - 2*x2*x3^2 + 2*x2*x3 + 1, x3 - 1, x1, x1*x2*x3 - x1*x2 + x1*x3 - x1 - x2*x3 + x2 + 1, x1*x2*x3 + x1*x3 - x1 - 2*x2*x3, x1 - x3, x1*x2 + x1 - 2*x2 - 1  …  x1*x3 - x2, x1*x2 - x1*x3 - x2, x1*x2*x3^2 - x1*x2*x3 + x1*x3^2 - x1*x3 - 2*x2*x3^2 + x2*x3 + x2 + x3, x1*x3 - x1 - 2*x3 + 3, x1*x2 + x1 - 2*x2, x1*x2*x3 - x1*x2 + x1*x3 - 2*x1 - x2*x3 + x2 + 1, x1*x2*x3 - x1*x2 + x1*x3 - x1 - x2*x3 + x2 - x3 + 2, 2*x1*x2*x3 - 2*x1*x2 + x1*x3 - x1 - 4*x2*x3 + 4*x2 + 1, x1*x2 + x1 - x2, x1*x2*x3 - x1*x2 - 2*x2*x3 + 2*x2 + 1]\n"
      ]
     },
     "execution_count": 20,
     "metadata": {},
     "output_type": "execute_result"
    }
   ],
   "source": [
    "M = matroid_from_revlex_basis_encoding(singular[1],3,12)#matroid\n",
    "As = optimal_circuits(M)#reference circuits\n",
    "MR = new_matroid_realization_space(M,As[1];F = QQ,saturate = true)#realization space\n",
    "MRR = reduce_ideal_full(MR)#simplified presentation"
   ]
  },
  {
   "cell_type": "code",
   "execution_count": 120,
   "metadata": {},
   "outputs": [
    {
     "data": {
      "text/plain": [
       "5"
      ]
     },
     "execution_count": 120,
     "metadata": {},
     "output_type": "execute_result"
    }
   ],
   "source": [
    "length(gens(MRR.defining_ideal))"
   ]
  },
  {
   "cell_type": "code",
   "execution_count": 121,
   "metadata": {},
   "outputs": [
    {
     "data": {
      "text/plain": [
       "5-element Vector{QQMPolyRingElem}:\n",
       " x1^2*x2 - x1^2*x3 + x1^2 + x1*x2*x3 - 4*x1*x2 + 3*x1*x3 - 3*x1 - 2*x2*x3 + 3*x2 + 1\n",
       " x1^2*x3^2 - x1^2*x3 - x1*x2*x3^2 + 2*x1*x2*x3 - x1*x2 - 3*x1*x3^2 + 4*x1*x3 + 2*x2*x3^2 - 3*x2*x3 + x2 - x3\n",
       " x1*x2^2*x3 - x1*x2^2 - 2*x1*x2*x3^2 + 4*x1*x2*x3 - x1*x2 - 2*x1*x3^2 + 2*x1*x3 - x2^2*x3 + x2^2 + 2*x2*x3^2 - 2*x2*x3 - x3\n",
       " 2*x1*x2*x3^3 - 5*x1*x2*x3^2 + 2*x1*x2*x3 + 2*x1*x3^3 - 3*x1*x3^2 + x1*x3 - x2^2*x3^2 + x2^2*x3 - 2*x2*x3^3 + 4*x2*x3^2 - x2 + x3^2 - x3\n",
       " x1*x2^2 - 4*x1*x2*x3 + x1*x2 + 2*x1*x3^3 + x1*x3^2 - 3*x1*x3 + x2^3*x3^2 - x2^3*x3 - 2*x2^2*x3^3 + 4*x2^2*x3^2 - 3*x2^2*x3 - x2*x3^2 + x2*x3 + x2 + 2*x3"
      ]
     },
     "execution_count": 121,
     "metadata": {},
     "output_type": "execute_result"
    }
   ],
   "source": [
    "gens(MRR.defining_ideal)"
   ]
  },
  {
   "cell_type": "code",
   "execution_count": null,
   "metadata": {},
   "outputs": [],
   "source": [
    "S = realization_space_2_singular_locus(MRR)\n",
    "gens(S)\n"
   ]
  },
  {
   "cell_type": "code",
   "execution_count": null,
   "metadata": {},
   "outputs": [],
   "source": []
  }
 ],
 "metadata": {
  "kernelspec": {
   "display_name": "Julia 1.7.1",
   "language": "julia",
   "name": "julia-1.7"
  },
  "language_info": {
   "file_extension": ".jl",
   "mimetype": "application/julia",
   "name": "julia",
   "version": "1.7.1"
  }
 },
 "nbformat": 4,
 "nbformat_minor": 4
}
