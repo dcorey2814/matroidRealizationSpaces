{
 "cells": [
  {
   "cell_type": "markdown",
   "metadata": {},
   "source": [
    "## Singular realization space of with rank $3$ on $[12]$"
   ]
  },
  {
   "cell_type": "code",
   "execution_count": 1,
   "metadata": {},
   "outputs": [
    {
     "name": "stdout",
     "output_type": "stream",
     "text": [
      " -----    -----    -----      -      -----   \n",
      "|     |  |     |  |     |    | |    |     |  \n",
      "|     |  |        |         |   |   |     |  \n",
      "|     |   -----   |        |     |  |-----   \n",
      "|     |        |  |        |-----|  |   |    \n",
      "|     |  |     |  |     |  |     |  |    |   \n",
      " -----    -----    -----   -     -  -     -  \n",
      "\n",
      "...combining (and extending) ANTIC, GAP, Polymake and Singular\n",
      "Version\u001b[32m 0.12.1-DEV \u001b[39m... \n",
      " ... which comes with absolutely no warranty whatsoever\n",
      "Type: '?Oscar' for more information\n",
      "(c) 2019-2023 by The OSCAR Development Team\n"
     ]
    }
   ],
   "source": [
    "using Oscar"
   ]
  },
  {
   "cell_type": "code",
   "execution_count": 2,
   "metadata": {},
   "outputs": [],
   "source": [
    "cd(\"..\")"
   ]
  },
  {
   "cell_type": "code",
   "execution_count": 3,
   "metadata": {},
   "outputs": [
    {
     "data": {
      "text/plain": [
       "realization_space_2_singular_locus (generic function with 1 method)"
      ]
     },
     "execution_count": 3,
     "metadata": {},
     "output_type": "execute_result"
    }
   ],
   "source": [
    "currentDir = pwd() # make sure you are running from the main directory.\n",
    "include(joinpath(currentDir, \"src/fileHandling.jl\"))\n",
    "include(joinpath(currentDir, \"src/isolate3Lines.jl\"))\n",
    "include(joinpath(currentDir, \"src/matroid_realization.jl\"))\n",
    "include(joinpath(currentDir, \"src/Jacobian_Criterion.jl\"))"
   ]
  },
  {
   "cell_type": "markdown",
   "metadata": {},
   "source": [
    "Let $\\mathsf{Q}$ be the simple $(3,12)$--matroid with lines\n",
    "\n",
    "$$\n",
    "\\mathcal{L}(\\mathsf{Q}) = \n",
    "    \\left\\{ \\begin{array}{llllll} \n",
    "\\{1,2,6,8\\}, &\\{1,3,5,7\\}, &\\{1,9,12\\}, &\\{2,4,5,9\\}, &\\{2,7,11\\}, &\\{3,4,6\\}, \\\\ \n",
    "\\{5,6,10\\}, &\\{4,7,8\\}, &\\{3,8,9\\}, &\\{8,11,12\\}, &\\{3,10,12\\}, &\\{4,10,11\\} \n",
    "\\end{array} \\right\\}\n",
    "$$"
   ]
  },
  {
   "cell_type": "code",
   "execution_count": 4,
   "metadata": {},
   "outputs": [
    {
     "data": {
      "text/plain": [
       "Matroid of rank 3 on 12 elements"
      ]
     },
     "execution_count": 4,
     "metadata": {},
     "output_type": "execute_result"
    }
   ],
   "source": [
    "NB = [[1,2,6],[1,2,8],[1,3,5],[1,3,7],[1,5,7],\n",
    "      [1,6,8],[1,9,12],[2,4,5],[2,4,9],[2,5,9],\n",
    "      [2,6,8],[2,7,11],[3,4,6],[3,5,7],[3,8,9],\n",
    "      [3,10,12],[4,5,9],[4,7,8],[4,10,11],[5,6,10],\n",
    "      [8,11,12]]\n",
    "Q = matroid_from_nonbases(NB, 12)"
   ]
  },
  {
   "cell_type": "markdown",
   "metadata": {},
   "source": [
    "The coordinate ring of the realization space $\\mathcal{R}(\\mathsf{Q};\\mathbb{C})$ of $\\mathsf{Q}$ is isomorphic to $S^{-1}\\mathbb{C}[x,y]/I$ where\n",
    "\n",
    "- $$I = \\langle (xy + x - 2y)(y^2 - y + 1) \\rangle$$\n",
    "- $$S = \\left\\langle  \\begin{array}{l} \n",
    "  x, y, x-1, x-2, y-1, y+1, x-y, x-2y, x-y-1, xy-y+1, xy-2y+1, \\\\\n",
    "  xy-y^2-y+1, x+y^2-y, xy^2-2y^2+y-1, y^2+1, xy^2-y^2+y-1, \\\\\n",
    "  xy^2-2y^2+2y-1, xy-2y+2, x+y^2-y-1, x+y^2-2y, x^2y-xy^2-2xy+x+2y^2 \\end{array} \\right\\rangle_{\\text{smgp}} $$"
   ]
  },
  {
   "cell_type": "code",
   "execution_count": 5,
   "metadata": {},
   "outputs": [
    {
     "data": {
      "text/plain": [
       "[1   0   0   1   1   1   x2 - 1    1    1        x1                   x2 - 1   x1]\n",
       "[0   1   0   1   0   1        0   x2   x2        x2   -x1*x2^2 + 2*x2^2 - x2   x2]\n",
       "[0   0   1   1   1   0       x2    0    1   x1 - x2                       x2    1]"
      ]
     },
     "metadata": {},
     "output_type": "display_data"
    },
    {
     "data": {
      "text/plain": [
       "The representations of the matroid are parametrized by the matrix\n",
       "in the Multivariate Polynomial Ring in x1, x2 over Rational Field\n",
       "within the vanishing set of the ideal\n",
       "ideal(x1*x2^3 + x1 - 2*x2^3 + 2*x2^2 - 2*x2)\n",
       "avoiding the zero loci of the polynomials\n",
       "RingElem[x1*x2 - x2 + 1, x1 - 1, x1*x2 - 2*x2 + 1, x1 - 2, x2 - 1, x1 - x2 - 1, x2, x1, x1*x2 - x2^2 - x2 + 1, x1 - x2  …  x1 + x2^2 - x2, x1*x2^2 - 2*x2^2 + x2 - 1, x2^2 + 1, x1*x2^2 - x2^2 + x2 - 1, x1*x2^2 - 2*x2^2 + 2*x2 - 1, x1*x2 - 2*x2 + 2, x1 + x2^2 - x2 - 1, x1 + x2^2 - 2*x2, x1 - 2*x2, x2 + 1]\n"
      ]
     },
     "execution_count": 5,
     "metadata": {},
     "output_type": "execute_result"
    }
   ],
   "source": [
    "MR = new_matroid_realization_space(Q, [1,2,3,4]; F=QQ)\n",
    "MR2 = reduce_ideal_full(MR)"
   ]
  },
  {
   "cell_type": "markdown",
   "metadata": {},
   "source": [
    "Define the field `K` by $K = \\mathbb{Q}(\\sqrt{-3})$. The intersection points of $xy + x - 2y = 0$ and $y^2 - y + 1 = 0$ are\n",
    "\n",
    "$$\n",
    "\\mathsf{p}_1 = \\left(\\frac{3-\\sqrt{-3}}{3}, \\frac{1-\\sqrt{-3}}{2}\\right)  \\hspace{15pt} \\mathsf{p}_2 = \\left(\\frac{3+\\sqrt{-3}}{3}, \\frac{1+\\sqrt{-3}}{2}\\right)\n",
    "$$\n",
    "\n",
    "We evaluate the forms that generate $S$ at $\\mathsf{p}_1$ and $\\mathsf{p}_2$ and show that they are all nonzero. This proves that $\\mathsf{p}_1$ and $\\mathsf{p_2}$ are the singular points of $\\mathcal{R}(\\mathsf{Q};\\mathbb{C})$. "
   ]
  },
  {
   "cell_type": "code",
   "execution_count": 12,
   "metadata": {},
   "outputs": [
    {
     "name": "stdout",
     "output_type": "stream",
     "text": [
      "true\n",
      "true\n"
     ]
    }
   ],
   "source": [
    "Qx, x = QQ[\"x\"];\n",
    "K, (i, r3) = number_field([x^2 + 1, x^2 - 3], \"a\") # i = sqrt(-1) and r3 = sqrt(3)\n",
    "\n",
    "R_og = MR2.ambient_ring\n",
    "R, (x,y) = K[\"x\", \"y\"]\n",
    "phi = hom(R_og, R, a->a,  [x,y])\n",
    "\n",
    "p1 = [(3-i*r3)//3, (1-i*r3)//2]\n",
    "p2 = [(3+i*r3)//3, (1+i*r3)//2]\n",
    "S = phi.(MR2.inequations);\n",
    "evaluate_at_p1 = [evaluate(f,p1) for f in S];\n",
    "evaluate_at_p2 = [evaluate(f,p2) for f in S];\n",
    "\n",
    "println(all([!iszero(x) for x in evaluate_at_p1]));\n",
    "println(all([!iszero(x) for x in evaluate_at_p2]));"
   ]
  },
  {
   "cell_type": "code",
   "execution_count": 26,
   "metadata": {},
   "outputs": [
    {
     "name": "stdout",
     "output_type": "stream",
     "text": [
      "true\n"
     ]
    },
    {
     "data": {
      "text/plain": [
       "0"
      ]
     },
     "execution_count": 26,
     "metadata": {},
     "output_type": "execute_result"
    }
   ],
   "source": [
    "p1 = [K(3),K(-3)]\n",
    "evaluate_at_p1 = [evaluate(f,p1) for f in S]\n",
    "g = MR2.defining_ideal[1]\n",
    "evaluate(g,p1)\n",
    "\n",
    "p2 = [K(3), (1-i*r3)//2]\n",
    "evaluate_at_p2 = [evaluate(f,p2) for f in S]\n",
    "println(all([!iszero(x) for x in evaluate_at_p2]));\n",
    "g = MR2.defining_ideal[1]\n",
    "evaluate(g,p2)"
   ]
  },
  {
   "cell_type": "code",
   "execution_count": 22,
   "metadata": {},
   "outputs": [
    {
     "data": {
      "text/plain": [
       "2-element Vector{NfAbsNSElem}:\n",
       " 3\n",
       " -1//2*a1*a2 + 1//2"
      ]
     },
     "execution_count": 22,
     "metadata": {},
     "output_type": "execute_result"
    }
   ],
   "source": [
    "p2 =[K(3), (1-i*r3)//2]\n",
    "#p1 = [(3-i*r3)//3, (1-i*r3)//2]\n"
   ]
  },
  {
   "cell_type": "code",
   "execution_count": null,
   "metadata": {},
   "outputs": [],
   "source": [
    "Ct , t = polynomial_ring(K, \"t\")\n",
    "\n",
    "C3_12 = sort!(subsets(Vector(1:12),3))\n",
    "Bs = setdiff(C3_12, NB)\n",
    "\n",
    "function check_zero(X, Bs)    \n",
    "    return  [nb for nb in NB if iszero(det(X[1:3, nb]))]\n",
    "end\n",
    "\n",
    "function coordinatewise_valuation(X, Bs)\n",
    "    D = Dict()\n",
    "    for b in Bs\n",
    "        db = valuation(det(X[1:3, b]), t)\n",
    "        D[b] = db\n",
    "    end\n",
    "    return D\n",
    "end\n",
    "\n",
    "#(y1, y2) = \n",
    "M1 = transpose(matrix(Ct, \n",
    "[1 0 0;\n",
    "0 1 0;\n",
    "0 0 1;\n",
    "1 1 1;\n",
    "1 0 1;\n",
    "1 1 0;\n",
    "y2-1 0 y2;\n",
    "1 y2 0;\n",
    "1 y2 1;\n",
    "y1 y2 y1-y2;\n",
    "y2-1 -y1*y2^2+2*y2^2-y2 y2;\n",
    "y1 y2 1] ))\n",
    "\n",
    "\n",
    "#(z1, z2) = \n",
    "M2 = transpose(matrix(Ct, \n",
    "[1 0 0;\n",
    "0 1 0;\n",
    "0 0 1;\n",
    "1 1 1;\n",
    "1 0 1;\n",
    "1 1 0;\n",
    "z2-1 0 z2;\n",
    "1 z2 0;\n",
    "1 z2 1;\n",
    "z1 z2 z1-z2;\n",
    "z2-1 -z1*z2^2+2*z2^2-z2 z2;\n",
    "z1 z2 1] ))\n",
    "\n",
    "Mt = transpose(matrix(Ct, \n",
    "[0 0 0;\n",
    "0 0 0;\n",
    "0 0 0;\n",
    "0 t t;\n",
    "t t t;\n",
    "t t 0;\n",
    "0 t -t;\n",
    "0 t -t;\n",
    "t 0 -t;\n",
    "0 t t;\n",
    "t t t;\n",
    "t t t;\n",
    "t -t 0] ))\n",
    "\n",
    "M1t = M1 + Mt\n",
    "M2t = M2 + Mt\n",
    "\n",
    "function lead_term(f, ord)\n",
    "    v = valuation(f, ord)\n",
    "    return coeff(f, [ord], [v] )\n",
    "end\n",
    "\n",
    "[lead_term(R(det(M[1:3,s])), t) for s in Bs]\n",
    "[coeff(det(M[1:3,s]), [t], [1]) for s in NB]\n"
   ]
  },
  {
   "cell_type": "code",
   "execution_count": null,
   "metadata": {},
   "outputs": [],
   "source": []
  }
 ],
 "metadata": {
  "kernelspec": {
   "display_name": "Julia 1.7.1",
   "language": "julia",
   "name": "julia-1.7"
  },
  "language_info": {
   "file_extension": ".jl",
   "mimetype": "application/julia",
   "name": "julia",
   "version": "1.7.1"
  }
 },
 "nbformat": 4,
 "nbformat_minor": 4
}
