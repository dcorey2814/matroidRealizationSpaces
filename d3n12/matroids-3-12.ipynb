{
 "cells": [
  {
   "cell_type": "markdown",
   "metadata": {},
   "source": [
    "## Singular realization spaces of rank $3$ on $[12]$\n",
    "\n",
    "In this notebook we study the singular matroid realization spaces we isolated in our examination of $(3,12)$-matroids.\n",
    "\n",
    "In the first section of the notebook we study the matroid exhibited in the paper. In the second, we make the full data set of matroids available for experimentation. As our study was not exhaustive for $3-12$, this is likely a small subset of $(3,12)$-matroids whose realization spaces are singular. This data is saved in the file `d3n12/singular_3_12.dat`."
   ]
  },
  {
   "cell_type": "markdown",
   "metadata": {},
   "source": [
    "## 1. First example of singular realization space\n",
    "In this section we record the computations in section 4.2, where we describe a singular realization space, and section 6.4, where we describe a singular initial degeneration. "
   ]
  },
  {
   "cell_type": "code",
   "execution_count": 5,
   "metadata": {},
   "outputs": [],
   "source": [
    "using Oscar"
   ]
  },
  {
   "cell_type": "code",
   "execution_count": 2,
   "metadata": {},
   "outputs": [],
   "source": [
    "cd(\"..\")"
   ]
  },
  {
   "cell_type": "code",
   "execution_count": 6,
   "metadata": {},
   "outputs": [
    {
     "data": {
      "text/plain": [
       "realization_space_2_singular_locus (generic function with 1 method)"
      ]
     },
     "execution_count": 6,
     "metadata": {},
     "output_type": "execute_result"
    }
   ],
   "source": [
    "currentDir = pwd() # make sure you are running from the main directory.\n",
    "include(joinpath(currentDir, \"src/fileHandling.jl\"))\n",
    "include(joinpath(currentDir, \"src/isolate3Lines.jl\"))\n",
    "include(joinpath(currentDir, \"src/matroid_realization.jl\"))\n",
    "include(joinpath(currentDir, \"src/Jacobian_Criterion.jl\"))"
   ]
  },
  {
   "cell_type": "markdown",
   "metadata": {},
   "source": [
    "Let $\\mathsf{Q}$ be the simple $(3,12)$--matroid with lines\n",
    "\n",
    "$$\n",
    "\\mathcal{L}(\\mathsf{Q}) = \n",
    "    \\left\\{ \\begin{array}{llllll} \n",
    "\\{1,2,6,8\\}, &\\{1,3,5,7\\}, &\\{1,9,12\\}, &\\{2,4,5,9\\}, &\\{2,7,11\\}, &\\{3,4,6\\}, \\\\ \n",
    "\\{5,6,10\\}, &\\{4,7,8\\}, &\\{3,8,9\\}, &\\{8,11,12\\}, &\\{3,10,12\\}, &\\{4,10,11\\} \n",
    "\\end{array} \\right\\}\n",
    "$$"
   ]
  },
  {
   "cell_type": "code",
   "execution_count": 7,
   "metadata": {},
   "outputs": [
    {
     "data": {
      "text/plain": [
       "Matroid of rank 3 on 12 elements"
      ]
     },
     "execution_count": 7,
     "metadata": {},
     "output_type": "execute_result"
    }
   ],
   "source": [
    "NB = [[1,2,6],[1,2,8],[1,3,5],[1,3,7],[1,5,7],\n",
    "      [1,6,8],[1,9,12],[2,4,5],[2,4,9],[2,5,9],\n",
    "      [2,6,8],[2,7,11],[3,4,6],[3,5,7],[3,8,9],\n",
    "      [3,10,12],[4,5,9],[4,7,8],[4,10,11],[5,6,10],\n",
    "      [8,11,12]]\n",
    "Q = matroid_from_nonbases(NB, 12)"
   ]
  },
  {
   "cell_type": "markdown",
   "metadata": {},
   "source": [
    "The coordinate ring of the realization space $\\mathcal{R}(\\mathsf{Q};\\mathbb{C})$ of $\\mathsf{Q}$ is isomorphic to $U^{-1}\\mathbb{C}[x,y]/I$ where\n",
    "\n",
    "- $$I = \\langle (xy + x - 2y)(y^2 - y + 1) \\rangle$$\n",
    "- $$U = \\left\\langle  \\begin{array}{l} \n",
    "  x, y, x-1, x-2, y-1, y+1, x-y, x-2y, x-y-1, xy-y+1, xy-2y+1, \\\\\n",
    "  xy-y^2-y+1, x+y^2-y, xy^2-2y^2+y-1, y^2+1, xy^2-y^2+y-1, \\\\\n",
    "  xy^2-2y^2+2y-1, xy-2y+2, x+y^2-y-1, x+y^2-2y, x^2y-xy^2-2xy+x+2y^2 \\end{array} \\right\\rangle_{\\text{smgp}} $$"
   ]
  },
  {
   "cell_type": "code",
   "execution_count": 8,
   "metadata": {},
   "outputs": [
    {
     "data": {
      "text/plain": [
       "[1   0   0   1   1   1   x2 - 1    1    1        x1                   x2 - 1   x1]\n",
       "[0   1   0   1   0   1        0   x2   x2        x2   -x1*x2^2 + 2*x2^2 - x2   x2]\n",
       "[0   0   1   1   1   0       x2    0    1   x1 - x2                       x2    1]"
      ]
     },
     "metadata": {},
     "output_type": "display_data"
    },
    {
     "data": {
      "text/plain": [
       "The representations of the matroid are parametrized by the matrix\n",
       "in the Multivariate polynomial ring in 2 variables over QQ\n",
       "within the vanishing set of the ideal\n",
       "ideal(x1*x2^3 + x1 - 2*x2^3 + 2*x2^2 - 2*x2)\n",
       "avoiding the zero loci of the polynomials\n",
       "RingElem[x1*x2 - x2 + 1, x1 - 1, x1*x2 - 2*x2 + 1, x1 - 2, x2 - 1, x1 - x2 - 1, x2, x1, x1*x2 - x2^2 - x2 + 1, x1 - x2  …  x1 + x2^2 - x2, x1*x2^2 - 2*x2^2 + x2 - 1, x2^2 + 1, x1*x2^2 - x2^2 + x2 - 1, x1*x2^2 - 2*x2^2 + 2*x2 - 1, x1*x2 - 2*x2 + 2, x1 + x2^2 - x2 - 1, x1 + x2^2 - 2*x2, x1 - 2*x2, x2 + 1]\n"
      ]
     },
     "execution_count": 8,
     "metadata": {},
     "output_type": "execute_result"
    }
   ],
   "source": [
    "MR = new_matroid_realization_space(Q, [1,2,3,4]; F=QQ)\n",
    "MR2 = reduce_ideal_full(MR)"
   ]
  },
  {
   "cell_type": "markdown",
   "metadata": {},
   "source": [
    "Define the field `K` by $K = \\mathbb{Q}(\\sqrt{-3})$. The intersection points of $xy + x - 2y = 0$ and $y^2 - y + 1 = 0$ are\n",
    "\n",
    "$$\n",
    "\\mathsf{q}_1 = \\left(\\frac{3-\\sqrt{-3}}{3}, \\frac{1-\\sqrt{-3}}{2}\\right)  \\hspace{15pt} \\mathsf{q}_2 = \\left(\\frac{3+\\sqrt{-3}}{3}, \\frac{1+\\sqrt{-3}}{2}\\right)\n",
    "$$\n",
    "\n"
   ]
  },
  {
   "cell_type": "code",
   "execution_count": 9,
   "metadata": {},
   "outputs": [
    {
     "name": "stdout",
     "output_type": "stream",
     "text": [
      "true\n",
      "true\n"
     ]
    }
   ],
   "source": [
    "Qs, s = QQ[\"s\"];\n",
    "K, (i, r3) = number_field([s^2 + 1, s^2 - 3], \"a\") # i = sqrt(-1) and r3 = sqrt(3)\n",
    "\n",
    "R_og = MR2.ambient_ring\n",
    "R, (x,y) = K[\"x\", \"y\"]\n",
    "phi = hom(R_og, R, a->a,  [x,y])\n",
    "\n",
    "q1 = [(3-i*r3)//3, (1-i*r3)//2]\n",
    "q2 = [(3+i*r3)//3, (1+i*r3)//2]\n",
    "U = phi.(MR2.inequations);\n",
    "\n",
    "f = x*y^3 + x - 2*y^3 + 2*y^2 - 2*y\n",
    "println(iszero(evaluate(f, q1)))\n",
    "println(iszero(evaluate(f, q2)))"
   ]
  },
  {
   "cell_type": "markdown",
   "metadata": {},
   "source": [
    "We evaluate the forms that generate $U$ at $\\mathsf{q}_1$ and $\\mathsf{q}_2$ and show that they are all nonzero.  "
   ]
  },
  {
   "cell_type": "code",
   "execution_count": 10,
   "metadata": {},
   "outputs": [
    {
     "name": "stdout",
     "output_type": "stream",
     "text": [
      "true\n",
      "true\n"
     ]
    }
   ],
   "source": [
    "evaluate_at_q1 = [evaluate(f,q1) for f in U];\n",
    "evaluate_at_q2 = [evaluate(f,q2) for f in U];\n",
    "\n",
    "println(all([!iszero(x) for x in evaluate_at_q1]));\n",
    "println(all([!iszero(x) for x in evaluate_at_q2]));"
   ]
  },
  {
   "cell_type": "markdown",
   "metadata": {},
   "source": [
    "This proves that $\\mathsf{q}_1$ and $\\mathsf{q_2}$ are the singular points of $\\mathcal{R}(\\mathsf{Q};\\mathbb{C})$."
   ]
  },
  {
   "cell_type": "markdown",
   "metadata": {},
   "source": [
    "The two irreducible components of $\\mathcal{R}(\\mathsf{Q}, \\mathbb{C})$ are $X_1 = V(xy + x - 2y)$ and $X_2 = V(y^2-y+1)$. Let $\\mathsf{a}_1 = (3,-3)$ and $\\mathsf{a}_2 = (3,(1-\\sqrt{-3})/2)$. The point $\\mathsf{a}_1$ is in $X_1\\setminus X_2$ and $\\mathsf{a}_2$ is in $X_2\\setminus X_1$. "
   ]
  },
  {
   "cell_type": "code",
   "execution_count": 11,
   "metadata": {},
   "outputs": [
    {
     "name": "stdout",
     "output_type": "stream",
     "text": [
      "true\n",
      "true\n",
      "true\n"
     ]
    }
   ],
   "source": [
    "a1 = [K(3),K(-3)]\n",
    "evaluate_at_a1 = [evaluate(f,a1) for f in U]\n",
    "g1 = x*y+x-2y\n",
    "g2 = y^2-y+1\n",
    "println(iszero(evaluate(g1,a1)));\n",
    "println(!iszero(evaluate(g2,a1)));\n",
    "println(all([!iszero(x) for x in evaluate_at_a1]));"
   ]
  },
  {
   "cell_type": "code",
   "execution_count": 12,
   "metadata": {},
   "outputs": [
    {
     "name": "stdout",
     "output_type": "stream",
     "text": [
      "true\n",
      "true\n",
      "true\n"
     ]
    }
   ],
   "source": [
    "a2 = [K(3), (1-i*r3)//2]\n",
    "evaluate_at_a2 = [evaluate(f,a2) for f in U]\n",
    "println(!iszero(evaluate(g1,a2)));\n",
    "println(iszero(evaluate(g2,a2)));\n",
    "println(all([!iszero(x) for x in evaluate_at_a2]));"
   ]
  },
  {
   "cell_type": "markdown",
   "metadata": {},
   "source": [
    "We form the matrices $C_1$ and $C_2$."
   ]
  },
  {
   "cell_type": "code",
   "execution_count": 13,
   "metadata": {},
   "outputs": [],
   "source": [
    "Ct , t = polynomial_ring(K, \"t\")\n",
    "\n",
    "(y1, y2) = (Ct(a1[1]), Ct(a1[2]))\n",
    "A1 = transpose(matrix(Ct, \n",
    "[1 0 0;\n",
    "0 1 0;\n",
    "0 0 1;\n",
    "1 1 1;\n",
    "1 0 1;\n",
    "1 1 0;\n",
    "y2-1 0 y2;\n",
    "1 y2 0;\n",
    "1 y2 1;\n",
    "y1 y2 y1-y2;\n",
    "y2-1 -y1*y2^2+2*y2^2-y2 y2;\n",
    "y1 y2 1] ))\n",
    "\n",
    "(z1, z2) = (Ct(a2[1]), Ct(a2[2]))\n",
    "A2 = transpose(matrix(Ct, \n",
    "[1 0 0;\n",
    "0 1 0;\n",
    "0 0 1;\n",
    "1 1 1;\n",
    "1 0 1;\n",
    "1 1 0;\n",
    "z2-1 0 z2;\n",
    "1 z2 0;\n",
    "1 z2 1;\n",
    "z1 z2 z1-z2;\n",
    "z2-1 -z1*z2^2+2*z2^2-z2 z2;\n",
    "z1 z2 1] ))\n",
    "\n",
    "Bt = transpose(matrix(Ct, \n",
    "[t -t 0;\n",
    "0 0 0;\n",
    "2*t t -t;\n",
    "-t t t;\n",
    "t t 0;\n",
    "0 0 t;\n",
    "-t 3*t -t;\n",
    "t 0 -t;\n",
    "0 t t;\n",
    "t t t;\n",
    "t t t;\n",
    "t -t 0] ))\n",
    "\n",
    "C1 = A1 + Bt;\n",
    "C2 = A2 + Bt;"
   ]
  },
  {
   "cell_type": "markdown",
   "metadata": {},
   "source": [
    "The coordinatewise valuations of the Pl&uuml;cker vectors of $C_1$ and $C_2$ are the corank vector $\\mathsf{w}$ of $\\mathsf{Q}$."
   ]
  },
  {
   "cell_type": "code",
   "execution_count": 14,
   "metadata": {},
   "outputs": [
    {
     "name": "stdout",
     "output_type": "stream",
     "text": [
      "true\n",
      "true\n",
      "true\n",
      "true\n"
     ]
    }
   ],
   "source": [
    "C3_12 = sort!(subsets(Vector(1:12),3))\n",
    "Bs = setdiff(C3_12, NB)\n",
    "\n",
    "function coordinatewise_valuation(X, As)\n",
    "    D = Dict()\n",
    "    for b in As\n",
    "        db = valuation(det(X[1:3, b]), t)\n",
    "        D[b] = db\n",
    "    end\n",
    "    return D\n",
    "end\n",
    "\n",
    "# C1\n",
    "println(all([iszero(v) for v in values(coordinatewise_valuation(C1, Bs))]))\n",
    "println(all([isone(v) for v in values(coordinatewise_valuation(C1, NB))]))\n",
    "\n",
    "# C2\n",
    "println(all([iszero(v) for v in values(coordinatewise_valuation(C2, Bs))]))\n",
    "println(all([isone(v) for v in values(coordinatewise_valuation(C2, NB))]))"
   ]
  },
  {
   "cell_type": "markdown",
   "metadata": {},
   "source": [
    "## 2. More singular realization spaces\n",
    "\n",
    "We invite the reader to study the singular realization spaces we isolated. Please contact dantelubermath@gmail.com with any questions or interesting observations that may arise while experimenting with this data.\n",
    "\n",
    "Note that different choices for reference circuit will give a difference presentation of the ambient ring, defining ideal, and semigroup. "
   ]
  },
  {
   "cell_type": "code",
   "execution_count": 26,
   "metadata": {},
   "outputs": [
    {
     "data": {
      "text/plain": [
       "76"
      ]
     },
     "execution_count": 26,
     "metadata": {},
     "output_type": "execute_result"
    }
   ],
   "source": [
    "sing = vec(readlines(\"d3n12/singular_3_12.dat\"))\n",
    "length(sing)"
   ]
  },
  {
   "cell_type": "markdown",
   "metadata": {},
   "source": [
    "We begin by computing the realization space and simplifying the presentaion. You can change matroids by changing the input value for `sing[.]`, and change reference circuits by changing the input value for `As[.]`."
   ]
  },
  {
   "cell_type": "code",
   "execution_count": 25,
   "metadata": {},
   "outputs": [
    {
     "data": {
      "text/plain": [
       "[1   0   -x1*x2*x3 + x1*x2 - x1*x3 + x1 + 2*x2*x3 - 2*x2 + 2*x3 - 3   x1*x2*x3 - x1*x2 + x1*x3 - x1 - 2*x2*x3 + 2*x2 + 1   0   x1*x2*x3 - x1*x2 + x1*x3 - x1 - 2*x2*x3 + 2*x2 + 1   x1                                                0   1   x1*x2 + x1 - 2*x2      x2    1]\n",
       "[0   1                                                       x3 - 1                                                    0   0                                               x3 - 1   x1   x1*x2*x3 - x1*x2 + x1*x3 - x1 - x2*x3 + x2 + 1   1                  x1   x2*x3   x3]\n",
       "[0   0                                                            0                                               x3 - 1   1                                               x3 - 1    1                                                1   1                   1      x3    1]"
      ]
     },
     "metadata": {},
     "output_type": "display_data"
    },
    {
     "data": {
      "text/plain": [
       "The representations of the matroid are parametrized by the matrix\n",
       "in the Multivariate polynomial ring in 3 variables over QQ\n",
       "within the vanishing set of the ideal\n",
       "ideal(x1^2*x2 - x1^2*x3 + x1^2 + x1*x2*x3 - 4*x1*x2 + 3*x1*x3 - 3*x1 - 2*x2*x3 + 3*x2 + 1, x1^2*x3^2 - x1^2*x3 - x1*x2*x3^2 + 2*x1*x2*x3 - x1*x2 - 3*x1*x3^2 + 4*x1*x3 + 2*x2*x3^2 - 3*x2*x3 + x2 - x3, x1*x2^2*x3 - x1*x2^2 - 2*x1*x2*x3^2 + 4*x1*x2*x3 - x1*x2 - 2*x1*x3^2 + 2*x1*x3 - x2^2*x3 + x2^2 + 2*x2*x3^2 - 2*x2*x3 - x3, 2*x1*x2*x3^3 - 5*x1*x2*x3^2 + 2*x1*x2*x3 + 2*x1*x3^3 - 3*x1*x3^2 + x1*x3 - x2^2*x3^2 + x2^2*x3 - 2*x2*x3^3 + 4*x2*x3^2 - x2 + x3^2 - x3, x1*x2^2 - 4*x1*x2*x3 + x1*x2 + 2*x1*x3^3 + x1*x3^2 - 3*x1*x3 + x2^3*x3^2 - x2^3*x3 - 2*x2^2*x3^3 + 4*x2^2*x3^2 - 3*x2^2*x3 - x2*x3^2 + x2*x3 + x2 + 2*x3)\n",
       "avoiding the zero loci of the polynomials\n",
       "RingElem[x2 - x3, x1*x2*x3^2 - x1*x2*x3 + x1*x3^2 - x1*x3 - 2*x2*x3^2 + 2*x2*x3 - 2*x3^2 + 4*x3 - 1, x1*x2*x3 - x1*x2 + x1*x3 - x1 - 2*x2*x3 + 2*x2 + 1, x1*x2*x3^2 - x1*x2*x3 + x1*x3^2 - x1*x3 - 2*x2*x3^2 + 2*x2*x3 + 1, x3 - 1, x1, x1*x2*x3 - x1*x2 + x1*x3 - x1 - x2*x3 + x2 + 1, x1*x2*x3 + x1*x3 - x1 - 2*x2*x3, x1 - x3, x1*x2 + x1 - 2*x2 - 1  …  x1*x3 - x2, x1*x2 - x1*x3 - x2, x1*x2*x3^2 - x1*x2*x3 + x1*x3^2 - x1*x3 - 2*x2*x3^2 + x2*x3 + x2 + x3, x1*x3 - x1 - 2*x3 + 3, x1*x2 + x1 - 2*x2, x1*x2*x3 - x1*x2 + x1*x3 - 2*x1 - x2*x3 + x2 + 1, x1*x2*x3 - x1*x2 + x1*x3 - x1 - x2*x3 + x2 - x3 + 2, 2*x1*x2*x3 - 2*x1*x2 + x1*x3 - x1 - 4*x2*x3 + 4*x2 + 1, x1*x2 + x1 - x2, x1*x2*x3 - x1*x2 - 2*x2*x3 + 2*x2 + 1]\n"
      ]
     },
     "execution_count": 25,
     "metadata": {},
     "output_type": "execute_result"
    }
   ],
   "source": [
    "M = matroid_from_revlex_basis_encoding(sing[1],3,12)#compute matroid\n",
    "As = optimal_circuits(M)#compute optimal reference circuits\n",
    "A = As[1]\n",
    "MR = new_matroid_realization_space(M,A;F = QQ, saturate = true)#compute realization space\n",
    "MRR = reduce_ideal_full(MR)#compute simplified presention\n"
   ]
  },
  {
   "cell_type": "markdown",
   "metadata": {},
   "source": [
    "Now we compute the singular locus."
   ]
  },
  {
   "cell_type": "code",
   "execution_count": 24,
   "metadata": {},
   "outputs": [
    {
     "data": {
      "text/plain": [
       "ideal(x3^2 - x3 + 1, x1 + x2*x3 - 1, x1*x3 - x1 - x2 - x3 + 1, x1 + x2^2 + x2 + x3 - 1, x1*x2 - 2*x2 - x3 + 1, x1^2 - 3*x1 + 1)"
      ]
     },
     "execution_count": 24,
     "metadata": {},
     "output_type": "execute_result"
    }
   ],
   "source": [
    "S = realization_space_2_singular_locus(MRR)"
   ]
  },
  {
   "cell_type": "code",
   "execution_count": null,
   "metadata": {},
   "outputs": [],
   "source": []
  }
 ],
 "metadata": {
  "kernelspec": {
   "display_name": "Julia 1.7.1",
   "language": "julia",
   "name": "julia-1.7"
  },
  "language_info": {
   "file_extension": ".jl",
   "mimetype": "application/julia",
   "name": "julia",
   "version": "1.7.1"
  }
 },
 "nbformat": 4,
 "nbformat_minor": 4
}
