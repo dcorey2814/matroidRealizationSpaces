{
 "cells": [
  {
   "cell_type": "markdown",
   "metadata": {},
   "source": [
    "# $(3,10)$--Matriods\n",
    "\n",
    "In this notebook, we provide the computations used in the proof of Proposition 4.4, which asserts that $\\operatorname{Gr}(\\mathsf{Q};\\mathbb{C})$ is smooth for all $\\mathbb{C}$--realizable $(3,10)$--matroids. "
   ]
  },
  {
   "cell_type": "code",
   "execution_count": 1,
   "metadata": {},
   "outputs": [
    {
     "name": "stdout",
     "output_type": "stream",
     "text": [
      " -----    -----    -----      -      -----   \n",
      "|     |  |     |  |     |    | |    |     |  \n",
      "|     |  |        |         |   |   |     |  \n",
      "|     |   -----   |        |     |  |-----   \n",
      "|     |        |  |        |-----|  |   |    \n",
      "|     |  |     |  |     |  |     |  |    |   \n",
      " -----    -----    -----   -     -  -     -  \n",
      "\n",
      "...combining (and extending) ANTIC, GAP, Polymake and Singular\n",
      "Version\u001b[32m 0.12.1 \u001b[39m... \n",
      " ... which comes with absolutely no warranty whatsoever\n",
      "Type: '?Oscar' for more information\n",
      "(c) 2019-2023 by The OSCAR Development Team\n"
     ]
    }
   ],
   "source": [
    "using Oscar"
   ]
  },
  {
   "cell_type": "code",
   "execution_count": 2,
   "metadata": {},
   "outputs": [],
   "source": [
    "cd(\"..\")"
   ]
  },
  {
   "cell_type": "code",
   "execution_count": 3,
   "metadata": {},
   "outputs": [
    {
     "data": {
      "text/plain": [
       "realization_space_2_singular_locus (generic function with 1 method)"
      ]
     },
     "execution_count": 3,
     "metadata": {},
     "output_type": "execute_result"
    }
   ],
   "source": [
    "currentDir = pwd() # make sure you are running from the main directory.\n",
    "include(joinpath(currentDir, \"src/fileHandling.jl\"))\n",
    "include(joinpath(currentDir, \"src/isolate3Lines.jl\"))\n",
    "include(joinpath(currentDir, \"src/matroid_realization.jl\"))\n",
    "include(joinpath(currentDir, \"src/Jacobian_Criterion.jl\"))"
   ]
  },
  {
   "cell_type": "markdown",
   "metadata": {},
   "source": [
    "First we isolate those that satisfy the three lines property, i.e., every element of the ground set is contained in at least 3 lines (cyclic flats of rank 2). There are **151** such matroids."
   ]
  },
  {
   "cell_type": "code",
   "execution_count": null,
   "metadata": {},
   "outputs": [],
   "source": [
    "db = Polymake.Polydb.get_db();\n",
    "collection = db[\"Matroids.Small\"];\n",
    "d3n10 = Polymake.Polydb.find(collection, Dict(\"RANK\" => 3, \"SIMPLE\"=>true, \"N_ELEMENTS\"=>10));\n",
    "\n",
    "\n",
    "n3C10 = subsets(collect(1:10), 3);\n",
    "n3C10 = sort(n3C10, by =  x-> reverse(x));\n",
    "\n",
    "lines_3 = []\n",
    "for c in d3n10\n",
    "    Q = Matroid(c)\n",
    "    ns = count_3_lines_thru_all_points(Q)\n",
    "    if length(ns) == 0\n",
    "        continue\n",
    "    end    \n",
    "    if minimum(ns) >= 3\n",
    "        push!(lines_3, to_revlex(Q, n3C10))\n",
    "    end\n",
    "end"
   ]
  },
  {
   "cell_type": "markdown",
   "metadata": {},
   "source": [
    "This data is precomputed in `d3n10/3lines_d3n10.dat`."
   ]
  },
  {
   "cell_type": "code",
   "execution_count": 4,
   "metadata": {},
   "outputs": [],
   "source": [
    "lines_3_precomputed = vec(readlines(joinpath(currentDir, \"d3n10/data/3lines_3_10.dat\")));"
   ]
  },
  {
   "cell_type": "code",
   "execution_count": null,
   "metadata": {},
   "outputs": [],
   "source": [
    "Set(lines_3) == Set(lines_3_precomputed)"
   ]
  },
  {
   "cell_type": "markdown",
   "metadata": {},
   "source": [
    "The file `d3n10/not_realizable.dat` contains those matroids in `d3n10/3lines_3_10.dat` that are not realizable over $\\mathbb{Q}$. There are **44** such matroids."
   ]
  },
  {
   "cell_type": "code",
   "execution_count": 5,
   "metadata": {},
   "outputs": [
    {
     "data": {
      "text/plain": [
       "44"
      ]
     },
     "execution_count": 5,
     "metadata": {},
     "output_type": "execute_result"
    }
   ],
   "source": [
    "not_realizable = vec(readlines(joinpath(currentDir, \"d3n10/data/nonrealizable_3_10.dat\")));\n",
    "length(not_realizable)"
   ]
  },
  {
   "cell_type": "code",
   "execution_count": 6,
   "metadata": {},
   "outputs": [],
   "source": [
    "test_nonrealizable = []\n",
    "\n",
    "for Qstr in not_realizable\n",
    "    Q = matroid_from_revlex_basis_encoding(Qstr, 3, 10) \n",
    "    As = rank_plus1_circuits(Q) \n",
    "    MR = new_matroid_realization_space(Q, As[1]; F=QQ, saturate=true)\n",
    "    push!(test_nonrealizable, !MR.representable)\n",
    "end"
   ]
  },
  {
   "cell_type": "code",
   "execution_count": 7,
   "metadata": {},
   "outputs": [
    {
     "data": {
      "text/plain": [
       "true"
      ]
     },
     "execution_count": 7,
     "metadata": {},
     "output_type": "execute_result"
    }
   ],
   "source": [
    "all(test_nonrealizable)"
   ]
  },
  {
   "cell_type": "markdown",
   "metadata": {},
   "source": [
    "The files `zero_ideal_3_10.dat`, `univariate_ideal_3_10.dat`, and `multivariate_principal_ideal_3_10.dat` in `d3n10/data/` record matroids and a maximal circuit. A pair of matroid and circuit is recorded as a `*/0` vector. The first 10 entries record the circuit (e.g., `**0*00*000` is the circuit `[1,2,4,7]`) and the rest record the matroid in the usual revlex basis encoding. \n",
    "\n",
    "**Note:** One could check that these are smooth using the `singular_locus` function in `src/Jacobian_Criterion.jl`. To make this computation more transparent, we carry out the smoothness check explicitly."
   ]
  },
  {
   "cell_type": "markdown",
   "metadata": {},
   "source": [
    "The files `d3n10/zero_ideal_3_10.dat` contains those matroids in `d3n10/3lines_3_10.dat` and a maximal circuit such that the ideal of the realization space is zero. Therefore these realization spaces are smooth. There are **54** such matroids."
   ]
  },
  {
   "cell_type": "code",
   "execution_count": 8,
   "metadata": {},
   "outputs": [
    {
     "data": {
      "text/plain": [
       "54"
      ]
     },
     "execution_count": 8,
     "metadata": {},
     "output_type": "execute_result"
    }
   ],
   "source": [
    "zero_ideal = vec(readlines(joinpath(currentDir, \"d3n10/data/zero_ideal_3_10.dat\")));\n",
    "length(zero_ideal)"
   ]
  },
  {
   "cell_type": "code",
   "execution_count": 9,
   "metadata": {},
   "outputs": [],
   "source": [
    "test_zero = []\n",
    "for cir_Qstr in zero_ideal\n",
    "    A = [i for i in 1:10 if string(cir_Qstr[i]) == \"*\"]     \n",
    "    Qstr = cir_Qstr[11:130]\n",
    "    Q = matroid_from_revlex_basis_encoding(Qstr, 3, 10) \n",
    "    MR = new_matroid_realization_space(Q, A; F=QQ, saturate=true)\n",
    "        \n",
    "    MR = reduce_ideal_full(MR)\n",
    "    I = MR.defining_ideal\n",
    "    push!(test_zero, iszero(I))\n",
    "end"
   ]
  },
  {
   "cell_type": "code",
   "execution_count": 10,
   "metadata": {},
   "outputs": [
    {
     "data": {
      "text/plain": [
       "true"
      ]
     },
     "execution_count": 10,
     "metadata": {},
     "output_type": "execute_result"
    }
   ],
   "source": [
    "all(test_zero)"
   ]
  },
  {
   "cell_type": "markdown",
   "metadata": {},
   "source": [
    "The files `d3n10/data/univariate_ideal_3_10.dat` contains those matroids in `d3n10/data/3lines_3_10.dat` and a maximal circuit such that the ideal of the realization space is univariate. These realization spaces are smooth provided the discriminant is nonzero.  There are **37** such matroids."
   ]
  },
  {
   "cell_type": "code",
   "execution_count": 11,
   "metadata": {},
   "outputs": [
    {
     "data": {
      "text/plain": [
       "37"
      ]
     },
     "execution_count": 11,
     "metadata": {},
     "output_type": "execute_result"
    }
   ],
   "source": [
    "univariate_ideal = vec(readlines(joinpath(currentDir, \"d3n10/data/univariate_ideal_3_10.dat\")));\n",
    "length(univariate_ideal)"
   ]
  },
  {
   "cell_type": "markdown",
   "metadata": {},
   "source": [
    "If $I\\subset \\mathbb{C}[x_1,\\ldots,x_k]$ is an ideal principally generated by a polynomial in a single variable $x_1$, then $I$ defines a smooth scheme if and only if $f$  and $df/dx$ are relatively prime.  "
   ]
  },
  {
   "cell_type": "code",
   "execution_count": 12,
   "metadata": {},
   "outputs": [],
   "source": [
    "test_univariate = []\n",
    "for cir_Qstr in univariate_ideal\n",
    "    A = [i for i in 1:10 if string(cir_Qstr[i]) == \"*\"]     \n",
    "    Qstr = cir_Qstr[11:130]\n",
    "    Q = matroid_from_revlex_basis_encoding(Qstr, 3, 10) \n",
    "    MR = new_matroid_realization_space(Q, A; F=QQ, saturate=true)\n",
    "        \n",
    "    MR = reduce_ideal_full(MR)\n",
    "    I = MR.defining_ideal\n",
    "    vs = ideal_vars(gens(I))\n",
    "    length(vs) != 1 && error(\"not univariate\")\n",
    "    f = gens(I)[1]; #println(\"f = \", f); \n",
    "    df = derivative(f, vs[1]); #println(\"df = \", df); \n",
    "    push!(test_univariate, isone(ideal(MR.ambient_ring, [f,df])))\n",
    "end"
   ]
  },
  {
   "cell_type": "code",
   "execution_count": 13,
   "metadata": {},
   "outputs": [
    {
     "data": {
      "text/plain": [
       "true"
      ]
     },
     "execution_count": 13,
     "metadata": {},
     "output_type": "execute_result"
    }
   ],
   "source": [
    "all(test_univariate)"
   ]
  },
  {
   "cell_type": "markdown",
   "metadata": {},
   "source": [
    "The files `d3n10/multivariate_principal_ideal_3_10.dat` contains those matroids in `d3n10/3lines_3_10.dat` and a maximal circuit such that the ideal of the realization space is principal. There are **16** such matroids. By the Jacobian criterion, the affine scheme $\\mathsf{Spec}(S^{-1}\\mathbb{Q}[x_1,\\ldots,x_n] / \\langle f \\rangle)$ is smooth if and only if the ideal\n",
    "\n",
    "$$\n",
    "J = \\langle f, \\frac{\\partial f}{\\partial x_1}, \\ldots, \\frac{\\partial f}{\\partial x_n}\\rangle\n",
    "$$\n",
    "\n",
    "is the unit ideal in $S^{-1} \\mathbb{Q}[x_1,\\ldots,x_n]$. This is equivalent to the saturation $(J:S^{\\infty})$ being the unit ideal in $\\mathbb{Q}[x_1,\\ldots,x_n]$. We perform this explicit check here. "
   ]
  },
  {
   "cell_type": "code",
   "execution_count": 14,
   "metadata": {},
   "outputs": [
    {
     "data": {
      "text/plain": [
       "16"
      ]
     },
     "execution_count": 14,
     "metadata": {},
     "output_type": "execute_result"
    }
   ],
   "source": [
    "principal_ideal = vec(readlines(joinpath(currentDir, \"d3n10/data/multivariate_principal_ideal_3_10.dat\")));\n",
    "length(principal_ideal)"
   ]
  },
  {
   "cell_type": "code",
   "execution_count": 15,
   "metadata": {},
   "outputs": [],
   "source": [
    "test_principal = []\n",
    "for cir_Qstr in principal_ideal\n",
    "    A = [i for i in 1:10 if string(cir_Qstr[i]) == \"*\"]     \n",
    "    Qstr = cir_Qstr[11:130]\n",
    "    Q = matroid_from_revlex_basis_encoding(Qstr, 3, 10) \n",
    "    MR = new_matroid_realization_space(Q, A; F=QQ, saturate=true)\n",
    "        \n",
    "    MR = reduce_ideal_full(MR)\n",
    "    R = MR.ambient_ring\n",
    "    x = gens(R)\n",
    "    I = MR.defining_ideal\n",
    "    Igens = gens(I)\n",
    "    length(Igens) != 1 && error(\"not principal\") \n",
    "    JM = jacobian_matrix(R, x, Igens)\n",
    "    nr, nc = size(JM) \n",
    "    J = I + ideal(R, [JM[1,c] for c in 1:nc])\n",
    "    Sing = stepwise_saturation(J, MR.inequations)\n",
    "    #Sing = realization_space_2_singular_locus(MR)\n",
    "    push!(test_principal, isone(Sing))\n",
    "end"
   ]
  },
  {
   "cell_type": "code",
   "execution_count": 16,
   "metadata": {},
   "outputs": [
    {
     "data": {
      "text/plain": [
       "true"
      ]
     },
     "execution_count": 16,
     "metadata": {},
     "output_type": "execute_result"
    }
   ],
   "source": [
    "all(test_principal)"
   ]
  },
  {
   "cell_type": "markdown",
   "metadata": {},
   "source": [
    "## Example 4.5\n",
    "\n",
    "Let $\\mathsf{Q}$ be the simple $(3,10)$-matroid whose lines are\n",
    "\n",
    "\n",
    "$$\n",
    "\\mathcal{L}(\\mathsf{Q}) = \\{\\{1,2,5\\}, \\{1,3,6\\}, \\{1,4,8\\}, \\{2,3,7\\}, \\{2,4,9\\}, \\{2,6,10\\}, \\{3,4,5\\}, \\{4,6,7\\}, \\{5,9,10\\},\\{6,8,9\\}, \\{7,8,10\\}\\}\n",
    "$$\n",
    "\n"
   ]
  },
  {
   "cell_type": "code",
   "execution_count": 17,
   "metadata": {
    "scrolled": true
   },
   "outputs": [
    {
     "data": {
      "text/plain": [
       "Matroid of rank 3 on 10 elements"
      ]
     },
     "execution_count": 17,
     "metadata": {},
     "output_type": "execute_result"
    }
   ],
   "source": [
    "NB = [[1,2,5], [1,3,6], [1,4,8], [2,3,7], [2,4,9], [2,6,10], [3,4,5], [4,6,7], [5,9,10], [6,8,9], [7,8,10]]\n",
    "A = [1,2,3,4]\n",
    "Q = matroid_from_nonbases(NB,10)"
   ]
  },
  {
   "cell_type": "code",
   "execution_count": 18,
   "metadata": {},
   "outputs": [
    {
     "data": {
      "text/plain": [
       "[1   0   0   1   x1   x2    0   x4   x6   x8]\n",
       "[0   1   0   1    1    0   x3   x5   x7   x9]\n",
       "[0   0   1   1    0    1    1    1    1    1]"
      ]
     },
     "metadata": {},
     "output_type": "display_data"
    },
    {
     "data": {
      "text/plain": [
       "The representations of the matroid are parametrized by the matrix\n",
       "in the Multivariate polynomial ring in 9 variables over QQ\n",
       "within the vanishing set of the ideal\n",
       "ideal(x7 + x8 - x9 - 1, x6 - 1, x5 - 1, x2 - x8, x1 - 1, x4*x8 - x4*x9 - x4 - x8^2 + x8*x9 + 1, x3*x8 - x3 - x8, x3*x4 - x3 - x4*x9, x4*x9^2 - x4*x9 - x4 + x8 + 1, x3*x9^2 - x3*x9 + x3 - x8*x9 + x8 - x9, x8^2*x9 - x8^2 - x8*x9^2 + x8*x9 - x9)\n",
       "avoiding the zero loci of the polynomials\n",
       "RingElem[x7 - x9, x6 - x8, x6*x9 - x7*x8, x6*x9 - x6 - x7*x8 + x7 + x8 - x9, x2*x7 - x2*x9 + x6*x9 - x7*x8, x3*x6 - x3*x8 - x6*x9 + x7*x8, x4*x7 - x4*x9 - x5*x6 + x5*x8 + x6*x9 - x7*x8, x5 - x9, x4 - x8, x4*x9 - x5*x8  …  x1*x5 + x2 - x4, x1*x5 - x4, x1*x5 - x1 - x4 + 1, x4 - 1, x4 - x5, x1*x3 + x2, x1*x3 - x1 + 1, x3 - 1, x1 + x2 - 1, x2 - 1]\n"
      ]
     },
     "execution_count": 18,
     "metadata": {},
     "output_type": "execute_result"
    }
   ],
   "source": [
    "MR = new_matroid_realization_space(Q, A; F=QQ, saturate=true)"
   ]
  },
  {
   "cell_type": "code",
   "execution_count": 19,
   "metadata": {},
   "outputs": [
    {
     "data": {
      "text/plain": [
       "[1   0   0   1   1   x1        0   x1^2 - x1*x2 - 1              1   x1]\n",
       "[0   1   0   1   1    0       x1        x1 - x2 - 1   -x1 + x2 + 1   x2]\n",
       "[0   0   1   1   0    1   x1 - 1        x1 - x2 - 1              1    1]"
      ]
     },
     "metadata": {},
     "output_type": "display_data"
    },
    {
     "data": {
      "text/plain": [
       "The representations of the matroid are parametrized by the matrix\n",
       "in the Multivariate polynomial ring in 2 variables over QQ\n",
       "within the vanishing set of the ideal\n",
       "ideal(x1^2*x2 - x1^2 - x1*x2^2 + x1*x2 - x2)\n",
       "avoiding the zero loci of the polynomials\n",
       "RingElem[x1 - 1, x1 - x2, x2, x1^2 - x1*x2 + x2, x2 - 1, x1*x2 - x1 + 1, x1*x2 - x1 - x2, x1, x1^2 - x1*x2 - x1 + x2 + 1, x1 - x2 - 1, x1^2 - x1*x2 - 1, x1^3 - 2*x1^2 - x1*x2^2 + 2*x1*x2 - 2*x2]\n"
      ]
     },
     "execution_count": 19,
     "metadata": {},
     "output_type": "execute_result"
    }
   ],
   "source": [
    "MR2 = reduce_ideal_full(MR)"
   ]
  },
  {
   "cell_type": "code",
   "execution_count": 20,
   "metadata": {},
   "outputs": [
    {
     "data": {
      "text/plain": [
       "2-element Vector{QQMPolyRingElem}:\n",
       " x1\n",
       " x2"
      ]
     },
     "execution_count": 20,
     "metadata": {},
     "output_type": "execute_result"
    }
   ],
   "source": [
    "f = MR2.defining_ideal[1]\n",
    "R = MR2.ambient_ring\n",
    "x1,x2 = gens(R)"
   ]
  },
  {
   "cell_type": "code",
   "execution_count": 21,
   "metadata": {},
   "outputs": [
    {
     "data": {
      "text/plain": [
       "1 * (x2 - 1) * (2*x1 - x2)"
      ]
     },
     "execution_count": 21,
     "metadata": {},
     "output_type": "execute_result"
    }
   ],
   "source": [
    "factor(derivative(f,x1))"
   ]
  },
  {
   "cell_type": "code",
   "execution_count": 22,
   "metadata": {},
   "outputs": [
    {
     "data": {
      "text/plain": [
       "1 * (x1^2 - 2*x1*x2 + x1 - 1)"
      ]
     },
     "execution_count": 22,
     "metadata": {},
     "output_type": "execute_result"
    }
   ],
   "source": [
    "factor(derivative(f,x2))"
   ]
  },
  {
   "cell_type": "code",
   "execution_count": 23,
   "metadata": {},
   "outputs": [
    {
     "data": {
      "text/plain": [
       "true"
      ]
     },
     "execution_count": 23,
     "metadata": {},
     "output_type": "execute_result"
    }
   ],
   "source": [
    "isone(ideal([f, 2*x1-x2, x1^2-2*x1*x2+x1-1]))"
   ]
  }
 ],
 "metadata": {
  "kernelspec": {
   "display_name": "Julia 1.8.5",
   "language": "julia",
   "name": "julia-1.8"
  },
  "language_info": {
   "file_extension": ".jl",
   "mimetype": "application/julia",
   "name": "julia",
   "version": "1.8.5"
  }
 },
 "nbformat": 4,
 "nbformat_minor": 4
}
