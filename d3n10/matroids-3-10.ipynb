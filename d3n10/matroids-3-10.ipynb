{
 "cells": [
  {
   "cell_type": "code",
   "execution_count": 3,
   "metadata": {},
   "outputs": [],
   "source": [
    "using Oscar"
   ]
  },
  {
   "cell_type": "code",
   "execution_count": 4,
   "metadata": {},
   "outputs": [],
   "source": [
    "cd(\"..\")"
   ]
  },
  {
   "cell_type": "code",
   "execution_count": 5,
   "metadata": {},
   "outputs": [
    {
     "data": {
      "text/plain": [
       "realization_space_2_singular_locus (generic function with 1 method)"
      ]
     },
     "execution_count": 5,
     "metadata": {},
     "output_type": "execute_result"
    }
   ],
   "source": [
    "currentDir = pwd() # make sure you are running from the main directory.\n",
    "include(joinpath(currentDir, \"src/fileHandling.jl\"))\n",
    "include(joinpath(currentDir, \"src/isolate3Lines.jl\"))\n",
    "include(joinpath(currentDir, \"src/matroid_realization.jl\"))\n",
    "include(joinpath(currentDir, \"src/Jacobian_Criterion.jl\"))"
   ]
  },
  {
   "cell_type": "markdown",
   "metadata": {},
   "source": [
    "First we isolate those that satisfy the three lines property, i.e., every element of the ground set is contained in at least 3 lines (cyclic flats of rank 2). There are **151** such matroids."
   ]
  },
  {
   "cell_type": "code",
   "execution_count": null,
   "metadata": {},
   "outputs": [],
   "source": [
    "db = Polymake.Polydb.get_db();\n",
    "collection = db[\"Matroids.Small\"];\n",
    "d3n10 = Polymake.Polydb.find(collection, Dict(\"RANK\" => 3, \"SIMPLE\"=>true, \"N_ELEMENTS\"=>10));\n",
    "\n",
    "\n",
    "n3C10 = subsets(collect(1:10), 3);\n",
    "n3C10 = sort(n3C10, by =  x-> reverse(x));\n",
    "\n",
    "lines_3 = []\n",
    "for c in d3n10\n",
    "    Q = Matroid(c)\n",
    "    ns = count_3_lines_thru_all_points(Q)\n",
    "    if length(ns) == 0\n",
    "        continue\n",
    "    end    \n",
    "    if minimum(ns) >= 3\n",
    "        push!(lines_3, to_revlex(Q, n3C10))\n",
    "    end\n",
    "end"
   ]
  },
  {
   "cell_type": "markdown",
   "metadata": {},
   "source": [
    "This data is precomputed in `d3n10/3lines_d3n10.dat`."
   ]
  },
  {
   "cell_type": "code",
   "execution_count": 111,
   "metadata": {},
   "outputs": [],
   "source": [
    "lines_3_precomputed = vec(readlines(joinpath(currentDir, \"d3n10/3lines_d3n10.dat\")));"
   ]
  },
  {
   "cell_type": "code",
   "execution_count": null,
   "metadata": {},
   "outputs": [],
   "source": [
    "Set(lines_3) == Set(lines_3_precomputed)"
   ]
  },
  {
   "cell_type": "markdown",
   "metadata": {},
   "source": [
    "The file `d3n10/not_realizable.dat` contains those matroids in `d3n10/3lines_d3n10.dat` that are not realizable over $\\mathbb{Q}$. There are **44** such matroids."
   ]
  },
  {
   "cell_type": "code",
   "execution_count": 112,
   "metadata": {},
   "outputs": [],
   "source": [
    "not_realizable = vec(readlines(joinpath(currentDir, \"d3n10/nonrealizable.dat\")));"
   ]
  },
  {
   "cell_type": "code",
   "execution_count": null,
   "metadata": {},
   "outputs": [],
   "source": [
    "not_realizable = vec(readlines(joinpath(currentDir, \"d3n10/nonrealizable.dat\")));\n",
    "\n",
    "test_nonrealizable = []\n",
    "\n",
    "for Qstr in not_realizable\n",
    "    Q = matroid_from_revlex_basis_encoding(Qstr, 3, 10) \n",
    "    As = rank_plus1_circuits(Q) \n",
    "    MR = new_matroid_realization_space(Q, As[1]; F=QQ, saturate=true)\n",
    "    push!(test_nonrealizable, !MR.representable)\n",
    "end"
   ]
  },
  {
   "cell_type": "code",
   "execution_count": null,
   "metadata": {},
   "outputs": [],
   "source": [
    "all(test_nonrealizable)"
   ]
  },
  {
   "cell_type": "markdown",
   "metadata": {},
   "source": [
    "The files `d3n10/zero_ideal.dat`, `d3n10/univariate_ideal.dat`, and `d3n10/principal_ideal.dat` record matroids and a maximal circuit. A pair of matroid and circuit is recorded as a `*/0` vector. The first 10 entries record the circuit (e.g., `**0*00*000` is the circuit `[1,2,4,7]`) and the rest record the matroid in the usual revlex basis encoding. \n",
    "\n",
    "**Note:** One could check that these are smooth using the `singular_locus` function in `src/Jacobian_Criterion.jl`. To make this computation more transparent, we carry out the smoothness check explicitly."
   ]
  },
  {
   "cell_type": "markdown",
   "metadata": {},
   "source": [
    "The files `d3n10/zero_ideal.dat` contains those matroids in `d3n10/3lines_d3n10.dat` and a maximal circuit such that the ideal of the realization space is zero. Therefore these realization spaces are smooth. There are **46** such matroids."
   ]
  },
  {
   "cell_type": "code",
   "execution_count": 113,
   "metadata": {},
   "outputs": [],
   "source": [
    "zero_ideal = vec(readlines(joinpath(currentDir, \"d3n10/zero_ideal.dat\")));"
   ]
  },
  {
   "cell_type": "code",
   "execution_count": null,
   "metadata": {},
   "outputs": [],
   "source": [
    "test_zero = []\n",
    "for cir_Qstr in zero_ideal\n",
    "    A = [i for i in 1:10 if string(cir_Qstr[i]) == \"*\"]     \n",
    "    Qstr = cir_Qstr[11:130]\n",
    "    Q = matroid_from_revlex_basis_encoding(Qstr, 3, 10) \n",
    "    MR = new_matroid_realization_space(Q, A; F=QQ, saturate=true)\n",
    "        \n",
    "    MR = reduce_ideal_full(MR)\n",
    "    I = MR.defining_ideal\n",
    "    push!(test_zero, iszero(I))\n",
    "end"
   ]
  },
  {
   "cell_type": "code",
   "execution_count": null,
   "metadata": {},
   "outputs": [],
   "source": [
    "all(test_zero)"
   ]
  },
  {
   "cell_type": "markdown",
   "metadata": {},
   "source": [
    "The files `d3n10/univariate_ideal.dat` contains those matroids in `d3n10/3lines_d3n10.dat` and a maximal circuit such that the ideal of the realization space is univariate. These realization spaces are smooth provided the discriminant is nonzero.  There are **33** such matroids."
   ]
  },
  {
   "cell_type": "code",
   "execution_count": 114,
   "metadata": {},
   "outputs": [],
   "source": [
    "univariate_ideal = vec(readlines(joinpath(currentDir, \"d3n10/univariate_ideal.dat\")));"
   ]
  },
  {
   "cell_type": "code",
   "execution_count": null,
   "metadata": {},
   "outputs": [],
   "source": [
    "test_univariate = []\n",
    "for cir_Qstr in univariate_ideal\n",
    "    A = [i for i in 1:10 if string(cir_Qstr[i]) == \"*\"]     \n",
    "    Qstr = cir_Qstr[11:130]\n",
    "    Q = matroid_from_revlex_basis_encoding(Qstr, 3, 10) \n",
    "    MR = new_matroid_realization_space(Q, A; F=QQ, saturate=true)\n",
    "        \n",
    "    MR = reduce_ideal_full(MR)\n",
    "    I = MR.defining_ideal\n",
    "    length_vs = length(ideal_vars(gens(I))) \n",
    "    push!(test_univariate, isone(length_vs))\n",
    "end"
   ]
  },
  {
   "cell_type": "code",
   "execution_count": null,
   "metadata": {},
   "outputs": [],
   "source": [
    "all(test_univariate)"
   ]
  },
  {
   "cell_type": "markdown",
   "metadata": {},
   "source": [
    "The files `d3n10/principal_ideal.dat` contains those matroids in `d3n10/3lines_d3n10.dat` and a maximal circuit such that the ideal of the realization space is principal. There are **28** such matroids. By the Jacobian criterion, the affine scheme $\\mathsf{Spec}(S^{-1}\\mathbb{Q}[x_1,\\ldots,x_n] / \\langle f \\rangle)$ is smooth if and only if the ideal\n",
    "\n",
    "$$\n",
    "J = \\langle f, \\frac{\\partial f}{\\partial x_1}, \\ldots, \\frac{\\partial f}{\\partial x_n}\\rangle\n",
    "$$\n",
    "\n",
    "is the unit ideal in $S^{-1} \\mathbb{Q}[x_1,\\ldots,x_n]$. This is equivalent to the saturation $(J:S^{\\infty})$ being the unit ideal in $\\mathbb{Q}[x_1,\\ldots,x_n]$. We perform this explicit check here. "
   ]
  },
  {
   "cell_type": "code",
   "execution_count": 115,
   "metadata": {},
   "outputs": [],
   "source": [
    "principal_ideal = vec(readlines(joinpath(currentDir, \"d3n10/principal_ideal.dat\")));"
   ]
  },
  {
   "cell_type": "code",
   "execution_count": 21,
   "metadata": {},
   "outputs": [],
   "source": [
    "not_realizable = []\n",
    "test_principal = []\n",
    "for cir_Qstr in principal_ideal\n",
    "    A = [i for i in 1:10 if string(cir_Qstr[i]) == \"*\"]     \n",
    "    Qstr = cir_Qstr[11:130]\n",
    "    Q = matroid_from_revlex_basis_encoding(Qstr, 3, 10) \n",
    "    MR = new_matroid_realization_space(Q, A; F=QQ, saturate=true)\n",
    "        \n",
    "    MR = reduce_ideal_full(MR)\n",
    "    R = MR.ambient_ring\n",
    "    x = gens(R)\n",
    "    I = MR.defining_ideal\n",
    "    Igens = gens(I)\n",
    "    length(Igens) != 1 && error(\"not principal\") \n",
    "    JM = jacobian_matrix(R, x, Igens)\n",
    "    nr, nc = size(JM) \n",
    "    J = I + ideal(R, [JM[1,c] for c in 1:nc])\n",
    "    Sing = stepwise_saturation(J, MR.inequations)\n",
    "    #Sing = realization_space_2_singular_locus(MR)\n",
    "    push!(test_principal, isone(Sing))\n",
    "end"
   ]
  },
  {
   "cell_type": "code",
   "execution_count": 20,
   "metadata": {},
   "outputs": [
    {
     "data": {
      "text/plain": [
       "true"
      ]
     },
     "execution_count": 20,
     "metadata": {},
     "output_type": "execute_result"
    }
   ],
   "source": [
    "all(test_principal)"
   ]
  },
  {
   "cell_type": "markdown",
   "metadata": {},
   "source": [
    "## Example\n",
    "\n",
    "Let $\\mathsf{Q}$ be the matroid whose lines are\n",
    "\n",
    "\n",
    "$$\n",
    "\\mathcal{L}(\\mathsf{Q}) = \\{\\{1,2,10\\},\\{1,3,5\\},\\{1,4,8\\},\\{2,3,6\\},\\{2,4,7\\},\\{2,5,8\\},\\{3,4,9\\},\\{3,7,10\\},\\{5,6,7\\},\\{5,9,10\\},\\{6,8,9\\} \\}\n",
    "$$\n",
    "\n"
   ]
  },
  {
   "cell_type": "code",
   "execution_count": 70,
   "metadata": {
    "scrolled": true
   },
   "outputs": [
    {
     "data": {
      "text/plain": [
       "Matroid of rank 3 on 10 elements"
      ]
     },
     "execution_count": 70,
     "metadata": {},
     "output_type": "execute_result"
    }
   ],
   "source": [
    "NB = [[1,2,10],[1,3,5],[1,4,8],[2,3,6],[2,4,7],[2,5,8],[3,4,9],[3,7,10],[5,6,7],[5,9,10],[6,8,9]]\n",
    "A = [1,2,3,4]\n",
    "Q = matroid_from_nonbases(NB,10)"
   ]
  },
  {
   "cell_type": "code",
   "execution_count": 71,
   "metadata": {},
   "outputs": [
    {
     "data": {
      "text/plain": [
       "[1   0   0   1   x1    0   x3   x5   x7   x9]\n",
       "[0   1   0   1    0   x2   x4   x6   x8    1]\n",
       "[0   0   1   1    1    1    1    1    1    0]"
      ]
     },
     "metadata": {},
     "output_type": "display_data"
    },
    {
     "data": {
      "text/plain": [
       "The representations of the matroid are parametrized by the matrix\n",
       "in the Multivariate Polynomial Ring in 9 variables x1, x2, x3, x4, ..., x9 over Rational Field\n",
       "within the vanishing set of the ideal\n",
       "ideal(x7 - x8, x6 - 1, x3 - 1, x1 - x5, x5 + x8*x9 - x8, x4*x9 - 1, x2*x9 + x5 - 1, x2 + x4*x8 - x4 - x8, x2*x8 - x4 + x5*x8 - x8, x5^2 - x5 + 1, x2 + x4*x5 - x4, x2*x5 - x4, x2^2 - x2*x4 + x4^2)\n",
       "avoiding the zero loci of the polynomials\n",
       "RingElem[x9, x7 - x8*x9, x7 - x8*x9 + x9 - 1, x2*x9 + x7 - x8*x9, x3 - x4*x9 - x7 + x8*x9, x5 - x6*x9 - x7 + x8*x9, x5 - x6*x9, x5 - x6*x9 + x9 - 1, x1 - x5 + x6*x9, x2*x9 + x5 - x6*x9  …  x3, x2*x3 - x2 - x3 + x4, x4, x1 - x3, x1*x4 - x1 + x3 - x4, x4 - 1, x3 - x4, x1*x2 - x1 - x2, x2 - 1, x1 - 1]\n"
      ]
     },
     "execution_count": 71,
     "metadata": {},
     "output_type": "execute_result"
    }
   ],
   "source": [
    "MR = new_matroid_realization_space(Q, A; F=QQ, saturate=true)"
   ]
  },
  {
   "cell_type": "code",
   "execution_count": 72,
   "metadata": {},
   "outputs": [
    {
     "data": {
      "text/plain": [
       "[1   0   0   1   -x1*x2 + x1                0   x2   -x1*x2 + x1   x1   x2]\n",
       "[0   1   0   1             0   x1*x2 - x1 + 1    1             1   x1    1]\n",
       "[0   0   1   1             1               x2   x2             1    1    0]"
      ]
     },
     "metadata": {},
     "output_type": "display_data"
    },
    {
     "data": {
      "text/plain": [
       "The representations of the matroid are parametrized by the matrix\n",
       "in the Multivariate Polynomial Ring in x1, x2 over Rational Field\n",
       "within the vanishing set of the ideal\n",
       "ideal(x1^2*x2^2 - 2*x1^2*x2 + x1^2 + x1*x2 - x1 + 1)\n",
       "avoiding the zero loci of the polynomials\n",
       "RingElem[x2, x1, x2 - 1, x1 - 1, x1*x2 - x1 + x2, x1*x2 - x1 + 1, x1*x2 - x1 - x2 + 2, x1^2*x2 - x1^2 + x1 - 1, x1*x2 - 1]\n"
      ]
     },
     "execution_count": 72,
     "metadata": {},
     "output_type": "execute_result"
    }
   ],
   "source": [
    "MR2 = reduce_ideal_full(MR)"
   ]
  },
  {
   "cell_type": "code",
   "execution_count": 96,
   "metadata": {},
   "outputs": [
    {
     "data": {
      "text/plain": [
       "148-element Vector{String}:\n",
       " \"0******0******0***0************\" ⋯ 58 bytes ⋯ \"************0*******0*******0**\"\n",
       " \"0******0******0***0******0*****\" ⋯ 58 bytes ⋯ \"**************0****0********0**\"\n",
       " \"0******0******0***0******0*****\" ⋯ 58 bytes ⋯ \"***************0***0*******0***\"\n",
       " \"0******0******0***0******0*****\" ⋯ 58 bytes ⋯ \"**************0****0********0**\"\n",
       " \"0******0******0***0******0*****\" ⋯ 58 bytes ⋯ \"**************0*0***********0**\"\n",
       " \"0******0******0***0******0*****\" ⋯ 58 bytes ⋯ \"***************0***0***0*******\"\n",
       " \"0******0******0***0******0*****\" ⋯ 58 bytes ⋯ \"***************0**0*******0****\"\n",
       " \"0******0******0***0******0*****\" ⋯ 58 bytes ⋯ \"**************0******0*0*******\"\n",
       " \"0******0******0***0******0*****\" ⋯ 58 bytes ⋯ \"**************0***0*********0**\"\n",
       " \"0******0******0***0******0*****\" ⋯ 58 bytes ⋯ \"**************0******0***0*****\"\n",
       " \"0******0******0***0******0*****\" ⋯ 58 bytes ⋯ \"**************0******0****0****\"\n",
       " \"0******0******0***0******0*0***\" ⋯ 58 bytes ⋯ \"***************0**0*******0****\"\n",
       " \"0000************0**********0***\" ⋯ 58 bytes ⋯ \"*******0*****0**0**************\"\n",
       " ⋮\n",
       " \"0******0******0***0******0*****\" ⋯ 58 bytes ⋯ \"***************00*******0******\"\n",
       " \"0******0******0***0******0*****\" ⋯ 58 bytes ⋯ \"***********0*********0****0****\"\n",
       " \"0******0******0***0******0*****\" ⋯ 58 bytes ⋯ \"***********0****0***********0**\"\n",
       " \"0******0******0***0******0*****\" ⋯ 58 bytes ⋯ \"**********0*******0********0***\"\n",
       " \"0******0******0***0******0*****\" ⋯ 58 bytes ⋯ \"**********0*******0*****0******\"\n",
       " \"0000************0**********0***\" ⋯ 58 bytes ⋯ \"*************0*******0*0*******\"\n",
       " \"0000************0**********0***\" ⋯ 58 bytes ⋯ \"*************0*******0**0******\"\n",
       " \"0000************0**********0***\" ⋯ 58 bytes ⋯ \"*************0**0********0*****\"\n",
       " \"0000************0**********0***\" ⋯ 58 bytes ⋯ \"*************0***0*****0*******\"\n",
       " \"0000************0**********0***\" ⋯ 58 bytes ⋯ \"**********0********0****0******\"\n",
       " \"0000************0**********0***\" ⋯ 58 bytes ⋯ \"******0************0*********0*\"\n",
       " \"0******0******0**********0*****\" ⋯ 58 bytes ⋯ \"***************00**********0***\""
      ]
     },
     "execution_count": 96,
     "metadata": {},
     "output_type": "execute_result"
    }
   ],
   "source": [
    "done = vcat(zero_ideal, univariate_ideal, principal_ideal)\n",
    "done = [a[11:130] for a in done]\n",
    "done2 = vcat(not_realizable, done)\n",
    "unique(done2)    "
   ]
  },
  {
   "cell_type": "code",
   "execution_count": 98,
   "metadata": {},
   "outputs": [
    {
     "data": {
      "text/plain": [
       "3-element Vector{String}:\n",
       " \"0******0******0**********0*****\" ⋯ 58 bytes ⋯ \"***************0**0****0*******\"\n",
       " \"0******0******0**********0*****\" ⋯ 58 bytes ⋯ \"**************0******0*0*******\"\n",
       " \"0******0******0**********0*****\" ⋯ 58 bytes ⋯ \"**************0******0***0*****\""
      ]
     },
     "execution_count": 98,
     "metadata": {},
     "output_type": "execute_result"
    }
   ],
   "source": [
    "rem = setdiff(lines_3_precomputed, done2)"
   ]
  },
  {
   "cell_type": "code",
   "execution_count": 108,
   "metadata": {},
   "outputs": [
    {
     "data": {
      "text/plain": [
       "\"**00*000*00******0******0**********0****************0********************************0******0*********************0**0****0*******\""
      ]
     },
     "execution_count": 108,
     "metadata": {},
     "output_type": "execute_result"
    }
   ],
   "source": [
    "Q = matroid_from_revlex_basis_encoding(rem[1], 3, 10)\n",
    "As = optimal_circuits(Q)\n",
    "MR = new_matroid_realization_space(Q,As[1];F=QQ,saturate=true)\n",
    "MR2 = reduce_ideal_full(MR)\n",
    "to_star0(As[1], 10) * rem[1]"
   ]
  },
  {
   "cell_type": "code",
   "execution_count": 109,
   "metadata": {},
   "outputs": [
    {
     "data": {
      "text/plain": [
       "\"**00*0000*0******0******0**********0****************0*************************0**************0*******************0******0*0*******\""
      ]
     },
     "execution_count": 109,
     "metadata": {},
     "output_type": "execute_result"
    }
   ],
   "source": [
    "Q = matroid_from_revlex_basis_encoding(rem[2], 3, 10)\n",
    "As = optimal_circuits(Q)\n",
    "MR = new_matroid_realization_space(Q,As[1];F=QQ,saturate=true)\n",
    "MR2 = reduce_ideal_full(MR)\n",
    "to_star0(As[1], 10) * rem[2]"
   ]
  },
  {
   "cell_type": "code",
   "execution_count": 110,
   "metadata": {},
   "outputs": [
    {
     "data": {
      "text/plain": [
       "\"**00**00000******0******0**********0****************0***********************0****************0*******************0******0***0*****\""
      ]
     },
     "execution_count": 110,
     "metadata": {},
     "output_type": "execute_result"
    }
   ],
   "source": [
    "Q = matroid_from_revlex_basis_encoding(rem[3], 3, 10)\n",
    "As = optimal_circuits(Q)\n",
    "MR = new_matroid_realization_space(Q,As[1];F=QQ,saturate=true)\n",
    "MR2 = reduce_ideal_full(MR)\n",
    "to_star0(As[1], 10) * rem[3]"
   ]
  },
  {
   "cell_type": "markdown",
   "metadata": {},
   "source": [
    "```\n",
    "**00*000*00******0******0**********0****************0********************************0******0*********************0**0****0*******\n",
    "**00*0000*0******0******0**********0****************0*************************0**************0*******************0******0*0*******\n",
    "**00**00000******0******0**********0****************0***********************0****************0*******************0******0***0*****\n",
    "```"
   ]
  }
 ],
 "metadata": {
  "kernelspec": {
   "display_name": "Julia 1.8.5",
   "language": "julia",
   "name": "julia-1.8"
  },
  "language_info": {
   "file_extension": ".jl",
   "mimetype": "application/julia",
   "name": "julia",
   "version": "1.8.5"
  }
 },
 "nbformat": 4,
 "nbformat_minor": 4
}
