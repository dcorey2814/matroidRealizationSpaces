{
 "cells": [
  {
   "cell_type": "code",
   "execution_count": 1,
   "metadata": {},
   "outputs": [
    {
     "name": "stdout",
     "output_type": "stream",
     "text": [
      " -----    -----    -----      -      -----   \n",
      "|     |  |     |  |     |    | |    |     |  \n",
      "|     |  |        |         |   |   |     |  \n",
      "|     |   -----   |        |     |  |-----   \n",
      "|     |        |  |        |-----|  |   |    \n",
      "|     |  |     |  |     |  |     |  |    |   \n",
      " -----    -----    -----   -     -  -     -  \n",
      "\n",
      "...combining (and extending) ANTIC, GAP, Polymake and Singular\n",
      "Version\u001b[32m 0.12.1-DEV \u001b[39m... \n",
      " ... which comes with absolutely no warranty whatsoever\n",
      "Type: '?Oscar' for more information\n",
      "(c) 2019-2023 by The OSCAR Development Team\n"
     ]
    }
   ],
   "source": [
    "using Oscar"
   ]
  },
  {
   "cell_type": "code",
   "execution_count": 2,
   "metadata": {},
   "outputs": [],
   "source": [
    "cd(\"..\")"
   ]
  },
  {
   "cell_type": "code",
   "execution_count": 107,
   "metadata": {},
   "outputs": [
    {
     "data": {
      "text/plain": [
       "realization_space_2_singular_locus (generic function with 1 method)"
      ]
     },
     "execution_count": 107,
     "metadata": {},
     "output_type": "execute_result"
    }
   ],
   "source": [
    "currentDir = pwd() # make sure you are running from the main directory.\n",
    "include(joinpath(currentDir, \"src/fileHandling.jl\"))\n",
    "include(joinpath(currentDir, \"src/isolate3Lines.jl\"))\n",
    "include(joinpath(currentDir, \"src/matroid_realization.jl\"))\n",
    "include(joinpath(currentDir, \"src/Jacobian_Criterion.jl\"))"
   ]
  },
  {
   "cell_type": "markdown",
   "metadata": {},
   "source": [
    "First we isolate those that satisfy the three lines property, i.e., every element of the ground set is contained in at least 3 lines (cyclic flats of rank 2). "
   ]
  },
  {
   "cell_type": "code",
   "execution_count": 4,
   "metadata": {},
   "outputs": [],
   "source": [
    "db = Polymake.Polydb.get_db();\n",
    "collection = db[\"Matroids.Small\"];\n",
    "d3n10 = Polymake.Polydb.find(collection, Dict(\"RANK\" => 3, \"SIMPLE\"=>true, \"N_ELEMENTS\"=>10));\n",
    "\n",
    "\n",
    "n3C10 = subsets(collect(1:10), 3);\n",
    "n3C10 = sort(n3C10, by =  x-> reverse(x));\n",
    "\n",
    "lines_3 = []\n",
    "for c in d3n10\n",
    "    Q = Matroid(c)\n",
    "    ns = count_3_lines_thru_all_points(Q)\n",
    "    if length(ns) == 0\n",
    "        continue\n",
    "    end    \n",
    "    if minimum(ns) >= 3\n",
    "        push!(lines_3, to_revlex(Q, n3C10))\n",
    "    end\n",
    "end"
   ]
  },
  {
   "cell_type": "markdown",
   "metadata": {},
   "source": [
    "This data is precomputed in `d3n10/3lines_d3n10.dat`."
   ]
  },
  {
   "cell_type": "code",
   "execution_count": 5,
   "metadata": {},
   "outputs": [
    {
     "data": {
      "text/plain": [
       "151-element Vector{String}:\n",
       " \"0******0******0**********0*****\" ⋯ 58 bytes ⋯ \"***************0**0****0*******\"\n",
       " \"0******0******0**********0*****\" ⋯ 58 bytes ⋯ \"***************00**********0***\"\n",
       " \"0******0******0**********0*****\" ⋯ 58 bytes ⋯ \"**************0******0*0*******\"\n",
       " \"0******0******0**********0*****\" ⋯ 58 bytes ⋯ \"**************0******0***0*****\"\n",
       " \"0******0******0**********0*****\" ⋯ 58 bytes ⋯ \"**********0*******0*****0******\"\n",
       " \"0******0******0**********0*****\" ⋯ 58 bytes ⋯ \"**********0********0****0******\"\n",
       " \"0******0******0**********0*****\" ⋯ 58 bytes ⋯ \"**********0**********0****0****\"\n",
       " \"0******0******0**********0*****\" ⋯ 58 bytes ⋯ \"***********0****0*********0****\"\n",
       " \"0******0******0**********0*****\" ⋯ 58 bytes ⋯ \"*******0**************00*******\"\n",
       " \"0******0******0**********0*****\" ⋯ 58 bytes ⋯ \"*****0****************0***0****\"\n",
       " \"0******0******0**********0*****\" ⋯ 58 bytes ⋯ \"*****0****************0*0******\"\n",
       " \"0******0******0**********0*****\" ⋯ 58 bytes ⋯ \"*****0*************0*********0*\"\n",
       " \"0******0******0**********0*****\" ⋯ 58 bytes ⋯ \"*****0************0**********0*\"\n",
       " ⋮\n",
       " \"0000************0*********0***0\" ⋯ 58 bytes ⋯ \"****0*0*****0***0******0******0\"\n",
       " \"0000************0*********0***0\" ⋯ 58 bytes ⋯ \"****0***********0************0*\"\n",
       " \"0000************0*********0***0\" ⋯ 58 bytes ⋯ \"****0*******0**********0*******\"\n",
       " \"0000************0*********0***0\" ⋯ 58 bytes ⋯ \"****0******0***********0*******\"\n",
       " \"0000************0*********0***0\" ⋯ 58 bytes ⋯ \"****0*******0***0******0******0\"\n",
       " \"0000************0*********0***0\" ⋯ 58 bytes ⋯ \"****0******0****0******0******0\"\n",
       " \"0000************0*********0***0\" ⋯ 58 bytes ⋯ \"***0*******0***********0*******\"\n",
       " \"0000************0*********0***0\" ⋯ 58 bytes ⋯ \"***0**0*********0************0*\"\n",
       " \"0000************0*********0***0\" ⋯ 58 bytes ⋯ \"***0**0****************0*******\"\n",
       " \"0000************0*********0***0\" ⋯ 58 bytes ⋯ \"***0**0*********0**************\"\n",
       " \"0000************0*********0***0\" ⋯ 58 bytes ⋯ \"***0**0******0*****0**00*******\"\n",
       " \"0000000000********************0\" ⋯ 58 bytes ⋯ \"********0*****0*0*******0******\""
      ]
     },
     "execution_count": 5,
     "metadata": {},
     "output_type": "execute_result"
    }
   ],
   "source": [
    "lines_3_precomputed = vec(readlines(\"d3n10/3lines_d3n10.dat\"))"
   ]
  },
  {
   "cell_type": "code",
   "execution_count": null,
   "metadata": {},
   "outputs": [],
   "source": [
    "Set(lines_3) == Set(lines_3_precomputed)"
   ]
  },
  {
   "cell_type": "markdown",
   "metadata": {},
   "source": [
    "The file `d3n10/not_realizable.dat` contains those matroids in `d3n10/3lines_d3n10.dat` that are not realizable over $\\mathbb{Q}$. "
   ]
  },
  {
   "cell_type": "code",
   "execution_count": 6,
   "metadata": {},
   "outputs": [],
   "source": [
    "not_realizable = vec(readlines(\"d3n10/nonrealizable.dat\"));"
   ]
  },
  {
   "cell_type": "code",
   "execution_count": null,
   "metadata": {},
   "outputs": [],
   "source": [
    "not_realizable = vec(readlines(\"d3n10/nonrealizable.dat\"))\n",
    "\n",
    "test_nonrealizable = []\n",
    "\n",
    "for Qstr in not_realizable\n",
    "    Q = matroid_from_revlex_basis_encoding(Qstr, 3, 10) \n",
    "    As = rank_plus1_circuits(Q) \n",
    "    MR = new_matroid_realization_space(Q, As[1]; F=QQ, saturate=true)\n",
    "    push!(test_nonrealizable, !MR.representable)\n",
    "end"
   ]
  },
  {
   "cell_type": "code",
   "execution_count": null,
   "metadata": {},
   "outputs": [],
   "source": [
    "all(test_nonrealizable)"
   ]
  },
  {
   "cell_type": "markdown",
   "metadata": {},
   "source": [
    "The files `d3n10/zero_ideal.dat`, `d3n10/univariate_ideal.dat`, and `d3n10/principal_ideal.dat` record matroids and a maximal circuit. A pair of matroid and circuit is recorded as a `*/0` vector. The first 10 entries record the circuit (e.g., `**0*00*000` is the circuit `[1,2,4,7]`) and the rest record the matroid in the usual revlex basis encoding. "
   ]
  },
  {
   "cell_type": "markdown",
   "metadata": {},
   "source": [
    "The files `d3n10/zero_ideal.dat` contains those matroids in `d3n10/3lines_d3n10.dat` and a maximal circuit such that the ideal of the realization space is zero. Therefore these realization spaces are smooth. "
   ]
  },
  {
   "cell_type": "code",
   "execution_count": 97,
   "metadata": {},
   "outputs": [],
   "source": [
    "zero_ideal = vec(readlines(\"d3n10/zero_ideal.dat\"))\n",
    "\n",
    "test_zero = []\n",
    "for cir_Qstr in zero_ideal\n",
    "    A = [i for i in 1:10 if string(cir_Qstr[i]) == \"*\"]     \n",
    "    Qstr = cir_Qstr[11:130]\n",
    "    Q = matroid_from_revlex_basis_encoding(Qstr, 3, 10) \n",
    "    MR = new_matroid_realization_space(Q, A; F=QQ, saturate=true)\n",
    "        \n",
    "    MR = reduce_ideal_full(MR)\n",
    "    I = MR.defining_ideal\n",
    "    push!(test_zero, iszero(I))\n",
    "end"
   ]
  },
  {
   "cell_type": "code",
   "execution_count": 98,
   "metadata": {},
   "outputs": [
    {
     "data": {
      "text/plain": [
       "true"
      ]
     },
     "execution_count": 98,
     "metadata": {},
     "output_type": "execute_result"
    }
   ],
   "source": [
    "all(test_zero)"
   ]
  },
  {
   "cell_type": "markdown",
   "metadata": {},
   "source": [
    "The files `d3n10/univariate_ideal.dat` contains those matroids in `d3n10/3lines_d3n10.dat` and a maximal circuit such that the ideal of the realization space is univariate. These realization spaces are smooth provided the discriminant is nonzero. "
   ]
  },
  {
   "cell_type": "code",
   "execution_count": 102,
   "metadata": {},
   "outputs": [],
   "source": [
    "univariate_ideal = vec(readlines(\"d3n10/univariate_ideal.dat\"))\n",
    "\n",
    "test_univariate = []\n",
    "for cir_Qstr in univariate_ideal\n",
    "    A = [i for i in 1:10 if string(cir_Qstr[i]) == \"*\"]     \n",
    "    Qstr = cir_Qstr[11:130]\n",
    "    Q = matroid_from_revlex_basis_encoding(Qstr, 3, 10) \n",
    "    MR = new_matroid_realization_space(Q, A; F=QQ, saturate=true)\n",
    "        \n",
    "    MR = reduce_ideal_full(MR)\n",
    "    I = MR.defining_ideal\n",
    "    length_vs = length(ideal_vars(gens(I))) \n",
    "    push!(test_univariate, isone(length_vs))\n",
    "end"
   ]
  },
  {
   "cell_type": "code",
   "execution_count": 103,
   "metadata": {},
   "outputs": [
    {
     "data": {
      "text/plain": [
       "true"
      ]
     },
     "execution_count": 103,
     "metadata": {},
     "output_type": "execute_result"
    }
   ],
   "source": [
    "all(test_univariate)"
   ]
  },
  {
   "cell_type": "markdown",
   "metadata": {},
   "source": [
    "The files `d3n10/principal_ideal.dat` contains those matroids in `d3n10/3lines_d3n10.dat` and a maximal circuit such that the ideal of the realization space is univariate. One could check that these are smooth using the `singular_locus` function in `src/Jacobian_Criterion.jl`, but we do this explicitly here. "
   ]
  },
  {
   "cell_type": "code",
   "execution_count": 113,
   "metadata": {},
   "outputs": [],
   "source": [
    "principal_ideal = vec(readlines(\"d3n10/univariate_ideal.dat\"))\n",
    "\n",
    "test_principal = []\n",
    "for cir_Qstr in univariate_ideal\n",
    "    A = [i for i in 1:10 if string(cir_Qstr[i]) == \"*\"]     \n",
    "    Qstr = cir_Qstr[11:130]\n",
    "    Q = matroid_from_revlex_basis_encoding(Qstr, 3, 10) \n",
    "    MR = new_matroid_realization_space(Q, A; F=QQ, saturate=true)\n",
    "        \n",
    "    MR = reduce_ideal_full(MR)\n",
    "    R = MR.ambient_ring\n",
    "    x = gens(R)\n",
    "    I = MR.defining_ideal\n",
    "    Igens = gens(I)\n",
    "    length(Igens) != 1 && error(\"not principal\") \n",
    "    JM = jacobian_matrix(R, x, Igens)\n",
    "    nr, nc = size(JM) \n",
    "    J = I + ideal(R, [JM[1,c] for c in 1:nc])\n",
    "    Sing = stepwise_saturation(J, MR.inequations)\n",
    "    #Sing = realization_space_2_singular_locus(MR)\n",
    "    push!(test_principal, isone(Sing))\n",
    "end"
   ]
  },
  {
   "cell_type": "code",
   "execution_count": 115,
   "metadata": {},
   "outputs": [
    {
     "data": {
      "text/plain": [
       "true"
      ]
     },
     "execution_count": 115,
     "metadata": {},
     "output_type": "execute_result"
    }
   ],
   "source": [
    "all(test_principal)"
   ]
  },
  {
   "cell_type": "markdown",
   "metadata": {},
   "source": [
    "### Scratch (to remove)"
   ]
  },
  {
   "cell_type": "code",
   "execution_count": 8,
   "metadata": {},
   "outputs": [
    {
     "data": {
      "text/plain": [
       "optimal_circuits (generic function with 1 method)"
      ]
     },
     "execution_count": 8,
     "metadata": {},
     "output_type": "execute_result"
    }
   ],
   "source": [
    "## add this to where rank_plus1_circuits is\n",
    "\n",
    "function count_nonbases_meeting_circuit_2elem(Q, A)\n",
    "    NBs = nonbases(Q)\n",
    "    return length([nb for nb in NBs if length(intersect(A,nb)) == 2])\n",
    "end\n",
    "\n",
    "\n",
    "function optimal_circuits(Q)\n",
    "    As = rank_plus1_circuits(Q)\n",
    "    mx = maximum([count_nonbases_meeting_circuit_2elem(Q, A) for A in As])\n",
    "    return [A for A in As if count_nonbases_meeting_circuit_2elem(Q, A) == mx] \n",
    "end"
   ]
  },
  {
   "cell_type": "code",
   "execution_count": 9,
   "metadata": {},
   "outputs": [],
   "source": [
    "\n",
    "\n",
    "remaining = setdiff(lines_3_precomputed, not_realizable)\n",
    "\n",
    "zero = []\n",
    "univariate = []\n",
    "principal = []\n",
    "not_principal = []\n",
    "new_nonrealizable = []\n",
    "for Qstr in remaining\n",
    "    Q = matroid_from_revlex_basis_encoding(Qstr, 3, 10) \n",
    "    As = optimal_circuits(Q)\n",
    "    A = As[1]\n",
    "    MR = new_matroid_realization_space(Q, A; F=QQ, saturate=true)\n",
    "    \n",
    "    if !MR.representable\n",
    "        push!(new_nonrealizable, Qstr)\n",
    "        continue\n",
    "    end\n",
    "    \n",
    "    Qstr = to_star0(A,10) * Qstr\n",
    "    MR = reduce_ideal_full(MR)\n",
    "    I = MR.defining_ideal\n",
    "    if iszero(I)\n",
    "        push!(zero, Qstr)\n",
    "    elseif length(ideal_vars(gens(I))) == 1\n",
    "        push!(univariate, Qstr)\n",
    "    elseif length(gens(I)) == 1\n",
    "        push!(principal, Qstr)\n",
    "    else\n",
    "        push!(not_principal, Qstr)\n",
    "    end \n",
    "    \n",
    "end"
   ]
  },
  {
   "cell_type": "code",
   "execution_count": 40,
   "metadata": {},
   "outputs": [
    {
     "data": {
      "text/plain": [
       "Any[]"
      ]
     },
     "execution_count": 40,
     "metadata": {},
     "output_type": "execute_result"
    }
   ],
   "source": [
    "cantoptimizefurther = []"
   ]
  },
  {
   "cell_type": "code",
   "execution_count": 61,
   "metadata": {},
   "outputs": [],
   "source": [
    "principal12 = []\n",
    "for Qstr in cantoptimizefurther\n",
    "    Q = matroid_from_revlex_basis_encoding(Qstr, 3, 10) \n",
    "    As = optimal_circuits(Q) \n",
    "    A = As[1]\n",
    "    MR = new_matroid_realization_space(Q, A; F=QQ, saturate=true)\n",
    "    \n",
    "    if !MR.representable\n",
    "        push!(new_nonrealizable, Qstr)\n",
    "        continue\n",
    "    end\n",
    "    \n",
    "    Qstr = to_star0(A,10) * Qstr\n",
    "    MR = reduce_ideal_full(MR)\n",
    "    I = MR.defining_ideal\n",
    "    if iszero(I)\n",
    "        push!(zero, Qstr)\n",
    "    elseif length(ideal_vars(gens(I))) == 1\n",
    "        push!(univariate, Qstr)\n",
    "    elseif length(gens(I)) == 1\n",
    "        push!(principal12, Qstr)\n",
    "    else\n",
    "        push!(not_principal, Qstr)\n",
    "    end \n",
    "    \n",
    "end"
   ]
  },
  {
   "cell_type": "code",
   "execution_count": 83,
   "metadata": {},
   "outputs": [],
   "source": [
    "principal = []\n",
    "for Qstr in cantoptimizefurther\n",
    "    Q = matroid_from_revlex_basis_encoding(Qstr, 3, 10) \n",
    "    As = optimal_circuits(Q) \n",
    "    A = As[1]\n",
    "    Qstr = to_star0(A,10) * Qstr\n",
    "    push!(principal, Qstr)    \n",
    "end"
   ]
  },
  {
   "cell_type": "code",
   "execution_count": 69,
   "metadata": {},
   "outputs": [
    {
     "data": {
      "text/plain": [
       "79-element Vector{String}:\n",
       " \"0******0******0**********0*****\" ⋯ 58 bytes ⋯ \"**********0*******0*****0******\"\n",
       " \"0******0******0**********0*****\" ⋯ 58 bytes ⋯ \"*****0****************0*0******\"\n",
       " \"0******0******0***0************\" ⋯ 58 bytes ⋯ \"**************0******0***0*****\"\n",
       " \"0******0******0***0************\" ⋯ 58 bytes ⋯ \"************0********0*****0***\"\n",
       " \"0******0******0***0************\" ⋯ 58 bytes ⋯ \"**************0******0****0****\"\n",
       " \"0******0******0***0************\" ⋯ 58 bytes ⋯ \"*************0*******0*****0***\"\n",
       " \"0******0******0***0************\" ⋯ 58 bytes ⋯ \"*************0******0*******0**\"\n",
       " \"0******0******0***0******0*****\" ⋯ 58 bytes ⋯ \"***************00*******0******\"\n",
       " \"0******0******0***0******0*****\" ⋯ 58 bytes ⋯ \"***************0***0****0******\"\n",
       " \"0******0******0***0******0*****\" ⋯ 58 bytes ⋯ \"***************00**********0***\"\n",
       " \"0******0******0***0******0*****\" ⋯ 58 bytes ⋯ \"***********0*********0*****0***\"\n",
       " \"0******0******0***0******0*****\" ⋯ 58 bytes ⋯ \"**********0*******0*******0****\"\n",
       " \"0******0******0***0******0*****\" ⋯ 58 bytes ⋯ \"***************0**0****0*******\"\n",
       " ⋮\n",
       " \"0000************0**********0***\" ⋯ 58 bytes ⋯ \"**********0********0****0******\"\n",
       " \"0000************0**********0***\" ⋯ 58 bytes ⋯ \"********0*************0**0*****\"\n",
       " \"0000************0**********0***\" ⋯ 58 bytes ⋯ \"********0*************0*0******\"\n",
       " \"0000************0*********0***0\" ⋯ 58 bytes ⋯ \"********0*************0*0******\"\n",
       " \"0000************0*********0***0\" ⋯ 58 bytes ⋯ \"********0*************0*0******\"\n",
       " \"0000************0*********0***0\" ⋯ 58 bytes ⋯ \"***********0*******0***0*******\"\n",
       " \"0000************0*********0***0\" ⋯ 58 bytes ⋯ \"****0******0***********0*******\"\n",
       " \"0000************0*********0***0\" ⋯ 58 bytes ⋯ \"****0******0****0**************\"\n",
       " \"0000************0*********0***0\" ⋯ 58 bytes ⋯ \"******0*********0************0*\"\n",
       " \"0000************0*********0***0\" ⋯ 58 bytes ⋯ \"***0*******0***********0*******\"\n",
       " \"0000000000********************0\" ⋯ 58 bytes ⋯ \"********0*****0*0*******0******\"\n",
       " \"0000************0**********0***\" ⋯ 58 bytes ⋯ \"*************0****0****0*******\""
      ]
     },
     "execution_count": 69,
     "metadata": {},
     "output_type": "execute_result"
    }
   ],
   "source": [
    "done = vcat(zero, univariate)\n",
    "unique!(done)\n",
    "done2 = [a[11:130] for a in done]"
   ]
  },
  {
   "cell_type": "code",
   "execution_count": null,
   "metadata": {},
   "outputs": [],
   "source": [
    "nr = vcat(not_realizable, new_nonrealizable)\n",
    "sort!(nr)\n",
    "io = open(\"d3n10/new_nonrealizable.dat\", \"w\")\n",
    "for a in nr\n",
    "    write(io, a, \"\\n\")\n",
    "end\n",
    "close(io)"
   ]
  },
  {
   "cell_type": "code",
   "execution_count": 85,
   "metadata": {},
   "outputs": [
    {
     "data": {
      "text/plain": [
       "26"
      ]
     },
     "execution_count": 85,
     "metadata": {},
     "output_type": "execute_result"
    }
   ],
   "source": [
    "unique!(principal);\n",
    "principal2 = [a[11:130] for a in principal]\n",
    "unique!(principal2)\n",
    "length(principal2)\n",
    " # == \n",
    "#length(principal)"
   ]
  },
  {
   "cell_type": "code",
   "execution_count": 86,
   "metadata": {},
   "outputs": [],
   "source": [
    "io = open(\"d3n10/principal_ideal.dat\", \"w\")\n",
    "for a in principal\n",
    "    write(io, a, \"\\n\")\n",
    "end\n",
    "close(io)"
   ]
  },
  {
   "cell_type": "code",
   "execution_count": null,
   "metadata": {},
   "outputs": [],
   "source": []
  }
 ],
 "metadata": {
  "kernelspec": {
   "display_name": "Julia 1.8.5",
   "language": "julia",
   "name": "julia-1.8"
  },
  "language_info": {
   "file_extension": ".jl",
   "mimetype": "application/julia",
   "name": "julia",
   "version": "1.8.5"
  }
 },
 "nbformat": 4,
 "nbformat_minor": 4
}
