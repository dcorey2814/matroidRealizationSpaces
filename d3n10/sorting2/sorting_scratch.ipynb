{
 "cells": [
  {
   "cell_type": "markdown",
   "metadata": {},
   "source": [
    "the only purpose of this notebook is to check weird things that could come up while sorting"
   ]
  },
  {
   "cell_type": "code",
   "execution_count": 1,
   "metadata": {},
   "outputs": [
    {
     "name": "stdout",
     "output_type": "stream",
     "text": [
      " -----    -----    -----      -      -----   \n",
      "|     |  |     |  |     |    | |    |     |  \n",
      "|     |  |        |         |   |   |     |  \n",
      "|     |   -----   |        |     |  |-----   \n",
      "|     |        |  |        |-----|  |   |    \n",
      "|     |  |     |  |     |  |     |  |    |   \n",
      " -----    -----    -----   -     -  -     -  \n",
      "\n",
      "...combining (and extending) ANTIC, GAP, Polymake and Singular\n",
      "Version\u001b[32m 0.11.4-DEV \u001b[39m... \n",
      " ... which comes with absolutely no warranty whatsoever\n",
      "Type: '?Oscar' for more information\n",
      "(c) 2019-2023 by The OSCAR Development Team\n"
     ]
    }
   ],
   "source": [
    "using Oscar\n",
    "using Combinatorics\n",
    "pm = Polymake\n",
    "\n",
    "\n",
    "include(\"../../src/matroid_realization.jl\");\n",
    "include(\"../../src/reduceIdealsv2.jl\")\n",
    "include(\"../../src/JacobianCriterion.jl\")\n",
    "include(\"\")\n",
    "\n",
    "\n",
    "d3n10 = vec(readlines(\"../3lines_d3n10.dat\"));\n",
    "#intgens = vec(readlines(\"int_generator_3_10.dat\"))"
   ]
  },
  {
   "cell_type": "code",
   "execution_count": 31,
   "metadata": {},
   "outputs": [
    {
     "data": {
      "text/plain": [
       "(fmpq_mpoly[x_{2, 5}*x_{1, 6} + x_{2, 5}*x_{2, 6} - x_{2, 5} - 2*x_{1, 6}*x_{2, 6} + x_{2, 6}^2, 3*x_{2, 5}*x_{2, 6}^2 - 5*x_{2, 5}*x_{2, 6} + 2*x_{2, 5} - 6*x_{1, 6}*x_{2, 6}^2 + 5*x_{1, 6}*x_{2, 6} + 3*x_{2, 6}^3 - x_{2, 6}^2 - x_{2, 6}, 6*x_{1, 6}^2*x_{2, 6} - 5*x_{1, 6}^2 - 3*x_{1, 6}*x_{2, 6}^2 + 2*x_{1, 6} - x_{2, 6}^2 + 2*x_{2, 6} - 1, 3*x_{2, 5}^2*x_{2, 6} - 3*x_{2, 5}^2 + 5*x_{2, 5}*x_{2, 6} - 2*x_{2, 5} + 6*x_{1, 6}*x_{2, 6}^2 - 5*x_{1, 6}*x_{2, 6} - 3*x_{2, 6}^3 - 2*x_{2, 6}^2 + x_{2, 6}], fmpq_mpoly[x_{1, 6}, x_{2, 5}, x_{2, 5}*x_{1, 6}*x_{2, 6} - x_{2, 5}*x_{1, 6} - x_{1, 6}*x_{2, 6} + x_{2, 6}, x_{2, 5} - 1, x_{2, 5} - x_{2, 6}, x_{2, 5}^2*x_{1, 6} + x_{2, 5}*x_{1, 6}*x_{2, 6}^2 - x_{2, 5}*x_{1, 6}*x_{2, 6} - x_{2, 5}*x_{2, 6} - x_{1, 6}*x_{2, 6}^2 + x_{2, 6}^2, x_{2, 5}*x_{1, 6} + x_{1, 6}*x_{2, 6} - x_{2, 6}, x_{1, 6} - 1, x_{1, 6} - x_{2, 6}, x_{2, 6} - 1, x_{2, 5}*x_{1, 6} - x_{2, 6}, x_{2, 5}^2*x_{1, 6}^2 + x_{2, 5}*x_{1, 6}*x_{2, 6}^2 - 2*x_{2, 5}*x_{1, 6}*x_{2, 6} - x_{1, 6}*x_{2, 6}^2 + x_{2, 6}^2, 2*x_{2, 5}*x_{1, 6}*x_{2, 6} - x_{2, 5}*x_{1, 6} - x_{1, 6}*x_{2, 6} - x_{2, 6}^2 + x_{2, 6}, x_{2, 5}^2*x_{1, 6} + x_{2, 5}*x_{1, 6}*x_{2, 6} - 2*x_{2, 5}*x_{1, 6} - x_{2, 6}^2 + x_{2, 6}, x_{2, 6}, x_{2, 5}*x_{1, 6}^2*x_{2, 6} - 2*x_{2, 5}*x_{1, 6}*x_{2, 6} + x_{2, 5}*x_{1, 6} - x_{1, 6}^2*x_{2, 6} + x_{1, 6}*x_{2, 6} + x_{2, 6}^2 - x_{2, 6}], [1, 2, 6, 9])"
      ]
     },
     "execution_count": 31,
     "metadata": {},
     "output_type": "execute_result"
    }
   ],
   "source": [
    "Mz = matroid_from_revlex_basis_encoding(d3n10[41], 3, 10)\n",
    "I = matroid_to_reduced_expression_min_chart(Mz, QQ)"
   ]
  },
  {
   "cell_type": "code",
   "execution_count": 8,
   "metadata": {},
   "outputs": [
    {
     "data": {
      "text/plain": [
       "151"
      ]
     },
     "execution_count": 8,
     "metadata": {},
     "output_type": "execute_result"
    }
   ],
   "source": [
    "length(d3n10)"
   ]
  },
  {
   "cell_type": "code",
   "execution_count": 11,
   "metadata": {},
   "outputs": [
    {
     "data": {
      "text/plain": [
       "4"
      ]
     },
     "execution_count": 11,
     "metadata": {},
     "output_type": "execute_result"
    }
   ],
   "source": [
    "length(I[1])"
   ]
  },
  {
   "cell_type": "code",
   "execution_count": 12,
   "metadata": {},
   "outputs": [
    {
     "data": {
      "text/plain": [
       "3-element Vector{fmpq_mpoly}:\n",
       " x_{2, 5}\n",
       " x_{1, 6}\n",
       " x_{2, 6}"
      ]
     },
     "execution_count": 12,
     "metadata": {},
     "output_type": "execute_result"
    }
   ],
   "source": [
    "ideal_vars(I[1])"
   ]
  },
  {
   "cell_type": "code",
   "execution_count": 28,
   "metadata": {},
   "outputs": [
    {
     "name": "stdout",
     "output_type": "stream",
     "text": [
      "1 fmpq_mpoly[0]\n",
      "2 fmpq_mpoly[0]\n",
      "3 fmpq_mpoly[0]\n",
      "4 fmpq_mpoly[0]\n",
      "5 fmpq_mpoly[0]\n",
      "6 fmpq_mpoly[0]\n",
      "7 fmpq_mpoly[0]\n",
      "8 fmpq_mpoly[0]\n",
      "9 fmpq_mpoly[0]\n",
      "10 fmpq_mpoly[0]\n",
      "11 fmpq_mpoly[0]\n",
      "12 fmpq_mpoly[0]\n",
      "13 fmpq_mpoly[0]\n",
      "14 fmpq_mpoly[0]\n",
      "15 fmpq_mpoly[0]\n",
      "16 fmpq_mpoly[0]\n",
      "17 fmpq_mpoly[0]\n",
      "18 fmpq_mpoly[0]\n",
      "19 fmpq_mpoly[0]\n",
      "20 fmpq_mpoly[0]\n",
      "21 fmpq_mpoly[0]\n",
      "22 fmpq_mpoly[0]\n",
      "23 fmpq_mpoly[0]\n",
      "24 fmpq_mpoly[0]\n",
      "25 fmpq_mpoly[0]\n",
      "26 fmpq_mpoly[0]\n",
      "27 fmpq_mpoly[0]\n",
      "28 fmpq_mpoly[0]\n",
      "29 fmpq_mpoly[0]\n",
      "30 fmpq_mpoly[0]\n",
      "31 fmpq_mpoly[0]\n",
      "32 fmpq_mpoly[0]\n"
     ]
    }
   ],
   "source": [
    "for i in 1:length(intgens)\n",
    "    Mz = matroid_from_revlex_basis_encoding(intgens[i][11:130], 3, 10)\n",
    "    I = matroid_to_reduced_expression_min_chart(Mz, QQ)\n",
    "    print(i,\" \",I[1],\"\\n\")\n",
    "end"
   ]
  },
  {
   "cell_type": "code",
   "execution_count": 20,
   "metadata": {},
   "outputs": [
    {
     "data": {
      "text/plain": [
       "120"
      ]
     },
     "execution_count": 20,
     "metadata": {},
     "output_type": "execute_result"
    }
   ],
   "source": [
    "binomial(10,3)"
   ]
  },
  {
   "cell_type": "code",
   "execution_count": 21,
   "metadata": {},
   "outputs": [
    {
     "data": {
      "text/plain": [
       "130"
      ]
     },
     "execution_count": 21,
     "metadata": {},
     "output_type": "execute_result"
    }
   ],
   "source": [
    "length(intgens[1])"
   ]
  },
  {
   "cell_type": "code",
   "execution_count": 26,
   "metadata": {},
   "outputs": [
    {
     "data": {
      "text/plain": [
       "\"****0******\""
      ]
     },
     "execution_count": 26,
     "metadata": {},
     "output_type": "execute_result"
    }
   ],
   "source": [
    "intgens[1][120:130]"
   ]
  },
  {
   "cell_type": "code",
   "execution_count": 39,
   "metadata": {},
   "outputs": [
    {
     "data": {
      "text/plain": [
       "ideal(1)"
      ]
     },
     "execution_count": 39,
     "metadata": {},
     "output_type": "execute_result"
    }
   ],
   "source": [
    "simplified_2_singular_locus(I[1],I[2],true)"
   ]
  },
  {
   "cell_type": "code",
   "execution_count": 11,
   "metadata": {},
   "outputs": [
    {
     "data": {
      "text/plain": [
       "Matroid of rank 3 on 10 elements"
      ]
     },
     "execution_count": 11,
     "metadata": {},
     "output_type": "execute_result"
    }
   ],
   "source": [
    "M = matroid_from_revlex_basis_encoding(d3n10[91],3,10)"
   ]
  },
  {
   "cell_type": "code",
   "execution_count": 12,
   "metadata": {},
   "outputs": [
    {
     "name": "stdout",
     "output_type": "stream",
     "text": [
      "1 [[1, 2, 3], [1, 2, 4], [1, 3, 4], [1, 5, 6], [1, 8, 9]]\n",
      "2 [[1, 2, 3], [1, 2, 4], [2, 3, 4], [2, 5, 7], [2, 9, 10]]\n",
      "3 [[1, 2, 3], [1, 3, 4], [2, 3, 4], [3, 5, 8], [3, 6, 7]]\n",
      "4 [[1, 2, 4], [1, 3, 4], [2, 3, 4], [4, 5, 9], [4, 7, 10]]\n",
      "5 [[1, 5, 6], [2, 5, 7], [3, 5, 8], [4, 5, 9]]\n",
      "6 [[1, 5, 6], [3, 6, 7], [6, 8, 10]]\n",
      "7 [[2, 5, 7], [3, 6, 7], [4, 7, 10]]\n",
      "8 [[1, 8, 9], [3, 5, 8], [6, 8, 10]]\n",
      "9 [[1, 8, 9], [2, 9, 10], [4, 5, 9]]\n",
      "10 [[2, 9, 10], [4, 7, 10], [6, 8, 10]]\n"
     ]
    }
   ],
   "source": [
    "for i in 1:10\n",
    "    bi = [b for b in nonbases(M) if i in b]\n",
    "    print(i,\" \",bi,\"\\n\")\n",
    "end"
   ]
  },
  {
   "cell_type": "code",
   "execution_count": null,
   "metadata": {},
   "outputs": [],
   "source": []
  }
 ],
 "metadata": {
  "kernelspec": {
   "display_name": "Julia 1.7.1",
   "language": "julia",
   "name": "julia-1.7"
  },
  "language_info": {
   "file_extension": ".jl",
   "mimetype": "application/julia",
   "name": "julia",
   "version": "1.7.1"
  }
 },
 "nbformat": 4,
 "nbformat_minor": 4
}
