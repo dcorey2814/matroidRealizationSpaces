{
 "cells": [
  {
   "cell_type": "markdown",
   "metadata": {},
   "source": [
    "testing stuff"
   ]
  },
  {
   "cell_type": "code",
   "execution_count": 1,
   "metadata": {},
   "outputs": [
    {
     "name": "stdout",
     "output_type": "stream",
     "text": [
      " -----    -----    -----      -      -----   \n",
      "|     |  |     |  |     |    | |    |     |  \n",
      "|     |  |        |         |   |   |     |  \n",
      "|     |   -----   |        |     |  |-----   \n",
      "|     |        |  |        |-----|  |   |    \n",
      "|     |  |     |  |     |  |     |  |    |   \n",
      " -----    -----    -----   -     -  -     -  \n",
      "\n",
      "...combining (and extending) ANTIC, GAP, Polymake and Singular\n",
      "Version\u001b[32m 0.11.4-DEV \u001b[39m... \n",
      " ... which comes with absolutely no warranty whatsoever\n",
      "Type: '?Oscar' for more information\n",
      "(c) 2019-2023 by The OSCAR Development Team\n"
     ]
    },
    {
     "data": {
      "text/plain": [
       "16216-element Vector{String}:\n",
       " \"0000************0*********0***0\" ⋯ 104 bytes ⋯ \"***0**********0******0********\"\n",
       " \"0000************0*********0***0\" ⋯ 104 bytes ⋯ \"***0*********0********0*******\"\n",
       " \"0000************0*********0***0\" ⋯ 104 bytes ⋯ \"***0**0***************0*******\"\n",
       " \"0000************0*********0***0\" ⋯ 104 bytes ⋯ \"***0**0*******0***************\"\n",
       " \"0000************0*********0***0\" ⋯ 104 bytes ⋯ \"***0**0*******0********0******\"\n",
       " \"0000************0*********0***0\" ⋯ 104 bytes ⋯ \"**0***********0******0********\"\n",
       " \"0000************0*********0***0\" ⋯ 104 bytes ⋯ \"**0**********0********0*******\"\n",
       " \"0000************0*********0***0\" ⋯ 104 bytes ⋯ \"**0***0***************0*******\"\n",
       " \"0000************0*********0***0\" ⋯ 104 bytes ⋯ \"**0***0*******0***************\"\n",
       " \"0000************0*********0***0\" ⋯ 104 bytes ⋯ \"*0***********0*********0******\"\n",
       " \"0000************0*********0***0\" ⋯ 104 bytes ⋯ \"*0*******0******0***00********\"\n",
       " \"0000************0*********0***0\" ⋯ 104 bytes ⋯ \"*0****0****************0******\"\n",
       " \"0000************0*********0***0\" ⋯ 104 bytes ⋯ \"*0****0***********0*******0**0\"\n",
       " ⋮\n",
       " \"0000************0*********0***0\" ⋯ 104 bytes ⋯ \"******0************0*****0****\"\n",
       " \"0000************0*********0***0\" ⋯ 104 bytes ⋯ \"******0************0***0******\"\n",
       " \"0000************0*********0***0\" ⋯ 104 bytes ⋯ \"***0**0***********0***0*******\"\n",
       " \"0000************0*********0***0\" ⋯ 104 bytes ⋯ \"***0**0*******0***********0***\"\n",
       " \"0000************0*********0***0\" ⋯ 104 bytes ⋯ \"**0***0***********0***0*******\"\n",
       " \"0000************0*********0***0\" ⋯ 104 bytes ⋯ \"**0***0*******0***********0***\"\n",
       " \"0000************0*********0***0\" ⋯ 104 bytes ⋯ \"*0****************0**0********\"\n",
       " \"0000************0*********0***0\" ⋯ 104 bytes ⋯ \"*0***********0************0***\"\n",
       " \"0000************0*********0***0\" ⋯ 104 bytes ⋯ \"*0****0*******************0***\"\n",
       " \"0000************0*********0***0\" ⋯ 104 bytes ⋯ \"*0****0***********0****0******\"\n",
       " \"0000************0*********0***0\" ⋯ 104 bytes ⋯ \"************0*0******0********\"\n",
       " \"0000************0*********0***0\" ⋯ 104 bytes ⋯ \"************00********0*******\""
      ]
     },
     "execution_count": 1,
     "metadata": {},
     "output_type": "execute_result"
    }
   ],
   "source": [
    "using Oscar\n",
    "using Combinatorics\n",
    "pm = Polymake\n",
    "\n",
    "include(\"matroid_realization.jl\");\n",
    "include(\"reduceIdeals.jl\")\n",
    "include(\"fileHandling.jl\")\n",
    "\n",
    "d3n11 = vec(readlines(\"d3n11.dat\"))\n",
    "d3n11_3_lines = vec(readlines(\"d3n11_3lines.dat\"))"
   ]
  },
  {
   "cell_type": "code",
   "execution_count": 8,
   "metadata": {},
   "outputs": [
    {
     "data": {
      "text/plain": [
       "in_lines (generic function with 1 method)"
      ]
     },
     "execution_count": 8,
     "metadata": {},
     "output_type": "execute_result"
    }
   ],
   "source": [
    "function in_lines(n,L)\n",
    "    Ln = [l for l in L if n in l]\n",
    "    return Ln\n",
    "end"
   ]
  },
  {
   "cell_type": "code",
   "execution_count": 5,
   "metadata": {},
   "outputs": [
    {
     "data": {
      "text/plain": [
       "int_gens (generic function with 1 method)"
      ]
     },
     "execution_count": 5,
     "metadata": {},
     "output_type": "execute_result"
    }
   ],
   "source": [
    "function int_gens(I)\n",
    "    ints = [x for x in I if is_constant(x)]\n",
    "    return length(ints)>1    \n",
    "end"
   ]
  },
  {
   "cell_type": "code",
   "execution_count": 8,
   "metadata": {},
   "outputs": [],
   "source": [
    "#classification over QQ\n",
    "\n",
    "#not_realizable = []\n",
    "\n",
    "#int_generator = []#algebraic closure of integral generator not equal to 1\n",
    "\n",
    "\n",
    "#simplified_not_principle = []#ideal simplifies,al not principle\n",
    "#simplified_principle_n_reducible = [] #ideal simplifies to something principle\n",
    "#simplified_principle_reducible = []#ideal fully simplifies, principally generated in one variable\n",
    "\n",
    "#zero_ideal = []#ideal fully simplifies to 0\n",
    "\n",
    "#net = [] #make sure classification is exhaustive. This should be empty\n",
    "\n",
    "for z in 1532:length(d3n11_3_lines)\n",
    "    \n",
    "    #println(z,\"\\n\\n\")\n",
    "  \n",
    "    Mz = matroid_from_revlex_basis_encoding(d3n11_3_lines[z], 3, 11)\n",
    "    I = matroid_to_reduced_expression(Mz, QQ,2)\n",
    "    \n",
    "    #println(\"ch1\")\n",
    "    if I[1] == [0] #reduces to 0\n",
    "        \n",
    "        #push!(zero_ideal,z)\n",
    "        \n",
    "        #txtcvp = vec2String(cone)\n",
    "        open(\"zero_ideal.dat\", \"a\")do file\n",
    "        write(file, String(d3n11_3_lines[z]),\"\\n\")\n",
    "        end\n",
    "        continue\n",
    "    \n",
    "    elseif (1 in I[1] || -1 in I[1] || I == \"Not Realizable 0 in Semigroup\")\n",
    "        \n",
    "    #println(\"ch2\")\n",
    "        \n",
    "        #push!(not_realizable,z)\n",
    "        open(\"not_realizable.dat\", \"a\")do file\n",
    "        write(file, String(d3n11_3_lines[z]),\"\\n\")\n",
    "        end\n",
    "        continue\n",
    "        \n",
    "    elseif int_gens(I[1])\n",
    "        \n",
    "               \n",
    "    #println(\"ch3\")\n",
    "        \n",
    "       # push!(int_generator,z)\n",
    "    \n",
    "        open(\"int_generator.dat\", \"a\")do file\n",
    "        write(file, String(d3n11_3_lines[z]),\"\\n\")\n",
    "        end\n",
    "        continue\n",
    "        \n",
    "    elseif length(I[1]) == 2\n",
    "            \n",
    "        if (length(vars(I[1][2])) == 1 && degree(I[1][2],vars(I[1][2])[1]) >=2)\n",
    "                \n",
    "            #push!(simplified_principle_reducible,z)\n",
    "            \n",
    "        open(\"simplified_principle_reducible.dat\", \"a\")do file\n",
    "        write(file, String(d3n11_3_lines[z]),\"\\n\")\n",
    "        end\n",
    "        continue\n",
    "                \n",
    "        else\n",
    "                \n",
    "        #push!(simplified_principle_n_reducible,z)\n",
    "        open(\"simplified_principle_n_reducible.dat\", \"a\")do file\n",
    "        write(file, String(d3n11_3_lines[z]),\"\\n\")\n",
    "        end\n",
    "        continue\n",
    "        \n",
    "        end\n",
    "            \n",
    "    elseif length(I[1])>2\n",
    "        \n",
    "            #push!(simplified_not_principle,z)\n",
    "        \n",
    "    \n",
    "        open(\"simplified_not_principle.dat\", \"a\")do file\n",
    "        write(file, String(d3n11_3_lines[z]),\"\\n\")\n",
    "        end\n",
    "        continue\n",
    "    else\n",
    "        \n",
    "        #push!(net,z)\n",
    "        open(\"net.dat\", \"a\")do file\n",
    "        write(file, String(d3n11_3_lines[z]),\"\\n\")\n",
    "        end\n",
    "        continue\n",
    "        \n",
    "    end\n",
    "end\n"
   ]
  },
  {
   "cell_type": "code",
   "execution_count": 6,
   "metadata": {},
   "outputs": [
    {
     "data": {
      "text/plain": [
       "1-element Vector{String}:\n",
       " \"0000************0*********0***0\" ⋯ 104 bytes ⋯ \"************00************0***\""
      ]
     },
     "execution_count": 6,
     "metadata": {},
     "output_type": "execute_result"
    }
   ],
   "source": [
    "zero_ideal = vec(readlines(\"sorting/zero_ideal.dat\"))\n",
    "not_realizable= vec(readlines(\"sorting/not_realizable.dat\"))\n",
    "int_gen = vec(readlines(\"sorting/int_generator.dat\"))\n",
    "simplified_principle_reducible = vec(readlines(\"sorting/simplified_principle_reducible.dat\"))\n",
    "simplified_principle_n_reducible = vec(readlines(\"sorting/simplified_principle_n_reducible.dat\"))\n",
    "simplified_not_principle = vec(readlines(\"sorting/simplified_not_principle.dat\"))\n",
    "\n",
    "zero_ideal2 = vec(readlines(\"sorting/zero_ideal2.dat\"))\n",
    "#not_realizable2= vec(readlines(\"sorting/not_realizable2.dat\"))\n",
    "#int_gen2 = vec(readlines(\"sorting/int_generator2.dat\"))\n",
    "simplified_principle_reducible2 = vec(readlines(\"sorting/simplified_principle_reducible2.dat\"))\n",
    "simplified_principle_n_reducible2 = vec(readlines(\"sorting/simplified_principle_n_reducible2.dat\"))\n",
    "simplified_not_principle2 = vec(readlines(\"sorting/simplified_not_principle2.dat\"))"
   ]
  },
  {
   "cell_type": "code",
   "execution_count": 7,
   "metadata": {},
   "outputs": [
    {
     "data": {
      "text/plain": [
       "1547-element Vector{String}:\n",
       " \"0000************0*********0***0\" ⋯ 104 bytes ⋯ \"******0************0******0***\"\n",
       " \"0000************0*********0***0\" ⋯ 104 bytes ⋯ \"***0**0*******************0***\"\n",
       " \"0000************0*********0***0\" ⋯ 104 bytes ⋯ \"**0***0*******************0***\"\n",
       " \"0000************0*********0***0\" ⋯ 104 bytes ⋯ \"**0***0***********0***********\"\n",
       " \"0000************0*********0***0\" ⋯ 104 bytes ⋯ \"******0************0**********\"\n",
       " \"0000************0*********0***0\" ⋯ 104 bytes ⋯ \"******0************0***0******\"\n",
       " \"0000************0**********0***\" ⋯ 104 bytes ⋯ \"*******0********0****0********\"\n",
       " \"0000************0*********0***0\" ⋯ 104 bytes ⋯ \"*******************0*0********\"\n",
       " \"0000************0*********0***0\" ⋯ 104 bytes ⋯ \"************00****************\"\n",
       " \"0000************0*********0***0\" ⋯ 104 bytes ⋯ \"************00****************\"\n",
       " \"0000************0**********0***\" ⋯ 104 bytes ⋯ \"0********0************0*******\"\n",
       " \"0000************0**********0***\" ⋯ 104 bytes ⋯ \"***0*************0***0********\"\n",
       " \"0000************0**********0***\" ⋯ 104 bytes ⋯ \"*********0***0***********0****\"\n",
       " ⋮\n",
       " \"0000************0*********0***0\" ⋯ 104 bytes ⋯ \"**0***0*******0*********0*****\"\n",
       " \"0000************0*********0***0\" ⋯ 104 bytes ⋯ \"**0******0****************0***\"\n",
       " \"0000************0*********0***0\" ⋯ 104 bytes ⋯ \"**0******0***************0****\"\n",
       " \"0000************0*********0***0\" ⋯ 104 bytes ⋯ \"************0*0******0********\"\n",
       " \"0000************0*********0***0\" ⋯ 104 bytes ⋯ \"************00*********0******\"\n",
       " \"0000************0*********0***0\" ⋯ 104 bytes ⋯ \"******0************0******0***\"\n",
       " \"0000************0*********0***0\" ⋯ 104 bytes ⋯ \"******0************0*****0****\"\n",
       " \"0000************0*********0***0\" ⋯ 104 bytes ⋯ \"******0************0***0******\"\n",
       " \"0000************0*********0***0\" ⋯ 104 bytes ⋯ \"***0****************00********\"\n",
       " \"0000************0*********0***0\" ⋯ 104 bytes ⋯ \"***0**********0******0********\"\n",
       " \"0000************0*********0***0\" ⋯ 104 bytes ⋯ \"***0**0**********************0\"\n",
       " \"0000************0*********0***0\" ⋯ 104 bytes ⋯ \"************00************0***\""
      ]
     },
     "execution_count": 7,
     "metadata": {},
     "output_type": "execute_result"
    }
   ],
   "source": [
    "union(zero_ideal,not_realizable,int_gen,simplified_principle_reducible,simplified_principle_n_reducible,simplified_not_principle,\n",
    "    zero_ideal2,simplified_principle_reducible2,simplified_principle_n_reducible2,simplified_not_principle2)"
   ]
  },
  {
   "cell_type": "markdown",
   "metadata": {},
   "source": [
    "notes: weird thins happen at 1532"
   ]
  },
  {
   "cell_type": "code",
   "execution_count": 8,
   "metadata": {},
   "outputs": [
    {
     "data": {
      "text/plain": [
       "(fmpq_mpoly[0, x_{1, 7}^2 - x_{1, 7}*x_{2, 7}^2 - x_{1, 7}*x_{2, 7} - x_{1, 7} + x_{2, 7}^4 + x_{2, 7}^3], fmpq_mpoly[1, -1, -x_{2, 7} - 1, -x_{2, 7}, x_{1, 7} - x_{2, 7}^2 - x_{2, 7}, -x_{2, 7}^2 - x_{2, 7}, x_{2, 7}, -x_{2, 7}^2, -x_{1, 7} + x_{2, 7}^2 + x_{2, 7}, x_{1, 7}*x_{2, 7} - x_{2, 7}^3 - x_{2, 7}^2, -x_{1, 7}, -x_{1, 7}*x_{2, 7}, x_{1, 7}^2 - x_{1, 7}*x_{2, 7}^2 - x_{1, 7}*x_{2, 7}, -x_{1, 7}*x_{2, 7} + x_{2, 7}^3 + x_{2, 7}^2, x_{1, 7}])"
      ]
     },
     "execution_count": 8,
     "metadata": {},
     "output_type": "execute_result"
    }
   ],
   "source": [
    " Mz = matroid_from_revlex_basis_encoding(d3n11_3_lines[1548], 3, 11)\n",
    "I = matroid_to_reduced_expression(Mz, QQ,1)"
   ]
  },
  {
   "cell_type": "code",
   "execution_count": 9,
   "metadata": {},
   "outputs": [
    {
     "data": {
      "text/plain": [
       "2-element Vector{fmpq_mpoly}:\n",
       " 0\n",
       " x_{1, 7}^2 - x_{1, 7}*x_{2, 7}^2 - x_{1, 7}*x_{2, 7} - x_{1, 7} + x_{2, 7}^4 + x_{2, 7}^3"
      ]
     },
     "execution_count": 9,
     "metadata": {},
     "output_type": "execute_result"
    }
   ],
   "source": [
    "I[1]"
   ]
  },
  {
   "cell_type": "code",
   "execution_count": 11,
   "metadata": {},
   "outputs": [
    {
     "data": {
      "text/plain": [
       "ideal(1)"
      ]
     },
     "execution_count": 11,
     "metadata": {},
     "output_type": "execute_result"
    }
   ],
   "source": [
    " f = I[1][2]\n",
    "        R = parent(f)\n",
    "        v = vars(f)\n",
    "        J = union([derivative(f,x) for x in v],[f])\n",
    "        \n",
    "          \n",
    "        Sgens = I[2]\n",
    "        S = MPolyPowersOfElement(R , Sgens)\n",
    "        \n",
    "        Rloc ,iota = localization(R,S)\n",
    "        Q = ideal(Rloc,J)\n",
    "        Sat = saturated_ideal(Q)"
   ]
  },
  {
   "cell_type": "markdown",
   "metadata": {},
   "source": [
    "with p = 2, weirdness at 1532,1548, "
   ]
  }
 ],
 "metadata": {
  "kernelspec": {
   "display_name": "Julia 1.7.1",
   "language": "julia",
   "name": "julia-1.7"
  },
  "language_info": {
   "file_extension": ".jl",
   "mimetype": "application/julia",
   "name": "julia",
   "version": "1.7.1"
  }
 },
 "nbformat": 4,
 "nbformat_minor": 4
}
