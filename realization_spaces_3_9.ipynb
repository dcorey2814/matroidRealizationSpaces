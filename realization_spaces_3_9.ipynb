{
 "cells": [
  {
   "cell_type": "code",
   "execution_count": 1,
   "metadata": {},
   "outputs": [
    {
     "name": "stdout",
     "output_type": "stream",
     "text": [
      "\r",
      " -----    -----    -----      -      -----   \n",
      "|     |  |     |  |     |    | |    |     |  \n",
      "|     |  |        |         |   |   |     |  \n",
      "|     |   -----   |        |     |  |-----   \n",
      "|     |        |  |        |-----|  |   |    \n",
      "|     |  |     |  |     |  |     |  |    |   \n",
      " -----    -----    -----   -     -  -     -  \n",
      "\n",
      "...combining (and extending) ANTIC, GAP, Polymake and Singular\n",
      "Version\u001b[32m 0.11.3-DEV \u001b[39m... \n",
      " ... which comes with absolutely no warranty whatsoever\n",
      "Type: '?Oscar' for more information\n",
      "(c) 2019-2022 by The OSCAR Development Team\n"
     ]
    },
    {
     "data": {
      "text/plain": [
       "Polymake"
      ]
     },
     "execution_count": 1,
     "metadata": {},
     "output_type": "execute_result"
    }
   ],
   "source": [
    "using Oscar\n",
    "using Combinatorics\n",
    "pm = Polymake"
   ]
  },
  {
   "cell_type": "code",
   "execution_count": 59,
   "metadata": {},
   "outputs": [
    {
     "data": {
      "text/plain": [
       "matroid_to_reduced_expression (generic function with 1 method)"
      ]
     },
     "execution_count": 59,
     "metadata": {},
     "output_type": "execute_result"
    }
   ],
   "source": [
    "include(\"matroid_realization.jl\");\n",
    "include(\"reduceIdeals.jl\")\n",
    "\n",
    "function matroid_to_reduced_expression(Q, F)\n",
    "    charts = [c for c in circuits(Q) if length(c) == 4]\n",
    "    A = charts[1]\n",
    "    RQ = matroid_realization_space(Q, A, F)\n",
    "    R = parent(RQ[1][1])\n",
    "    I = reduce_ideal_full(RQ[1], RQ[2], R, gens(R), false)\n",
    "    return (I[1], I[2])\n",
    "end\n",
    "\n",
    "strings_d3n9 = readlines(\"d3n9.dat\");"
   ]
  },
  {
   "cell_type": "code",
   "execution_count": 62,
   "metadata": {},
   "outputs": [
    {
     "data": {
      "text/plain": [
       "1-element Vector{fmpz_mpoly}:\n",
       " 0"
      ]
     },
     "execution_count": 62,
     "metadata": {},
     "output_type": "execute_result"
    }
   ],
   "source": [
    "Q43_nonbases = [[1,2,3],[1,4,5],[1,8,9],[2,4,6],[2,7,9],[3,5,7],\n",
    "                [3,6,8],[4,7,8],[5,6,9]]\n",
    "\n",
    "I43 = matroid_to_reduced_expression(Q43, ZZ)\n",
    "I43[1]"
   ]
  },
  {
   "cell_type": "code",
   "execution_count": 63,
   "metadata": {},
   "outputs": [
    {
     "data": {
      "text/plain": [
       "2-element Vector{fmpz_mpoly}:\n",
       " 0\n",
       " x_{1, 5}^2 - x_{1, 5}*x_{2, 5} + x_{2, 5}^2 - x_{2, 5}"
      ]
     },
     "execution_count": 63,
     "metadata": {},
     "output_type": "execute_result"
    }
   ],
   "source": [
    "Q78_nonbases = [[1,2,3],[1,4,5],[1,8,9],[2,4,6],[2,5,8],[3,4,7],[3,6,9],[5,7,9],[6,7,8]]\n",
    "I78 = matroid_to_reduced_expression(Q78, ZZ)\n",
    "I78[1]"
   ]
  },
  {
   "cell_type": "code",
   "execution_count": 67,
   "metadata": {},
   "outputs": [
    {
     "data": {
      "text/plain": [
       "ideal(1)"
      ]
     },
     "execution_count": 67,
     "metadata": {},
     "output_type": "execute_result"
    }
   ],
   "source": [
    "R78 = parent(I78[1][1])\n",
    "g78 = gens(R78)\n",
    "Sing = ideal(R78, [g78[6]^2 - g78[6]*g78[7] + g78[7]^2 - g78[7], \n",
    "                   2*g78[6] - g78[7], -g78[6] + 2*g78[7] - 1])\n",
    "S = MPolyPowersOfElement(R78 , I78[2])\n",
    "SR78, phi = Localization(S)\n",
    "SinvSing = phi(Sing)\n",
    "saturated_ideal(SinvSing)"
   ]
  },
  {
   "cell_type": "code",
   "execution_count": 64,
   "metadata": {},
   "outputs": [
    {
     "data": {
      "text/plain": [
       "2-element Vector{fmpz_mpoly}:\n",
       " 0\n",
       " -2*x_{1, 5}*x_{2, 5} + x_{1, 5} + x_{2, 5}^2"
      ]
     },
     "execution_count": 64,
     "metadata": {},
     "output_type": "execute_result"
    }
   ],
   "source": [
    "Q81_nonbases = [[1,2,3],[1,4,5],[1,6,9],[2,4,6],[2,5,8],[3,4,7],[3,8,9],[5,7,9],[6,7,8]]\n",
    "I81 = matroid_to_reduced_expression(Q81, ZZ)\n",
    "I81[1]"
   ]
  },
  {
   "cell_type": "code",
   "execution_count": 68,
   "metadata": {},
   "outputs": [
    {
     "data": {
      "text/plain": [
       "ideal(1)"
      ]
     },
     "execution_count": 68,
     "metadata": {},
     "output_type": "execute_result"
    }
   ],
   "source": [
    "R81 = parent(I81[1][1])\n",
    "g81 = gens(R81)\n",
    "Sing = ideal(R81, [-2*g81[6]*g81[7] + g81[6] + g81[7]^2, \n",
    "                   -2*g81[7] + 1, -2*g81[6] + 2*g81[7]])\n",
    "S = MPolyPowersOfElement(R81 , I81[2])\n",
    "SR81, phi = Localization(S)\n",
    "SinvSing = phi(Sing)\n",
    "saturated_ideal(SinvSing)"
   ]
  },
  {
   "cell_type": "code",
   "execution_count": 66,
   "metadata": {},
   "outputs": [
    {
     "data": {
      "text/plain": [
       "1-element Vector{fmpz_mpoly}:\n",
       " 0"
      ]
     },
     "execution_count": 66,
     "metadata": {},
     "output_type": "execute_result"
    }
   ],
   "source": [
    "Q104_nonbases = [[1,2,3],[1,4,5],[1,6,9],[2,4,6],[2,5,8],[2,7,9],\n",
    "                 [3,4,7],[3,6,8],[4,8,9],[5,6,7]]\n",
    "\n",
    "I104 = matroid_to_reduced_expression(Q104, ZZ)\n",
    "I104[1]"
   ]
  },
  {
   "cell_type": "code",
   "execution_count": 65,
   "metadata": {},
   "outputs": [
    {
     "data": {
      "text/plain": [
       "2-element Vector{fmpz_mpoly}:\n",
       " 0\n",
       " -x_{2, 5}^2 + x_{2, 5} - 1"
      ]
     },
     "execution_count": 65,
     "metadata": {},
     "output_type": "execute_result"
    }
   ],
   "source": [
    "Q110_nonbases = [[1,2,3],[1,4,5],[1,6,9],[1,7,8],[2,4,6],[2,5,8],\n",
    "                [2,7,9],[3,4,7],[3,5,9],[3,6,8],[5,6,7]]\n",
    "\n",
    "I110 = matroid_to_reduced_expression(Q110, ZZ)\n",
    "I110[1]"
   ]
  },
  {
   "cell_type": "code",
   "execution_count": 53,
   "metadata": {},
   "outputs": [
    {
     "data": {
      "text/plain": [
       "2-element Vector{fmpz_mpoly}:\n",
       " 0\n",
       " -x_{2, 5}^2 + x_{2, 5} - 1"
      ]
     },
     "execution_count": 53,
     "metadata": {},
     "output_type": "execute_result"
    }
   ],
   "source": [
    "Q111_nonbases = [[1,2,3],[1,4,5],[1,6,9],[1,7,8],[2,4,6],[2,5,8],\n",
    "                [2,7,9],[3,4,7],[3,5,9],[3,6,8],[4,8,9],[5,6,7]]\n",
    "\n",
    "I111 = matroid_to_reduced_expression(Q111, ZZ)\n",
    "I111[1]"
   ]
  },
  {
   "cell_type": "code",
   "execution_count": 54,
   "metadata": {},
   "outputs": [
    {
     "data": {
      "text/plain": [
       "2-element Vector{fmpz_mpoly}:\n",
       " 0\n",
       " -x_{2, 5}^2 - 1"
      ]
     },
     "execution_count": 54,
     "metadata": {},
     "output_type": "execute_result"
    }
   ],
   "source": [
    "Q152_nonbases = [[1,2,3],[1,4,5],[1,6,9],[1,7,8],[2,4,6],[2,5,8],\n",
    "                [2,7,9],[3,4,7],[3,5,6],[4,8,9]]\n",
    "\n",
    "I152 = matroid_to_reduced_expression(Q152, ZZ)\n",
    "I152[1]"
   ]
  },
  {
   "cell_type": "code",
   "execution_count": 55,
   "metadata": {},
   "outputs": [
    {
     "data": {
      "text/plain": [
       "2-element Vector{fmpz_mpoly}:\n",
       " 0\n",
       " 2"
      ]
     },
     "execution_count": 55,
     "metadata": {},
     "output_type": "execute_result"
    }
   ],
   "source": [
    "Q153_nonbases = [[1,2,3],[1,4,5],[1,6,9],[1,7,8],[2,4,6],[2,5,8],\n",
    "                [2,7,9],[3,4,7],[3,5,6],[3,8,9]]\n",
    "\n",
    "I153 = matroid_to_reduced_expression(Q153, ZZ)\n",
    "I153[1]"
   ]
  },
  {
   "cell_type": "code",
   "execution_count": 56,
   "metadata": {},
   "outputs": [
    {
     "data": {
      "text/plain": [
       "2-element Vector{fmpz_mpoly}:\n",
       " 0\n",
       " x_{2, 5}^2 + x_{2, 5} - 1"
      ]
     },
     "execution_count": 56,
     "metadata": {},
     "output_type": "execute_result"
    }
   ],
   "source": [
    "Q279_nonbases = [[1,2,3],[1,2,4],[1,3,4],[1,5,6],[1,7,9],[2,3,4],\n",
    "                 [2,5,7],[2,8,9],[3,5,8],[3,6,7],[4,5,9],[4,6,8]]\n",
    "                 \n",
    "\n",
    "I279 = matroid_to_reduced_expression(Q279, ZZ)\n",
    "I279[1]"
   ]
  },
  {
   "cell_type": "code",
   "execution_count": 57,
   "metadata": {},
   "outputs": [
    {
     "data": {
      "text/plain": [
       "2-element Vector{fmpz_mpoly}:\n",
       " 0\n",
       " -3"
      ]
     },
     "execution_count": 57,
     "metadata": {},
     "output_type": "execute_result"
    }
   ],
   "source": [
    "Q339_nonbases = [[1,2,3],[1,2,4],[1,3,4],[1,5,6],[1,5,7],[1,6,7],\n",
    "                 [1,8,9],[2,3,4],[2,5,8],[2,7,9],[3,5,9],[3,6,8],\n",
    "                 [4,6,9],[4,7,8],[5,6,7]]\n",
    "                 \n",
    "\n",
    "I339 = matroid_to_reduced_expression(Q339, ZZ)\n",
    "I339[1]"
   ]
  },
  {
   "cell_type": "code",
   "execution_count": null,
   "metadata": {},
   "outputs": [],
   "source": []
  }
 ],
 "metadata": {
  "kernelspec": {
   "display_name": "Julia 1.7.1",
   "language": "julia",
   "name": "julia-1.7"
  },
  "language_info": {
   "file_extension": ".jl",
   "mimetype": "application/julia",
   "name": "julia",
   "version": "1.7.1"
  }
 },
 "nbformat": 4,
 "nbformat_minor": 4
}
