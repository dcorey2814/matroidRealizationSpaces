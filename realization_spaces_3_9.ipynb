{
 "cells": [
  {
   "cell_type": "code",
   "execution_count": 1,
   "metadata": {},
   "outputs": [
    {
     "name": "stdout",
     "output_type": "stream",
     "text": [
      "\r",
      " -----    -----    -----      -      -----   \n",
      "|     |  |     |  |     |    | |    |     |  \n",
      "|     |  |        |         |   |   |     |  \n",
      "|     |   -----   |        |     |  |-----   \n",
      "|     |        |  |        |-----|  |   |    \n",
      "|     |  |     |  |     |  |     |  |    |   \n",
      " -----    -----    -----   -     -  -     -  \n",
      "\n",
      "...combining (and extending) ANTIC, GAP, Polymake and Singular\n",
      "Version\u001b[32m 0.11.3-DEV \u001b[39m... \n",
      " ... which comes with absolutely no warranty whatsoever\n",
      "Type: '?Oscar' for more information\n",
      "(c) 2019-2022 by The OSCAR Development Team\n"
     ]
    },
    {
     "data": {
      "text/plain": [
       "Polymake"
      ]
     },
     "execution_count": 1,
     "metadata": {},
     "output_type": "execute_result"
    }
   ],
   "source": [
    "using Oscar\n",
    "using Combinatorics\n",
    "pm = Polymake"
   ]
  },
  {
   "cell_type": "code",
   "execution_count": 11,
   "metadata": {},
   "outputs": [],
   "source": [
    "include(\"matroid_realization.jl\");\n",
    "include(\"reduceIdeals.jl\")\n",
    "strings_d3n9 = readlines(\"d3n9.dat\");"
   ]
  },
  {
   "cell_type": "code",
   "execution_count": 12,
   "metadata": {},
   "outputs": [
    {
     "data": {
      "text/plain": [
       "1-element Vector{fmpq_mpoly}:\n",
       " 0"
      ]
     },
     "execution_count": 12,
     "metadata": {},
     "output_type": "execute_result"
    }
   ],
   "source": [
    "Q43_nonbases = [[1,2,3],[1,4,5],[1,8,9],\n",
    "                [2,4,6],[2,7,9],[3,5,7],\n",
    "                [3,6,8],[4,7,8],[5,6,9]]\n",
    "\n",
    "Q43 = matroid_from_nonbases(Q43_nonbases, 9)\n",
    "[c for c in circuits(Q43) if length(c) == 4]\n",
    "RQ43 = matroid_realization_space(Q43, [1,2,4,7], QQ)\n",
    "R43 = parent(RQ43[1][1])\n",
    "I43 = reduce_ideal_full(RQ43[1], RQ43[2], R43, gens(R43), false)\n",
    "I43[1]"
   ]
  },
  {
   "cell_type": "code",
   "execution_count": 13,
   "metadata": {},
   "outputs": [
    {
     "data": {
      "text/plain": [
       "2-element Vector{fmpq_mpoly}:\n",
       " 0\n",
       " x_{1, 5}^2 - x_{1, 5}*x_{2, 5} + x_{2, 5}^2 - x_{2, 5}"
      ]
     },
     "execution_count": 13,
     "metadata": {},
     "output_type": "execute_result"
    }
   ],
   "source": [
    "Q78_nonbases = [[1,2,3],[1,4,5],[1,8,9],\n",
    "                [2,4,6],[2,5,8],[3,4,7],\n",
    "                [3,6,9],[5,7,9],[6,7,8]]\n",
    "\n",
    "Q78 = matroid_from_nonbases(Q78_nonbases, 9)\n",
    "#[c for c in circuits(Q78) if length(c) == 4]\n",
    "RQ78 = matroid_realization_space(Q78, [1,2,4,7], QQ)\n",
    "R78 = parent(RQ78[1][1])\n",
    "I78 = reduce_ideal_full(RQ78[1], RQ78[2], R78, gens(R78), false)\n",
    "I78[1]"
   ]
  },
  {
   "cell_type": "code",
   "execution_count": 14,
   "metadata": {},
   "outputs": [
    {
     "data": {
      "text/plain": [
       "2-element Vector{fmpq_mpoly}:\n",
       " 0\n",
       " -2*x_{1, 5}*x_{2, 5} + x_{1, 5} + x_{2, 5}^2"
      ]
     },
     "execution_count": 14,
     "metadata": {},
     "output_type": "execute_result"
    }
   ],
   "source": [
    "Q81_nonbases = [[1,2,3],[1,4,5],[1,6,9],\n",
    "                [2,4,6],[2,5,8],[3,4,7],\n",
    "                [3,8,9],[5,7,9],[6,7,8]]\n",
    "\n",
    "Q81 = matroid_from_nonbases(Q81_nonbases, 9)\n",
    "[c for c in circuits(Q81) if length(c) == 4]\n",
    "RQ81 = matroid_realization_space(Q81, [1,2,4,7], QQ)\n",
    "R81 = parent(RQ81[1][1])\n",
    "I81 = reduce_ideal_full(RQ81[1], RQ81[2], R81, gens(R81), false)\n",
    "I81[1]"
   ]
  },
  {
   "cell_type": "code",
   "execution_count": 15,
   "metadata": {},
   "outputs": [
    {
     "data": {
      "text/plain": [
       "1-element Vector{fmpq_mpoly}:\n",
       " 0"
      ]
     },
     "execution_count": 15,
     "metadata": {},
     "output_type": "execute_result"
    }
   ],
   "source": [
    "Q104_nonbases = [[1,2,3],[1,4,5],[1,6,9],\n",
    "                 [2,4,6],[2,5,8],[2,7,9],\n",
    "                 [3,4,7],[3,6,8],[4,8,9],[5,6,7]]\n",
    "\n",
    "Q104 = matroid_from_nonbases(Q104_nonbases, 9)\n",
    "[c for c in circuits(Q104) if length(c) == 4]\n",
    "RQ104 = matroid_realization_space(Q104, [1,2,4,7], QQ)\n",
    "R104 = parent(RQ104[1][1])\n",
    "I104 = reduce_ideal_full(RQ104[1], RQ104[2], R104, gens(R104), false)\n",
    "I104[1]"
   ]
  },
  {
   "cell_type": "code",
   "execution_count": 16,
   "metadata": {},
   "outputs": [
    {
     "data": {
      "text/plain": [
       "2-element Vector{fmpq_mpoly}:\n",
       " 0\n",
       " -x_{2, 5}^2 + x_{2, 5} - 1"
      ]
     },
     "execution_count": 16,
     "metadata": {},
     "output_type": "execute_result"
    }
   ],
   "source": [
    "Q110_nonbases = [[1,2,3],[1,4,5],[1,6,9],\n",
    "                [1,7,8],[2,4,6],[2,5,8],\n",
    "                [2,7,9],[3,4,7],[3,5,9],\n",
    "                [3,6,8],[5,6,7]]\n",
    "\n",
    "Q110 = matroid_from_nonbases(Q110_nonbases, 9)\n",
    "[c for c in circuits(Q110) if length(c) == 4]\n",
    "RQ110 = matroid_realization_space(Q110, [1,2,4,7], QQ)\n",
    "R110 = parent(RQ110[1][1])\n",
    "I110 = reduce_ideal_full(RQ110[1], RQ110[2], R110, gens(R110), false)\n",
    "I110[1]"
   ]
  },
  {
   "cell_type": "code",
   "execution_count": 17,
   "metadata": {},
   "outputs": [
    {
     "data": {
      "text/plain": [
       "2-element Vector{fmpq_mpoly}:\n",
       " 0\n",
       " -x_{2, 5}^2 + x_{2, 5} - 1"
      ]
     },
     "execution_count": 17,
     "metadata": {},
     "output_type": "execute_result"
    }
   ],
   "source": [
    "Q111_nonbases = [[1,2,3],[1,4,5],[1,6,9],\n",
    "                [1,7,8],[2,4,6],[2,5,8],\n",
    "                [2,7,9],[3,4,7],[3,5,9],\n",
    "                [3,6,8],[4,8,9],[5,6,7]]\n",
    "\n",
    "Q111 = matroid_from_nonbases(Q111_nonbases, 9)\n",
    "[c for c in circuits(Q111) if length(c) == 4]\n",
    "RQ111 = matroid_realization_space(Q111, [1,2,4,7], QQ)\n",
    "R111 = parent(RQ111[1][1])\n",
    "I111 = reduce_ideal_full(RQ111[1], RQ111[2], R111, gens(R111), false)\n",
    "I111[1]"
   ]
  },
  {
   "cell_type": "code",
   "execution_count": 18,
   "metadata": {},
   "outputs": [
    {
     "data": {
      "text/plain": [
       "2-element Vector{fmpq_mpoly}:\n",
       " 0\n",
       " -x_{2, 5}^2 - 1"
      ]
     },
     "execution_count": 18,
     "metadata": {},
     "output_type": "execute_result"
    }
   ],
   "source": [
    "Q152_nonbases = [[1,2,3],[1,4,5],[1,6,9],\n",
    "                [1,7,8],[2,4,6],[2,5,8],\n",
    "                [2,7,9],[3,4,7],[3,5,6],\n",
    "                [4,8,9]]\n",
    "\n",
    "Q152 = matroid_from_nonbases(Q152_nonbases, 9)\n",
    "[c for c in circuits(Q152) if length(c) == 4]\n",
    "RQ152 = matroid_realization_space(Q152, [1,2,4,7], QQ)\n",
    "R152 = parent(RQ152[1][1])\n",
    "I152 = reduce_ideal_full(RQ152[1], RQ152[2], R152, gens(R152), false)\n",
    "I152[1]"
   ]
  },
  {
   "cell_type": "code",
   "execution_count": 19,
   "metadata": {},
   "outputs": [
    {
     "data": {
      "text/plain": [
       "2-element Vector{fmpq_mpoly}:\n",
       " 0\n",
       " 2"
      ]
     },
     "execution_count": 19,
     "metadata": {},
     "output_type": "execute_result"
    }
   ],
   "source": [
    "Q153_nonbases = [[1,2,3],[1,4,5],[1,6,9],\n",
    "                [1,7,8],[2,4,6],[2,5,8],\n",
    "                [2,7,9],[3,4,7],[3,5,6],\n",
    "                [3,8,9]]\n",
    "\n",
    "Q153 = matroid_from_nonbases(Q153_nonbases, 9)\n",
    "[c for c in circuits(Q153) if length(c) == 4]\n",
    "RQ153 = matroid_realization_space(Q153, [1,2,4,7], QQ)\n",
    "R153 = parent(RQ153[1][1])\n",
    "I153 = reduce_ideal_full(RQ153[1], RQ153[2], R153, gens(R153), false)\n",
    "I153[1]"
   ]
  },
  {
   "cell_type": "code",
   "execution_count": 20,
   "metadata": {},
   "outputs": [
    {
     "data": {
      "text/plain": [
       "2-element Vector{fmpq_mpoly}:\n",
       " 0\n",
       " x_{2, 5}^2 + x_{2, 5} - 1"
      ]
     },
     "execution_count": 20,
     "metadata": {},
     "output_type": "execute_result"
    }
   ],
   "source": [
    "Q279_nonbases = [[1,2,3],[1,2,4],[1,3,4],\n",
    "                 [1,5,6],[1,7,9],[2,3,4],\n",
    "                 [2,5,7],[2,8,9],[3,5,8],\n",
    "                 [3,6,7],[4,5,9],[4,6,8]]\n",
    "                 \n",
    "\n",
    "Q279 = matroid_from_nonbases(Q279_nonbases, 9)\n",
    "[c for c in circuits(Q279) if length(c) == 4]\n",
    "RQ279 = matroid_realization_space(Q279, [1,2,5,8], QQ)\n",
    "R279 = parent(RQ279[1][1])\n",
    "I279 = reduce_ideal_full(RQ279[1], RQ279[2], R279, gens(R279), false)\n",
    "I279[1]"
   ]
  },
  {
   "cell_type": "code",
   "execution_count": 21,
   "metadata": {},
   "outputs": [
    {
     "data": {
      "text/plain": [
       "2-element Vector{fmpq_mpoly}:\n",
       " 0\n",
       " -3"
      ]
     },
     "execution_count": 21,
     "metadata": {},
     "output_type": "execute_result"
    }
   ],
   "source": [
    "Q339_nonbases = [[1,2,3],[1,2,4],[1,3,4],\n",
    "                 [1,5,6],[1,5,7],[1,6,7],\n",
    "                 [1,8,9],[2,3,4],[2,5,8],\n",
    "                 [2,7,9],[3,5,9],[3,6,8],\n",
    "                 [4,6,9],[4,7,8],[5,6,7]]\n",
    "                 \n",
    "\n",
    "Q339 = matroid_from_nonbases(Q339_nonbases, 9)\n",
    "[c for c in circuits(Q339) if length(c) == 4]\n",
    "RQ339 = matroid_realization_space(Q339, [1,2,5,9], QQ)\n",
    "R339 = parent(RQ339[1][1])\n",
    "I339 = reduce_ideal_full(RQ339[1], RQ339[2], R339, gens(R339), false)\n",
    "I339[1]"
   ]
  }
 ],
 "metadata": {
  "kernelspec": {
   "display_name": "Julia 1.7.1",
   "language": "julia",
   "name": "julia-1.7"
  },
  "language_info": {
   "file_extension": ".jl",
   "mimetype": "application/julia",
   "name": "julia",
   "version": "1.7.1"
  }
 },
 "nbformat": 4,
 "nbformat_minor": 4
}
