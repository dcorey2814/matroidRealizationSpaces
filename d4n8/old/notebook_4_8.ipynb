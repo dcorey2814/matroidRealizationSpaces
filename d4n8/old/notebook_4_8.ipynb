{
 "cells": [
  {
   "cell_type": "code",
   "execution_count": 16,
   "metadata": {},
   "outputs": [
    {
     "data": {
      "text/plain": [
       "95-element Vector{Int64}:\n",
       "  73\n",
       "  76\n",
       "  96\n",
       " 100\n",
       " 102\n",
       " 129\n",
       " 133\n",
       " 135\n",
       " 179\n",
       " 181\n",
       " 183\n",
       " 184\n",
       " 202\n",
       "   ⋮\n",
       " 551\n",
       " 564\n",
       " 566\n",
       " 569\n",
       " 571\n",
       " 572\n",
       " 573\n",
       " 574\n",
       " 575\n",
       " 576\n",
       " 594\n",
       " 608"
      ]
     },
     "execution_count": 16,
     "metadata": {},
     "output_type": "execute_result"
    }
   ],
   "source": [
    "using Oscar\n",
    "using Combinatorics\n",
    "pm = Polymake\n",
    "\n",
    "currentDir = pwd()\n",
    "\n",
    "d4n8 = vec(readlines(\"../data/d4n8.dat\"));\n",
    "\n",
    "include(\"../src/matroid_realization.jl\");\n",
    "include(\"../src/reduceIdealsv2.jl\")\n",
    "include(\"../src/JacobianCriterion.jl\")\n",
    "include(\"../src/TSC_CoordRingV2.jl\")\n",
    "\n",
    "weird = vec(readlines(\"sorting/weird.dat\"))\n",
    "sp_48 = load(\"4planes_4_8.dat\")"
   ]
  },
  {
   "cell_type": "code",
   "execution_count": 5,
   "metadata": {},
   "outputs": [
    {
     "data": {
      "text/plain": [
       "make_directory (generic function with 1 method)"
      ]
     },
     "execution_count": 5,
     "metadata": {},
     "output_type": "execute_result"
    }
   ],
   "source": [
    "function int_gens(I)\n",
    "    ints = [x for x in I if is_constant(x)]\n",
    "    return length(ints)>0    \n",
    "end\n",
    "\n",
    "function make_directory(dir::AbstractString)\n",
    "    if !isdir(dir)\n",
    "        mkdir(dir)\n",
    "    end\n",
    "    return dir    \n",
    "end "
   ]
  },
  {
   "cell_type": "code",
   "execution_count": 7,
   "metadata": {},
   "outputs": [
    {
     "data": {
      "text/plain": [
       "\"/home/dante/Desktop/jupyter_notebooks/matroidRealizationSpaces/d4n8/sorting\""
      ]
     },
     "execution_count": 7,
     "metadata": {},
     "output_type": "execute_result"
    }
   ],
   "source": [
    "sortingDir = joinpath(currentDir, \"sorting\") # makes the directory \"sorting\", if not already created.\n",
    "make_directory(sortingDir)"
   ]
  },
  {
   "cell_type": "code",
   "execution_count": 13,
   "metadata": {},
   "outputs": [
    {
     "data": {
      "text/plain": [
       "IOStream(<file /home/dante/Desktop/jupyter_notebooks/matroidRealizationSpaces/d4n8/sorting/weird.dat>)"
      ]
     },
     "execution_count": 13,
     "metadata": {},
     "output_type": "execute_result"
    }
   ],
   "source": [
    "file_not_realizable = open(joinpath(sortingDir, \"not_realizable.dat\"), \"w\") \n",
    "file_zero_ideal = open(joinpath(sortingDir, \"zero_ideal.dat\"), \"w\")\n",
    "file_int_generator = open(joinpath(sortingDir, \"int_generator.dat\"), \"w\")\n",
    "file_principal_univariate = open(joinpath(sortingDir, \"principal_univariate.dat\"), \"w\")\n",
    "file_principal_multivariate = open(joinpath(sortingDir, \"principal_multivariate.dat\"), \"w\")\n",
    "file_not_principal = open(joinpath(sortingDir, \"not_principal.dat\"), \"w\")\n",
    "file_not_principal_univariate = open(joinpath(sortingDir, \"not_principal_univariate.dat\"), \"w\")\n",
    "file_not_principal_multivariate = open(joinpath(sortingDir, \"not_principal_multivariate.dat\"), \"w\")\n",
    "file_net = open(joinpath(sortingDir, \"net.dat\"), \"w\")\n",
    "file_weird = open(joinpath(sortingDir, \"weird.dat\"), \"w\")"
   ]
  },
  {
   "cell_type": "code",
   "execution_count": 14,
   "metadata": {},
   "outputs": [],
   "source": [
    "for z in sp_48\n",
    "\n",
    "    Mzstr = d4n8[z]\n",
    "    Mz = matroid_from_revlex_basis_encoding(Mzstr, 4, 8)\n",
    "    \n",
    "    C = [c for c in circuits(Mz) if length(c) == 5]\n",
    "    \n",
    "    if length(C) == 0 \n",
    "        write(file_weird, String(Mzstr),\"\\n\")\n",
    "        continue\n",
    "    end\n",
    "    \n",
    "    ISdata = matroid_to_reduced_expression(Mz, QQ)\n",
    "        \n",
    "    \n",
    "    if ISdata isa String    \n",
    "        write(file_not_realizable, String(Mzstr),\"\\n\")\n",
    "        continue\n",
    "    end\n",
    "    \n",
    "    Igens, Sgens = ISdata\n",
    "    \n",
    "    if length(Igens) == 0 #reduces to 0 \n",
    "        write(file_zero_ideal, String(Mzstr), \"\\n\")\n",
    "        continue  \n",
    "          \n",
    "    elseif (1 in Igens || -1 in Igens)\n",
    "        write(file_not_realizable, String(Mzstr),\"\\n\")\n",
    "        continue\n",
    "        \n",
    "    elseif int_gens(Igens)\n",
    "        write(file_int_generator, String(Mzstr),\"\\n\")\n",
    "        continue\n",
    "        \n",
    "    elseif length(Igens) == 1\n",
    "        if (length(vars(Igens[1])) == 1)\n",
    "            write(file_principal_univariate, String(Mzstr),\"\\n\")\n",
    "            continue\n",
    "        else\n",
    "            write(file_principal_multivariate, String(Mzstr),\"\\n\")\n",
    "            continue\n",
    "        end\n",
    "        \n",
    "    elseif length(Igens)>1\n",
    "        \n",
    "        Ivars = ideal_vars(Igens) \n",
    "        if length(Ivars) == 1\n",
    "            if isone(ideal(Igens)) \n",
    "                write(file_not_realizable, String(Mzstr),\"\\n\")\n",
    "                continue\n",
    "            else\n",
    "                write(file_not_principal_univariate, String(Mzstr),\"\\n\")\n",
    "                continue\n",
    "            end\n",
    "        else\n",
    "            write(file_not_principal_multivariate, String(Mzstr),\"\\n\")\n",
    "            continue\n",
    "        end\n",
    "    else\n",
    "        write(file_net, String(Mzstr),\"\\n\")\n",
    "        continue\n",
    "    end\n",
    "end\n",
    "\n",
    "close(file_not_realizable)\n",
    "close(file_zero_ideal)\n",
    "close(file_int_generator)\n",
    "close(file_principal_univariate)\n",
    "close(file_principal_multivariate)\n",
    "close(file_not_principal)\n",
    "close(file_net)\n",
    "close(file_weird)"
   ]
  },
  {
   "cell_type": "code",
   "execution_count": 17,
   "metadata": {},
   "outputs": [
    {
     "data": {
      "text/plain": [
       "4-element Vector{String}:\n",
       " \"0********0****0*****0**0***00************00***0**0*****0****0********0\"\n",
       " \"000000000******0000************00000000************0000******000000000\"\n",
       " \"0000000000000000000000000**********0000000000********************00000\"\n",
       " \"000000000000000000000000000000000000******0******0***0******0*0**0****\""
      ]
     },
     "execution_count": 17,
     "metadata": {},
     "output_type": "execute_result"
    }
   ],
   "source": [
    "weird"
   ]
  },
  {
   "cell_type": "code",
   "execution_count": 26,
   "metadata": {},
   "outputs": [
    {
     "data": {
      "text/plain": [
       "Matroid of rank 4 on 8 elements"
      ]
     },
     "execution_count": 26,
     "metadata": {},
     "output_type": "execute_result"
    }
   ],
   "source": [
    "Mw = matroid_from_revlex_basis_encoding(weird[4],4,8)"
   ]
  },
  {
   "cell_type": "code",
   "execution_count": 25,
   "metadata": {},
   "outputs": [
    {
     "data": {
      "text/plain": [
       "Vector{Int64}[]"
      ]
     },
     "execution_count": 25,
     "metadata": {},
     "output_type": "execute_result"
    }
   ],
   "source": [
    "C1 = [c for c in circuits(Mw) if length(c) == 5]"
   ]
  },
  {
   "cell_type": "code",
   "execution_count": null,
   "metadata": {},
   "outputs": [],
   "source": []
  }
 ],
 "metadata": {
  "kernelspec": {
   "display_name": "Julia 1.7.1",
   "language": "julia",
   "name": "julia-1.7"
  },
  "language_info": {
   "file_extension": ".jl",
   "mimetype": "application/julia",
   "name": "julia",
   "version": "1.7.1"
  }
 },
 "nbformat": 4,
 "nbformat_minor": 4
}
