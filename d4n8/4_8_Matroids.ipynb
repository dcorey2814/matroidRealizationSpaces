{
 "cells": [
  {
   "cell_type": "markdown",
   "metadata": {},
   "source": [
    "In this notebook, we demonstrate the techniques and procedures used to study matroids of rank 4 on 8 elements. These techniques scale in a straightforward way to our analysis of (4,9)-matroids."
   ]
  },
  {
   "cell_type": "code",
   "execution_count": 4,
   "metadata": {},
   "outputs": [],
   "source": [
    "using Oscar\n",
    "using Combinatorics\n",
    "pm = Polymake\n",
    "\n",
    "\n",
    "\n",
    "#pull simple 4-8 matroids from polymake databases\n",
    "db = Polymake.Polydb.get_db();\n",
    "collection = db[\"Matroids.Small\"];\n",
    "d4n8 = Polymake.Polydb.find(collection, Dict(\"RANK\" => 4, \"SIMPLE\"=>true, \"N_ELEMENTS\"=>8));\n"
   ]
  },
  {
   "cell_type": "code",
   "execution_count": 2,
   "metadata": {},
   "outputs": [],
   "source": [
    "cd(\"..\")"
   ]
  },
  {
   "cell_type": "code",
   "execution_count": 86,
   "metadata": {},
   "outputs": [
    {
     "data": {
      "text/plain": [
       "matroid_to_reduced_TSC_min_basis (generic function with 1 method)"
      ]
     },
     "execution_count": 86,
     "metadata": {},
     "output_type": "execute_result"
    }
   ],
   "source": [
    "currentDir = pwd() # make sure you are running from the main directory.\n",
    "include(joinpath(currentDir, \"src/fileHandling.jl\"))\n",
    "include(joinpath(currentDir, \"src/isolate3Lines.jl\"))\n",
    "include(joinpath(currentDir, \"src/matroid_realization.jl\"))\n",
    "include(joinpath(currentDir, \"src/Jacobian_Criterion.jl\"))\n",
    "include(joinpath(currentDir, \"src/reduceTSC.jl\"))"
   ]
  },
  {
   "cell_type": "markdown",
   "metadata": {},
   "source": [
    "We begin by removing matroids whose realization spaces are known to be smooth. We apply the following lemma:\n",
    "\n",
    "**Lemma:** Let $M$ be a $(4,8)$-matroid such that there exists an element $i\\in [8]$ contained in exactly $0\\leq k\\leq 3$ rank $3$ flats of cardinality at least $4$. Then there exists a smooth morphism $Gr_{M}\\to Gr_{M|[8]\\setminus i}$.\n",
    "\n",
    "**Remark:** Matroid duality induces an isomorphism $Gr_{M}\\cong Gr_{M^*}$. In other words, $Gr_{M|[8]\\setminus i}\\cong Gr_{(M|[8]\\setminus i)^*}$. By prior work, we know that all $(3,7)$ matroids have smooth thin Schubert cells, and therefore smooth realization spaces. Hence, we can restrict our search for singular realization spaces to those $(4,8)$ matroids that do not satisfy the hypotheses of the above lemma.\n",
    "\n",
    "We begin by isolating $(4,8)$-matroids such that every element of $[8]$ is contained in at least $4$ rank $3$ flats of cardinality at least $4$. We save the data as a sting of \"$0$\"'s and \"$*$\"'s, where the entries correspond to elements of ${[8]\\choose 4}$ in reverse lex order."
   ]
  },
  {
   "cell_type": "code",
   "execution_count": 18,
   "metadata": {},
   "outputs": [],
   "source": [
    "function in_planes(n,L)\n",
    "\n",
    "    Ln = [l for l in L if n in l]\n",
    "\n",
    "    return(length(Ln))\n",
    "\n",
    "end\n",
    "\n",
    "\n",
    "\n",
    "d4C8 = subsets(collect(1:8), 4);\n",
    "d4C8 = sort(d4C8, by =  x-> reverse(x));\n",
    "\n",
    "planes_4 = []\n",
    "\n",
    "for t in d4n8\n",
    "    \n",
    "   # println(t)\n",
    "\n",
    "    Qt = Matroid(t)\n",
    "\n",
    "    L = [h for h in hyperplanes(Qt) if length(h)>3]\n",
    "\n",
    "    ns = [n for n in 1:8 if in_planes(n,L)>3]\n",
    "\n",
    "    if length(ns) == 8\n",
    "                push!(planes_4,to_revlex(Qt,d4C8))\n",
    "    end\n",
    "end"
   ]
  },
  {
   "cell_type": "markdown",
   "metadata": {},
   "source": [
    "We have thus significantly cut down the number of matroids we need to consider. This data is precomputed in `d4n8/4_planes_d4n8.dat`."
   ]
  },
  {
   "cell_type": "code",
   "execution_count": 12,
   "metadata": {},
   "outputs": [],
   "source": [
    "planes_4_precomputed = vec(readlines(joinpath(currentDir, \"d4n8/4_planes_d4n8.dat\")));"
   ]
  },
  {
   "cell_type": "code",
   "execution_count": 4,
   "metadata": {},
   "outputs": [
    {
     "data": {
      "text/plain": [
       "true"
      ]
     },
     "execution_count": 4,
     "metadata": {},
     "output_type": "execute_result"
    }
   ],
   "source": [
    "Set(planes_4) == Set(planes_4_precomputed)"
   ]
  },
  {
   "cell_type": "markdown",
   "metadata": {},
   "source": [
    "We now begin our analysis of realization spaces of $(4,8)$ matroids. Note that this computation relies on the existence of a circuit of cardinality $d+1$, called a *reference circuit*. Therefore, the first step of the following computation checks for the existence of such a circuit. Matroids without such a reference circuit will be studied via their thin Schubert cells. "
   ]
  },
  {
   "cell_type": "code",
   "execution_count": 25,
   "metadata": {},
   "outputs": [],
   "source": [
    "no_circ = []\n",
    "for i in planes_4\n",
    "    Qi = matroid_from_revlex_basis_encoding(i,4,8)\n",
    "    Cs = rank_plus1_circuits(Qi)\n",
    "    if length(Cs) == 0\n",
    "        push!(no_circ,i)\n",
    "    end\n",
    "end"
   ]
  },
  {
   "cell_type": "code",
   "execution_count": 24,
   "metadata": {},
   "outputs": [
    {
     "data": {
      "text/plain": [
       "4-element Vector{Any}:\n",
       " \"0********0****0*****0**0***00************00***0**0*****0****0********0\"\n",
       " \"000000000******0000************00000000************0000******000000000\"\n",
       " \"0000000000000000000000000**********0000000000********************00000\"\n",
       " \"000000000000000000000000000000000000******0******0***0******0*0**0****\""
      ]
     },
     "execution_count": 24,
     "metadata": {},
     "output_type": "execute_result"
    }
   ],
   "source": [
    "no_circ"
   ]
  },
  {
   "cell_type": "markdown",
   "metadata": {},
   "source": [
    "This data is precomputed in `d4n8/no_ref_circ_d4n8.dat`."
   ]
  },
  {
   "cell_type": "code",
   "execution_count": 27,
   "metadata": {},
   "outputs": [
    {
     "data": {
      "text/plain": [
       "true"
      ]
     },
     "execution_count": 27,
     "metadata": {},
     "output_type": "execute_result"
    }
   ],
   "source": [
    "Set(no_circ) == Set(vec(readlines(joinpath(currentDir, \"d4n8/no_ref_circ_d4n8.dat\"))))"
   ]
  },
  {
   "cell_type": "markdown",
   "metadata": {},
   "source": [
    "The data for the coordinate rings of matroid realization spaces consists of a polynomial ring, a multiplicative semigroup, and the vanishing ideal.\n",
    "\n",
    "We sort the matroids into the following categories: \n",
    "\n",
    "1) Not realizable.\n",
    "\n",
    "2) Vanishing ideal reduces to 0.\n",
    "\n",
    "3) Vanishing ideal is univariate and principle.\n",
    "\n",
    "4) Vanishing ideal is multivariate and principle.\n",
    "\n",
    "**Note:** Different reference circuits lead to difference presenation of the coordinate ring of the realization space. Of course all presentations yield isomorphic realization spaces. However, we keep track of the reference circuit used for computing the coordinate ring using the following functions."
   ]
  },
  {
   "cell_type": "code",
   "execution_count": 28,
   "metadata": {},
   "outputs": [
    {
     "data": {
      "text/plain": [
       "stars_to_string (generic function with 1 method)"
      ]
     },
     "execution_count": 28,
     "metadata": {},
     "output_type": "execute_result"
    }
   ],
   "source": [
    "#convert reference circuit to string\n",
    "function set_to_stars(set,n)\n",
    "    \n",
    "    z = []\n",
    "    \n",
    "    for a in 1:n\n",
    "        if a in set\n",
    "            push!(z,\"*\")\n",
    "        else\n",
    "            push!(z,\"0\")\n",
    "        end\n",
    "    end\n",
    "    return join(z)\n",
    "end\n",
    "#convert string to reference circuit\n",
    "function stars_to_set(string,n)\n",
    "\n",
    "    return Vector{Int64}([a for a in 1:n if string[a] == '*'])\n",
    "    \n",
    "end"
   ]
  },
  {
   "cell_type": "code",
   "execution_count": 29,
   "metadata": {},
   "outputs": [
    {
     "data": {
      "text/plain": [
       "\"00*0***0\""
      ]
     },
     "execution_count": 29,
     "metadata": {},
     "output_type": "execute_result"
    }
   ],
   "source": [
    "s = set_to_stars([3,5,6,7],8)"
   ]
  },
  {
   "cell_type": "code",
   "execution_count": 37,
   "metadata": {},
   "outputs": [
    {
     "data": {
      "text/plain": [
       "4-element Vector{Int64}:\n",
       " 3\n",
       " 5\n",
       " 6\n",
       " 7"
      ]
     },
     "execution_count": 37,
     "metadata": {},
     "output_type": "execute_result"
    }
   ],
   "source": [
    "stars_to_string(s,8)"
   ]
  },
  {
   "cell_type": "markdown",
   "metadata": {},
   "source": [
    "Then we save the data as a string of $*$'s and $0$'s, such that the first $8$ entries of the string tell us the reference circuit. That is, we have a \"$*$\" in the $i$th position if $i$ is an element of the referenc circuit, \"$0$\" otherwise. The remaining $70$ entries of the string correspond to the the elements of ${[8]\\choose 4}$ listed in reverse lex order.\n"
   ]
  },
  {
   "cell_type": "markdown",
   "metadata": {},
   "source": [
    "The precomputed data `d4n8/not_realizable_d4n8.dat` contains the $(4,8)$ matroids that are not $\\mathbb{Q}$ realizable. "
   ]
  },
  {
   "cell_type": "markdown",
   "metadata": {},
   "source": [
    "Note that the first $8$ entries correspond to the reference circuit used in our intitial computation. Hence we perform our verifcation using entries 9 through 78"
   ]
  },
  {
   "cell_type": "code",
   "execution_count": 36,
   "metadata": {},
   "outputs": [],
   "source": [
    "not_realizable = vec(readlines(joinpath(currentDir, \"d4n8/not_realizable_d4n8.dat\")))\n",
    "\n",
    "test_nonrealizable = []\n",
    "\n",
    "for Qstr in not_realizable\n",
    "    Q = matroid_from_revlex_basis_encoding(Qstr[9:78], 4, 8)\n",
    "    As = rank_plus1_circuits(Q) \n",
    "    MR = new_matroid_realization_space(Q, As[1]; F=QQ, saturate=true)\n",
    "    push!(test_nonrealizable, !MR.representable)\n",
    "end"
   ]
  },
  {
   "cell_type": "code",
   "execution_count": 34,
   "metadata": {},
   "outputs": [
    {
     "data": {
      "text/plain": [
       "true"
      ]
     },
     "execution_count": 34,
     "metadata": {},
     "output_type": "execute_result"
    }
   ],
   "source": [
    "all(test_nonrealizable)"
   ]
  },
  {
   "cell_type": "markdown",
   "metadata": {},
   "source": [
    "Now we check the realizable matroids in `d4n8/4_planes_d4n8.dat` for the singularity properties of their realization spaces.\n",
    "\n",
    "**Note:** One could check that these are smooth using the `singular_locus` function in `src/Jacobian_Criterion.jl`. To make this computation more transparent, we carry out the smoothness check explicitly."
   ]
  },
  {
   "cell_type": "markdown",
   "metadata": {},
   "source": [
    "The precomputed data `d4n8/zero_ideal_d4n8.dat` contains the matroids in `d4n8/4_planes_d4n8.dat` such that the vanishing ideal of their realization space reduces to the trival ideal. These spaces are of course smooth."
   ]
  },
  {
   "cell_type": "code",
   "execution_count": 39,
   "metadata": {},
   "outputs": [],
   "source": [
    "zero_ideal = vec(readlines(joinpath(currentDir, \"d4n8/zero_ideal_d4n8.dat\")))\n",
    "\n",
    "test_zero = []\n",
    "for cir_Qstr in zero_ideal   \n",
    "    Qstr = cir_Qstr[9:78]\n",
    "    A = stars_to_set(cir_Qstr[1:8],8)\n",
    "    Q = matroid_from_revlex_basis_encoding(Qstr, 4, 8) \n",
    "    MR = new_matroid_realization_space(Q, A; F=QQ, saturate=true)\n",
    "        \n",
    "    MR = reduce_ideal_full(MR)\n",
    "    I = MR.defining_ideal\n",
    "    push!(test_zero, iszero(I))\n",
    "end"
   ]
  },
  {
   "cell_type": "code",
   "execution_count": 40,
   "metadata": {},
   "outputs": [
    {
     "data": {
      "text/plain": [
       "true"
      ]
     },
     "execution_count": 40,
     "metadata": {},
     "output_type": "execute_result"
    }
   ],
   "source": [
    "all(test_zero)"
   ]
  },
  {
   "cell_type": "markdown",
   "metadata": {},
   "source": [
    "The precomputed data `d4n8/princ_univariate_d4n8.dat` contains the matroids in `d4n8/4_planes_d4n8.dat` for which there exists some reference circuit such that the vanishing ideal is univariate and principle."
   ]
  },
  {
   "cell_type": "code",
   "execution_count": 64,
   "metadata": {},
   "outputs": [],
   "source": [
    "principal_univariate = vec(readlines(joinpath(currentDir,\"d4n8/princ_univariate_d4n8.dat\")))\n",
    "#verify univariate\n",
    "test_univariate = []\n",
    "\n",
    "for cir_Qstr in principal_univariate\n",
    "    A = stars_to_set(cir_Qstr[1:8],8)\n",
    "    Qstr = cir_Qstr[9:78]\n",
    "    Q = matroid_from_revlex_basis_encoding(Qstr, 4, 8) \n",
    "    MR = new_matroid_realization_space(Q, A; F=QQ, saturate=true)\n",
    "    \n",
    "    MR = reduce_ideal_full(MR)\n",
    "    I = MR.defining_ideal\n",
    "    length_vs = length(ideal_vars(gens(I)))\n",
    "    push!(test_univariate, isone(length_vs))\n",
    "end\n",
    "#verify principle\n",
    "test_principal_1 = []\n",
    "for cir_Qstr in principal_univariate\n",
    "    A = stars_to_set(cir_Qstr[1:8],8)\n",
    "    Qstr = cir_Qstr[9:78]\n",
    "    Q = matroid_from_revlex_basis_encoding(Qstr, 4, 8) \n",
    "    MR = new_matroid_realization_space(Q, A; F=QQ, saturate=true)\n",
    "    \n",
    "    MR = reduce_ideal_full(MR)\n",
    "    I = MR.defining_ideal\n",
    "    Igens = gens(I)\n",
    "    length_gens = length(Igens)\n",
    "    \n",
    "    push!(test_principal_1, isone(length_gens))\n",
    "end"
   ]
  },
  {
   "cell_type": "code",
   "execution_count": 65,
   "metadata": {},
   "outputs": [
    {
     "data": {
      "text/plain": [
       "true"
      ]
     },
     "execution_count": 65,
     "metadata": {},
     "output_type": "execute_result"
    }
   ],
   "source": [
    "all(test_univariate)"
   ]
  },
  {
   "cell_type": "code",
   "execution_count": 66,
   "metadata": {},
   "outputs": [
    {
     "data": {
      "text/plain": [
       "true"
      ]
     },
     "execution_count": 66,
     "metadata": {},
     "output_type": "execute_result"
    }
   ],
   "source": [
    "all(test_principal_1)"
   ]
  },
  {
   "cell_type": "markdown",
   "metadata": {},
   "source": [
    "The precomputed data `d4n8/princ_multivariate_d4n8.dat` contains the matroids in `d4n8/4_planes_d4n8.dat` for which there exists some reference circuit such that the vanishing ideal is multivariate and principle."
   ]
  },
  {
   "cell_type": "code",
   "execution_count": 62,
   "metadata": {},
   "outputs": [],
   "source": [
    "principal_multivariate = vec(readlines(joinpath(currentDir,\"d4n8/princ_multivariate_d4n8.dat\")))\n",
    "#verify univariate\n",
    "test_multivariate = []\n",
    "\n",
    "for cir_Qstr in principal_multivariate\n",
    "    A = stars_to_set(cir_Qstr[1:8],8)\n",
    "    Qstr = cir_Qstr[9:78]\n",
    "    Q = matroid_from_rprincipal_idealevlex_basis_encoding(Qstr, 4, 8) \n",
    "    MR = new_matroid_realization_space(Q, A; F=QQ, saturate=true)\n",
    "    \n",
    "    MR = reduce_ideal_full(MR)\n",
    "    I = MR.defining_ideal\n",
    "    length_vs = length(ideal_vars(gens(I)))\n",
    "    push!(test_multivariate, !isone(length_vs))\n",
    "end\n",
    "#verify principle\n",
    "test_principal_2 = []\n",
    "for cir_Qstr in principal_multivariate\n",
    "    A = stars_to_set(cir_Qstr[1:8],8)\n",
    "    Qstr = cir_Qstr[9:78]\n",
    "    Q = matroid_from_revlex_basis_encoding(Qstr, 4, 8) \n",
    "    MR = new_matroid_realization_space(Q, A; F=QQ, saturate=true)\n",
    "    \n",
    "    MR = reduce_ideal_full(MR)\n",
    "    I = MR.defining_ideal\n",
    "    Igens = gens(I)\n",
    "    length_gens = length(Igens)\n",
    "    \n",
    "    push!(test_principal_2, isone(length_gens))\n",
    "end"
   ]
  },
  {
   "cell_type": "code",
   "execution_count": 58,
   "metadata": {},
   "outputs": [
    {
     "data": {
      "text/plain": [
       "true"
      ]
     },
     "execution_count": 58,
     "metadata": {},
     "output_type": "execute_result"
    }
   ],
   "source": [
    "all(test_multivariate)"
   ]
  },
  {
   "cell_type": "code",
   "execution_count": 74,
   "metadata": {},
   "outputs": [
    {
     "data": {
      "text/plain": [
       "true"
      ]
     },
     "execution_count": 74,
     "metadata": {},
     "output_type": "execute_result"
    }
   ],
   "source": [
    "all(test_principal_2)"
   ]
  },
  {
   "cell_type": "markdown",
   "metadata": {},
   "source": [
    "We now check if the realization spaces of those matroids contained in `d4n8/princ_univariate_d4n8.dat`  and `d4n8/princ_multivariate_d4n8.dat` are smooth.  By the Jacobian criterion, the affine scheme $\\mathsf{Spec}(S^{-1}\\mathbb{Q}[x_1,\\ldots,x_n] / \\langle f \\rangle)$ is smooth if and only if the ideal\n",
    "\n",
    "$$\n",
    "J = \\langle f, \\frac{\\partial f}{\\partial x_1}, \\ldots, \\frac{\\partial f}{\\partial x_n}\\rangle\n",
    "$$\n",
    "\n",
    "is the unit ideal in $S^{-1} \\mathbb{Q}[x_1,\\ldots,x_n]$. This is equivalent to the saturation $(J:S^{\\infty})$ being the unit ideal in $\\mathbb{Q}[x_1,\\ldots,x_n]$. We perform this explicit check here. "
   ]
  },
  {
   "cell_type": "code",
   "execution_count": 68,
   "metadata": {},
   "outputs": [],
   "source": [
    "principal = union(principal_univariate, principal_multivariate)\n",
    "\n",
    "test_smooth_principal = []\n",
    "for cir_Qstr in principal\n",
    "    A = stars_to_set(cir_Qstr[1:8],8)\n",
    "    Qstr = cir_Qstr[9:78]\n",
    "    Q = matroid_from_revlex_basis_encoding(Qstr, 4, 8) \n",
    "    MR = new_matroid_realization_space(Q, A; F=QQ, saturate=true)\n",
    "        \n",
    "    MR = reduce_ideal_full(MR)\n",
    "    R = MR.ambient_ring\n",
    "    x = gens(R)\n",
    "    I = MR.defining_ideal\n",
    "    Igens = gens(I)\n",
    "    length(Igens) != 1 && error(\"not principal\") \n",
    "    JM = jacobian_matrix(R, x, Igens)\n",
    "    nr, nc = size(JM) \n",
    "    J = I + ideal(R, [JM[1,c] for c in 1:nc])\n",
    "    Sing = stepwise_saturation(J, MR.inequations)\n",
    "    #Sing = realization_space_2_singular_locus(MR)\n",
    "    push!(test_smooth_principal, isone(Sing))\n",
    "end"
   ]
  },
  {
   "cell_type": "code",
   "execution_count": 71,
   "metadata": {},
   "outputs": [
    {
     "data": {
      "text/plain": [
       "true"
      ]
     },
     "execution_count": 71,
     "metadata": {},
     "output_type": "execute_result"
    }
   ],
   "source": [
    "all(test_smooth_principal)"
   ]
  },
  {
   "cell_type": "markdown",
   "metadata": {},
   "source": [
    "Hence, we can see that all realizable matroids in `d4n8/4_planes_d4n8.dat`, for which a suitable reference circuit exists, have smooth realization spaces."
   ]
  },
  {
   "cell_type": "markdown",
   "metadata": {},
   "source": [
    "We study the four remaining matroids, those which do not have a reference circuit. We do so at the level of thin Schubert cells."
   ]
  },
  {
   "cell_type": "code",
   "execution_count": 72,
   "metadata": {},
   "outputs": [
    {
     "data": {
      "text/plain": [
       "4-element Vector{String}:\n",
       " \"0********0****0*****0**0***00************00***0**0*****0****0********0\"\n",
       " \"000000000******0000************00000000************0000******000000000\"\n",
       " \"0000000000000000000000000**********0000000000********************00000\"\n",
       " \"000000000000000000000000000000000000******0******0***0******0*0**0****\""
      ]
     },
     "execution_count": 72,
     "metadata": {},
     "output_type": "execute_result"
    }
   ],
   "source": [
    "no_circs = vec(readlines(joinpath(currentDir,\"d4n8/no_ref_circ_d4n8.dat\")))"
   ]
  },
  {
   "cell_type": "code",
   "execution_count": 87,
   "metadata": {},
   "outputs": [
    {
     "name": "stdout",
     "output_type": "stream",
     "text": [
      "matroid 1 : (QQMPolyRingElem[1], QQMPolyRingElem[x_{3, 1}, x_{2, 4}, x_{1, 3}, x_{4, 4}, x_{4, 2}, x_{4, 3}, x_{3, 4}], [1, 2, 3, 5])\n",
      "\n",
      "matroid 2 : (QQMPolyRingElem[0], QQMPolyRingElem[x_{2, 1}, x_{1, 1}, x_{2, 2}, x_{1, 2}, x_{1, 1}*x_{2, 2} - x_{2, 1}*x_{1, 2}, x_{4, 3}, x_{3, 3}, x_{4, 4}, x_{3, 4}, x_{3, 3}*x_{4, 4} - x_{4, 3}*x_{3, 4}], [1, 2, 5, 6])\n",
      "\n",
      "matroid 3 : (QQMPolyRingElem[0], QQMPolyRingElem[x_{2, 1}, x_{1, 1}, x_{2, 2}, x_{1, 2}, x_{1, 1}*x_{2, 2} - x_{2, 1}*x_{1, 2}, x_{2, 3}, x_{1, 3}, x_{1, 1}*x_{2, 3} - x_{2, 1}*x_{1, 3}, x_{1, 2}*x_{2, 3} - x_{2, 2}*x_{1, 3}, x_{4, 4}, x_{3, 4}], [1, 2, 6, 7])\n",
      "\n",
      "matroid 4 : (QQMPolyRingElem[1], QQMPolyRingElem[x_{2, 1}, x_{1, 4}, x_{3, 2}, x_{3, 3}, x_{2, 4}, x_{3, 4}], [1, 2, 4, 8])\n",
      "\n"
     ]
    }
   ],
   "source": [
    "for i in 1:4\n",
    "    Mi = matroid_from_revlex_basis_encoding(no_circs[i],4,8)\n",
    "    T = matroid_to_reduced_TSC_min_basis(Mi,QQ)\n",
    "    \n",
    "    print(\"matroid \",i,\" : \", T,\"\\n\\n\")\n",
    "end"
   ]
  },
  {
   "cell_type": "markdown",
   "metadata": {},
   "source": [
    "Observe that the vanishing ideal of the thin Schubert cells for matroids 1 and 4 are the unit ideal. These matroids are not realizable. For matroids 2 and 3, the vanishing ideal is $0$. Hence, all realization spaces for $(4,8)$ matoids are nonsingular."
   ]
  },
  {
   "cell_type": "markdown",
   "metadata": {},
   "source": [
    "Finally, we show that our sorting of the matroids in `d4n8/4_planes_d4n8.dat` was exhaustive."
   ]
  },
  {
   "cell_type": "code",
   "execution_count": 83,
   "metadata": {},
   "outputs": [
    {
     "data": {
      "text/plain": [
       "true"
      ]
     },
     "execution_count": 83,
     "metadata": {},
     "output_type": "execute_result"
    }
   ],
   "source": [
    "all_matroids_with_circ = Set(union(principal_multivariate,principal_univariate,zero_ideal,not_realizable))\n",
    "all_no_circs = union([cir_Qstr[9:78] for cir_Qstr in all_matroids_with_circ],no_circs)\n",
    "\n",
    "\n",
    "Set(all_no_circs) == Set(planes_4_precomputed)"
   ]
  },
  {
   "cell_type": "code",
   "execution_count": null,
   "metadata": {},
   "outputs": [],
   "source": []
  }
 ],
 "metadata": {
  "kernelspec": {
   "display_name": "Julia 1.7.1",
   "language": "julia",
   "name": "julia-1.7"
  },
  "language_info": {
   "file_extension": ".jl",
   "mimetype": "application/julia",
   "name": "julia",
   "version": "1.7.1"
  }
 },
 "nbformat": 4,
 "nbformat_minor": 4
}
