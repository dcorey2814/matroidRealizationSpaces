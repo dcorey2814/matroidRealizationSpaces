{
 "cells": [
  {
   "cell_type": "markdown",
   "metadata": {},
   "source": [
    "# $(4,8)$--Matriods\n",
    "\n",
    "In this notebook, we provide the computations used in the proof of Proposition 5.3, which asserts that $\\operatorname{Gr}(\\mathsf{Q};\\mathbb{C})$ is smooth for all $\\mathbb{C}$--realizable $(4,8)$--matroids. "
   ]
  },
  {
   "cell_type": "code",
   "execution_count": 27,
   "metadata": {},
   "outputs": [],
   "source": [
    "using Oscar\n",
    "using Combinatorics\n",
    "pm = Polymake\n",
    "\n",
    "\n",
    "\n",
    "#pull simple 4-8 matroids from polymake databases\n",
    "db = Polymake.Polydb.get_db();\n",
    "collection = db[\"Matroids.Small\"];\n",
    "d4n8 = Polymake.Polydb.find(collection, Dict(\"RANK\" => 4, \"SIMPLE\"=>true, \"N_ELEMENTS\"=>8));"
   ]
  },
  {
   "cell_type": "code",
   "execution_count": 2,
   "metadata": {},
   "outputs": [],
   "source": [
    "cd(\"..\")"
   ]
  },
  {
   "cell_type": "code",
   "execution_count": 7,
   "metadata": {},
   "outputs": [
    {
     "data": {
      "text/plain": [
       "to_revlex (generic function with 1 method)"
      ]
     },
     "execution_count": 7,
     "metadata": {},
     "output_type": "execute_result"
    }
   ],
   "source": [
    "currentDir = pwd() # make sure you are running from the main directory.\n",
    "include(joinpath(currentDir, \"src/fileHandling.jl\"))\n",
    "include(joinpath(currentDir, \"src/matroid_realization.jl\"))\n",
    "include(joinpath(currentDir, \"src/Jacobian_Criterion.jl\"))\n",
    "include(joinpath(currentDir, \"src/reduceTSC.jl\"))\n",
    "include(joinpath(currentDir, \"src/isolate3Lines.jl\"))"
   ]
  },
  {
   "cell_type": "markdown",
   "metadata": {},
   "source": [
    "First we isolate those that satisfy the three lines property, i.e., every element of the ground set is contained in at least 4 planes (rank 3 flat with at least 4 elements). There are **92** such matroids."
   ]
  },
  {
   "cell_type": "code",
   "execution_count": 28,
   "metadata": {},
   "outputs": [],
   "source": [
    "#counts number of planes an element of the ground set is in\n",
    "function in_planes(n,L)\n",
    "\n",
    "    Ln = [l for l in L if n in l]\n",
    "\n",
    "    return(length(Ln))\n",
    "\n",
    "end\n",
    "\n",
    "\n",
    "\n",
    "d4C8 = subsets(collect(1:8), 4);\n",
    "d4C8 = sort(d4C8, by =  x-> reverse(x));\n",
    "#isolate simple connected matroids satisfying 4 lines property\n",
    "planes_4 = []\n",
    "\n",
    "for t in d4n8\n",
    "    \n",
    "   # println(t)\n",
    "\n",
    "    Qt = Matroid(t)\n",
    "\n",
    "    L = [h for h in hyperplanes(Qt) if length(h)>3]\n",
    "\n",
    "    ns = [n for n in 1:8 if in_planes(n,L)>3]\n",
    "\n",
    "    if (length(ns) == 8&&is_connected(Qt))\n",
    "                push!(planes_4,to_revlex(Qt,d4C8))\n",
    "    end\n",
    "end"
   ]
  },
  {
   "cell_type": "markdown",
   "metadata": {},
   "source": [
    "This data is precomputed in `d4n8/data/four_planes_connected_4_8.dat`."
   ]
  },
  {
   "cell_type": "code",
   "execution_count": 29,
   "metadata": {},
   "outputs": [],
   "source": [
    "planes_4_precomputed = vec(readlines(joinpath(currentDir, \"d4n8/data/4planes_connected_4_8.dat\")));"
   ]
  },
  {
   "cell_type": "code",
   "execution_count": 30,
   "metadata": {},
   "outputs": [
    {
     "data": {
      "text/plain": [
       "92"
      ]
     },
     "execution_count": 30,
     "metadata": {},
     "output_type": "execute_result"
    }
   ],
   "source": [
    "length(planes_4_precomputed)"
   ]
  },
  {
   "cell_type": "code",
   "execution_count": 31,
   "metadata": {},
   "outputs": [
    {
     "data": {
      "text/plain": [
       "true"
      ]
     },
     "execution_count": 31,
     "metadata": {},
     "output_type": "execute_result"
    }
   ],
   "source": [
    "Set(planes_4) == Set(planes_4_precomputed)"
   ]
  },
  {
   "cell_type": "markdown",
   "metadata": {},
   "source": [
    "A pair of matroid and circuit is recorded as a `*/0` vector. The first 8 entries record the circuit (e.g., `***0*00*` is the circuit `[1,2,3,5,8]`) and the rest record the matroid in the usual revlex basis encoding. There is a unique matroid in `d4n8/data/four_planes_connected_4_8.dat` that does not admit a $5$ element circuit, which we study at the end of this notebook."
   ]
  },
  {
   "cell_type": "markdown",
   "metadata": {},
   "source": [
    "The file `d4n8/data/nonrealizable_4_8.dat` contains those matroids in `d4n8/four_planes_connected_4_8.dat` that are not realizable over $\\mathbb{Q}$. There are **25** such matroids."
   ]
  },
  {
   "cell_type": "code",
   "execution_count": 21,
   "metadata": {},
   "outputs": [
    {
     "data": {
      "text/plain": [
       "25"
      ]
     },
     "execution_count": 21,
     "metadata": {},
     "output_type": "execute_result"
    }
   ],
   "source": [
    "nonrealizable = vec(readlines(joinpath(currentDir, \"d4n8/nonrealizable_4_8.dat\")))\n",
    "length(nonrealizable)"
   ]
  },
  {
   "cell_type": "code",
   "execution_count": 35,
   "metadata": {},
   "outputs": [],
   "source": [
    "nonrealizable = vec(readlines(joinpath(currentDir, \"d4n8/data/nonrealizable_4_8.dat\")))\n",
    "\n",
    "test_nonrealizable = []\n",
    "\n",
    "for Qstr in nonrealizable\n",
    "    Q = matroid_from_revlex_basis_encoding(Qstr[9:78], 4, 8)\n",
    "    As = rank_plus1_circuits(Q) \n",
    "    MR = new_matroid_realization_space(Q, As[1]; F=QQ, saturate=true)\n",
    "    push!(test_nonrealizable, !MR.representable)\n",
    "end"
   ]
  },
  {
   "cell_type": "code",
   "execution_count": 34,
   "metadata": {},
   "outputs": [
    {
     "data": {
      "text/plain": [
       "true"
      ]
     },
     "execution_count": 34,
     "metadata": {},
     "output_type": "execute_result"
    }
   ],
   "source": [
    "all(test_nonrealizable)"
   ]
  },
  {
   "cell_type": "markdown",
   "metadata": {},
   "source": [
    "The files `zero_ideal_4_8.dat` and `univariate_ideal_4_8.dat`, in `d4n8/data/` record realizable matroids and a maximal circuit.\n",
    "\n",
    "**Note:** One could check that these are smooth using the `singular_locus` function in `src/Jacobian_Criterion.jl`. To make this computation more transparent, we carry out the smoothness check explicitly."
   ]
  },
  {
   "cell_type": "markdown",
   "metadata": {},
   "source": [
    "The precomputed data `d4n8/zero_ideal_4_8.dat` contains the matroids in `d4n8/4planes_connected_4_8.dat` such that the vanishing ideal of their realization space reduces to the trivial ideal. There are **63** such matroids. These realization spaces of these matroids are of course smooth."
   ]
  },
  {
   "cell_type": "code",
   "execution_count": 36,
   "metadata": {},
   "outputs": [
    {
     "data": {
      "text/plain": [
       "63"
      ]
     },
     "execution_count": 36,
     "metadata": {},
     "output_type": "execute_result"
    }
   ],
   "source": [
    "zero_ideal = vec(readlines(joinpath(currentDir, \"d4n8/data/zero_ideal_4_8.dat\")))\n",
    "length(zero_ideal)"
   ]
  },
  {
   "cell_type": "code",
   "execution_count": 39,
   "metadata": {},
   "outputs": [],
   "source": [
    "test_zero = []\n",
    "for cir_Qstr in zero_ideal   \n",
    "    Qstr = cir_Qstr[9:78]\n",
    "    A = [i for i in 1:8 if string(cir_Qstr[i]) == \"*\"] \n",
    "    Q = matroid_from_revlex_basis_encoding(Qstr, 4, 8) \n",
    "    MR = new_matroid_realization_space(Q, A; F=QQ, saturate=true)\n",
    "        \n",
    "    MR = reduce_ideal_full(MR)\n",
    "    I = MR.defining_ideal\n",
    "    push!(test_zero, iszero(I))\n",
    "end"
   ]
  },
  {
   "cell_type": "code",
   "execution_count": 40,
   "metadata": {},
   "outputs": [
    {
     "data": {
      "text/plain": [
       "true"
      ]
     },
     "execution_count": 40,
     "metadata": {},
     "output_type": "execute_result"
    }
   ],
   "source": [
    "all(test_zero)"
   ]
  },
  {
   "cell_type": "markdown",
   "metadata": {},
   "source": [
    "The precomputed data `d4n8/data/univariate_ideal_4_8.dat` contains the matroids in `d4n8/data/4planes_connected_4_8.dat` for which there exists some reference circuit such that the vanishing ideal is univariate and therefore principal. There are **3** such matroids."
   ]
  },
  {
   "cell_type": "code",
   "execution_count": 41,
   "metadata": {},
   "outputs": [
    {
     "data": {
      "text/plain": [
       "3-element Vector{String}:\n",
       " \"***00**00********0****0*****0**0*****************0****0***********0*******0***\"\n",
       " \"***00**00********0****0*****0**0*****************0****0********0************0*\"\n",
       " \"**0*00**000000*********0************0***0**0*************0***0******00********\""
      ]
     },
     "execution_count": 41,
     "metadata": {},
     "output_type": "execute_result"
    }
   ],
   "source": [
    "principal_univariate = vec(readlines(joinpath(currentDir,\"d4n8/data/univariate_ideal_4_8.dat\")))"
   ]
  },
  {
   "cell_type": "code",
   "execution_count": 42,
   "metadata": {},
   "outputs": [],
   "source": [
    "#verify univariate\n",
    "test_univariate = []\n",
    "\n",
    "for cir_Qstr in principal_univariate\n",
    "    A = [i for i in 1:8 if string(cir_Qstr[i]) == \"*\"] \n",
    "    Qstr = cir_Qstr[9:78]\n",
    "    Q = matroid_from_revlex_basis_encoding(Qstr, 4, 8) \n",
    "    MR = new_matroid_realization_space(Q, A; F=QQ, saturate=true)\n",
    "    \n",
    "    MR = reduce_ideal_full(MR)\n",
    "    I = MR.defining_ideal\n",
    "    length_vs = length(ideal_vars(gens(I)))\n",
    "    push!(test_univariate, isone(length_vs))\n",
    "end\n"
   ]
  },
  {
   "cell_type": "code",
   "execution_count": 43,
   "metadata": {},
   "outputs": [
    {
     "data": {
      "text/plain": [
       "true"
      ]
     },
     "execution_count": 43,
     "metadata": {},
     "output_type": "execute_result"
    }
   ],
   "source": [
    "all(test_univariate)"
   ]
  },
  {
   "cell_type": "markdown",
   "metadata": {},
   "source": [
    "We now check if the realization spaces of those matroids contained in `d4n8/univariate_ideal_4_8.dat` are smooth.  By the Jacobian criterion, the affine scheme $\\mathsf{Spec}(S^{-1}\\mathbb{Q}[x_1,\\ldots,x_n] / \\langle f \\rangle)$ is smooth if and only if the ideal\n",
    "\n",
    "$$\n",
    "J = \\langle f, \\frac{\\partial f}{\\partial x_1}, \\ldots, \\frac{\\partial f}{\\partial x_n}\\rangle\n",
    "$$\n",
    "\n",
    "is the unit ideal in $S^{-1} \\mathbb{Q}[x_1,\\ldots,x_n]$. This is equivalent to the saturation $(J:S^{\\infty})$ being the unit ideal in $\\mathbb{Q}[x_1,\\ldots,x_n]$. We perform this explicit check here. "
   ]
  },
  {
   "cell_type": "code",
   "execution_count": 44,
   "metadata": {},
   "outputs": [],
   "source": [
    "\n",
    "test_smooth_principal = []\n",
    "for cir_Qstr in principal_univariate\n",
    "    \n",
    "    A = [i for i in 1:8 if string(cir_Qstr[i]) == \"*\"] \n",
    "    Qstr = cir_Qstr[9:78]\n",
    "    Q = matroid_from_revlex_basis_encoding(Qstr, 4, 8) \n",
    "    MR = new_matroid_realization_space(Q, A; F=QQ, saturate=true)\n",
    "        \n",
    "    MR = reduce_ideal_full(MR)\n",
    "    R = MR.ambient_ring\n",
    "    x = gens(R)\n",
    "    I = MR.defining_ideal\n",
    "    Igens = gens(I)\n",
    "    length(Igens) != 1 && error(\"not principal\") \n",
    "    JM = jacobian_matrix(R, x, Igens)\n",
    "    nr, nc = size(JM) \n",
    "    J = I + ideal(R, [JM[1,c] for c in 1:nc])\n",
    "    Sing = stepwise_saturation(J, MR.inequations)\n",
    "    #Sing = realization_space_2_singular_locus(MR)\n",
    "    push!(test_smooth_principal, isone(Sing))\n",
    "end"
   ]
  },
  {
   "cell_type": "code",
   "execution_count": 45,
   "metadata": {},
   "outputs": [
    {
     "data": {
      "text/plain": [
       "true"
      ]
     },
     "execution_count": 45,
     "metadata": {},
     "output_type": "execute_result"
    }
   ],
   "source": [
    "all(test_smooth_principal)"
   ]
  },
  {
   "cell_type": "markdown",
   "metadata": {},
   "source": [
    "We conclude by examining the unique simple, connected, $(4,8)$-matroid satisfying the four planes property that does not have a reference circuit."
   ]
  },
  {
   "cell_type": "code",
   "execution_count": 55,
   "metadata": {},
   "outputs": [
    {
     "data": {
      "text/plain": [
       "1-element Vector{Any}:\n",
       " \"0********0****0*****0**0***00************00***0**0*****0****0********0\""
      ]
     },
     "execution_count": 55,
     "metadata": {},
     "output_type": "execute_result"
    }
   ],
   "source": [
    "no_circ = []\n",
    "for i in planes_4\n",
    "    Qi = matroid_from_revlex_basis_encoding(i,4,8)\n",
    "    Cs = rank_plus1_circuits(Qi)\n",
    "    if length(Cs) == 0\n",
    "        push!(no_circ,i)\n",
    "    end\n",
    "end\n",
    "no_circ"
   ]
  },
  {
   "cell_type": "markdown",
   "metadata": {},
   "source": [
    "This data is precomputed in `d4n8/data/no_ref_circ_4_8.dat`"
   ]
  },
  {
   "cell_type": "code",
   "execution_count": 56,
   "metadata": {},
   "outputs": [
    {
     "data": {
      "text/plain": [
       "1-element Vector{String}:\n",
       " \"0********0****0*****0**0***00************00***0**0*****0****0********0\""
      ]
     },
     "execution_count": 56,
     "metadata": {},
     "output_type": "execute_result"
    }
   ],
   "source": [
    "no_circs_precomputed = vec(readlines(joinpath(currentDir,\"d4n8/data/no_ref_circ_4_8.dat\")))"
   ]
  },
  {
   "cell_type": "code",
   "execution_count": 57,
   "metadata": {},
   "outputs": [
    {
     "data": {
      "text/plain": [
       "true"
      ]
     },
     "execution_count": 57,
     "metadata": {},
     "output_type": "execute_result"
    }
   ],
   "source": [
    "no_circs_precomputed == no_circ"
   ]
  },
  {
   "cell_type": "markdown",
   "metadata": {},
   "source": [
    "We study this matroid via its thin Schubert cell."
   ]
  },
  {
   "cell_type": "code",
   "execution_count": 58,
   "metadata": {},
   "outputs": [
    {
     "data": {
      "text/plain": [
       "(QQMPolyRingElem[1], QQMPolyRingElem[x_{3, 1}, x_{2, 4}, x_{1, 3}, x_{4, 4}, x_{4, 2}, x_{4, 3}, x_{3, 4}], [1, 2, 3, 5])"
      ]
     },
     "execution_count": 58,
     "metadata": {},
     "output_type": "execute_result"
    }
   ],
   "source": [
    "M = matroid_from_revlex_basis_encoding(no_circs[1],4,8)\n",
    "T = matroid_to_reduced_TSC_min_basis(M,QQ)"
   ]
  },
  {
   "cell_type": "markdown",
   "metadata": {},
   "source": [
    "As the defining ideal is the unit ideal, this matroid is not realizable over $\\mathbb{Q}$."
   ]
  },
  {
   "cell_type": "markdown",
   "metadata": {},
   "source": [
    "Finally, we show that our sorting of the matroids in `d4n8/4_8_four_planes_connected.dat` was exhaustive."
   ]
  },
  {
   "cell_type": "code",
   "execution_count": 59,
   "metadata": {},
   "outputs": [
    {
     "data": {
      "text/plain": [
       "true"
      ]
     },
     "execution_count": 59,
     "metadata": {},
     "output_type": "execute_result"
    }
   ],
   "source": [
    "all_matroids_with_circ = Set(union(principal_univariate,zero_ideal,nonrealizable))\n",
    "all_no_circs = union([cir_Qstr[9:78] for cir_Qstr in all_matroids_with_circ],no_circs)\n",
    "\n",
    "\n",
    "Set(all_no_circs) == Set(planes_4_precomputed)"
   ]
  },
  {
   "cell_type": "code",
   "execution_count": null,
   "metadata": {},
   "outputs": [],
   "source": []
  }
 ],
 "metadata": {
  "kernelspec": {
   "display_name": "Julia 1.7.1",
   "language": "julia",
   "name": "julia-1.7"
  },
  "language_info": {
   "file_extension": ".jl",
   "mimetype": "application/julia",
   "name": "julia",
   "version": "1.7.1"
  }
 },
 "nbformat": 4,
 "nbformat_minor": 4
}
