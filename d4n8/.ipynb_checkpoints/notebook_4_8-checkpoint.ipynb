{
 "cells": [
  {
   "cell_type": "code",
   "execution_count": 4,
   "metadata": {},
   "outputs": [
    {
     "data": {
      "text/plain": [
       "95-element Vector{Int64}:\n",
       "  73\n",
       "  76\n",
       "  96\n",
       " 100\n",
       " 102\n",
       " 129\n",
       " 133\n",
       " 135\n",
       " 179\n",
       " 181\n",
       " 183\n",
       " 184\n",
       " 202\n",
       "   ⋮\n",
       " 551\n",
       " 564\n",
       " 566\n",
       " 569\n",
       " 571\n",
       " 572\n",
       " 573\n",
       " 574\n",
       " 575\n",
       " 576\n",
       " 594\n",
       " 608"
      ]
     },
     "execution_count": 4,
     "metadata": {},
     "output_type": "execute_result"
    }
   ],
   "source": [
    "using Oscar\n",
    "using Combinatorics\n",
    "pm = Polymake\n",
    "\n",
    "currentDir = pwd()\n",
    "\n",
    "d4n8 = vec(readlines(\"../data/d4n8.dat\"));\n",
    "\n",
    "include(\"../src/matroid_realization.jl\");\n",
    "include(\"../src/reduceIdealsv2.jl\")\n",
    "include(\"../src/JacobianCriterion.jl\")\n",
    "include(\"../src/TSC_CoordRingV2.jl\")\n",
    "\n",
    "sp_48 = load(\"4planes_4_8.dat\")"
   ]
  },
  {
   "cell_type": "code",
   "execution_count": null,
   "metadata": {},
   "outputs": [],
   "source": []
  }
 ],
 "metadata": {
  "kernelspec": {
   "display_name": "Julia 1.7.1",
   "language": "julia",
   "name": "julia-1.7"
  },
  "language_info": {
   "file_extension": ".jl",
   "mimetype": "application/julia",
   "name": "julia",
   "version": "1.7.1"
  }
 },
 "nbformat": 4,
 "nbformat_minor": 4
}
