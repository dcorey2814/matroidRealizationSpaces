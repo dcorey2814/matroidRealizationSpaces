{
 "cells": [
  {
   "cell_type": "markdown",
   "metadata": {},
   "source": [
    "In this notebook, we demonstrate the techniques and procedures used to study matroids of rank 4 on 8 elements. These techniques scale in a straightforward way to our analysis of (4,9)-matroids."
   ]
  },
  {
   "cell_type": "code",
   "execution_count": 3,
   "metadata": {},
   "outputs": [
    {
     "name": "stdout",
     "output_type": "stream",
     "text": [
      "\r",
      " -----    -----    -----      -      -----   \n",
      "|     |  |     |  |     |    | |    |     |  \n",
      "|     |  |        |         |   |   |     |  \n",
      "|     |   -----   |        |     |  |-----   \n",
      "|     |        |  |        |-----|  |   |    \n",
      "|     |  |     |  |     |  |     |  |    |   \n",
      " -----    -----    -----   -     -  -     -  \n",
      "\n",
      "...combining (and extending) ANTIC, GAP, Polymake and Singular\n",
      "Version\u001b[32m 0.12.2-DEV \u001b[39m... \n",
      " ... which comes with absolutely no warranty whatsoever\n",
      "Type: '?Oscar' for more information\n",
      "(c) 2019-2023 by The OSCAR Development Team\n"
     ]
    }
   ],
   "source": [
    "using Oscar\n",
    "using Combinatorics\n",
    "pm = Polymake\n",
    "\n",
    "\n",
    "\n",
    "#pull simple 4-8 matroids from polymake databases\n",
    "db = Polymake.Polydb.get_db();\n",
    "collection = db[\"Matroids.Small\"];\n",
    "d4n8 = Polymake.Polydb.find(collection, Dict(\"RANK\" => 4, \"SIMPLE\"=>true, \"N_ELEMENTS\"=>8));"
   ]
  },
  {
   "cell_type": "code",
   "execution_count": 157,
   "metadata": {},
   "outputs": [],
   "source": [
    "connected = []\n",
    "for i in d4n8\n",
    "    Mi = Matroid(i)\n",
    "    if is_connected(Mi)\n",
    "        push!(connected,i)\n",
    "    end\n",
    "end"
   ]
  },
  {
   "cell_type": "code",
   "execution_count": 125,
   "metadata": {},
   "outputs": [
    {
     "data": {
      "text/plain": [
       "592"
      ]
     },
     "execution_count": 125,
     "metadata": {},
     "output_type": "execute_result"
    }
   ],
   "source": [
    "length(connected)"
   ]
  },
  {
   "cell_type": "code",
   "execution_count": 4,
   "metadata": {},
   "outputs": [],
   "source": [
    "cd(\"..\")"
   ]
  },
  {
   "cell_type": "code",
   "execution_count": 16,
   "metadata": {},
   "outputs": [
    {
     "data": {
      "text/plain": [
       "matroid_to_reduced_TSC_min_basis (generic function with 1 method)"
      ]
     },
     "execution_count": 16,
     "metadata": {},
     "output_type": "execute_result"
    }
   ],
   "source": [
    "currentDir = pwd() # make sure you are running from the main directory.\n",
    "include(joinpath(currentDir, \"src/fileHandling.jl\"))\n",
    "include(joinpath(currentDir, \"src/isolate3Lines.jl\"))\n",
    "include(joinpath(currentDir, \"src/matroid_realization.jl\"))\n",
    "include(joinpath(currentDir, \"src/Jacobian_Criterion.jl\"))\n",
    "include(joinpath(currentDir, \"src/reduceTSC.jl\"))"
   ]
  },
  {
   "cell_type": "markdown",
   "metadata": {},
   "source": [
    "We begin by removing matroids whose realization spaces are known to be smooth. We apply the following lemma:\n",
    "\n",
    "**Lemma:** Let $M$ be a $(4,8)$-matroid such that there exists an element $i\\in [8]$ contained in exactly $0\\leq k\\leq 3$ rank $3$ flats of cardinality at least $4$. Then there exists a smooth morphism $Gr_{M}\\to Gr_{M|[8]\\setminus i}$.\n",
    "\n",
    "**Remark:** Matroid duality induces an isomorphism $Gr_{M}\\cong Gr_{M^*}$. In other words, $Gr_{M|[8]\\setminus i}\\cong Gr_{(M|[8]\\setminus i)^*}$. By prior work, we know that all $(3,7)$ matroids have smooth thin Schubert cells, and therefore smooth realization spaces. Hence, we can restrict our search for singular realization spaces to those $(4,8)$ matroids that do not satisfy the hypotheses of the above lemma.\n",
    "\n",
    "We begin by isolating $(4,8)$-matroids such that every element of $[8]$ is contained in at least $4$ rank $3$ flats of cardinality at least $4$. We save the data as a sting of \"$0$\"'s and \"$*$\"'s, where the entries correspond to elements of ${[8]\\choose 4}$ in reverse lex order."
   ]
  },
  {
   "cell_type": "code",
   "execution_count": 10,
   "metadata": {},
   "outputs": [],
   "source": [
    "function in_planes(n,L)\n",
    "\n",
    "    Ln = [l for l in L if n in l]\n",
    "\n",
    "    return(length(Ln))\n",
    "\n",
    "end\n",
    "\n",
    "\n",
    "d4C8 = subsets(collect(1:8), 4);\n",
    "d4C8 = sort(d4C8, by =  x-> reverse(x));\n",
    "\n",
    "planes_4 = []\n",
    "\n",
    "for t in d4n8\n",
    "    \n",
    "   # println(t)\n",
    "\n",
    "    Qt = Matroid(t)\n",
    "\n",
    "    L = [h for h in hyperplanes(Qt) if length(h)>3]\n",
    "\n",
    "    ns = [n for n in 1:8 if in_planes(n,L)>3]\n",
    "\n",
    "    if length(ns) == 8\n",
    "                push!(planes_4,to_revlex(Qt,d4C8))\n",
    "    end\n",
    "end"
   ]
  },
  {
   "cell_type": "markdown",
   "metadata": {},
   "source": [
    "We have thus significantly cut down the number of matroids we need to consider. This data is precomputed in `d4n8/4_planes_d4n8.dat`."
   ]
  },
  {
   "cell_type": "code",
   "execution_count": 128,
   "metadata": {},
   "outputs": [],
   "source": [
    "planes_4_precomputed = vec(readlines(joinpath(currentDir, \"d4n8/4_planes_d4n8.dat\")));"
   ]
  },
  {
   "cell_type": "code",
   "execution_count": 158,
   "metadata": {},
   "outputs": [
    {
     "data": {
      "text/plain": [
       "95"
      ]
     },
     "execution_count": 158,
     "metadata": {},
     "output_type": "execute_result"
    }
   ],
   "source": [
    "length(planes_4_precomputed)"
   ]
  },
  {
   "cell_type": "code",
   "execution_count": 17,
   "metadata": {},
   "outputs": [
    {
     "data": {
      "text/plain": [
       "false"
      ]
     },
     "execution_count": 17,
     "metadata": {},
     "output_type": "execute_result"
    }
   ],
   "source": [
    "Set(planes_4) == Set(planes_4_precomputed)"
   ]
  },
  {
   "cell_type": "code",
   "execution_count": 159,
   "metadata": {},
   "outputs": [],
   "source": [
    "connected_4 = []\n",
    "for i in planes_4_precomputed\n",
    "    Mi = matroid_from_revlex_basis_encoding(i,4,8)\n",
    "    if is_connected(Mi)\n",
    "        push!(connected_4,i)\n",
    "    end\n",
    "end\n",
    "    "
   ]
  },
  {
   "cell_type": "code",
   "execution_count": 160,
   "metadata": {},
   "outputs": [
    {
     "data": {
      "text/plain": [
       "92-element Vector{Any}:\n",
       " \"0********0**********0********0***********0********0*************00****\"\n",
       " \"0********0**********0********0***********0******0***************0**0**\"\n",
       " \"0********0**********0*******0************0********0*************0*0***\"\n",
       " \"0********0**********0*******0************0*******0**************0**0**\"\n",
       " \"0********0**********0*******0************0*******0**********0********0\"\n",
       " \"0********0****0*****0****************************0*******0******00****\"\n",
       " \"0********0****0*****0****************************0*****0********0**0**\"\n",
       " \"0********0****0*****0****************************0*****0****0********0\"\n",
       " \"0********0****0*****0********0***********0******0***************0**0**\"\n",
       " \"0********0****0*****0********0***********0******0***********0********0\"\n",
       " \"0********0****0*****0********0***********0******0******0********0*****\"\n",
       " \"0********0****0*****0********0***********0******0******0********0**0**\"\n",
       " \"0********0****0*****0**0**********************0**********00**********0\"\n",
       " ⋮\n",
       " \"000000000******0000************0***0000*************0**********0****0*\"\n",
       " \"0000000000000000******************00******************0***0***0****0**\"\n",
       " \"0000000000000000******0************0******0**********************00000\"\n",
       " \"0000000000000000******0******0*****0******0******0**********0********0\"\n",
       " \"0000000000000000******0******0*****0******0******0**********0*0**0****\"\n",
       " \"0000000000000000******0******0*****0******0******0*****000**0**0***0**\"\n",
       " \"0000000000000000******0******0***0*0******0******0***0****************\"\n",
       " \"0000000000000000******0******0***0*0******0******0***0******0*********\"\n",
       " \"0000000000000000******0******0***0*0******0******0***0******0*0*******\"\n",
       " \"0000000000000000******0******0***0*0******0******0***0******0*0**0****\"\n",
       " \"0000000000000000******0******0***0*0******0******0***0*000************\"\n",
       " \"0000000000000000******0******0***0*0******0******0***0*0000**0**00****\""
      ]
     },
     "execution_count": 160,
     "metadata": {},
     "output_type": "execute_result"
    }
   ],
   "source": [
    "connected_4"
   ]
  },
  {
   "cell_type": "markdown",
   "metadata": {},
   "source": [
    "We now begin our analysis of realization spaces of $(4,8)$ matroids. Note that this computation relies on the existence of a circuit of cardinality $d+1$, called a *reference circuit*. Therefore, the first step of the following computation checks for the existence of such a circuit. Matroids without such a reference circuit will be studied via their thin Schubert cells. "
   ]
  },
  {
   "cell_type": "code",
   "execution_count": 161,
   "metadata": {},
   "outputs": [],
   "source": [
    "no_circ = []\n",
    "for i in connected_4\n",
    "    Qi = matroid_from_revlex_basis_encoding(i,4,8)\n",
    "    Cs = rank_plus1_circuits(Qi)\n",
    "    if length(Cs) == 0\n",
    "        push!(no_circ,i)\n",
    "    end\n",
    "end"
   ]
  },
  {
   "cell_type": "code",
   "execution_count": 162,
   "metadata": {},
   "outputs": [
    {
     "data": {
      "text/plain": [
       "1-element Vector{Any}:\n",
       " \"0********0****0*****0**0***00************00***0**0*****0****0********0\""
      ]
     },
     "execution_count": 162,
     "metadata": {},
     "output_type": "execute_result"
    }
   ],
   "source": [
    "no_circ"
   ]
  },
  {
   "cell_type": "code",
   "execution_count": 2,
   "metadata": {},
   "outputs": [
    {
     "data": {
      "text/plain": [
       "Matroid of rank 4 on 8 elements"
      ]
     },
     "execution_count": 2,
     "metadata": {},
     "output_type": "execute_result"
    }
   ],
   "source": [
    "M = matroid_from_revlex_basis_encoding( \"0********0****0*****0**0***00************00***0**0*****0****0********0\",4,8)"
   ]
  },
  {
   "cell_type": "code",
   "execution_count": 6,
   "metadata": {},
   "outputs": [
    {
     "data": {
      "text/plain": [
       "(4,5)"
      ]
     },
     "execution_count": 6,
     "metadata": {},
     "output_type": "execute_result"
    }
   ],
   "source": [
    "x = G([1,2,3,5,4,6,7,8])"
   ]
  },
  {
   "cell_type": "code",
   "execution_count": 8,
   "metadata": {},
   "outputs": [
    {
     "data": {
      "text/plain": [
       "Matroid of rank 4 on 8 elements"
      ]
     },
     "execution_count": 8,
     "metadata": {},
     "output_type": "execute_result"
    }
   ],
   "source": [
    "newbs = [on_tuples(b,x) for b in bases(M)]\n",
    "newM = matroid_from_bases(newbs,8)"
   ]
  },
  {
   "cell_type": "code",
   "execution_count": 9,
   "metadata": {},
   "outputs": [
    {
     "data": {
      "text/plain": [
       "14-element Vector{Vector{Int64}}:\n",
       " [1, 2, 3, 5]\n",
       " [1, 2, 4, 6]\n",
       " [1, 2, 7, 8]\n",
       " [1, 3, 4, 7]\n",
       " [1, 3, 6, 8]\n",
       " [1, 4, 5, 8]\n",
       " [1, 5, 6, 7]\n",
       " [2, 3, 4, 8]\n",
       " [2, 3, 6, 7]\n",
       " [2, 4, 5, 7]\n",
       " [2, 5, 6, 8]\n",
       " [3, 4, 5, 6]\n",
       " [3, 5, 7, 8]\n",
       " [4, 6, 7, 8]"
      ]
     },
     "execution_count": 9,
     "metadata": {},
     "output_type": "execute_result"
    }
   ],
   "source": [
    "nonbases(newM)"
   ]
  },
  {
   "cell_type": "code",
   "execution_count": 18,
   "metadata": {},
   "outputs": [
    {
     "data": {
      "text/plain": [
       "[0   1   0   0   1   1   0   1]\n",
       "[0   0   1   0   1   0   1   1]\n",
       "[0   0   0   1   0   1   1   1]\n",
       "[1   1   1   1   1   1   1   1]"
      ]
     },
     "execution_count": 18,
     "metadata": {},
     "output_type": "execute_result"
    }
   ],
   "source": [
    "A = matrix(GF(2),[[0, 1, 0, 0, 1, 1, 0, 1],[0, 0, 1 ,0, 1, 0, 1, 1],\n",
    "        [0, 0, 0, 1, 0, 1, 1, 1],[1, 1, 1, 1 ,1 ,1,1,1]])\n"
   ]
  },
  {
   "cell_type": "code",
   "execution_count": 21,
   "metadata": {},
   "outputs": [
    {
     "data": {
      "text/plain": [
       "56-element Vector{Vector{Int64}}:\n",
       " [1, 6, 7, 8]\n",
       " [2, 6, 7, 8]\n",
       " [3, 6, 7, 8]\n",
       " [5, 6, 7, 8]\n",
       " [1, 5, 7, 8]\n",
       " [2, 5, 7, 8]\n",
       " [4, 5, 7, 8]\n",
       " [1, 4, 7, 8]\n",
       " [2, 4, 7, 8]\n",
       " [3, 4, 7, 8]\n",
       " [1, 3, 7, 8]\n",
       " [2, 3, 7, 8]\n",
       " [1, 5, 6, 8]\n",
       " ⋮\n",
       " [1, 4, 5, 6]\n",
       " [2, 4, 5, 6]\n",
       " [1, 3, 5, 6]\n",
       " [2, 3, 5, 6]\n",
       " [1, 2, 5, 6]\n",
       " [1, 3, 4, 6]\n",
       " [2, 3, 4, 6]\n",
       " [1, 2, 3, 6]\n",
       " [1, 3, 4, 5]\n",
       " [2, 3, 4, 5]\n",
       " [1, 2, 4, 5]\n",
       " [1, 2, 3, 4]"
      ]
     },
     "execution_count": 21,
     "metadata": {},
     "output_type": "execute_result"
    }
   ],
   "source": [
    "bases(Ma)"
   ]
  },
  {
   "cell_type": "code",
   "execution_count": 19,
   "metadata": {},
   "outputs": [
    {
     "data": {
      "text/plain": [
       "Matroid of rank 4 on 8 elements"
      ]
     },
     "execution_count": 19,
     "metadata": {},
     "output_type": "execute_result"
    }
   ],
   "source": [
    "Ma = matroid_from_matrix_columns(A)"
   ]
  },
  {
   "cell_type": "code",
   "execution_count": 20,
   "metadata": {},
   "outputs": [
    {
     "data": {
      "text/plain": [
       "true"
      ]
     },
     "execution_count": 20,
     "metadata": {},
     "output_type": "execute_result"
    }
   ],
   "source": [
    "is_isomorphic(Ma,M)"
   ]
  },
  {
   "cell_type": "markdown",
   "metadata": {},
   "source": [
    "This data is precomputed in `d4n8/no_ref_circ_d4n8.dat`."
   ]
  },
  {
   "cell_type": "code",
   "execution_count": 27,
   "metadata": {},
   "outputs": [
    {
     "data": {
      "text/plain": [
       "true"
      ]
     },
     "execution_count": 27,
     "metadata": {},
     "output_type": "execute_result"
    }
   ],
   "source": [
    "Set(no_circ) == Set(vec(readlines(joinpath(currentDir, \"d4n8/no_ref_circ_d4n8.dat\"))))"
   ]
  },
  {
   "cell_type": "markdown",
   "metadata": {},
   "source": [
    "The data for the coordinate rings of matroid realization spaces consists of a polynomial ring, a multiplicative semigroup, and the vanishing ideal.\n",
    "\n",
    "We sort the matroids into the following categories: \n",
    "\n",
    "1) Not realizable.\n",
    "\n",
    "2) Vanishing ideal reduces to 0.\n",
    "\n",
    "3) Vanishing ideal is univariate and principle.\n",
    "\n",
    "4) Vanishing ideal is multivariate and principle.\n",
    "\n",
    "**Note:** Different reference circuits lead to difference presenation of the coordinate ring of the realization space. Of course all presentations yield isomorphic realization spaces. However, we keep track of the reference circuit used for computing the coordinate ring using the following functions."
   ]
  },
  {
   "cell_type": "code",
   "execution_count": 11,
   "metadata": {},
   "outputs": [
    {
     "data": {
      "text/plain": [
       "stars_to_set (generic function with 1 method)"
      ]
     },
     "execution_count": 11,
     "metadata": {},
     "output_type": "execute_result"
    }
   ],
   "source": [
    "#convert reference circuit to string\n",
    "function set_to_stars(set,n)\n",
    "    \n",
    "    z = []\n",
    "    \n",
    "    for a in 1:n\n",
    "        if a in set\n",
    "            push!(z,\"*\")\n",
    "        else\n",
    "            push!(z,\"0\")\n",
    "        end\n",
    "    end\n",
    "    return join(z)\n",
    "end\n",
    "#convert string to reference circuit\n",
    "function stars_to_set(string,n)\n",
    "\n",
    "    return Vector{Int64}([a for a in 1:n if string[a] == '*'])\n",
    "    \n",
    "end"
   ]
  },
  {
   "cell_type": "code",
   "execution_count": 29,
   "metadata": {},
   "outputs": [
    {
     "data": {
      "text/plain": [
       "\"00*0***0\""
      ]
     },
     "execution_count": 29,
     "metadata": {},
     "output_type": "execute_result"
    }
   ],
   "source": [
    "s = set_to_stars([3,5,6,7],8)"
   ]
  },
  {
   "cell_type": "code",
   "execution_count": 37,
   "metadata": {},
   "outputs": [
    {
     "data": {
      "text/plain": [
       "4-element Vector{Int64}:\n",
       " 3\n",
       " 5\n",
       " 6\n",
       " 7"
      ]
     },
     "execution_count": 37,
     "metadata": {},
     "output_type": "execute_result"
    }
   ],
   "source": [
    "stars_to_string(s,8)"
   ]
  },
  {
   "cell_type": "markdown",
   "metadata": {},
   "source": [
    "Then we save the data as a string of $*$'s and $0$'s, such that the first $8$ entries of the string tell us the reference circuit. That is, we have a \"$*$\" in the $i$th position if $i$ is an element of the referenc circuit, \"$0$\" otherwise. The remaining $70$ entries of the string correspond to the the elements of ${[8]\\choose 4}$ listed in reverse lex order.\n"
   ]
  },
  {
   "cell_type": "markdown",
   "metadata": {},
   "source": [
    "The precomputed data `d4n8/not_realizable_d4n8.dat` contains the $(4,8)$ matroids that are not $\\mathbb{Q}$ realizable. "
   ]
  },
  {
   "cell_type": "markdown",
   "metadata": {},
   "source": [
    "Note that the first $8$ entries correspond to the reference circuit used in our intitial computation. Hence we perform our verifcation using entries 9 through 78"
   ]
  },
  {
   "cell_type": "code",
   "execution_count": 168,
   "metadata": {},
   "outputs": [],
   "source": [
    "not_realizable = vec(readlines(joinpath(currentDir, \"d4n8/not_realizable_d4n8.dat\")))\n",
    "\n",
    "test_nonrealizable = []\n",
    "\n",
    "for Qstr in not_realizable\n",
    "    Q = matroid_from_revlex_basis_encoding(Qstr[9:78], 4, 8)\n",
    "    As = rank_plus1_circuits(Q) \n",
    "    MR = new_matroid_realization_space(Q, As[1]; F=QQ, saturate=true)\n",
    "    push!(test_nonrealizable, !MR.representable)\n",
    "end"
   ]
  },
  {
   "cell_type": "code",
   "execution_count": 165,
   "metadata": {},
   "outputs": [
    {
     "data": {
      "text/plain": [
       "true"
      ]
     },
     "execution_count": 165,
     "metadata": {},
     "output_type": "execute_result"
    }
   ],
   "source": [
    "all(test_nonrealizable)"
   ]
  },
  {
   "cell_type": "markdown",
   "metadata": {},
   "source": [
    "Now we check the realizable matroids in `d4n8/4_planes_d4n8.dat` for the singularity properties of their realization spaces.\n",
    "\n",
    "**Note:** One could check that these are smooth using the `singular_locus` function in `src/Jacobian_Criterion.jl`. To make this computation more transparent, we carry out the smoothness check explicitly."
   ]
  },
  {
   "cell_type": "code",
   "execution_count": 170,
   "metadata": {},
   "outputs": [],
   "source": [
    "nr = []\n",
    "for Qstr in not_realizable\n",
    "    Q = matroid_from_revlex_basis_encoding(Qstr[9:78], 4, 8)\n",
    "    if is_connected(Q)\n",
    "        push!(nr,Qstr)\n",
    "    end\n",
    "end"
   ]
  },
  {
   "cell_type": "code",
   "execution_count": 171,
   "metadata": {},
   "outputs": [
    {
     "data": {
      "text/plain": [
       "25-element Vector{Any}:\n",
       " \"***00**00********0****0*****0********0***********0******0***********0********0\"\n",
       " \"***00**00********0****0*****0********0***********0******0******0********0*****\"\n",
       " \"***0*00*0********0****0*****0**0**********************0**********00**********0\"\n",
       " \"***0*00*0********0****0*****0**0**********************0**0*******00***********\"\n",
       " \"***0*00*0********0****0*****0**0**********************0**0*******00**********0\"\n",
       " \"***0*00*0********0****0*****0**0**********************0**0*****0*************0\"\n",
       " \"***0*00*0********0****0*****0**0**********************0**0*****0****0*********\"\n",
       " \"***00**00********0****0*****0**0*****************0****0*************0********0\"\n",
       " \"***00**00********0****0*****0**0*****************0****0***********0**********0\"\n",
       " \"***0*00*0********0****0*****0**0***0**************0***0*************0********0\"\n",
       " \"***0*00*0********0****0*****0**0***0**************0***0**0*****0**************\"\n",
       " \"***0*00*0********0****0*****0**0***0**************0***0**0*****0****0*********\"\n",
       " \"***000**0********0****0*****0**0***0*************00***0*********************0*\"\n",
       " \"***000**0********0****0*****0**0***0*************00***0*************0*********\"\n",
       " \"***000**0********0****0*****0**0***0*************00***0*************0********0\"\n",
       " \"**0*0**00********0****0*****0**0***0*************00***0********0************0*\"\n",
       " \"**0*0*0*0********0****0*****0**0***00************00***0********0**************\"\n",
       " \"***000**0********0****0*****0**0***00************00***0**0********************\"\n",
       " \"*0**00**0********0****0*****0**0***00************00***0**0*****0**************\"\n",
       " \"*000****0********0****0*****0**0***00************00***0**0*****0****0*********\"\n",
       " \"**0**00*00***0******0**0*******0******0****0********0****0********0***********\"\n",
       " \"**0**00*00***0******0**0*******0******0****0********0****0********0**********0\"\n",
       " \"**0*0*0*000000******0**0******0******0***0*0******0*******0*0************0****\"\n",
       " \"**0*00**000000******0**0******0**0000**0**00******0******0***0******0*0**0****\"\n",
       " \"**0*00**0000000000000000******0******0***0*0******0******0***0******0*0**0****\""
      ]
     },
     "execution_count": 171,
     "metadata": {},
     "output_type": "execute_result"
    }
   ],
   "source": [
    "nr"
   ]
  },
  {
   "cell_type": "markdown",
   "metadata": {},
   "source": [
    "The precomputed data `d4n8/zero_ideal_d4n8.dat` contains the matroids in `d4n8/4_planes_d4n8.dat` such that the vanishing ideal of their realization space reduces to the trival ideal. These spaces are of course smooth."
   ]
  },
  {
   "cell_type": "code",
   "execution_count": 46,
   "metadata": {},
   "outputs": [],
   "source": [
    "zero_ideal = vec(readlines(joinpath(currentDir, \"d4n8/zero_ideal_d4n8.dat\")))\n",
    "\n",
    "test_zero = []\n",
    "for cir_Qstr in zero_ideal   \n",
    "    Qstr = cir_Qstr[9:78]\n",
    "    A = stars_to_set(cir_Qstr[1:8],8)\n",
    "    Q = matroid_from_revlex_basis_encoding(Qstr, 4, 8) \n",
    "    MR = new_matroid_realization_space(Q, A; F=QQ, saturate=true)\n",
    "        \n",
    "    MR = reduce_ideal_full(MR)\n",
    "    I = MR.defining_ideal\n",
    "    push!(test_zero, iszero(I))\n",
    "end"
   ]
  },
  {
   "cell_type": "code",
   "execution_count": 175,
   "metadata": {},
   "outputs": [
    {
     "data": {
      "text/plain": [
       "62-element Vector{String}:\n",
       " \"***00**00********0**********0********0***********0********0*************00****\"\n",
       " \"***00**00********0**********0********0***********0******0***************0**0**\"\n",
       " \"***00**00********0**********0*******0************0********0*************0*0***\"\n",
       " \"***00**00********0**********0*******0************0*******0**************0**0**\"\n",
       " \"***00**00********0**********0*******0************0*******0**********0********0\"\n",
       " \"***0*00*0********0****0*****0****************************0*******0******00****\"\n",
       " \"***0*00*0********0****0*****0****************************0*****0********0**0**\"\n",
       " \"***0*00*0********0****0*****0****************************0*****0****0********0\"\n",
       " \"***00**00********0****0*****0********0***********0******0***************0**0**\"\n",
       " \"***00**00********0****0*****0********0***********0******0******0********0**0**\"\n",
       " \"***0*00*0********0****0*****0**0**********************0**0*******0***********0\"\n",
       " \"***0*00*0********0****0*****0**0**********************0**0*****0****0********0\"\n",
       " \"***0*00*0********0****0*****0**0***0**************0***0********0************0*\"\n",
       " ⋮\n",
       " \"**0*00**000000******0**0******0**0000**0**00******0******0***0******0****0****\"\n",
       " \"**00*0**000000000******0000************0***0000*************0**********0****0*\"\n",
       " \"**000***0000000000000000******************00******************0***0***0****0**\"\n",
       " \"**0*00**0000000000000000******0************0******0**********************00000\"\n",
       " \"**0*00**0000000000000000******0******0*****0******0******0**********0********0\"\n",
       " \"**0*00**0000000000000000******0******0*****0******0******0**********0*0**0****\"\n",
       " \"*00*0***0000000000000000******0******0*****0******0******0*****000**0**0***0**\"\n",
       " \"**0*00**0000000000000000******0******0***0*0******0******0***0****************\"\n",
       " \"**0*00**0000000000000000******0******0***0*0******0******0***0******0*********\"\n",
       " \"**0*00**0000000000000000******0******0***0*0******0******0***0******0*0*******\"\n",
       " \"*00*0***0000000000000000******0******0***0*0******0******0***0*000************\"\n",
       " \"0*00****0000000000000000******0******0***0*0******0******0***0*0000**0**00****\""
      ]
     },
     "execution_count": 175,
     "metadata": {},
     "output_type": "execute_result"
    }
   ],
   "source": [
    "zero_ideal"
   ]
  },
  {
   "cell_type": "code",
   "execution_count": 174,
   "metadata": {},
   "outputs": [
    {
     "data": {
      "text/plain": [
       "62-element Vector{Any}:\n",
       " \"0********0**********0********0***********0********0*************00****\"\n",
       " \"0********0**********0********0***********0******0***************0**0**\"\n",
       " \"0********0**********0*******0************0********0*************0*0***\"\n",
       " \"0********0**********0*******0************0*******0**************0**0**\"\n",
       " \"0********0**********0*******0************0*******0**********0********0\"\n",
       " \"0********0****0*****0****************************0*******0******00****\"\n",
       " \"0********0****0*****0****************************0*****0********0**0**\"\n",
       " \"0********0****0*****0****************************0*****0****0********0\"\n",
       " \"0********0****0*****0********0***********0******0***************0**0**\"\n",
       " \"0********0****0*****0********0***********0******0******0********0**0**\"\n",
       " \"0********0****0*****0**0**********************0**0*******0***********0\"\n",
       " \"0********0****0*****0**0**********************0**0*****0****0********0\"\n",
       " \"0********0****0*****0**0***0**************0***0********0************0*\"\n",
       " ⋮\n",
       " \"000000******0**0******0**0000**0**00******0******0***0******0****0****\"\n",
       " \"000000000******0000************0***0000*************0**********0****0*\"\n",
       " \"0000000000000000******************00******************0***0***0****0**\"\n",
       " \"0000000000000000******0************0******0**********************00000\"\n",
       " \"0000000000000000******0******0*****0******0******0**********0********0\"\n",
       " \"0000000000000000******0******0*****0******0******0**********0*0**0****\"\n",
       " \"0000000000000000******0******0*****0******0******0*****000**0**0***0**\"\n",
       " \"0000000000000000******0******0***0*0******0******0***0****************\"\n",
       " \"0000000000000000******0******0***0*0******0******0***0******0*********\"\n",
       " \"0000000000000000******0******0***0*0******0******0***0******0*0*******\"\n",
       " \"0000000000000000******0******0***0*0******0******0***0*000************\"\n",
       " \"0000000000000000******0******0***0*0******0******0***0*0000**0**00****\""
      ]
     },
     "execution_count": 174,
     "metadata": {},
     "output_type": "execute_result"
    }
   ],
   "source": [
    "connect_zero = []\n",
    "for cir_Qstr in zero_ideal   \n",
    "    Qstr = cir_Qstr[9:78]\n",
    "        Q = matroid_from_revlex_basis_encoding(Qstr, 4, 8) \n",
    "     if is_connected(Q)\n",
    "        push!(connect_zero,Qstr)\n",
    "    end\n",
    "end\n",
    "connect_zero"
   ]
  },
  {
   "cell_type": "code",
   "execution_count": 40,
   "metadata": {},
   "outputs": [
    {
     "data": {
      "text/plain": [
       "true"
      ]
     },
     "execution_count": 40,
     "metadata": {},
     "output_type": "execute_result"
    }
   ],
   "source": [
    "all(test_zero)"
   ]
  },
  {
   "cell_type": "code",
   "execution_count": 47,
   "metadata": {},
   "outputs": [
    {
     "data": {
      "text/plain": [
       "62"
      ]
     },
     "execution_count": 47,
     "metadata": {},
     "output_type": "execute_result"
    }
   ],
   "source": [
    "length(zero_ideal)"
   ]
  },
  {
   "cell_type": "markdown",
   "metadata": {},
   "source": [
    "The precomputed data `d4n8/princ_univariate_d4n8.dat` contains the matroids in `d4n8/4_planes_d4n8.dat` for which there exists some reference circuit such that the vanishing ideal is univariate and principle."
   ]
  },
  {
   "cell_type": "code",
   "execution_count": 12,
   "metadata": {},
   "outputs": [],
   "source": [
    "principal_univariate = vec(readlines(joinpath(currentDir,\"d4n8/princ_univariate_d4n8.dat\")))\n",
    "#verify univariate\n",
    "test_univariate = []\n",
    "\n",
    "for cir_Qstr in principal_univariate\n",
    "    A = stars_to_set(cir_Qstr[1:8],8)\n",
    "    Qstr = cir_Qstr[9:78]\n",
    "    Q = matroid_from_revlex_basis_encoding(Qstr, 4, 8) \n",
    "    MR = new_matroid_realization_space(Q, A; F=QQ, saturate=true)\n",
    "    \n",
    "    MR = reduce_ideal_full(MR)\n",
    "    I = MR.defining_ideal\n",
    "    length_vs = length(ideal_vars(gens(I)))\n",
    "    push!(test_univariate, isone(length_vs))\n",
    "end\n",
    "#verify principle\n",
    "test_principal_1 = []\n",
    "for cir_Qstr in principal_univariate\n",
    "    A = stars_to_set(cir_Qstr[1:8],8)\n",
    "    Qstr = cir_Qstr[9:78]\n",
    "    Q = matroid_from_revlex_basis_encoding(Qstr, 4, 8) \n",
    "    MR = new_matroid_realization_space(Q, A; F=QQ, saturate=true)\n",
    "    \n",
    "    MR = reduce_ideal_full(MR)\n",
    "    I = MR.defining_ideal\n",
    "    Igens = gens(I)\n",
    "    length_gens = length(Igens)\n",
    "    \n",
    "    push!(test_principal_1, isone(length_gens))\n",
    "end"
   ]
  },
  {
   "cell_type": "code",
   "execution_count": 22,
   "metadata": {},
   "outputs": [
    {
     "name": "stdout",
     "output_type": "stream",
     "text": [
      "1\n",
      "\n",
      "[1, 4, 5, 6, 8] ideal(x1^2 - 3*x1 + 1)\n",
      "[2, 3, 4, 6, 7] ideal(x1^2 - 3*x1 + 1)\n",
      "\n",
      "\n",
      "2\n",
      "\n",
      "[1, 4, 5, 6, 8] ideal(x1^2 - 3*x1 + 3)\n",
      "[1, 4, 5, 7, 8] ideal(x1^2 - 3*x1 + 3)\n",
      "[2, 3, 4, 6, 7] ideal(3*x1^2 - 3*x1 + 1)\n",
      "[2, 3, 6, 7, 8] ideal(x1^2 + x1 + 1)\n",
      "\n",
      "\n",
      "3\n",
      "\n",
      "[1, 4, 5, 6, 8] ideal(x1^2 - x1 + 1)\n",
      "[2, 4, 5, 7, 8] ideal(x1^2 - x1 + 1)\n",
      "[3, 4, 5, 6, 7] ideal(x1^2 - x1 + 1)\n",
      "\n",
      "\n"
     ]
    }
   ],
   "source": [
    "for g in 1:length(principal_univariate)\n",
    "    \n",
    "    print(g,\"\\n\\n\")\n",
    "    Mg = matroid_from_revlex_basis_encoding(principal_univariate[g][9:78], 4, 8) \n",
    "    \n",
    "    As = optimal_circuits(Mg)\n",
    "    \n",
    "    for a in As\n",
    "        \n",
    "        MR = new_matroid_realization_space(Mg, a; F=QQ, saturate=true)\n",
    "    \n",
    "        MRR = reduce_ideal_full(MR)\n",
    "        \n",
    "        print(a,\" \",MRR.defining_ideal,\"\\n\")\n",
    "    end\n",
    "    \n",
    "    print(\"\\n\\n\")\n",
    "        \n",
    "end\n",
    "        \n",
    "        "
   ]
  },
  {
   "cell_type": "code",
   "execution_count": 17,
   "metadata": {},
   "outputs": [
    {
     "data": {
      "text/plain": [
       "3-element Vector{Any}:\n",
       " \"0********0****0*****0**0*****************0****0***********0*******0***\"\n",
       " \"0********0****0*****0**0*****************0****0********0************0*\"\n",
       " \"000000*********0************0***0**0*************0***0******00********\""
      ]
     },
     "execution_count": 17,
     "metadata": {},
     "output_type": "execute_result"
    }
   ],
   "source": [
    "connect_princ = []\n",
    "for cir_Qstr in principal_univariate  \n",
    "    Qstr = cir_Qstr[9:78]\n",
    "        Q = matroid_from_revlex_basis_encoding(Qstr, 4, 8) \n",
    "     if is_connected(Q)\n",
    "        push!(connect_princ,Qstr)\n",
    "    end\n",
    "end\n",
    "connect_princ"
   ]
  },
  {
   "cell_type": "code",
   "execution_count": 65,
   "metadata": {},
   "outputs": [
    {
     "data": {
      "text/plain": [
       "true"
      ]
     },
     "execution_count": 65,
     "metadata": {},
     "output_type": "execute_result"
    }
   ],
   "source": [
    "all(test_univariate)"
   ]
  },
  {
   "cell_type": "code",
   "execution_count": 66,
   "metadata": {},
   "outputs": [
    {
     "data": {
      "text/plain": [
       "true"
      ]
     },
     "execution_count": 66,
     "metadata": {},
     "output_type": "execute_result"
    }
   ],
   "source": [
    "all(test_principal_1)"
   ]
  },
  {
   "cell_type": "markdown",
   "metadata": {},
   "source": [
    "The precomputed data `d4n8/princ_multivariate_d4n8.dat` contains the matroids in `d4n8/4_planes_d4n8.dat` for which there exists some reference circuit such that the vanishing ideal is multivariate and principle."
   ]
  },
  {
   "cell_type": "code",
   "execution_count": 34,
   "metadata": {},
   "outputs": [],
   "source": [
    "principal_multivariate = vec(readlines(joinpath(currentDir,\"d4n8/princ_multivariate_d4n8.dat\")))\n",
    "#verify univariate\n",
    "test_multivariate = []\n",
    "\n",
    "for cir_Qstr in principal_multivariate\n",
    "    A = stars_to_set(cir_Qstr[1:8],8)\n",
    "    Qstr = cir_Qstr[9:78]\n",
    "    Q = matroid_from_revlex_basis_encoding(Qstr, 4, 8) \n",
    "    MR = new_matroid_realization_space(Q, A; F=QQ, saturate=true)\n",
    "    \n",
    "    MR = reduce_ideal_full(MR)\n",
    "    I = MR.defining_ideal\n",
    "    length_vs = length(ideal_vars(gens(I)))\n",
    "    push!(test_multivariate, !isone(length_vs))\n",
    "end\n",
    "#verify principle\n",
    "test_principal_2 = []\n",
    "for cir_Qstr in principal_multivariate\n",
    "    A = stars_to_set(cir_Qstr[1:8],8)\n",
    "    Qstr = cir_Qstr[9:78]\n",
    "    Q = matroid_from_revlex_basis_encoding(Qstr, 4, 8) \n",
    "    MR = new_matroid_realization_space(Q, A; F=QQ, saturate=true)\n",
    "    \n",
    "    MR = reduce_ideal_full(MR)\n",
    "    I = MR.defining_ideal\n",
    "    Igens = gens(I)\n",
    "    length_gens = length(Igens)\n",
    "    \n",
    "    push!(test_principal_2, isone(length_gens))\n",
    "end"
   ]
  },
  {
   "cell_type": "code",
   "execution_count": 8,
   "metadata": {},
   "outputs": [
    {
     "data": {
      "text/plain": [
       "\"/home/dante/Desktop/jupyter_notebooks/matroidRealizationSpaces\""
      ]
     },
     "execution_count": 8,
     "metadata": {},
     "output_type": "execute_result"
    }
   ],
   "source": [
    "pwd()"
   ]
  },
  {
   "cell_type": "code",
   "execution_count": 7,
   "metadata": {},
   "outputs": [
    {
     "ename": "LoadError",
     "evalue": "SystemError: opening file \"/home/dante/Desktop/jupyter_notebooks/matroidRealizationSpaces/d4n8/princ_multivariate_d4n8.dat\": No such file or directory",
     "output_type": "error",
     "traceback": [
      "SystemError: opening file \"/home/dante/Desktop/jupyter_notebooks/matroidRealizationSpaces/d4n8/princ_multivariate_d4n8.dat\": No such file or directory",
      "",
      "Stacktrace:",
      "  [1] systemerror(p::String, errno::Int32; extrainfo::Nothing)",
      "    @ Base ./error.jl:174",
      "  [2] #systemerror#68",
      "    @ ./error.jl:173 [inlined]",
      "  [3] systemerror",
      "    @ ./error.jl:173 [inlined]",
      "  [4] open(fname::String; lock::Bool, read::Nothing, write::Nothing, create::Nothing, truncate::Nothing, append::Nothing)",
      "    @ Base ./iostream.jl:293",
      "  [5] open",
      "    @ ./iostream.jl:282 [inlined]",
      "  [6] open(f::Base.var\"#376#377\"{Base.Pairs{Symbol, Union{}, Tuple{}, NamedTuple{(), Tuple{}}}}, args::String; kwargs::Base.Pairs{Symbol, Union{}, Tuple{}, NamedTuple{(), Tuple{}}})",
      "    @ Base ./io.jl:328",
      "  [7] open",
      "    @ ./io.jl:328 [inlined]",
      "  [8] #readlines#375",
      "    @ ./io.jl:549 [inlined]",
      "  [9] readlines(filename::String)",
      "    @ Base ./io.jl:549",
      " [10] top-level scope",
      "    @ In[7]:1"
     ]
    }
   ],
   "source": [
    "principal_multivariate = vec(readlines(joinpath(currentDir,\"d4n8/princ_multivariate_d4n8.dat\")))"
   ]
  },
  {
   "cell_type": "code",
   "execution_count": 45,
   "metadata": {},
   "outputs": [
    {
     "data": {
      "text/plain": [
       "[1   0       -x2   0   0   -x1*x2 + x1 - x2    0   1]\n",
       "[0   1   x1 - x2   0   0                  0   x1   1]\n",
       "[0   0         0   1   0   -x1*x2 + x1 - x2   x2   1]\n",
       "[0   0         0   0   1             x2 - 1    1   1]"
      ]
     },
     "metadata": {},
     "output_type": "display_data"
    },
    {
     "data": {
      "text/plain": [
       "The representations of the matroid are parametrized by the matrix\n",
       "in the Multivariate polynomial ring in 2 variables over QQ\n",
       "within the vanishing set of the ideal\n",
       "ideal(x1^2*x2 - x1^2 + x1*x2 - x2^2)\n",
       "avoiding the zero loci of the polynomials\n",
       "RingElem[x1*x2 - x1 + 2*x2 - 1, x2, x2 - 1, x1*x2 - x1 + x2, x1 - x2, x1, x1 - 1, x1*x2 - x1 + x2^2]\n"
      ]
     },
     "execution_count": 45,
     "metadata": {},
     "output_type": "execute_result"
    }
   ],
   "source": [
    "M = matroid_from_revlex_basis_encoding(principal_multivariate[1][9:78],4,8)\n",
    "MR = new_matroid_realization_space(M, stars_to_set(principal_multivariate[1][1:8],8); F=QQ, saturate=true)\n",
    "Mr =reduce_ideal_full(MR)"
   ]
  },
  {
   "cell_type": "code",
   "execution_count": null,
   "metadata": {},
   "outputs": [],
   "source": []
  },
  {
   "cell_type": "markdown",
   "metadata": {},
   "source": [
    "We now check if the realization spaces of those matroids contained in `d4n8/princ_univariate_d4n8.dat`  and `d4n8/princ_multivariate_d4n8.dat` are smooth.  By the Jacobian criterion, the affine scheme $\\mathsf{Spec}(S^{-1}\\mathbb{Q}[x_1,\\ldots,x_n] / \\langle f \\rangle)$ is smooth if and only if the ideal\n",
    "\n",
    "$$\n",
    "J = \\langle f, \\frac{\\partial f}{\\partial x_1}, \\ldots, \\frac{\\partial f}{\\partial x_n}\\rangle\n",
    "$$\n",
    "\n",
    "is the unit ideal in $S^{-1} \\mathbb{Q}[x_1,\\ldots,x_n]$. This is equivalent to the saturation $(J:S^{\\infty})$ being the unit ideal in $\\mathbb{Q}[x_1,\\ldots,x_n]$. We perform this explicit check here. "
   ]
  },
  {
   "cell_type": "code",
   "execution_count": 1,
   "metadata": {},
   "outputs": [
    {
     "ename": "LoadError",
     "evalue": "UndefVarError: principal_univariate not defined",
     "output_type": "error",
     "traceback": [
      "UndefVarError: principal_univariate not defined",
      "",
      "Stacktrace:",
      " [1] top-level scope",
      "   @ In[1]:1"
     ]
    }
   ],
   "source": [
    "principal = union(principal_univariate, principal_multivariate)\n",
    "\n",
    "test_smooth_principal = []\n",
    "for cir_Qstr in principal\n",
    "    A = stars_to_set(cir_Qstr[1:8],8)\n",
    "    Qstr = cir_Qstr[9:78]\n",
    "    Q = matroid_from_revlex_basis_encoding(Qstr, 4, 8) \n",
    "    MR = new_matroid_realization_space(Q, A; F=QQ, saturate=true)\n",
    "        \n",
    "    MR = reduce_ideal_full(MR)\n",
    "    R = MR.ambient_ring\n",
    "    x = gens(R)\n",
    "    I = MR.defining_ideal\n",
    "    Igens = gens(I)\n",
    "    length(Igens) != 1 && error(\"not principal\") \n",
    "    JM = jacobian_matrix(R, x, Igens)\n",
    "    nr, nc = size(JM) \n",
    "    J = I + ideal(R, [JM[1,c] for c in 1:nc])\n",
    "    Sing = stepwise_saturation(J, MR.inequations)\n",
    "    #Sing = realization_space_2_singular_locus(MR)\n",
    "    push!(test_smooth_principal, isone(Sing))\n",
    "end"
   ]
  },
  {
   "cell_type": "code",
   "execution_count": 36,
   "metadata": {},
   "outputs": [
    {
     "data": {
      "text/plain": [
       "4-element Vector{String}:\n",
       " \"***00**00********0****0*****0**0*****************0****0***********0*******0***\"\n",
       " \"***00**00********0****0*****0**0*****************0****0********0************0*\"\n",
       " \"**0*00**000000*********0************0***0**0*************0***0******00********\"\n",
       " \"**0**00*00***0******0**0*******0******0****0****************0**********0*0****\""
      ]
     },
     "execution_count": 36,
     "metadata": {},
     "output_type": "execute_result"
    }
   ],
   "source": [
    "principal"
   ]
  },
  {
   "cell_type": "markdown",
   "metadata": {},
   "source": [
    "Hence, we can see that all realizable matroids in `d4n8/4_planes_d4n8.dat`, for which a suitable reference circuit exists, have smooth realization spaces."
   ]
  },
  {
   "cell_type": "markdown",
   "metadata": {},
   "source": [
    "We study the four remaining matroids, those which do not have a reference circuit. We do so at the level of thin Schubert cells."
   ]
  },
  {
   "cell_type": "code",
   "execution_count": 48,
   "metadata": {},
   "outputs": [
    {
     "data": {
      "text/plain": [
       "4-element Vector{String}:\n",
       " \"0********0****0*****0**0***00************00***0**0*****0****0********0\"\n",
       " \"000000000******0000************00000000************0000******000000000\"\n",
       " \"0000000000000000000000000**********0000000000********************00000\"\n",
       " \"000000000000000000000000000000000000******0******0***0******0*0**0****\""
      ]
     },
     "execution_count": 48,
     "metadata": {},
     "output_type": "execute_result"
    }
   ],
   "source": [
    "no_circs = vec(readlines(joinpath(currentDir,\"d4n8/no_ref_circ_d4n8.dat\")))"
   ]
  },
  {
   "cell_type": "code",
   "execution_count": null,
   "metadata": {},
   "outputs": [],
   "source": [
    "for a in no_circs\n",
    "    M = matroid_from_revlex_basis_encoding(a,4,8)\n",
    "    "
   ]
  },
  {
   "cell_type": "code",
   "execution_count": 87,
   "metadata": {},
   "outputs": [
    {
     "name": "stdout",
     "output_type": "stream",
     "text": [
      "matroid 1 : (QQMPolyRingElem[1], QQMPolyRingElem[x_{3, 1}, x_{2, 4}, x_{1, 3}, x_{4, 4}, x_{4, 2}, x_{4, 3}, x_{3, 4}], [1, 2, 3, 5])\n",
      "\n",
      "matroid 2 : (QQMPolyRingElem[0], QQMPolyRingElem[x_{2, 1}, x_{1, 1}, x_{2, 2}, x_{1, 2}, x_{1, 1}*x_{2, 2} - x_{2, 1}*x_{1, 2}, x_{4, 3}, x_{3, 3}, x_{4, 4}, x_{3, 4}, x_{3, 3}*x_{4, 4} - x_{4, 3}*x_{3, 4}], [1, 2, 5, 6])\n",
      "\n",
      "matroid 3 : (QQMPolyRingElem[0], QQMPolyRingElem[x_{2, 1}, x_{1, 1}, x_{2, 2}, x_{1, 2}, x_{1, 1}*x_{2, 2} - x_{2, 1}*x_{1, 2}, x_{2, 3}, x_{1, 3}, x_{1, 1}*x_{2, 3} - x_{2, 1}*x_{1, 3}, x_{1, 2}*x_{2, 3} - x_{2, 2}*x_{1, 3}, x_{4, 4}, x_{3, 4}], [1, 2, 6, 7])\n",
      "\n",
      "matroid 4 : (QQMPolyRingElem[1], QQMPolyRingElem[x_{2, 1}, x_{1, 4}, x_{3, 2}, x_{3, 3}, x_{2, 4}, x_{3, 4}], [1, 2, 4, 8])\n",
      "\n"
     ]
    }
   ],
   "source": [
    "for i in 1:4\n",
    "    Mi = matroid_from_revlex_basis_encoding(no_circs[i],4,8)\n",
    "    T = matroid_to_reduced_TSC_min_basis(Mi,QQ)\n",
    "    \n",
    "    print(\"matroid \",i,\" : \", T,\"\\n\\n\")\n",
    "end"
   ]
  },
  {
   "cell_type": "code",
   "execution_count": 180,
   "metadata": {},
   "outputs": [
    {
     "data": {
      "text/plain": [
       "(QQMPolyRingElem[1], QQMPolyRingElem[x_{3, 1}, x_{2, 4}, x_{1, 3}, x_{4, 4}, x_{4, 2}, x_{4, 3}, x_{3, 4}], [1, 2, 3, 5])"
      ]
     },
     "execution_count": 180,
     "metadata": {},
     "output_type": "execute_result"
    }
   ],
   "source": [
    " Mi = matroid_from_revlex_basis_encoding(no_circ[1],4,8)\n",
    "    T = matroid_to_reduced_TSC_min_basis(Mi,QQ)"
   ]
  },
  {
   "cell_type": "markdown",
   "metadata": {},
   "source": [
    "Observe that the vanishing ideal of the thin Schubert cells for matroids 1 and 4 are the unit ideal. These matroids are not realizable. For matroids 2 and 3, the vanishing ideal is $0$. Hence, all realization spaces for $(4,8)$ matoids are nonsingular."
   ]
  },
  {
   "cell_type": "markdown",
   "metadata": {},
   "source": [
    "Finally, we show that our sorting of the matroids in `d4n8/4_planes_d4n8.dat` was exhaustive."
   ]
  },
  {
   "cell_type": "code",
   "execution_count": 83,
   "metadata": {},
   "outputs": [
    {
     "data": {
      "text/plain": [
       "true"
      ]
     },
     "execution_count": 83,
     "metadata": {},
     "output_type": "execute_result"
    }
   ],
   "source": [
    "all_matroids_with_circ = Set(union(principal_multivariate,principal_univariate,zero_ideal,not_realizable))\n",
    "all_no_circs = union([cir_Qstr[9:78] for cir_Qstr in all_matroids_with_circ],no_circs)\n",
    "\n",
    "\n",
    "Set(all_no_circs) == Set(planes_4_precomputed)"
   ]
  },
  {
   "cell_type": "code",
   "execution_count": 18,
   "metadata": {},
   "outputs": [
    {
     "name": "stdout",
     "output_type": "stream",
     "text": [
      "1 : [1, 2, 3, 6, 7] 1 * (x1^2 - 3*x1 + 1)\n",
      "2 : [1, 2, 3, 6, 7] 1 * (3*x1^2 - 3*x1 + 1)\n",
      "3 : [1, 2, 4, 7, 8] 1 * (x1^2 - x1 + 1)\n"
     ]
    }
   ],
   "source": [
    "for p in 1:length(principal_univariate)\n",
    "    \n",
    "    A = stars_to_set(principal_univariate[p][1:8],8)\n",
    "    Qstr = principal_univariate[p][9:78]\n",
    "    Q = matroid_from_revlex_basis_encoding(Qstr, 4, 8) \n",
    "    MR = new_matroid_realization_space(Q, A; F=QQ, saturate=true)\n",
    "        \n",
    "    MR = reduce_ideal_full(MR)\n",
    "    \n",
    "    I = gens(MR.defining_ideal)\n",
    "    \n",
    "    print(p,\" : \",A, \" \" ,factor(I[1]),\"\\n\")\n",
    "end"
   ]
  },
  {
   "cell_type": "code",
   "execution_count": 27,
   "metadata": {},
   "outputs": [
    {
     "data": {
      "text/plain": [
       "3-element Vector{String}:\n",
       " \"***00**00********0****0*****0**0*****************0****0***********0*******0***\"\n",
       " \"***00**00********0****0*****0**0*****************0****0********0************0*\"\n",
       " \"**0*00**000000*********0************0***0**0*************0***0******00********\""
      ]
     },
     "execution_count": 27,
     "metadata": {},
     "output_type": "execute_result"
    }
   ],
   "source": [
    "principal_univariate"
   ]
  },
  {
   "cell_type": "code",
   "execution_count": null,
   "metadata": {},
   "outputs": [],
   "source": [
    "#find permutations such that [1,2,3,4,5] is the reference circuit we are using"
   ]
  },
  {
   "cell_type": "code",
   "execution_count": 4,
   "metadata": {},
   "outputs": [
    {
     "data": {
      "text/plain": [
       "Sym( [ 1 .. 8 ] )"
      ]
     },
     "execution_count": 4,
     "metadata": {},
     "output_type": "execute_result"
    }
   ],
   "source": [
    "G = symmetric_group(8)"
   ]
  },
  {
   "cell_type": "code",
   "execution_count": 183,
   "metadata": {},
   "outputs": [
    {
     "data": {
      "text/plain": [
       "(4,6)(5,7)"
      ]
     },
     "execution_count": 183,
     "metadata": {},
     "output_type": "execute_result"
    }
   ],
   "source": [
    "x = G([1,2,3,6,7,4,5,8])"
   ]
  },
  {
   "cell_type": "code",
   "execution_count": 195,
   "metadata": {},
   "outputs": [
    {
     "data": {
      "text/plain": [
       "[1   0   0   0   1   -x1 + 1   x1   x1]\n",
       "[0   1   0   0   1   -x1 + 2    1    0]\n",
       "[0   0   1   0   1         1    0   x1]\n",
       "[0   0   0   1   1         0    1    1]"
      ]
     },
     "metadata": {},
     "output_type": "display_data"
    },
    {
     "data": {
      "text/plain": [
       "The representations of the matroid are parametrized by the matrix\n",
       "in the Multivariate polynomial ring in 1 variable over QQ\n",
       "within the vanishing set of the ideal\n",
       "ideal(x1^2 - 3*x1 + 1)\n",
       "avoiding the zero loci of the polynomials\n",
       "RingElem[x1 - 2, x1, x1 - 1, x1 - 3]\n"
      ]
     },
     "execution_count": 195,
     "metadata": {},
     "output_type": "execute_result"
    }
   ],
   "source": [
    "M1 = matroid_from_revlex_basis_encoding(principal_univariate[1][9:78],4,8)\n",
    "B1 = bases(M1)\n",
    "newB1 = [on_tuples(b,x) for b in B1]\n",
    "new_A1= on_tuples([1, 2, 3, 6, 7],x)\n",
    "\n",
    "newM1 = matroid_from_bases(newB1,8)\n",
    "\n",
    "MR1 = new_matroid_realization_space(newM1, new_A1; F=QQ, saturate=true)\n",
    "MRR1 = reduce_ideal_full(MR1)"
   ]
  },
  {
   "cell_type": "code",
   "execution_count": 207,
   "metadata": {},
   "outputs": [
    {
     "data": {
      "text/plain": [
       "9-element Vector{Vector{Int64}}:\n",
       " [3, 4, 6, 7]\n",
       " [2, 5, 6, 7]\n",
       " [2, 4, 5, 8]\n",
       " [2, 3, 7, 8]\n",
       " [1, 5, 6, 8]\n",
       " [1, 3, 5, 7]\n",
       " [1, 3, 4, 8]\n",
       " [1, 2, 4, 7]\n",
       " [1, 2, 3, 6]"
      ]
     },
     "execution_count": 207,
     "metadata": {},
     "output_type": "execute_result"
    }
   ],
   "source": [
    "[h for h in hyperplanes(newM1) if length(h)>=4]"
   ]
  },
  {
   "cell_type": "code",
   "execution_count": 196,
   "metadata": {},
   "outputs": [
    {
     "data": {
      "text/plain": [
       "[1   0   0   0   1     -x1 + 1   x1   x1]\n",
       "[0   1   0   0   1   -3*x1 + 2    1    0]\n",
       "[0   0   1   0   1           1    0    1]\n",
       "[0   0   0   1   1           0    1    1]"
      ]
     },
     "metadata": {},
     "output_type": "display_data"
    },
    {
     "data": {
      "text/plain": [
       "The representations of the matroid are parametrized by the matrix\n",
       "in the Multivariate polynomial ring in 1 variable over QQ\n",
       "within the vanishing set of the ideal\n",
       "ideal(3*x1^2 - 3*x1 + 1)\n",
       "avoiding the zero loci of the polynomials\n",
       "RingElem[x1 - 1, 3*x1 - 1, 3*x1 - 2, 2*x1 - 1, x1]\n"
      ]
     },
     "execution_count": 196,
     "metadata": {},
     "output_type": "execute_result"
    }
   ],
   "source": [
    "M2 = matroid_from_revlex_basis_encoding(principal_univariate[2][9:78],4,8)\n",
    "B2 = bases(M2)\n",
    "newB2 = [on_tuples(b,x) for b in B2]\n",
    "new_A2= on_tuples([1, 2, 3, 6, 7],x)\n",
    "\n",
    "newM2 = matroid_from_bases(newB2,8)\n",
    "\n",
    "MR2 = new_matroid_realization_space(newM2, new_A2; F=QQ, saturate=true)\n",
    "MRR2 = reduce_ideal_full(MR2)"
   ]
  },
  {
   "cell_type": "code",
   "execution_count": 213,
   "metadata": {},
   "outputs": [
    {
     "data": {
      "text/plain": [
       "Multivariate polynomial ring in 1 variable x1\n",
       "  over rational field"
      ]
     },
     "execution_count": 213,
     "metadata": {},
     "output_type": "execute_result"
    }
   ],
   "source": [
    "MRR3.ambient_ring"
   ]
  },
  {
   "cell_type": "code",
   "execution_count": 208,
   "metadata": {},
   "outputs": [
    {
     "data": {
      "text/plain": [
       "9-element Vector{Vector{Int64}}:\n",
       " [4, 5, 6, 8]\n",
       " [3, 4, 6, 7]\n",
       " [2, 5, 6, 7]\n",
       " [2, 3, 7, 8]\n",
       " [1, 3, 5, 7]\n",
       " [1, 3, 4, 8]\n",
       " [1, 2, 5, 8]\n",
       " [1, 2, 4, 7]\n",
       " [1, 2, 3, 6]"
      ]
     },
     "execution_count": 208,
     "metadata": {},
     "output_type": "execute_result"
    }
   ],
   "source": [
    "[h for h in hyperplanes(newM2) if length(h)>=4]"
   ]
  },
  {
   "cell_type": "code",
   "execution_count": 204,
   "metadata": {},
   "outputs": [
    {
     "data": {
      "text/plain": [
       "[1   0   0   0   1   1   -x1 + 1    1]\n",
       "[0   1   0   0   1   1         1    0]\n",
       "[0   0   1   0   1   0         1   x1]\n",
       "[0   0   0   1   1   0         0    1]"
      ]
     },
     "metadata": {},
     "output_type": "display_data"
    },
    {
     "data": {
      "text/plain": [
       "The representations of the matroid are parametrized by the matrix\n",
       "in the Multivariate polynomial ring in 1 variable over QQ\n",
       "within the vanishing set of the ideal\n",
       "ideal(x1^2 - x1 + 1)\n",
       "avoiding the zero loci of the polynomials\n",
       "RingElem[x1, x1 - 1]\n"
      ]
     },
     "execution_count": 204,
     "metadata": {},
     "output_type": "execute_result"
    }
   ],
   "source": [
    "x2 = G([1,2,6,3,7,8,4,5])\n",
    "M3 = matroid_from_revlex_basis_encoding(principal_univariate[3][9:78],4,8)\n",
    "B3 = bases(M3)\n",
    "newB3 = [on_tuples(b,x2) for b in B3]\n",
    "new_A3= on_tuples([1, 2, 4, 7, 8] ,x2)\n",
    "\n",
    "newM3 = matroid_from_bases(newB3,8)\n",
    "\n",
    "MR3 = new_matroid_realization_space(newM3, new_A3; F=QQ, saturate=true)\n",
    "MRR3 = reduce_ideal_full(MR3)"
   ]
  },
  {
   "cell_type": "code",
   "execution_count": 210,
   "metadata": {},
   "outputs": [
    {
     "data": {
      "text/plain": [
       "10-element Vector{Vector{Int64}}:\n",
       " [1, 2, 3, 6, 7]\n",
       " [5, 6, 7, 8]\n",
       " [3, 4, 5, 6]\n",
       " [2, 4, 7, 8]\n",
       " [2, 3, 5, 8]\n",
       " [1, 4, 5, 7]\n",
       " [1, 3, 4, 8]\n",
       " [1, 2, 6, 8]\n",
       " [1, 2, 5, 6]\n",
       " [1, 2, 4, 6]"
      ]
     },
     "execution_count": 210,
     "metadata": {},
     "output_type": "execute_result"
    }
   ],
   "source": [
    "[h for h in hyperplanes(newM3) if length(h)>=4]"
   ]
  },
  {
   "cell_type": "code",
   "execution_count": 203,
   "metadata": {},
   "outputs": [
    {
     "data": {
      "text/plain": [
       "5-element Vector{Int64}:\n",
       " 1\n",
       " 2\n",
       " 3\n",
       " 4\n",
       " 5"
      ]
     },
     "execution_count": 203,
     "metadata": {},
     "output_type": "execute_result"
    }
   ],
   "source": [
    "new_A3"
   ]
  },
  {
   "cell_type": "code",
   "execution_count": null,
   "metadata": {},
   "outputs": [],
   "source": []
  },
  {
   "cell_type": "code",
   "execution_count": null,
   "metadata": {},
   "outputs": [],
   "source": []
  }
 ],
 "metadata": {
  "kernelspec": {
   "display_name": "Julia 1.7.1",
   "language": "julia",
   "name": "julia-1.7"
  },
  "language_info": {
   "file_extension": ".jl",
   "mimetype": "application/julia",
   "name": "julia",
   "version": "1.7.1"
  }
 },
 "nbformat": 4,
 "nbformat_minor": 4
}
