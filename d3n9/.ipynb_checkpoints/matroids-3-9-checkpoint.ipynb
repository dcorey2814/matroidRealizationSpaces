{
 "cells": [
  {
   "cell_type": "code",
   "execution_count": 1,
   "metadata": {},
   "outputs": [
    {
     "name": "stdout",
     "output_type": "stream",
     "text": [
      " -----    -----    -----      -      -----   \n",
      "|     |  |     |  |     |    | |    |     |  \n",
      "|     |  |        |         |   |   |     |  \n",
      "|     |   -----   |        |     |  |-----   \n",
      "|     |        |  |        |-----|  |   |    \n",
      "|     |  |     |  |     |  |     |  |    |   \n",
      " -----    -----    -----   -     -  -     -  \n",
      "\n",
      "...combining (and extending) ANTIC, GAP, Polymake and Singular\n",
      "Version\u001b[32m 0.12.1-DEV \u001b[39m... \n",
      " ... which comes with absolutely no warranty whatsoever\n",
      "Type: '?Oscar' for more information\n",
      "(c) 2019-2023 by The OSCAR Development Team\n"
     ]
    }
   ],
   "source": [
    "using Oscar"
   ]
  },
  {
   "cell_type": "code",
   "execution_count": null,
   "metadata": {},
   "outputs": [],
   "source": [
    "cd(\"..\")"
   ]
  },
  {
   "cell_type": "code",
   "execution_count": 25,
   "metadata": {},
   "outputs": [
    {
     "data": {
      "text/plain": [
       "realization_space_2_singular_locus (generic function with 1 method)"
      ]
     },
     "execution_count": 25,
     "metadata": {},
     "output_type": "execute_result"
    }
   ],
   "source": [
    "currentDir = pwd() # make sure you are running from the main directory.\n",
    "include(joinpath(currentDir, \"src/matroid_realization.jl\"))\n",
    "include(joinpath(currentDir, \"src/Jacobian_Criterion.jl\"))"
   ]
  },
  {
   "cell_type": "code",
   "execution_count": 51,
   "metadata": {},
   "outputs": [],
   "source": [
    "db = Polymake.Polydb.get_db();\n",
    "collection = db[\"Matroids.Small\"];\n",
    "d3n9 = Polymake.Polydb.find(collection, Dict(\"RANK\" => 3, \"SIMPLE\"=>true, \"N_ELEMENTS\"=>9));\n",
    "\n",
    "possible_reducible = []\n",
    "skipped = []\n",
    "\n",
    "for Qcursor in d3n9\n",
    "    Q = Matroid(Qcursor)\n",
    "    As = rank_plus1_circuits(Q)\n",
    "    \n",
    "    if length(As) != 0\n",
    "        A = As[1]\n",
    "    else\n",
    "        push!(skipped,Q)\n",
    "        continue\n",
    "    end\n",
    "    \n",
    "    RS = new_matroid_realization_space(Q, A; F=QQ, saturate=true)\n",
    "   !RS.representable && continue\n",
    "    RS2 = reduce_ideal_full(RS)\n",
    "    \n",
    "        \n",
    "    if !iszero(RS2.defining_ideal) \n",
    "        push!(possible_reducible, Q)\n",
    "    end\n",
    "end"
   ]
  },
  {
   "cell_type": "markdown",
   "metadata": {},
   "source": [
    "There is one $(3,9)$--matroid $\\mathsf{Q}$ that does not have a circuit of size 4. This matroid is isomorphic to $\\mathsf{U}(2,9)\\oplus \\mathsf{U}(1,1)$, which has a smooth realization space. "
   ]
  },
  {
   "cell_type": "code",
   "execution_count": 40,
   "metadata": {},
   "outputs": [
    {
     "data": {
      "text/plain": [
       "true"
      ]
     },
     "execution_count": 40,
     "metadata": {},
     "output_type": "execute_result"
    }
   ],
   "source": [
    "length(skipped) == 1\n",
    "Q1 = skipped[1]\n",
    "U28 = uniform_matroid(2,8)\n",
    "U11 = uniform_matroid(1,1)\n",
    "Q2 = direct_sum(U28,U11)\n",
    "is_isomorphic(Q1,Q2)"
   ]
  },
  {
   "cell_type": "markdown",
   "metadata": {},
   "source": [
    "The first two matroids in `possible_reducible` are actually irreducible."
   ]
  },
  {
   "cell_type": "code",
   "execution_count": 70,
   "metadata": {},
   "outputs": [
    {
     "data": {
      "text/plain": [
       "true"
      ]
     },
     "execution_count": 70,
     "metadata": {},
     "output_type": "execute_result"
    }
   ],
   "source": [
    "Q1, Q2 = possible_reducible[1:2]\n",
    "\n",
    "MR1 = new_matroid_realization_space(Q1, [1,2,5,6]; F = QQ, saturate=true)\n",
    "MR1 = reduce_ideal_full(MR1)\n",
    "\n",
    "MR2 = new_matroid_realization_space(Q2, [1,2,5,6]; F = QQ, saturate=true)\n",
    "MR2 = reduce_ideal_full(MR2)\n",
    "\n",
    "all([iszero(MR.defining_ideal) for MR in [MR1, MR2]])"
   ]
  },
  {
   "cell_type": "markdown",
   "metadata": {},
   "source": [
    "The matroids in the paper are the following (in terms of nonbases). "
   ]
  },
  {
   "cell_type": "code",
   "execution_count": 43,
   "metadata": {},
   "outputs": [],
   "source": [
    "NB1 = [[1,2,7], [1,3,8], [1,4,5], [2,4,6], [2,5,8], [3,5,6], [3,4,7], [6,7,8]];\n",
    "NB2 = [[1,2,7], [1,3,8], [1,4,5], [2,4,6], [2,5,8], [3,5,6], [3,4,7], [5,7,9], [6,7,8]];\n",
    "NB3 = [[1,2,7], [1,3,8], [1,4,5], [1,6,9], [2,4,6], [2,5,8], [2,3,9], [3,5,6], [3,4,7], [4,8,9], [5,7,9], [6,7,8]];\n",
    "NB4 = [[1,2,7], [1,3,8], [1,4,5], [1,6,9], [2,4,6], [2,5,8], [2,3,9], [3,4,7], [4,8,9], [5,6,7]];\n",
    "NB5 = [[1,2,5], [1,2,8], [1,5,8], [2,5,8], [1,3,6], [1,4,9], [2,3,7], [2,6,9], [3,4,5], [4,6,7], [5,7,9]];\n",
    "NB6 = [[1,2,5], [1,2,8], [1,5,8], [2,5,8], [1,3,6], [1,7,9], [2,3,7], [2,4,9], [3,4,5], [3,8,9], [4,6,8], [5,6,7]];\n",
    "NB7 = [[1,2,5], [1,2,8], [1,5,8], [2,5,8], [1,3,6], [2,3,7], [2,6,9], [3,4,5], [3,8,9], [4,6,8], [4,7,9], [5,6,7]];\n",
    "NB8 = [[1,2,5], [1,2,9], [1,5,9], [2,5,9], [3,6,7], [1,6,7], [1,3,7], [1,3,6], [2,4,7], [2,3,8], [3,4,5], [4,6,9], [5,6,8], [7,8,9]];\n",
    "\n",
    "Qs = [matroid_from_nonbases(Q, 9) for Q in [NB1, NB2, NB3, NB4, NB5, NB6, NB7, NB8]];"
   ]
  },
  {
   "cell_type": "markdown",
   "metadata": {},
   "source": [
    "These are isomorphic to the remaining matroids in `possible_reducible`. "
   ]
  },
  {
   "cell_type": "code",
   "execution_count": 71,
   "metadata": {},
   "outputs": [
    {
     "data": {
      "text/plain": [
       "true"
      ]
     },
     "execution_count": 71,
     "metadata": {},
     "output_type": "execute_result"
    }
   ],
   "source": [
    "all([is_isomorphic(Qs[i], possible_reducible[i+2]) for i in 1:8])"
   ]
  },
  {
   "cell_type": "markdown",
   "metadata": {},
   "source": [
    "We compute the realization spaces"
   ]
  },
  {
   "cell_type": "code",
   "execution_count": 79,
   "metadata": {},
   "outputs": [],
   "source": [
    "MRs = [new_matroid_realization_space(Qs[i], [1,2,3,4]; F=QQ, saturate=true) for i in 1:8]\n",
    "MRs = reduce_ideal_full.(MRs);"
   ]
  },
  {
   "cell_type": "code",
   "execution_count": 80,
   "metadata": {},
   "outputs": [
    {
     "name": "stdout",
     "output_type": "stream",
     "text": [
      "(MRs[1]).defining_ideal = ideal(x1^2 - x1 + 1)\n",
      "(MRs[1]).inequations = RingElem[x3, x1 - x2, x1, x1*x3 - x1 + x2 - x3, x1 - 1, x1 - x2 + x3, x2 - x3, x1 - x2 + x3 - 1, x1 + x3 - 1, x2 - 1, x1*x2 - x2 + x3, x1*x2 - x1*x3 + x3, x3 - 1, x1*x3 - x2, x2]\n"
     ]
    }
   ],
   "source": [
    "@show MRs[1].defining_ideal;\n",
    "@show MRs[1].inequations;"
   ]
  },
  {
   "cell_type": "code",
   "execution_count": 81,
   "metadata": {},
   "outputs": [
    {
     "name": "stdout",
     "output_type": "stream",
     "text": [
      "(MRs[2]).defining_ideal = ideal(x1^2 - 2*x1*x2 + x1 + x2^2 - x2 + 1)\n",
      "(MRs[2]).inequations = RingElem[x2, x2 - 1, x1 - x2 + 1, x1*x2 - x2^2 + x2 - 1, x1 - x2, x1, x1 - 1]\n"
     ]
    }
   ],
   "source": [
    "@show MRs[2].defining_ideal;\n",
    "@show MRs[2].inequations;"
   ]
  },
  {
   "cell_type": "code",
   "execution_count": 82,
   "metadata": {},
   "outputs": [
    {
     "name": "stdout",
     "output_type": "stream",
     "text": [
      "(MRs[3]).defining_ideal = ideal(x1^2 - x1 + 1)\n",
      "(MRs[3]).inequations = RingElem[x1, x1 - 1]\n"
     ]
    }
   ],
   "source": [
    "@show MRs[3].defining_ideal;\n",
    "@show MRs[3].inequations;"
   ]
  },
  {
   "cell_type": "code",
   "execution_count": 83,
   "metadata": {},
   "outputs": [
    {
     "name": "stdout",
     "output_type": "stream",
     "text": [
      "(MRs[4]).defining_ideal = ideal(x1^2 - 2*x1 + 2)\n",
      "(MRs[4]).inequations = RingElem[x1, x1 - 2, x1 - 1]\n"
     ]
    }
   ],
   "source": [
    "@show MRs[4].defining_ideal;\n",
    "@show MRs[4].inequations;"
   ]
  },
  {
   "cell_type": "code",
   "execution_count": 84,
   "metadata": {},
   "outputs": [
    {
     "name": "stdout",
     "output_type": "stream",
     "text": [
      "(MRs[5]).defining_ideal = ideal(x2^2 - x2 + 1)\n",
      "(MRs[5]).inequations = RingElem[x1, x1 - x2, x2 - 1, x1 - 1, x2, x1*x2 - 1, x1*x2 - x1 - x2, x1 + x2 - 1]\n"
     ]
    }
   ],
   "source": [
    "@show MRs[5].defining_ideal;\n",
    "@show MRs[5].inequations;"
   ]
  },
  {
   "cell_type": "code",
   "execution_count": 85,
   "metadata": {},
   "outputs": [
    {
     "name": "stdout",
     "output_type": "stream",
     "text": [
      "(MRs[6]).defining_ideal = ideal(x1^2 + x1 - 1)\n",
      "(MRs[6]).inequations = RingElem[x1 + 1, x1 - 1, x1]\n"
     ]
    }
   ],
   "source": [
    "@show MRs[6].defining_ideal;\n",
    "@show MRs[6].inequations;"
   ]
  },
  {
   "cell_type": "code",
   "execution_count": 86,
   "metadata": {},
   "outputs": [
    {
     "name": "stdout",
     "output_type": "stream",
     "text": [
      "(MRs[7]).defining_ideal = ideal(x1^2 + x1 + 1)\n",
      "(MRs[7]).inequations = RingElem[x1, x1 + 1, 2*x1 + 1, x1 - 1, x1 + 2]\n"
     ]
    }
   ],
   "source": [
    "@show MRs[7].defining_ideal;\n",
    "@show MRs[7].inequations;"
   ]
  },
  {
   "cell_type": "code",
   "execution_count": 87,
   "metadata": {},
   "outputs": [
    {
     "name": "stdout",
     "output_type": "stream",
     "text": [
      "(MRs[8]).defining_ideal = ideal(x1^2 - x1 + 1)\n",
      "(MRs[8]).inequations = RingElem[x1, x1 - 1, x1 - 2]\n"
     ]
    }
   ],
   "source": [
    "@show MRs[8].defining_ideal;\n",
    "@show MRs[8].inequations;"
   ]
  }
 ],
 "metadata": {
  "kernelspec": {
   "display_name": "Julia 1.7.1",
   "language": "julia",
   "name": "julia-1.7"
  },
  "language_info": {
   "file_extension": ".jl",
   "mimetype": "application/julia",
   "name": "julia",
   "version": "1.7.1"
  }
 },
 "nbformat": 4,
 "nbformat_minor": 4
}
