{
 "cells": [
  {
   "cell_type": "code",
   "execution_count": 28,
   "metadata": {},
   "outputs": [
    {
     "data": {
      "text/plain": [
       "realization_space_2_singular_locus (generic function with 1 method)"
      ]
     },
     "execution_count": 28,
     "metadata": {},
     "output_type": "execute_result"
    }
   ],
   "source": [
    "using Oscar\n",
    "using Combinatorics\n",
    "pm = Polymake\n",
    "\n",
    "#isolated by 3 lines property (three total)\n",
    "puni = vec(readlines(\"sorting/principal_univariate.dat\"))\n",
    "#using second one for example\n",
    "\n",
    "#removed by 3 lines property\n",
    "mats = [\"0******0******0**********0********0*******0****0**0*********************************\", \n",
    "    \"0******0******0**********0********0*******0****0**0*************0*******************\",\n",
    "    \"0000************0**********0***************0***********0***********0*****0***0******\", \n",
    "    \"0000************0**********0****0**********0****0****************0*0***************0\", \n",
    "    \"0000************0*********0***0***0*******0****0*****0**********0****0**0***********\"]\n",
    "\n",
    "include(\"../../src/matroid_realization.jl\");\n",
    "#include(\"../src/reduceIdealsv2.jl\")\n",
    "include(\"../../src/Jacobian_Criterion.jl\")\n",
    "#include(\"../src/TSC_CoordRingV2.jl\")\n",
    "#include(\"../src/study_subdivisions.jl\")\n",
    "\n"
   ]
  },
  {
   "cell_type": "code",
   "execution_count": 201,
   "metadata": {},
   "outputs": [
    {
     "data": {
      "text/plain": [
       "Matroid of rank 3 on 8 elements"
      ]
     },
     "execution_count": 201,
     "metadata": {},
     "output_type": "execute_result"
    }
   ],
   "source": [
    "#meowtroid, as drawn in our first paper\n",
    "meowNB = [[1,2,6],[1,7,8],[1,4,5],[2,3,5],[3,6,8],[2,4,8],[5,6,7],[3,4,7]]\n",
    "meow = matroid_from_nonbases(meowNB,8)\n"
   ]
  },
  {
   "cell_type": "code",
   "execution_count": 13,
   "metadata": {},
   "outputs": [
    {
     "data": {
      "text/plain": [
       "Matroid of rank 3 on 9 elements"
      ]
     },
     "execution_count": 13,
     "metadata": {},
     "output_type": "execute_result"
    }
   ],
   "source": [
    "M1 = matroid_from_revlex_basis_encoding(mats[1],3,9)#I think this is the meowtroid with an extra point"
   ]
  },
  {
   "cell_type": "code",
   "execution_count": 14,
   "metadata": {},
   "outputs": [
    {
     "data": {
      "text/plain": [
       "Matroid of rank 3 on 8 elements"
      ]
     },
     "execution_count": 14,
     "metadata": {},
     "output_type": "execute_result"
    }
   ],
   "source": [
    "del1 = deletion(M1,[9])"
   ]
  },
  {
   "cell_type": "code",
   "execution_count": 16,
   "metadata": {},
   "outputs": [
    {
     "data": {
      "text/plain": [
       "true"
      ]
     },
     "execution_count": 16,
     "metadata": {},
     "output_type": "execute_result"
    }
   ],
   "source": [
    "is_isomorphic(del1,meow)"
   ]
  },
  {
   "cell_type": "code",
   "execution_count": 38,
   "metadata": {},
   "outputs": [
    {
     "data": {
      "text/plain": [
       "10-element Vector{Vector}:\n",
       " Any[]\n",
       " [1, 2, 3]\n",
       " [1, 4, 5]\n",
       " [1, 7, 8]\n",
       " [2, 4, 6]\n",
       " [2, 5, 8]\n",
       " [3, 4, 7]\n",
       " [3, 6, 8]\n",
       " [5, 6, 7]\n",
       " [1, 2, 3, 4, 5, 6, 7, 8, 9]"
      ]
     },
     "execution_count": 38,
     "metadata": {},
     "output_type": "execute_result"
    }
   ],
   "source": [
    "cyclic_flats(M1)#notice that these nonbases are exactly the same as the meowtroid (up to permutation). \n",
    "#Hence the drawing is just the meowtroid with an extra point not contained in any lines"
   ]
  },
  {
   "cell_type": "code",
   "execution_count": 17,
   "metadata": {},
   "outputs": [
    {
     "data": {
      "text/plain": [
       "Matroid of rank 3 on 9 elements"
      ]
     },
     "execution_count": 17,
     "metadata": {},
     "output_type": "execute_result"
    }
   ],
   "source": [
    "M2 = matroid_from_revlex_basis_encoding(mats[2],3,9)"
   ]
  },
  {
   "cell_type": "code",
   "execution_count": 18,
   "metadata": {},
   "outputs": [
    {
     "data": {
      "text/plain": [
       "Matroid of rank 3 on 8 elements"
      ]
     },
     "execution_count": 18,
     "metadata": {},
     "output_type": "execute_result"
    }
   ],
   "source": [
    "del2 = deletion(M2,[9])"
   ]
  },
  {
   "cell_type": "code",
   "execution_count": 20,
   "metadata": {},
   "outputs": [
    {
     "data": {
      "text/plain": [
       "true"
      ]
     },
     "execution_count": 20,
     "metadata": {},
     "output_type": "execute_result"
    }
   ],
   "source": [
    "is_isomorphic(del2,meow)"
   ]
  },
  {
   "cell_type": "code",
   "execution_count": 115,
   "metadata": {},
   "outputs": [
    {
     "data": {
      "text/plain": [
       "11-element Vector{Vector}:\n",
       " Any[]\n",
       " [1, 2, 3]\n",
       " [1, 4, 5]\n",
       " [1, 7, 8]\n",
       " [2, 4, 6]\n",
       " [2, 5, 8]\n",
       " [3, 4, 7]\n",
       " [3, 6, 8]\n",
       " [3, 5, 9]\n",
       " [5, 6, 7]\n",
       " [1, 2, 3, 4, 5, 6, 7, 8, 9]"
      ]
     },
     "execution_count": 115,
     "metadata": {},
     "output_type": "execute_result"
    }
   ],
   "source": [
    "cyclic_flats(M2)#the nonbases are the same as the meowtroid, with one more line through 9"
   ]
  },
  {
   "cell_type": "code",
   "execution_count": null,
   "metadata": {},
   "outputs": [],
   "source": [
    "#create new matroid by adding new line"
   ]
  },
  {
   "cell_type": "code",
   "execution_count": 137,
   "metadata": {},
   "outputs": [
    {
     "data": {
      "text/plain": [
       "9-element Vector{Vector{Int64}}:\n",
       " [1, 2, 6]\n",
       " [1, 7, 8]\n",
       " [1, 4, 5]\n",
       " [2, 3, 5]\n",
       " [3, 6, 8]\n",
       " [2, 4, 8]\n",
       " [5, 6, 7]\n",
       " [3, 4, 7]\n",
       " [4, 6, 9]"
      ]
     },
     "execution_count": 137,
     "metadata": {},
     "output_type": "execute_result"
    }
   ],
   "source": [
    "test2 = [[1,2,6],[1,7,8],[1,4,5],[2,3,5],[3,6,8],[2,4,8],[5,6,7],[3,4,7],[4,6,9]]"
   ]
  },
  {
   "cell_type": "code",
   "execution_count": 138,
   "metadata": {},
   "outputs": [
    {
     "data": {
      "text/plain": [
       "Matroid of rank 3 on 9 elements"
      ]
     },
     "execution_count": 138,
     "metadata": {},
     "output_type": "execute_result"
    }
   ],
   "source": [
    "Mtest2 = matroid_from_nonbases(test2,9)"
   ]
  },
  {
   "cell_type": "code",
   "execution_count": 139,
   "metadata": {},
   "outputs": [
    {
     "data": {
      "text/plain": [
       "true"
      ]
     },
     "execution_count": 139,
     "metadata": {},
     "output_type": "execute_result"
    }
   ],
   "source": [
    "is_isomorphic(Mtest2,M2)#hence M2 is just the meowtroid with a new line"
   ]
  },
  {
   "cell_type": "code",
   "execution_count": 21,
   "metadata": {},
   "outputs": [
    {
     "data": {
      "text/plain": [
       "Matroid of rank 3 on 9 elements"
      ]
     },
     "execution_count": 21,
     "metadata": {},
     "output_type": "execute_result"
    }
   ],
   "source": [
    "M3 = matroid_from_revlex_basis_encoding(mats[3],3,9)"
   ]
  },
  {
   "cell_type": "code",
   "execution_count": 22,
   "metadata": {},
   "outputs": [
    {
     "data": {
      "text/plain": [
       "Matroid of rank 3 on 8 elements"
      ]
     },
     "execution_count": 22,
     "metadata": {},
     "output_type": "execute_result"
    }
   ],
   "source": [
    "del3 = deletion(M3,[4])"
   ]
  },
  {
   "cell_type": "code",
   "execution_count": 23,
   "metadata": {},
   "outputs": [
    {
     "data": {
      "text/plain": [
       "true"
      ]
     },
     "execution_count": 23,
     "metadata": {},
     "output_type": "execute_result"
    }
   ],
   "source": [
    "is_isomorphic(meow,del3)"
   ]
  },
  {
   "cell_type": "code",
   "execution_count": 131,
   "metadata": {},
   "outputs": [
    {
     "data": {
      "text/plain": [
       "10-element Vector{Vector}:\n",
       " Any[]\n",
       " [1, 2, 3, 4]\n",
       " [1, 5, 6]\n",
       " [1, 8, 9]\n",
       " [2, 5, 7]\n",
       " [2, 6, 9]\n",
       " [3, 5, 8]\n",
       " [3, 7, 9]\n",
       " [6, 7, 8]\n",
       " [1, 2, 3, 4, 5, 6, 7, 8, 9]"
      ]
     },
     "execution_count": 131,
     "metadata": {},
     "output_type": "execute_result"
    }
   ],
   "source": [
    "cyclic_flats(M3)#we will show this is just the meowtroid with a line extended"
   ]
  },
  {
   "cell_type": "code",
   "execution_count": 153,
   "metadata": {},
   "outputs": [
    {
     "data": {
      "text/plain": [
       "Matroid of rank 3 on 9 elements"
      ]
     },
     "execution_count": 153,
     "metadata": {},
     "output_type": "execute_result"
    }
   ],
   "source": [
    "new_line = [1,2,6,9]#add new point to [1,2,6] line\n",
    "NBs_from_line = subsets(new_line3,3)\n",
    "#union of nonbases from meowtroid and new line\n",
    "nonbases3 = union(meowNB,NBs_from_line)\n",
    "Mtest3 = matroid_from_nonbases(nonbases3,9)"
   ]
  },
  {
   "cell_type": "code",
   "execution_count": 130,
   "metadata": {},
   "outputs": [
    {
     "data": {
      "text/plain": [
       "true"
      ]
     },
     "execution_count": 130,
     "metadata": {},
     "output_type": "execute_result"
    }
   ],
   "source": [
    "is_isomorphic(Mtest3,M3)#hence this is just the meowtroid a new point on one of the lines"
   ]
  },
  {
   "cell_type": "code",
   "execution_count": 24,
   "metadata": {},
   "outputs": [
    {
     "data": {
      "text/plain": [
       "Matroid of rank 3 on 9 elements"
      ]
     },
     "execution_count": 24,
     "metadata": {},
     "output_type": "execute_result"
    }
   ],
   "source": [
    "M4 = matroid_from_revlex_basis_encoding(mats[4],3,9)"
   ]
  },
  {
   "cell_type": "code",
   "execution_count": 25,
   "metadata": {},
   "outputs": [
    {
     "data": {
      "text/plain": [
       "Matroid of rank 3 on 8 elements"
      ]
     },
     "execution_count": 25,
     "metadata": {},
     "output_type": "execute_result"
    }
   ],
   "source": [
    "del4 = deletion(M4,[1])"
   ]
  },
  {
   "cell_type": "code",
   "execution_count": 132,
   "metadata": {},
   "outputs": [
    {
     "data": {
      "text/plain": [
       "true"
      ]
     },
     "execution_count": 132,
     "metadata": {},
     "output_type": "execute_result"
    }
   ],
   "source": [
    "is_isomorphic(del4,meow)#hence the deletion of one element is isomorphic to the meowtroid"
   ]
  },
  {
   "cell_type": "code",
   "execution_count": 197,
   "metadata": {},
   "outputs": [
    {
     "data": {
      "text/plain": [
       "12-element Vector{Vector{Int64}}:\n",
       " [1, 2, 6]\n",
       " [1, 7, 8]\n",
       " [1, 4, 5]\n",
       " [2, 3, 5]\n",
       " [3, 6, 8]\n",
       " [2, 4, 8]\n",
       " [5, 6, 7]\n",
       " [3, 4, 7]\n",
       " [1, 6, 9]\n",
       " [2, 6, 9]\n",
       " [1, 2, 9]\n",
       " [5, 8, 9]"
      ]
     },
     "execution_count": 197,
     "metadata": {},
     "output_type": "execute_result"
    }
   ],
   "source": [
    "#we will show the drawing of M4 is the meowtroid with a new point on a line and a new line through that point\n",
    "nonbases_test_4 = union(meowNB,NBs_from_line,[[5,8,9]])#use same line from M3, add new line"
   ]
  },
  {
   "cell_type": "code",
   "execution_count": 198,
   "metadata": {},
   "outputs": [
    {
     "data": {
      "text/plain": [
       "Matroid of rank 3 on 9 elements"
      ]
     },
     "execution_count": 198,
     "metadata": {},
     "output_type": "execute_result"
    }
   ],
   "source": [
    "testM4 = matroid_from_nonbases(nonbases_test_4,9)"
   ]
  },
  {
   "cell_type": "code",
   "execution_count": null,
   "metadata": {},
   "outputs": [],
   "source": [
    "#note: I tried a few things that did not work. In particular: adding 9 to the [2,4,8,9] line, \n",
    "#and then adding the line through [1,7,9]. Was told this did not give me the bases of a matroid,\n",
    "#which is weird to me, since its just more colinarities. Maybe M4 will be the most interesting new picture, \n",
    "#since the [5,8,9] line is awkwardly curved but a new drawing might be better."
   ]
  },
  {
   "cell_type": "code",
   "execution_count": 27,
   "metadata": {},
   "outputs": [
    {
     "data": {
      "text/plain": [
       "Matroid of rank 3 on 9 elements"
      ]
     },
     "execution_count": 27,
     "metadata": {},
     "output_type": "execute_result"
    }
   ],
   "source": [
    "M5 = matroid_from_revlex_basis_encoding(mats[5],3,9)"
   ]
  },
  {
   "cell_type": "code",
   "execution_count": 31,
   "metadata": {},
   "outputs": [
    {
     "data": {
      "text/plain": [
       "Matroid of rank 3 on 8 elements"
      ]
     },
     "execution_count": 31,
     "metadata": {},
     "output_type": "execute_result"
    }
   ],
   "source": [
    "del5 = deletion(M5,[1])"
   ]
  },
  {
   "cell_type": "code",
   "execution_count": 30,
   "metadata": {},
   "outputs": [
    {
     "data": {
      "text/plain": [
       "true"
      ]
     },
     "execution_count": 30,
     "metadata": {},
     "output_type": "execute_result"
    }
   ],
   "source": [
    "is_isomorphic(del5,meow)#hence we obtain the meowtroid from M5 by deleting an element"
   ]
  },
  {
   "cell_type": "code",
   "execution_count": 166,
   "metadata": {},
   "outputs": [
    {
     "data": {
      "text/plain": [
       "4-element Vector{Vector{Int64}}:\n",
       " [3, 7, 9]\n",
       " [4, 7, 9]\n",
       " [3, 4, 9]\n",
       " [3, 4, 7]"
      ]
     },
     "execution_count": 166,
     "metadata": {},
     "output_type": "execute_result"
    }
   ],
   "source": [
    "#we will show the drawing for M5 is just the meowtroid with 2 lines extended to meet in a new point\n",
    "newline_2 = [3,4,7,9]#add new element to [3,4,7] line\n",
    "NBs_from_line_2 = subsets(newline_2,3)"
   ]
  },
  {
   "cell_type": "code",
   "execution_count": 164,
   "metadata": {},
   "outputs": [
    {
     "data": {
      "text/plain": [
       "14-element Vector{Vector{Int64}}:\n",
       " [1, 2, 6]\n",
       " [1, 7, 8]\n",
       " [1, 4, 5]\n",
       " [2, 3, 5]\n",
       " [3, 6, 8]\n",
       " [2, 4, 8]\n",
       " [5, 6, 7]\n",
       " [3, 4, 7]\n",
       " [1, 6, 9]\n",
       " [2, 6, 9]\n",
       " [1, 2, 9]\n",
       " [3, 7, 9]\n",
       " [4, 7, 9]\n",
       " [3, 4, 9]"
      ]
     },
     "execution_count": 164,
     "metadata": {},
     "output_type": "execute_result"
    }
   ],
   "source": [
    "nonbases5 = union(meowNB,NBs_from_line,NBs_from_line_2)#note we are using the same line extension from M3"
   ]
  },
  {
   "cell_type": "code",
   "execution_count": 160,
   "metadata": {},
   "outputs": [
    {
     "data": {
      "text/plain": [
       "Matroid of rank 3 on 9 elements"
      ]
     },
     "execution_count": 160,
     "metadata": {},
     "output_type": "execute_result"
    }
   ],
   "source": [
    "Mtest5 = matroid_from_nonbases(nonbases5,9)"
   ]
  },
  {
   "cell_type": "code",
   "execution_count": 161,
   "metadata": {},
   "outputs": [
    {
     "data": {
      "text/plain": [
       "true"
      ]
     },
     "execution_count": 161,
     "metadata": {},
     "output_type": "execute_result"
    }
   ],
   "source": [
    "is_isomorphic(Mtest5,M5)\n",
    "#hencethe drawing for M5 is the meowtroid with 2 lines extended to meet in a single point"
   ]
  },
  {
   "cell_type": "code",
   "execution_count": 8,
   "metadata": {},
   "outputs": [],
   "source": [
    "#Extended example for 3-9"
   ]
  },
  {
   "cell_type": "code",
   "execution_count": 9,
   "metadata": {},
   "outputs": [
    {
     "data": {
      "text/plain": [
       "10-element Vector{Vector{Int64}}:\n",
       " [1, 2, 5]\n",
       " [1, 3, 9]\n",
       " [1, 4, 7]\n",
       " [1, 6, 8]\n",
       " [2, 3, 7]\n",
       " [2, 4, 6]\n",
       " [2, 8, 9]\n",
       " [3, 4, 5]\n",
       " [5, 7, 8]\n",
       " [6, 7, 9]"
      ]
     },
     "execution_count": 9,
     "metadata": {},
     "output_type": "execute_result"
    }
   ],
   "source": [
    "nb = [[1,2,5],[1,3,9],[1,4,7],[1,6,8],[2,3,7],[2,4,6],[2,8,9],[3,4,5],[5,7,8],[6,7,9]]"
   ]
  },
  {
   "cell_type": "code",
   "execution_count": 94,
   "metadata": {},
   "outputs": [
    {
     "data": {
      "text/plain": [
       "Matroid of rank 3 on 9 elements"
      ]
     },
     "execution_count": 94,
     "metadata": {},
     "output_type": "execute_result"
    }
   ],
   "source": [
    "M = matroid_from_nonbases(nb,9)"
   ]
  },
  {
   "cell_type": "code",
   "execution_count": 70,
   "metadata": {},
   "outputs": [
    {
     "data": {
      "text/plain": [
       "Matroid of rank 3 on 9 elements"
      ]
     },
     "execution_count": 70,
     "metadata": {},
     "output_type": "execute_result"
    }
   ],
   "source": [
    "M =    matroid_from_revlex_basis_encoding(puni[2],3,9)"
   ]
  },
  {
   "cell_type": "code",
   "execution_count": 102,
   "metadata": {},
   "outputs": [
    {
     "data": {
      "text/plain": [
       "[1   0   0   1   x1   x2    0   x5   x7]\n",
       "[0   1   0   1    1   x3   x4   x6    0]\n",
       "[0   0   1   1    0    1    1    1    1]"
      ]
     },
     "metadata": {},
     "output_type": "display_data"
    },
    {
     "data": {
      "text/plain": [
       "The representations of the matroid are parametrized by the matrix\n",
       "in the Multivariate polynomial ring in 7 variables over QQ\n",
       "within the vanishing set of the ideal\n",
       "ideal(x6 - x7 - 1, x5 - x7, x4 - 1, x3 - x7 - 1, x2 - 1, x1 - 1, x7^2 + 1)\n",
       "avoiding the zero loci of the polynomials\n",
       "RingElem[x6, x7, x5 + x6*x7 - x6 - x7, x1*x6 - x5 + x7, x2*x6 - x3*x5 + x3*x7 - x6*x7, x4*x5 - x4*x7 + x6*x7, x4, x4*x7 - x4 - x7, x1*x4 + x7, x3  …  x5 - x6, x3 - x4, x2, x2*x4 - x2 + x3 - x4, x1*x3 - x1*x4 - x2, x1*x4 - x1 + 1, x1*x3 - x2, x1*x3 - x1 - x2 + 1, x3 - 1, x2 - x3]\n"
      ]
     },
     "execution_count": 102,
     "metadata": {},
     "output_type": "execute_result"
    }
   ],
   "source": [
    "As = rank_plus1_circuits(M) \n",
    "MR = new_matroid_realization_space(M, [1,2,3,4]; F=QQ, saturate=true)"
   ]
  },
  {
   "cell_type": "code",
   "execution_count": 103,
   "metadata": {},
   "outputs": [
    {
     "data": {
      "text/plain": [
       "38"
      ]
     },
     "execution_count": 103,
     "metadata": {},
     "output_type": "execute_result"
    }
   ],
   "source": [
    "length(MR.inequations)"
   ]
  },
  {
   "cell_type": "code",
   "execution_count": 101,
   "metadata": {},
   "outputs": [
    {
     "data": {
      "text/plain": [
       "[1   0   0   1   1        1   0       x1   x1]\n",
       "[0   1   0   1   1   x1 + 1   1   x1 + 1    0]\n",
       "[0   0   1   1   0        1   1        1    1]"
      ]
     },
     "metadata": {},
     "output_type": "display_data"
    },
    {
     "data": {
      "text/plain": [
       "The representations of the matroid are parametrized by the matrix\n",
       "in the Multivariate polynomial ring in 1 variable over QQ\n",
       "within the vanishing set of the ideal\n",
       "ideal(x1^2 + 1)\n",
       "avoiding the zero loci of the polynomials\n",
       "RingElem[x1 + 1, x1, x1 - 1]\n"
      ]
     },
     "execution_count": 101,
     "metadata": {},
     "output_type": "execute_result"
    }
   ],
   "source": [
    "reduce_ideal_full(MR) "
   ]
  },
  {
   "cell_type": "code",
   "execution_count": 1,
   "metadata": {},
   "outputs": [
    {
     "data": {
      "text/plain": [
       "11-element Vector{Vector{Int64}}:\n",
       " [1, 2, 5]\n",
       " [1, 3, 6]\n",
       " [1, 4, 8]\n",
       " [2, 3, 7]\n",
       " [2, 4, 9]\n",
       " [2, 6, 10]\n",
       " [3, 4, 5]\n",
       " [4, 6, 7]\n",
       " [5, 9, 10]\n",
       " [6, 8, 9]\n",
       " [7, 8, 10]"
      ]
     },
     "execution_count": 1,
     "metadata": {},
     "output_type": "execute_result"
    }
   ],
   "source": [
    "nb2   = [[1, 2, 5], [1, 3, 6], [1, 4, 8], [2, 3, 7], [2, 4, 9], [2, 6, 10],\n",
    "[3, 4, 5], [4, 6, 7], [5, 9, 10], [6, 8, 9], [7, 8, 10]]"
   ]
  },
  {
   "cell_type": "code",
   "execution_count": 11,
   "metadata": {},
   "outputs": [
    {
     "data": {
      "text/plain": [
       "3-element Vector{Vector{Int64}}:\n",
       " [1, 2, 3, 4]\n",
       " [1, 2, 4, 6]\n",
       " [2, 3, 4, 6]"
      ]
     },
     "execution_count": 11,
     "metadata": {},
     "output_type": "execute_result"
    }
   ],
   "source": [
    "M2 = matroid_from_nonbases(nb2,10)\n",
    "As = optimal_circuits(M2)"
   ]
  },
  {
   "cell_type": "code",
   "execution_count": 12,
   "metadata": {},
   "outputs": [
    {
     "data": {
      "text/plain": [
       "[1   0   x1   0   x3   1   x4   x6    0   x8]\n",
       "[0   1   x2   0    1   1   x5    0   x7   x9]\n",
       "[0   0    1   1    0   1    1    1    1    1]"
      ]
     },
     "metadata": {},
     "output_type": "display_data"
    },
    {
     "data": {
      "text/plain": [
       "The representations of the matroid are parametrized by the matrix\n",
       "in the Multivariate polynomial ring in 9 variables over QQ\n",
       "within the vanishing set of the ideal\n",
       "ideal(x8 - 1, x4 - x5, x3 - x5, x2 - 1, x1 - x5, x6*x7 - x6 - x7, x5*x7 - x5*x9 + 1, x5*x6 + x5*x9 - x5 - x6*x9, x6*x9^2 - x6*x9 - x6 - x7*x9 - x9 + 1, x5*x9^2 - x5*x9 + x5 - x7*x9 - x9, x7^2*x9 - x7*x9^2 + x7*x9 - x9 + 1)\n",
       "avoiding the zero loci of the polynomials\n",
       "RingElem[x7 - x9, x8, x1*x7 - x1*x9 + x2*x8 - x7*x8, x7, x7*x8 - x7 - x8 + x9, x4*x7 - x4*x9 + x5*x8 - x7*x8, x6*x7 - x6*x9 - x7*x8, x9, x6 - x8, x1*x9 + x2*x6 - x2*x8 - x6*x9  …  x1*x5 - x1 - x2*x4 + x2 + x4 - x5, x3*x5 - x3 - x4 + 1, x1 - x2*x3 + x3*x5 - x4, x3*x5 - x4, x1*x5 - x2*x4, x2 - x5, x1 - x2*x3 + x3 - 1, x3 - 1, x1 - x2, x1 - 1]\n"
      ]
     },
     "execution_count": 12,
     "metadata": {},
     "output_type": "execute_result"
    }
   ],
   "source": [
    "MR2 = new_matroid_realization_space(M2, As[2]; F=QQ, saturate=true)"
   ]
  },
  {
   "cell_type": "code",
   "execution_count": 14,
   "metadata": {},
   "outputs": [
    {
     "data": {
      "text/plain": [
       "[1   0        -1   0        -1   1        -1       x1    0    1]\n",
       "[0   1   x1 - x2   0   x1 - x2   1        -1        0   x1   x2]\n",
       "[0   0   x1 - x2   1         0   1   x1 - x2   x1 - 1    1    1]"
      ]
     },
     "metadata": {},
     "output_type": "display_data"
    },
    {
     "data": {
      "text/plain": [
       "The representations of the matroid are parametrized by the matrix\n",
       "in the Multivariate polynomial ring in 2 variables over QQ\n",
       "within the vanishing set of the ideal\n",
       "ideal(x1^2*x2 - x1*x2^2 + x1*x2 - x2 + 1)\n",
       "avoiding the zero loci of the polynomials\n",
       "RingElem[x1 - x2, x1, x2 - 1, x1^2 - x1*x2 + x1 - x2 + 1, x2, x1*x2 - x2^2 + x2 - 1, x1*x2 - x2^2 + 1, x1 - x2 + 1, x1^2 - x1*x2 + 1, x1 - 1, x1^2 - x1*x2 + x1 - 1, x1^3 + x1^2 - x1*x2^2 + x1*x2 - x2 + 1]\n"
      ]
     },
     "execution_count": 14,
     "metadata": {},
     "output_type": "execute_result"
    }
   ],
   "source": [
    "MRR = reduce_ideal_full(MR2)"
   ]
  },
  {
   "cell_type": "code",
   "execution_count": 15,
   "metadata": {},
   "outputs": [
    {
     "data": {
      "text/plain": [
       "ideal(x1^2*x2 - x1*x2^2 + x1*x2 - x2 + 1)"
      ]
     },
     "execution_count": 15,
     "metadata": {},
     "output_type": "execute_result"
    }
   ],
   "source": [
    "I = MRR.defining_ideal"
   ]
  },
  {
   "cell_type": "code",
   "execution_count": 16,
   "metadata": {},
   "outputs": [
    {
     "data": {
      "text/plain": [
       "12-element Vector{RingElem}:\n",
       " x1 - x2\n",
       " x1\n",
       " x2 - 1\n",
       " x1^2 - x1*x2 + x1 - x2 + 1\n",
       " x2\n",
       " x1*x2 - x2^2 + x2 - 1\n",
       " x1*x2 - x2^2 + 1\n",
       " x1 - x2 + 1\n",
       " x1^2 - x1*x2 + 1\n",
       " x1 - 1\n",
       " x1^2 - x1*x2 + x1 - 1\n",
       " x1^3 + x1^2 - x1*x2^2 + x1*x2 - x2 + 1"
      ]
     },
     "execution_count": 16,
     "metadata": {},
     "output_type": "execute_result"
    }
   ],
   "source": [
    "S = MRR.inequations"
   ]
  },
  {
   "cell_type": "code",
   "execution_count": 29,
   "metadata": {},
   "outputs": [
    {
     "ename": "LoadError",
     "evalue": "MethodError: no method matching iterate(::QQMPolyRing)\n\u001b[0mClosest candidates are:\n\u001b[0m  iterate(\u001b[91m::Union{LinRange, StepRangeLen}\u001b[39m) at ~/julia-1.7.1/share/julia/base/range.jl:826\n\u001b[0m  iterate(\u001b[91m::Union{LinRange, StepRangeLen}\u001b[39m, \u001b[91m::Integer\u001b[39m) at ~/julia-1.7.1/share/julia/base/range.jl:826\n\u001b[0m  iterate(\u001b[91m::T\u001b[39m) where T<:Union{Base.KeySet{<:Any, <:Dict}, Base.ValueIterator{<:Dict}} at ~/julia-1.7.1/share/julia/base/dict.jl:695\n\u001b[0m  ...",
     "output_type": "error",
     "traceback": [
      "MethodError: no method matching iterate(::QQMPolyRing)\n\u001b[0mClosest candidates are:\n\u001b[0m  iterate(\u001b[91m::Union{LinRange, StepRangeLen}\u001b[39m) at ~/julia-1.7.1/share/julia/base/range.jl:826\n\u001b[0m  iterate(\u001b[91m::Union{LinRange, StepRangeLen}\u001b[39m, \u001b[91m::Integer\u001b[39m) at ~/julia-1.7.1/share/julia/base/range.jl:826\n\u001b[0m  iterate(\u001b[91m::T\u001b[39m) where T<:Union{Base.KeySet{<:Any, <:Dict}, Base.ValueIterator{<:Dict}} at ~/julia-1.7.1/share/julia/base/dict.jl:695\n\u001b[0m  ...",
      "",
      "Stacktrace:",
      " [1] indexed_iterate(I::QQMPolyRing, i::Int64)",
      "   @ Base ./tuple.jl:92",
      " [2] realization_space_2_singular_locus(RS::MatroidRealizationSpace)",
      "   @ Main ~/Desktop/jupyter_notebooks/matroidRealizationSpaces/src/Jacobian_Criterion.jl:37",
      " [3] top-level scope",
      "   @ In[29]:1"
     ]
    }
   ],
   "source": [
    "realization_space_2_singular_locus(MR2)"
   ]
  },
  {
   "cell_type": "code",
   "execution_count": null,
   "metadata": {},
   "outputs": [],
   "source": []
  }
 ],
 "metadata": {
  "kernelspec": {
   "display_name": "Julia 1.7.1",
   "language": "julia",
   "name": "julia-1.7"
  },
  "language_info": {
   "file_extension": ".jl",
   "mimetype": "application/julia",
   "name": "julia",
   "version": "1.7.1"
  }
 },
 "nbformat": 4,
 "nbformat_minor": 4
}
