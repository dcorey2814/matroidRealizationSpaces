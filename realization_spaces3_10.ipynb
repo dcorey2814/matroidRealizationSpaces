{
 "cells": [
  {
   "cell_type": "code",
   "execution_count": 1,
   "metadata": {},
   "outputs": [
    {
     "name": "stdout",
     "output_type": "stream",
     "text": [
      " -----    -----    -----      -      -----   \n",
      "|     |  |     |  |     |    | |    |     |  \n",
      "|     |  |        |         |   |   |     |  \n",
      "|     |   -----   |        |     |  |-----   \n",
      "|     |        |  |        |-----|  |   |    \n",
      "|     |  |     |  |     |  |     |  |    |   \n",
      " -----    -----    -----   -     -  -     -  \n",
      "\n",
      "...combining (and extending) ANTIC, GAP, Polymake and Singular\n",
      "Version\u001b[32m 0.10.2 \u001b[39m... \n",
      " ... which comes with absolutely no warranty whatsoever\n",
      "Type: '?Oscar' for more information\n",
      "(c) 2019-2022 by The Oscar Development Team\n"
     ]
    },
    {
     "data": {
      "text/plain": [
       "Polymake"
      ]
     },
     "execution_count": 1,
     "metadata": {},
     "output_type": "execute_result"
    }
   ],
   "source": [
    "using Oscar\n",
    "using Combinatorics\n",
    "pm = Polymake"
   ]
  },
  {
   "cell_type": "code",
   "execution_count": 2,
   "metadata": {},
   "outputs": [
    {
     "data": {
      "text/plain": [
       "matroid_to_reduced_expression (generic function with 1 method)"
      ]
     },
     "execution_count": 2,
     "metadata": {},
     "output_type": "execute_result"
    }
   ],
   "source": [
    "include(\"matroid_realization.jl\");\n",
    "include(\"reduceIdeals.jl\")\n",
    "\n",
    "\n",
    "d3n10 = vec(readlines(\"d3n10.dat\"));\n",
    "\n",
    "\n",
    "function matroid_to_reduced_expression(Q, F,k)\n",
    "    charts = [c for c in circuits(Q) if length(c) == 4]\n",
    "    A = charts[1]\n",
    "    RQ = matroid_realization_space(Q, A, F)\n",
    "    R = parent(RQ[1][1])\n",
    "    Sgens = [s for s in RQ[2] if length(s) <= k]#new 13.1.2023\n",
    "    I = reduce_ideal_full(RQ[1], Sgens, R, gens(R), false)\n",
    "    return (I[1], I[2])#I[1] = ideal generators, I[2] = subgroup generators\n",
    "end\n",
    "\n"
   ]
  },
  {
   "cell_type": "code",
   "execution_count": 3,
   "metadata": {},
   "outputs": [
    {
     "data": {
      "text/plain": [
       "5249-element Vector{String}:\n",
       " \"*******************************\" ⋯ 58 bytes ⋯ \"*******************************\"\n",
       " \"0******************************\" ⋯ 58 bytes ⋯ \"*******************************\"\n",
       " \"0******************0***********\" ⋯ 58 bytes ⋯ \"*******************************\"\n",
       " \"0******************0***********\" ⋯ 58 bytes ⋯ \"*******************************\"\n",
       " \"0******0***********************\" ⋯ 58 bytes ⋯ \"*******************************\"\n",
       " \"0******0***********************\" ⋯ 58 bytes ⋯ \"*******************************\"\n",
       " \"0******0***********************\" ⋯ 58 bytes ⋯ \"****************************0**\"\n",
       " \"0******0***********************\" ⋯ 58 bytes ⋯ \"*******************************\"\n",
       " \"0******0***********************\" ⋯ 58 bytes ⋯ \"******************************0\"\n",
       " \"0******0***********************\" ⋯ 58 bytes ⋯ \"*******************************\"\n",
       " \"0******0***********************\" ⋯ 58 bytes ⋯ \"*********************0*********\"\n",
       " \"0******0***********************\" ⋯ 58 bytes ⋯ \"*******************************\"\n",
       " \"0******0***********************\" ⋯ 58 bytes ⋯ \"*******************************\"\n",
       " ⋮\n",
       " \"00000000000000000000***********\" ⋯ 58 bytes ⋯ \"***********0******0************\"\n",
       " \"00000000000000000000***********\" ⋯ 58 bytes ⋯ \"***********0******0*******0****\"\n",
       " \"00000000000000000000***********\" ⋯ 58 bytes ⋯ \"**********0*****0*****00*****00\"\n",
       " \"0000000000000000000000000000000\" ⋯ 58 bytes ⋯ \"*******************************\"\n",
       " \"0000000000000000000000000000000\" ⋯ 58 bytes ⋯ \"******************************0\"\n",
       " \"0000000000000000000000000000000\" ⋯ 58 bytes ⋯ \"*******************************\"\n",
       " \"0000000000000000000000000000000\" ⋯ 58 bytes ⋯ \"*****************0*************\"\n",
       " \"0000000000000000000000000000000\" ⋯ 58 bytes ⋯ \"*****************0*******0*****\"\n",
       " \"0000000000000000000000000000000\" ⋯ 58 bytes ⋯ \"****************0******0******0\"\n",
       " \"0000000000000000000000000000000\" ⋯ 58 bytes ⋯ \"*******************************\"\n",
       " \"0000000000000000000000000000000\" ⋯ 58 bytes ⋯ \"***********************0*******\"\n",
       " \"0000000000000000000000000000000\" ⋯ 58 bytes ⋯ \"*******************************\""
      ]
     },
     "execution_count": 3,
     "metadata": {},
     "output_type": "execute_result"
    }
   ],
   "source": [
    "d3n10"
   ]
  },
  {
   "cell_type": "code",
   "execution_count": 16,
   "metadata": {},
   "outputs": [
    {
     "data": {
      "text/plain": [
       "find_lines (generic function with 1 method)"
      ]
     },
     "execution_count": 16,
     "metadata": {},
     "output_type": "execute_result"
    }
   ],
   "source": []
  },
  {
   "cell_type": "code",
   "execution_count": 15,
   "metadata": {},
   "outputs": [
    {
     "data": {
      "text/plain": [
       "in_lines (generic function with 1 method)"
      ]
     },
     "execution_count": 15,
     "metadata": {},
     "output_type": "execute_result"
    }
   ],
   "source": [
    "#for an element n, counts how many lines its in\n",
    "function in_lines(n,L)\n",
    "    xn = 0\n",
    "    for z in 1:length(L)\n",
    "        if n in L[z]\n",
    "           xn += 1 \n",
    "        end\n",
    "    end\n",
    "    return xn\n",
    "end"
   ]
  },
  {
   "cell_type": "code",
   "execution_count": 16,
   "metadata": {},
   "outputs": [],
   "source": [
    "#find simple matroids such that each element is contained in at least 3 lines\n",
    "#this could be a function that depends on M and k, where k is the number of \"lines\"\n",
    "has_property = []\n",
    "for z in 1:length(d3n10)\n",
    "    Mz = matroid_from_revlex_basis_encoding(d3n10[z], 3, 10)\n",
    "    L = cyclic_flats(Mz,2)\n",
    "    xm = 0\n",
    "    for t in 1:10\n",
    "        if in_lines(t,L)>2\n",
    "            xm +=1\n",
    "        end\n",
    "    end\n",
    "    #print(z,\"\\n\", xm ,\"\\n\",find_lines(z),\"\\n\")\n",
    "    if xm == 10\n",
    "        push!(has_property,z)\n",
    "    end\n",
    "end"
   ]
  },
  {
   "cell_type": "code",
   "execution_count": 17,
   "metadata": {},
   "outputs": [
    {
     "data": {
      "text/plain": [
       "151-element Vector{Any}:\n",
       "  324\n",
       "  423\n",
       "  428\n",
       "  450\n",
       "  630\n",
       "  635\n",
       "  798\n",
       "  884\n",
       "  894\n",
       "  903\n",
       "  904\n",
       "  906\n",
       "  908\n",
       "    ⋮\n",
       " 4810\n",
       " 4822\n",
       " 4825\n",
       " 4829\n",
       " 4839\n",
       " 4841\n",
       " 4903\n",
       " 4910\n",
       " 4916\n",
       " 4917\n",
       " 4919\n",
       " 5085"
      ]
     },
     "execution_count": 17,
     "metadata": {},
     "output_type": "execute_result"
    }
   ],
   "source": [
    "has_property"
   ]
  },
  {
   "cell_type": "code",
   "execution_count": 5,
   "metadata": {},
   "outputs": [
    {
     "name": "stdout",
     "output_type": "stream",
     "text": [
      "\n",
      "\n",
      "k = 1\n",
      "\n",
      "1 : 0\n",
      "2 : -1 * (x_{1, 2}*x_{2, 3}*x_{2, 5}*x_{2, 6} - x_{1, 2}*x_{2, 3}*x_{2, 5} - x_{1, 2}*x_{2, 5}*x_{2, 6} + x_{1, 2}*x_{2, 5} + x_{2, 3}*x_{2, 5} - x_{2, 3}*x_{2, 6})\n",
      "3 : -1 * (x_{1, 2}*x_{2, 3}*x_{2, 6} - x_{1, 2}*x_{2, 3} - x_{1, 2}*x_{2, 5}*x_{2, 6} + x_{1, 2}*x_{2, 5} + x_{2, 3}*x_{2, 5} - x_{2, 3}*x_{2, 6})\n",
      "\n",
      "\n",
      "k = 2\n",
      "\n"
     ]
    },
    {
     "ename": "LoadError",
     "evalue": "can not localize at the zero element",
     "output_type": "error",
     "traceback": [
      "can not localize at the zero element",
      "",
      "Stacktrace:",
      " [1] error(s::String)",
      "   @ Base ./error.jl:33",
      " [2] MPolyPowersOfElement(R::FmpzMPolyRing, a::Vector{fmpz_mpoly})",
      "   @ Oscar ~/.julia/packages/Oscar/QBmqO/src/Rings/mpoly-localizations.jl:72",
      " [3] reduce_ideal_one_step(Igens::Vector{fmpz_mpoly}, Sgens::Vector{fmpz_mpoly}, R::FmpzMPolyRing, varlist::Vector{fmpz_mpoly}, fullyReduced::Bool)",
      "   @ Main ~/Desktop/jupyter_notebooks/matroidRealizationSpaces/reduceIdeals.jl:90",
      " [4] reduce_ideal_full(Igens::Vector{fmpz_mpoly}, Sgens::Vector{fmpz_mpoly}, R::FmpzMPolyRing, varlist::Vector{fmpz_mpoly}, fullyReduced::Bool)",
      "   @ Main ~/Desktop/jupyter_notebooks/matroidRealizationSpaces/reduceIdeals.jl:108",
      " [5] reduce_ideal_full(Igens::Vector{fmpz_mpoly}, Sgens::Vector{fmpz_mpoly}, R::FmpzMPolyRing, varlist::Vector{fmpz_mpoly}, fullyReduced::Bool) (repeats 7 times)",
      "   @ Main ~/Desktop/jupyter_notebooks/matroidRealizationSpaces/reduceIdeals.jl:109",
      " [6] matroid_to_reduced_expression(Q::Matroid, F::FlintIntegerRing, k::Int64)",
      "   @ Main ./In[2]:14",
      " [7] top-level scope",
      "   @ ./In[5]:5",
      " [8] eval",
      "   @ ./boot.jl:373 [inlined]",
      " [9] include_string(mapexpr::typeof(REPL.softscope), mod::Module, code::String, filename::String)",
      "   @ Base ./loading.jl:1196"
     ]
    }
   ],
   "source": [
    "#testing code for increasing values of k in matroid_to_reduce_expression\n",
    "for k in 1:2\n",
    "    print(\"\\n\",\"\\n\",\"k = \",k,\"\\n\",\"\\n\")\n",
    "    Mz = matroid_from_revlex_basis_encoding(d3n10[1072], 3, 10)\n",
    "    reduced = matroid_to_reduced_expression(Mz, ZZ,k)\n",
    "    \n",
    "    for j in 1:length(reduced[1])\n",
    "    print(j,\" : \", factor(reduced[1][j]),\"\\n\")\n",
    "    end\n",
    "end\n",
    "#notes for 798:kernal died when I tried 4 and 5, works for 3. Note that for k =2 and k=3 we have the same output. \n",
    "#Reduced to something such that we can divide out a monomial to get a degree 2 polynomial in one variable.\n",
    "\n",
    "#1072 returns cannot localize at 0 element for k = 2. Note that for k=1, 1072 has all variables in degree 1 \n",
    "#for both generators.\n"
   ]
  },
  {
   "cell_type": "code",
   "execution_count": 8,
   "metadata": {},
   "outputs": [
    {
     "data": {
      "text/plain": [
       "sort (generic function with 1 method)"
      ]
     },
     "execution_count": 8,
     "metadata": {},
     "output_type": "execute_result"
    }
   ],
   "source": [
    "function sort(I)\n",
    "    cc = []\n",
    "    for f in I[1]\n",
    "        g =[x for x in vars(f) if degree(f,x) == 1]\n",
    "        if length(g)>0 \n",
    "            push!(cc,f)\n",
    "        end\n",
    "    end\n",
    "    if length(cc)>0\n",
    "        return true\n",
    "        \n",
    "        else \n",
    "        \n",
    "        return false\n",
    "        \n",
    "    end\n",
    "end"
   ]
  },
  {
   "cell_type": "code",
   "execution_count": 82,
   "metadata": {},
   "outputs": [
    {
     "data": {
      "text/plain": [
       "true"
      ]
     },
     "execution_count": 82,
     "metadata": {},
     "output_type": "execute_result"
    }
   ],
   "source": [
    "sort(reduced)"
   ]
  },
  {
   "cell_type": "code",
   "execution_count": null,
   "metadata": {},
   "outputs": [],
   "source": [
    "good = []\n",
    "more = []\n",
    "for z in has_property\n",
    "    print(z)\n",
    "    Mz = matroid_from_revlex_basis_encoding(d3n10[z], 3, 10)\n",
    "    I = matroid_to_reduced_expression(Mz, ZZ,3)\n",
    "    \n",
    "    if sort(I)\n",
    "        print(\" in more\",\"\\n\\n\")\n",
    "        push!(more,z)\n",
    "    \n",
    "    else \n",
    "        print(\" in good\",\"\\n\\n\")\n",
    "        push!(good,z)\n",
    "        \n",
    "    end\n",
    "end\n",
    "#testing for higher k. k=2 gives error \"can not localize at the zero element\" at matroid 1072\n",
    "#k=3 kills kernal"
   ]
  },
  {
   "cell_type": "code",
   "execution_count": 34,
   "metadata": {},
   "outputs": [
    {
     "data": {
      "text/plain": [
       "106-element Vector{Any}:\n",
       "  324\n",
       "  428\n",
       "  450\n",
       "  635\n",
       "  965\n",
       "  995\n",
       " 1061\n",
       " 1076\n",
       " 1082\n",
       " 1252\n",
       " 1253\n",
       " 1272\n",
       " 1273\n",
       "    ⋮\n",
       " 4800\n",
       " 4808\n",
       " 4809\n",
       " 4810\n",
       " 4825\n",
       " 4829\n",
       " 4903\n",
       " 4910\n",
       " 4916\n",
       " 4917\n",
       " 4919\n",
       " 5085"
      ]
     },
     "execution_count": 34,
     "metadata": {},
     "output_type": "execute_result"
    }
   ],
   "source": [
    "good"
   ]
  },
  {
   "cell_type": "code",
   "execution_count": 35,
   "metadata": {},
   "outputs": [
    {
     "data": {
      "text/plain": [
       "45-element Vector{Any}:\n",
       "  423\n",
       "  630\n",
       "  798\n",
       "  884\n",
       "  894\n",
       "  903\n",
       "  904\n",
       "  906\n",
       "  908\n",
       "  923\n",
       " 1070\n",
       " 1072\n",
       " 1080\n",
       "    ⋮\n",
       " 3772\n",
       " 3801\n",
       " 3802\n",
       " 3811\n",
       " 3812\n",
       " 3839\n",
       " 3840\n",
       " 4493\n",
       " 4789\n",
       " 4822\n",
       " 4839\n",
       " 4841"
      ]
     },
     "execution_count": 35,
     "metadata": {},
     "output_type": "execute_result"
    }
   ],
   "source": [
    "more"
   ]
  },
  {
   "cell_type": "code",
   "execution_count": 100,
   "metadata": {},
   "outputs": [
    {
     "data": {
      "text/plain": [
       "(fmpz_mpoly[0, 2*x_{1, 6} - 1, 2*x_{1, 6} + 1], fmpz_mpoly[1, -1, x_{1, 6}, -x_{1, 6}])"
      ]
     },
     "execution_count": 100,
     "metadata": {},
     "output_type": "execute_result"
    }
   ],
   "source": [
    "Mz = matroid_from_revlex_basis_encoding(d3n10[3840], 3, 10)\n",
    "I = matroid_to_reduced_expression(Mz, ZZ)"
   ]
  },
  {
   "cell_type": "code",
   "execution_count": 101,
   "metadata": {},
   "outputs": [
    {
     "name": "stdout",
     "output_type": "stream",
     "text": [
      "1: 0\n",
      "2: 2*x_{1, 6} - 1\n",
      "3: 2*x_{1, 6} + 1\n"
     ]
    }
   ],
   "source": [
    "for i in 1:length(I[1])\n",
    "    print(i, \": \", I[1][i],\"\\n\")\n",
    "end"
   ]
  },
  {
   "cell_type": "code",
   "execution_count": 102,
   "metadata": {},
   "outputs": [
    {
     "name": "stdout",
     "output_type": "stream",
     "text": [
      "x_{1, 6}:1\n"
     ]
    }
   ],
   "source": [
    "f = I[1][2]\n",
    "for x in vars(f)\n",
    "    print(x,\":\",degree(f,x),\"\\n\")\n",
    "end"
   ]
  },
  {
   "cell_type": "code",
   "execution_count": 104,
   "metadata": {},
   "outputs": [],
   "source": [
    "int_gen =[]\n",
    "\n",
    "for x in good\n",
    "    Mz = matroid_from_revlex_basis_encoding(d3n10[x], 3, 10)\n",
    "    I = matroid_to_reduced_expression(Mz, ZZ)\n",
    "    \n",
    "    G = [f for f in I[1] if length(vars(f)) == 0]\n",
    "    \n",
    "    if length(G)>1\n",
    "        push!(int_gen,x)\n",
    "    end\n",
    "end"
   ]
  },
  {
   "cell_type": "code",
   "execution_count": 105,
   "metadata": {},
   "outputs": [
    {
     "data": {
      "text/plain": [
       "13-element Vector{Any}:\n",
       " 1607\n",
       " 3648\n",
       " 3658\n",
       " 3666\n",
       " 3725\n",
       " 4800\n",
       " 4808\n",
       " 4809\n",
       " 4810\n",
       " 4825\n",
       " 4910\n",
       " 4917\n",
       " 4919"
      ]
     },
     "execution_count": 105,
     "metadata": {},
     "output_type": "execute_result"
    }
   ],
   "source": [
    "int_gen"
   ]
  },
  {
   "cell_type": "code",
   "execution_count": 106,
   "metadata": {},
   "outputs": [
    {
     "name": "stdout",
     "output_type": "stream",
     "text": [
      "1607:fmpz_mpoly[0, 2, -x_{1, 6}^2 + x_{1, 6}*x_{2, 6} + x_{2, 6}^2 - x_{2, 6}, -x_{1, 6}^3 + x_{1, 6}^2*x_{2, 6} - x_{1, 6}*x_{2, 6}^2 + x_{2, 6}^2]\n",
      "3648:fmpz_mpoly[0, -2, -x_{1, 6}^2 + x_{1, 6} + 1, x_{1, 6}^2 + x_{1, 6} + 1]\n",
      "3658:fmpz_mpoly[0, 1]\n",
      "3666:fmpz_mpoly[0, 1, -x_{2, 6}^2 - 1]\n",
      "3725:fmpz_mpoly[0, 1]\n",
      "4800:fmpz_mpoly[0, -3]\n",
      "4808:fmpz_mpoly[0, 3]\n",
      "4809:fmpz_mpoly[0, 3, -3]\n",
      "4810:fmpz_mpoly[0, -3, 3]\n",
      "4825:fmpz_mpoly[0, 1]\n",
      "4910:fmpz_mpoly[0, -2, -x_{2, 6}^2 + x_{2, 6} - 1]\n",
      "4917:fmpz_mpoly[0, -2, x_{2, 6}^2 + 1]\n",
      "4919:fmpz_mpoly[0, 3]\n"
     ]
    }
   ],
   "source": [
    "for x in int_gen\n",
    "    \n",
    "    Mz = matroid_from_revlex_basis_encoding(d3n10[x], 3, 10)\n",
    "    I = matroid_to_reduced_expression(Mz, ZZ)\n",
    "    \n",
    "    print(x,\":\", I[1],\"\\n\")\n",
    "end"
   ]
  },
  {
   "cell_type": "code",
   "execution_count": 107,
   "metadata": {},
   "outputs": [
    {
     "name": "stdout",
     "output_type": "stream",
     "text": [
      "324:fmpz_mpoly[0, x_{2, 3}^3*x_{1, 6}^2 - 2*x_{2, 3}^3*x_{1, 6} + x_{2, 3}^3 - x_{2, 3}^2*x_{2, 4}*x_{1, 6}^2 + 3*x_{2, 3}^2*x_{2, 4}*x_{1, 6} - 2*x_{2, 3}^2*x_{2, 4} - 2*x_{2, 3}^2*x_{1, 6}^2 + 2*x_{2, 3}^2*x_{1, 6} - x_{2, 3}*x_{2, 4}^2*x_{1, 6} + x_{2, 3}*x_{2, 4}^2 + x_{2, 3}*x_{2, 4}*x_{1, 6}^2 - 3*x_{2, 3}*x_{2, 4}*x_{1, 6} + x_{2, 3}*x_{2, 4} + x_{2, 3}*x_{1, 6}^2 + x_{2, 4}^2*x_{1, 6} - x_{2, 4}^2]\n",
      "428:fmpz_mpoly[0, x_{1, 4}^2*x_{2, 6}^2 - 2*x_{1, 4}^2*x_{2, 6} + x_{1, 4}^2 + x_{1, 4}*x_{1, 5}^2*x_{2, 6} - x_{1, 4}*x_{1, 5}*x_{2, 6}^2 + x_{1, 4}*x_{1, 5}*x_{2, 6} - x_{1, 4}*x_{1, 5} - x_{1, 4}*x_{2, 6}^2 + x_{1, 4}*x_{2, 6} - x_{1, 5}^2*x_{2, 6} + x_{1, 5}*x_{2, 6}^2]\n",
      "450:fmpz_mpoly[0, x_{1, 4}^2*x_{2, 5}*x_{2, 6}^2 - x_{1, 4}^2*x_{2, 5} - 2*x_{1, 4}^2*x_{2, 6}^2 + 2*x_{1, 4}^2*x_{2, 6} - x_{1, 4}*x_{2, 5}^2*x_{2, 6} - x_{1, 4}*x_{2, 5}*x_{2, 6}^2 + 2*x_{1, 4}*x_{2, 5}*x_{2, 6} + x_{1, 4}*x_{2, 6}^2 - x_{1, 4}*x_{2, 6} + x_{2, 5}^2*x_{2, 6} - x_{2, 5}*x_{2, 6}]\n",
      "635:fmpz_mpoly[0, x_{2, 4}^2*x_{1, 6}^2 - x_{2, 4}^2*x_{1, 6} - x_{2, 4}*x_{1, 6}^2 + x_{2, 4}, -x_{2, 4}^2*x_{1, 6}^2 + x_{2, 4}^2*x_{1, 6} + x_{2, 4}*x_{1, 6}^2 - x_{1, 6}]\n",
      "965:fmpz_mpoly[0, -x_{2, 4}^2*x_{1, 6}^2 + x_{2, 4}^2*x_{1, 6} - x_{2, 4}, -x_{2, 4}^2*x_{1, 6}^2 + x_{2, 4}^2*x_{1, 6} - x_{2, 4}*x_{1, 6} + x_{1, 6}]\n",
      "995:fmpz_mpoly[0, -x_{1, 6}^4 + x_{1, 6}^3 - x_{1, 6}]\n",
      "1061:fmpz_mpoly[0, x_{1, 2}^2*x_{2, 3}^2*x_{2, 6}^2 - 2*x_{1, 2}^2*x_{2, 3}^2*x_{2, 6} + x_{1, 2}^2*x_{2, 3}^2 - 2*x_{1, 2}^2*x_{2, 3}*x_{2, 6}^2 + 3*x_{1, 2}^2*x_{2, 3}*x_{2, 6} - x_{1, 2}^2*x_{2, 3} + x_{1, 2}^2*x_{2, 6}^2 - x_{1, 2}^2*x_{2, 6} - 2*x_{1, 2}*x_{2, 3}^2*x_{2, 6}^2 + 3*x_{1, 2}*x_{2, 3}^2*x_{2, 6} - x_{1, 2}*x_{2, 3}^2 + 3*x_{1, 2}*x_{2, 3}*x_{2, 6}^2 - 3*x_{1, 2}*x_{2, 3}*x_{2, 6} - x_{1, 2}*x_{2, 6}^2 + x_{1, 2}*x_{2, 6} + x_{2, 3}^2*x_{2, 6}^2 - x_{2, 3}^2*x_{2, 6} - x_{2, 3}*x_{2, 6}^2 + x_{2, 3}*x_{2, 6}]\n",
      "1076:fmpz_mpoly[0, x_{1, 2}^2*x_{2, 3}^2*x_{2, 6}^2 - 2*x_{1, 2}^2*x_{2, 3}^2*x_{2, 6} + x_{1, 2}^2*x_{2, 3}^2 - x_{1, 2}^2*x_{2, 3}*x_{2, 6}^2 + x_{1, 2}^2*x_{2, 3}*x_{2, 6} + x_{1, 2}^2*x_{2, 6}^2 - x_{1, 2}^2*x_{2, 6} - 2*x_{1, 2}*x_{2, 3}^2*x_{2, 6}^2 + 3*x_{1, 2}*x_{2, 3}^2*x_{2, 6} - x_{1, 2}*x_{2, 3}^2 + x_{1, 2}*x_{2, 3}*x_{2, 6}^2 - x_{1, 2}*x_{2, 3}*x_{2, 6} + x_{2, 3}^2*x_{2, 6}^2 - x_{2, 3}^2*x_{2, 6}]\n",
      "1082:fmpz_mpoly[0]\n",
      "1252:fmpz_mpoly[0, -x_{2, 3}^3*x_{2, 6} + x_{2, 3}^3 + 2*x_{2, 3}^2*x_{2, 6}^2 - 3*x_{2, 3}^2*x_{2, 6} + x_{2, 3}^2 + x_{2, 3}*x_{2, 6}^2 - x_{2, 3}*x_{2, 6}]\n",
      "1253:fmpz_mpoly[0, x_{2, 3}^3*x_{2, 6}^2 - x_{2, 3}^3*x_{2, 6} - x_{2, 3}^2*x_{2, 6}^2 + x_{2, 3}^2*x_{2, 6} - x_{2, 3}*x_{2, 6}^2 + x_{2, 3}*x_{2, 6}]\n",
      "1272:fmpz_mpoly[0, x_{2, 3}^3*x_{2, 6}^2 - 2*x_{2, 3}^3*x_{2, 6} + x_{2, 3}^3 - x_{2, 3}*x_{2, 6}^2 + x_{2, 3}*x_{2, 6}]\n",
      "1273:fmpz_mpoly[0, x_{2, 3}^2*x_{2, 6}^2 - x_{2, 3}^2*x_{2, 6} + x_{2, 3}*x_{2, 6} - x_{2, 3} - x_{2, 6}^2 + x_{2, 6}]\n",
      "1275:fmpz_mpoly[0, x_{2, 3}^3*x_{2, 6}^2 - 2*x_{2, 3}^3*x_{2, 6} + x_{2, 3}^3 + x_{2, 3}^2*x_{2, 6}^2 - x_{2, 3}^2*x_{2, 6} + x_{2, 3}*x_{2, 6}^2 - x_{2, 3}*x_{2, 6}]\n",
      "1289:fmpz_mpoly[0, x_{2, 3}^3*x_{2, 6}^2 - 2*x_{2, 3}^3*x_{2, 6} + x_{2, 3}^3 + x_{2, 3}^2*x_{2, 6}^2 - 2*x_{2, 3}^2*x_{2, 6} + x_{2, 3}^2 + x_{2, 3}*x_{2, 6}^2 - x_{2, 3}*x_{2, 6}]\n",
      "1291:fmpz_mpoly[0, 2*x_{2, 3}^2*x_{2, 6}^2 - 3*x_{2, 3}^2*x_{2, 6} + x_{2, 3}^2 + x_{2, 3}*x_{2, 6}^2 - x_{2, 3}*x_{2, 6}]\n",
      "1376:fmpz_mpoly[0, x_{1, 4}^2 - x_{1, 4}*x_{1, 6}^2 + x_{1, 4} - x_{1, 6}^2]\n",
      "1382:fmpz_mpoly[0, -x_{2, 4}^2*x_{2, 6} + 2*x_{2, 4}^2 + x_{2, 4}*x_{2, 6}^2 - 3*x_{2, 4}*x_{2, 6} + x_{2, 4}]\n",
      "1383:fmpz_mpoly[0, x_{2, 4}^2*x_{2, 6} - 2*x_{2, 4}*x_{2, 6}^2 + 3*x_{2, 4}*x_{2, 6} - 2*x_{2, 4} + x_{2, 6}^3 - 3*x_{2, 6}^2 + 3*x_{2, 6} - 1]\n",
      "1413:fmpz_mpoly[0, -x_{2, 4}^2*x_{1, 6} + x_{2, 4}^2 - 2*x_{2, 4}*x_{1, 6}^2 + 4*x_{2, 4}*x_{1, 6} - 2*x_{2, 4} - x_{1, 6}^3 + 2*x_{1, 6}^2 - 2*x_{1, 6} + 1]\n",
      "1415:fmpz_mpoly[0, -x_{1, 6}^2 - x_{1, 6}*x_{2, 6}^2 + x_{1, 6}*x_{2, 6} + x_{2, 6}^2]\n",
      "1416:fmpz_mpoly[0, -x_{1, 6}^2 - x_{1, 6}*x_{2, 6}^2 + x_{1, 6} + 2*x_{2, 6}^2 - x_{2, 6}]\n",
      "1426:fmpz_mpoly[0, x_{1, 5}^2*x_{2, 6} + 2*x_{1, 5}*x_{2, 6}^2 - 2*x_{1, 5}*x_{2, 6} + x_{2, 6}^3 - 3*x_{2, 6}^2 + x_{2, 6}]\n",
      "1432:fmpz_mpoly[0, x_{2, 4}^2*x_{2, 6}^2 - x_{2, 4}*x_{2, 6}^2 + x_{2, 4}*x_{2, 6} - x_{2, 4}]\n",
      "1433:fmpz_mpoly[0, x_{2, 4}^2*x_{2, 6}^2 + x_{2, 4}*x_{2, 6}^3 - 4*x_{2, 4}*x_{2, 6}^2 + 2*x_{2, 4}*x_{2, 6} - x_{2, 6}^3 + 3*x_{2, 6}^2 - 3*x_{2, 6} + 1]\n",
      "1435:fmpz_mpoly[0, -x_{2, 4}^2*x_{2, 6} + x_{2, 4}^2 - x_{2, 4}*x_{2, 6}^3 + x_{2, 4}*x_{2, 6}^2 + x_{2, 6}^3 - x_{2, 6}^2]\n",
      "1455:fmpz_mpoly[0, x_{2, 5}^3 + 2*x_{2, 5}^2*x_{1, 6} - 2*x_{2, 5}^2 + x_{2, 5}*x_{1, 6}^2 - x_{2, 5}*x_{1, 6} - x_{2, 5} - x_{1, 6} + 1]\n",
      "1456:fmpz_mpoly[0, x_{2, 5}^2*x_{1, 6} - x_{2, 5}^2 + x_{2, 5}*x_{1, 6}^2 - x_{2, 5} - x_{1, 6} + 1]\n",
      "1457:fmpz_mpoly[0, -x_{2, 5}^2 + x_{2, 5}*x_{1, 6} - x_{2, 5} + x_{1, 6}^2 - x_{1, 6} + 1]\n",
      "1521:fmpz_mpoly[0, -x_{1, 6}^2 - x_{1, 6}*x_{2, 6} + x_{1, 6} + x_{2, 6}^2, -x_{1, 6}^2*x_{2, 6} + x_{1, 6}^2 + x_{1, 6}*x_{2, 6}^2 - x_{2, 6}^2]\n",
      "1522:fmpz_mpoly[0, -x_{1, 6}^2 - x_{1, 6}*x_{2, 6} + x_{1, 6} + x_{2, 6}^2, x_{1, 6}^2 + x_{1, 6}*x_{2, 6}^2 - x_{1, 6}*x_{2, 6} - x_{2, 6}^2]\n",
      "1524:fmpz_mpoly[0, -x_{1, 6}^3 + 2*x_{1, 6} - 1]\n",
      "1525:fmpz_mpoly[0]\n",
      "1543:fmpz_mpoly[0, -x_{1, 6}^2 + 2*x_{1, 6}*x_{2, 6} + x_{1, 6} - x_{2, 6}^2 - 1, -x_{1, 6}^3 + 2*x_{1, 6}^2*x_{2, 6} + 3*x_{1, 6}^2 - x_{1, 6}*x_{2, 6}^2 - 4*x_{1, 6}*x_{2, 6} - 2*x_{1, 6} + x_{2, 6}^2 + x_{2, 6} + 1]\n",
      "1544:fmpz_mpoly[0, -x_{2, 6}^3 + x_{2, 6}^2]\n",
      "1546:fmpz_mpoly[0, -x_{2, 6}^4 + 2*x_{2, 6}^3 - 2*x_{2, 6}^2 + 2*x_{2, 6} - 1]\n",
      "1556:fmpz_mpoly[0, -x_{1, 6}^2 - x_{1, 6}*x_{2, 6} + 2*x_{1, 6} + x_{2, 6}^2 - x_{2, 6}, -3*x_{1, 6}^3 + 3*x_{1, 6}^2*x_{2, 6} + 4*x_{1, 6}^2 - x_{1, 6}*x_{2, 6}^2 - 4*x_{1, 6}*x_{2, 6} + x_{2, 6}^2]\n",
      "1593:fmpz_mpoly[0, -x_{1, 6}^2 + x_{1, 6}*x_{2, 6} + x_{2, 6}^2 - x_{2, 6}, -x_{1, 6}^3 + x_{1, 6}^2*x_{2, 6} - x_{1, 6}*x_{2, 6}^2 + x_{2, 6}^2]\n",
      "1594:fmpz_mpoly[0, -x_{2, 6}^2 - x_{2, 6} + 2]\n",
      "1598:fmpz_mpoly[0, x_{2, 6}^3 + x_{2, 6}^2 - x_{2, 6} + 1]\n",
      "1602:fmpz_mpoly[0, -x_{2, 6}^2 - 1, -x_{2, 6}^2 - x_{2, 6} + 2]\n",
      "1607:fmpz_mpoly[0, 2, -x_{1, 6}^2 + x_{1, 6}*x_{2, 6} + x_{2, 6}^2 - x_{2, 6}, -x_{1, 6}^3 + x_{1, 6}^2*x_{2, 6} - x_{1, 6}*x_{2, 6}^2 + x_{2, 6}^2]\n",
      "1672:fmpz_mpoly[0]\n",
      "1674:fmpz_mpoly[0, -2*x_{1, 6}^2 - 2*x_{1, 6} + 2]\n",
      "1675:fmpz_mpoly[0, -2*x_{1, 6}^2]\n",
      "2459:fmpz_mpoly[0]\n",
      "2740:fmpz_mpoly[0, x_{2, 6}^2 + 1]\n",
      "2741:fmpz_mpoly[0, x_{2, 6}^2 + 1]\n",
      "2934:fmpz_mpoly[0, x_{2, 4}^2 - x_{2, 4}*x_{2, 6} + x_{2, 4} + x_{2, 6}^2 - 2*x_{2, 6} + 1]\n",
      "2955:fmpz_mpoly[0]\n",
      "2958:fmpz_mpoly[0]\n",
      "3121:fmpz_mpoly[0, x_{2, 4}^2 + x_{2, 4}*x_{2, 6}^2 - 2*x_{2, 4}*x_{2, 6} + x_{2, 4} + x_{2, 6}^2 - x_{2, 6}]\n",
      "3123:fmpz_mpoly[0, x_{2, 4}^2]\n",
      "3124:fmpz_mpoly[0, -x_{2, 4}^2 + x_{1, 6}^2 - 2*x_{1, 6} + 1]\n",
      "3154:fmpz_mpoly[0, x_{2, 4}^3 + x_{2, 4}^2*x_{1, 6} - x_{1, 6}^2 + x_{1, 6}]\n",
      "3156:fmpz_mpoly[0, x_{2, 4}^2*x_{1, 5} + x_{2, 4}*x_{1, 5}^2 - x_{2, 4}]\n",
      "3157:fmpz_mpoly[0, x_{2, 4}^2 - 2*x_{2, 4}*x_{2, 6} + 2*x_{2, 4} + x_{2, 6}^2 - 2*x_{2, 6} + 1]\n",
      "3234:fmpz_mpoly[0, -x_{1, 2}^2*x_{1, 6} - x_{1, 2}^2 + 3*x_{1, 2}*x_{1, 6} - x_{1, 6}^2]\n",
      "3349:fmpz_mpoly[0, -x_{1, 5}^2 + x_{1, 5}*x_{2, 6}^2 - x_{2, 6}^2 + x_{2, 6}]\n",
      "3352:fmpz_mpoly[0]\n",
      "3359:fmpz_mpoly[0, x_{2, 5}^2*x_{1, 6} - x_{2, 5}^2 + x_{2, 5}*x_{1, 6} + x_{2, 5} - x_{1, 6}^2 - x_{1, 6}]\n",
      "3403:fmpz_mpoly[0]\n",
      "3426:fmpz_mpoly[0, -x_{1, 5}^2*x_{2, 6}^2 + 3*x_{1, 5}^2*x_{2, 6} - 2*x_{1, 5}^2 - 2*x_{1, 5}*x_{2, 6} + 4*x_{1, 5} - 2]\n",
      "3516:fmpz_mpoly[0, x_{1, 6}^3 - x_{1, 6}^2 + 1]\n",
      "3517:fmpz_mpoly[0, x_{1, 6}^2 - 3*x_{1, 6} + 3]\n",
      "3588:fmpz_mpoly[0, x_{1, 5}^2 - x_{1, 5}*x_{2, 6}^2 - x_{1, 5}*x_{2, 6} + x_{2, 6}^2, x_{1, 5}^2 - 2*x_{1, 5}*x_{2, 6} - x_{1, 5} + x_{2, 6}^2 + x_{2, 6}]\n",
      "3592:fmpz_mpoly[0, x_{2, 5}^2*x_{1, 6} - 2*x_{2, 5}*x_{1, 6} + x_{1, 6}^2, x_{2, 5}^2 - 2*x_{2, 5}*x_{1, 6} + x_{2, 5} + x_{1, 6}^2 - x_{1, 6}]\n",
      "3599:fmpz_mpoly[0, -x_{2, 6}^2]\n",
      "3625:fmpz_mpoly[0, x_{2, 5}^4 + 2*x_{2, 5}^3 + x_{2, 5}^2 + x_{2, 5}]\n",
      "3626:fmpz_mpoly[0, x_{2, 5}^4 + 2*x_{2, 5}^3]\n",
      "3634:fmpz_mpoly[0, -2*x_{1, 6}^2 + x_{1, 6}]\n",
      "3636:fmpz_mpoly[0, -x_{1, 6}^2 + x_{1, 6} - 1]\n",
      "3638:fmpz_mpoly[0, -x_{1, 6}^4 + x_{1, 6}^3 + 2*x_{1, 6}^2 - x_{1, 6}]\n",
      "3645:fmpz_mpoly[0, -x_{1, 6}^2 + x_{1, 6} + 1, -x_{1, 6}^2 - 1]\n",
      "3647:fmpz_mpoly[0, -x_{1, 6}^2 + x_{1, 6} + 1, x_{1, 6}^2 + x_{1, 6} + 1]\n",
      "3648:fmpz_mpoly[0, -2, -x_{1, 6}^2 + x_{1, 6} + 1, x_{1, 6}^2 + x_{1, 6} + 1]\n",
      "3658:fmpz_mpoly[0, 1]\n",
      "3666:fmpz_mpoly[0, 1, -x_{2, 6}^2 - 1]\n",
      "3725:fmpz_mpoly[0, 1]\n",
      "3726:fmpz_mpoly[0]\n",
      "3770:fmpz_mpoly[0]\n",
      "3800:fmpz_mpoly[0]\n",
      "3808:fmpz_mpoly[0, -2*x_{1, 6}^2 + 2*x_{1, 6} - 1]\n",
      "3809:fmpz_mpoly[0, -2*x_{1, 6}^2 + 1]\n",
      "4276:fmpz_mpoly[0, x_{2, 6}^2 - 3*x_{2, 6} + 1]\n",
      "4279:fmpz_mpoly[0]\n",
      "4490:fmpz_mpoly[0, -x_{2, 6}^2 + 2*x_{2, 6} - 2]\n",
      "4557:fmpz_mpoly[0, -x_{2, 5}^3 + x_{2, 5}^2 - 1]\n",
      "4568:fmpz_mpoly[0, x_{2, 6}^2 + x_{2, 6} - 1, -x_{2, 6}^2 + x_{2, 6} - 1]\n",
      "4570:fmpz_mpoly[0, x_{1, 6}^2 - 3*x_{1, 6} + 1]\n",
      "4571:fmpz_mpoly[0, x_{2, 6}^3 - 2*x_{2, 6}]\n",
      "4758:fmpz_mpoly[0, x_{2, 6}^3 + x_{2, 6}]\n",
      "4761:fmpz_mpoly[0, -x_{1, 6}^2 + 1]\n",
      "4784:fmpz_mpoly[0]\n",
      "4800:fmpz_mpoly[0, -3]\n",
      "4808:fmpz_mpoly[0, 3]\n",
      "4809:fmpz_mpoly[0, 3, -3]\n",
      "4810:fmpz_mpoly[0, -3, 3]\n",
      "4825:fmpz_mpoly[0, 1]\n",
      "4829:fmpz_mpoly[0]\n",
      "4903:fmpz_mpoly[0, -x_{2, 5}^2 - 1]\n",
      "4910:fmpz_mpoly[0, -2, -x_{2, 6}^2 + x_{2, 6} - 1]\n",
      "4916:fmpz_mpoly[0]\n",
      "4917:fmpz_mpoly[0, -2, x_{2, 6}^2 + 1]\n",
      "4919:fmpz_mpoly[0, 3]\n",
      "5085:fmpz_mpoly[0, x_{2, 6}^2 + x_{2, 6} - 1]\n"
     ]
    }
   ],
   "source": [
    "for x in good\n",
    "    \n",
    "    Mz = matroid_from_revlex_basis_encoding(d3n10[x], 3, 10)\n",
    "    I = matroid_to_reduced_expression(Mz, ZZ)\n",
    "    \n",
    "    print(x,\":\", I[1],\"\\n\")\n",
    "end"
   ]
  },
  {
   "cell_type": "code",
   "execution_count": null,
   "metadata": {},
   "outputs": [],
   "source": []
  }
 ],
 "metadata": {
  "kernelspec": {
   "display_name": "Julia 1.7.1",
   "language": "julia",
   "name": "julia-1.7"
  },
  "language_info": {
   "file_extension": ".jl",
   "mimetype": "application/julia",
   "name": "julia",
   "version": "1.7.1"
  }
 },
 "nbformat": 4,
 "nbformat_minor": 4
}
