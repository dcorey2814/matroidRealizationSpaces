{
 "cells": [
  {
   "cell_type": "code",
   "execution_count": 1,
   "metadata": {},
   "outputs": [
    {
     "name": "stdout",
     "output_type": "stream",
     "text": [
      " -----    -----    -----      -      -----   \n",
      "|     |  |     |  |     |    | |    |     |  \n",
      "|     |  |        |         |   |   |     |  \n",
      "|     |   -----   |        |     |  |-----   \n",
      "|     |        |  |        |-----|  |   |    \n",
      "|     |  |     |  |     |  |     |  |    |   \n",
      " -----    -----    -----   -     -  -     -  \n",
      "\n",
      "...combining (and extending) ANTIC, GAP, Polymake and Singular\n",
      "Version\u001b[32m 0.11.2 \u001b[39m... \n",
      " ... which comes with absolutely no warranty whatsoever\n",
      "Type: '?Oscar' for more information\n",
      "(c) 2019-2022 by The OSCAR Development Team\n"
     ]
    },
    {
     "data": {
      "text/plain": [
       "Polymake"
      ]
     },
     "execution_count": 1,
     "metadata": {},
     "output_type": "execute_result"
    }
   ],
   "source": [
    "using Oscar\n",
    "using Combinatorics\n",
    "pm = Polymake"
   ]
  },
  {
   "cell_type": "code",
   "execution_count": 63,
   "metadata": {},
   "outputs": [
    {
     "data": {
      "text/plain": [
       "matroid_to_reduced_expression (generic function with 1 method)"
      ]
     },
     "execution_count": 63,
     "metadata": {},
     "output_type": "execute_result"
    }
   ],
   "source": [
    "include(\"matroid_realization.jl\");\n",
    "include(\"reduceIdeals.jl\")\n",
    "include(\"d3n10_special_matroids.jl\")\n",
    "\n",
    "d3n10 = vec(readlines(\"d3n10.dat\"));\n",
    "\n",
    "\n",
    "#remove monomial factors\n",
    "function clean(f,R)\n",
    "    \n",
    "    if !(f == 0)\n",
    "    \n",
    "        if length(f) == 1\n",
    "            \n",
    "            return R(coeff(f,1))\n",
    "            \n",
    "        else\n",
    "            \n",
    "            fFactors = factor(f)\n",
    "    \n",
    "            FactorsDict = Dict(fFactors)\n",
    "    \n",
    "            cleanf = prod([k^(FactorsDict[k]) for k in keys(FactorsDict) if (length(k)>1||is_constant(k))])\n",
    "        \n",
    "            return cleanf\n",
    "        \n",
    "        end\n",
    "        \n",
    "    else\n",
    "        \n",
    "        return f\n",
    "        \n",
    "    end\n",
    "    \n",
    "end\n",
    "    \n",
    "\n",
    "function matroid_to_reduced_expression(Q, F,k)\n",
    "    \n",
    "    charts = [c for c in circuits(Q) if length(c) == rank(Q)+1]\n",
    "    A = charts[1]\n",
    "    RQ = matroid_realization_space(Q, A, F)\n",
    "    R = parent(RQ[1][1])\n",
    "    Sgens = [s for s in RQ[2] if length(s) <= k]#new 13.1.2023\n",
    "    I = reduce_ideal_full(RQ[1], Sgens, R, gens(R), false)\n",
    "    \n",
    "    \n",
    " \n",
    "    if I isa String\n",
    "        \n",
    "        return I\n",
    "        \n",
    "     #I[1] = ideal generators, I[2] = subgroup generators   \n",
    "    else\n",
    "        \n",
    "       Iclean = unique!([clean(f,R) for f in I[1]])\n",
    "    \n",
    "            \n",
    "       return (Iclean, I[2])\n",
    "        \n",
    "       # return(I[1],I[2])\n",
    "        \n",
    "    end\n",
    "end\n",
    "\n",
    "\n"
   ]
  },
  {
   "cell_type": "code",
   "execution_count": 73,
   "metadata": {},
   "outputs": [
    {
     "data": {
      "text/plain": [
       "true"
      ]
     },
     "execution_count": 73,
     "metadata": {},
     "output_type": "execute_result"
    }
   ],
   "source": [
    "Mz = matroid_from_revlex_basis_encoding(d3n10[4917], 3, 10)\n",
    "I = matroid_to_reduced_expression(Mz, ZZ,2)\n",
    "\n",
    "int_gens(I[1])"
   ]
  },
  {
   "cell_type": "code",
   "execution_count": 3,
   "metadata": {},
   "outputs": [
    {
     "data": {
      "text/plain": [
       "5249-element Vector{String}:\n",
       " \"*******************************\" ⋯ 58 bytes ⋯ \"*******************************\"\n",
       " \"0******************************\" ⋯ 58 bytes ⋯ \"*******************************\"\n",
       " \"0******************0***********\" ⋯ 58 bytes ⋯ \"*******************************\"\n",
       " \"0******************0***********\" ⋯ 58 bytes ⋯ \"*******************************\"\n",
       " \"0******0***********************\" ⋯ 58 bytes ⋯ \"*******************************\"\n",
       " \"0******0***********************\" ⋯ 58 bytes ⋯ \"*******************************\"\n",
       " \"0******0***********************\" ⋯ 58 bytes ⋯ \"****************************0**\"\n",
       " \"0******0***********************\" ⋯ 58 bytes ⋯ \"*******************************\"\n",
       " \"0******0***********************\" ⋯ 58 bytes ⋯ \"******************************0\"\n",
       " \"0******0***********************\" ⋯ 58 bytes ⋯ \"*******************************\"\n",
       " \"0******0***********************\" ⋯ 58 bytes ⋯ \"*********************0*********\"\n",
       " \"0******0***********************\" ⋯ 58 bytes ⋯ \"*******************************\"\n",
       " \"0******0***********************\" ⋯ 58 bytes ⋯ \"*******************************\"\n",
       " ⋮\n",
       " \"00000000000000000000***********\" ⋯ 58 bytes ⋯ \"***********0******0************\"\n",
       " \"00000000000000000000***********\" ⋯ 58 bytes ⋯ \"***********0******0*******0****\"\n",
       " \"00000000000000000000***********\" ⋯ 58 bytes ⋯ \"**********0*****0*****00*****00\"\n",
       " \"0000000000000000000000000000000\" ⋯ 58 bytes ⋯ \"*******************************\"\n",
       " \"0000000000000000000000000000000\" ⋯ 58 bytes ⋯ \"******************************0\"\n",
       " \"0000000000000000000000000000000\" ⋯ 58 bytes ⋯ \"*******************************\"\n",
       " \"0000000000000000000000000000000\" ⋯ 58 bytes ⋯ \"*****************0*************\"\n",
       " \"0000000000000000000000000000000\" ⋯ 58 bytes ⋯ \"*****************0*******0*****\"\n",
       " \"0000000000000000000000000000000\" ⋯ 58 bytes ⋯ \"****************0******0******0\"\n",
       " \"0000000000000000000000000000000\" ⋯ 58 bytes ⋯ \"*******************************\"\n",
       " \"0000000000000000000000000000000\" ⋯ 58 bytes ⋯ \"***********************0*******\"\n",
       " \"0000000000000000000000000000000\" ⋯ 58 bytes ⋯ \"*******************************\""
      ]
     },
     "execution_count": 3,
     "metadata": {},
     "output_type": "execute_result"
    }
   ],
   "source": [
    "d3n10"
   ]
  },
  {
   "cell_type": "code",
   "execution_count": 92,
   "metadata": {},
   "outputs": [
    {
     "data": {
      "text/plain": [
       "151-element Vector{Any}:\n",
       "  324\n",
       "  423\n",
       "  428\n",
       "  450\n",
       "  630\n",
       "  635\n",
       "  798\n",
       "  884\n",
       "  894\n",
       "  903\n",
       "  904\n",
       "  906\n",
       "  908\n",
       "    ⋮\n",
       " 4810\n",
       " 4822\n",
       " 4825\n",
       " 4829\n",
       " 4839\n",
       " 4841\n",
       " 4903\n",
       " 4910\n",
       " 4916\n",
       " 4917\n",
       " 4919\n",
       " 5085"
      ]
     },
     "execution_count": 92,
     "metadata": {},
     "output_type": "execute_result"
    }
   ],
   "source": [
    "has_property #matroids with \"3 lines property\""
   ]
  },
  {
   "cell_type": "code",
   "execution_count": 4,
   "metadata": {},
   "outputs": [
    {
     "data": {
      "text/plain": [
       "in_lines (generic function with 1 method)"
      ]
     },
     "execution_count": 4,
     "metadata": {},
     "output_type": "execute_result"
    }
   ],
   "source": [
    "#for an element n, counts how many lines its in\n",
    "function in_lines(n,L)\n",
    "    xn = 0\n",
    "    for z in 1:length(L)\n",
    "        if n in L[z]\n",
    "           xn += 1 \n",
    "        end\n",
    "    end\n",
    "    return xn\n",
    "end"
   ]
  },
  {
   "cell_type": "code",
   "execution_count": 5,
   "metadata": {},
   "outputs": [],
   "source": [
    "#find simple matroids such that each element is contained in at least 3 lines\n",
    "#this could be a function that depends on M and k, where k is the number of \"lines\"\n",
    "has_property = []\n",
    "for z in 1:length(d3n10)\n",
    "    Mz = matroid_from_revlex_basis_encoding(d3n10[z], 3, 10)\n",
    "    L = cyclic_flats(Mz,2)\n",
    "    xm = 0\n",
    "    for t in 1:10\n",
    "        if in_lines(t,L)>2\n",
    "            xm +=1\n",
    "        end\n",
    "    end\n",
    "    #print(z,\"\\n\", xm ,\"\\n\",find_lines(z),\"\\n\")\n",
    "    if xm == 10\n",
    "        push!(has_property,z)\n",
    "    end\n",
    "end"
   ]
  },
  {
   "cell_type": "code",
   "execution_count": 91,
   "metadata": {},
   "outputs": [],
   "source": [
    "#realized i should check that everything is connected\n",
    "for z in has_property\n",
    "    Mz = matroid_from_revlex_basis_encoding(d3n10[z], 3, 10)\n",
    "    if !(n_connected_components(Mz) == 1)\n",
    "        print(z,\"\\n\")\n",
    "        \n",
    "    end\n",
    "    \n",
    "end"
   ]
  },
  {
   "cell_type": "code",
   "execution_count": 71,
   "metadata": {},
   "outputs": [
    {
     "data": {
      "text/plain": [
       "f_needs_more (generic function with 1 method)"
      ]
     },
     "execution_count": 71,
     "metadata": {},
     "output_type": "execute_result"
    }
   ],
   "source": [
    "function f_needs_more(I)\n",
    "    \n",
    "    cc = []\n",
    "    \n",
    "    for f in I\n",
    "        \n",
    "        g = [x for x in vars(f) if degree(f,x) == 1]\n",
    "        \n",
    "        if length(g)>0\n",
    "            \n",
    "            push!(cc,f)\n",
    "            \n",
    "        end\n",
    "        \n",
    "    end\n",
    "        \n",
    "        if length(cc)>0\n",
    "            \n",
    "            return \"more work\"\n",
    "            \n",
    "        else\n",
    "            \n",
    "            return \"fully simplified\"\n",
    "            \n",
    "        end\n",
    "        \n",
    "    end\n",
    "        \n",
    "            \n"
   ]
  },
  {
   "cell_type": "code",
   "execution_count": 72,
   "metadata": {},
   "outputs": [
    {
     "data": {
      "text/plain": [
       "int_gens (generic function with 1 method)"
      ]
     },
     "execution_count": 72,
     "metadata": {},
     "output_type": "execute_result"
    }
   ],
   "source": [
    "function int_gens(I)\n",
    "    \n",
    "    ints = [x for x in I if is_constant(x)]\n",
    "    \n",
    "    if length(ints)>1\n",
    "        \n",
    "        return true\n",
    "        \n",
    "    else\n",
    "        \n",
    "        return false\n",
    "        \n",
    "    end\n",
    "    \n",
    "end"
   ]
  },
  {
   "cell_type": "code",
   "execution_count": 75,
   "metadata": {},
   "outputs": [],
   "source": [
    "#classification\n",
    "\n",
    "not_realizable = []\n",
    "\n",
    "int_generator = []#algebraic closure of integral generator not equal to 1\n",
    "\n",
    "need_more_not_principle = []#ideal not fullysimplified, not principle\n",
    "need_more_principle = [] #ideals that simplifies to something principle, but can be further reduced\n",
    "\n",
    "simplified_not_principle = []#ideal simplifies,al not principle\n",
    "simplified_principle_n_reducible = [] #ideal simplifies to something principle\n",
    "simplified_principle_reducible = []#ideal fully simplifies, principally generated in one variable\n",
    "\n",
    "zero_ideal = []#ideal fully simplifies to 0\n",
    "\n",
    "for z in has_property\n",
    "    \n",
    "    #println(z,\"\\n\\n\")\n",
    "  \n",
    "    Mz = matroid_from_revlex_basis_encoding(d3n10[z], 3, 10)\n",
    "    I = matroid_to_reduced_expression(Mz, ZZ,2)\n",
    "    \n",
    "    #println(\"ch1\")\n",
    "    if I[1] == [0] #reduces to 0\n",
    "        \n",
    "        push!(zero_ideal,z)\n",
    "    \n",
    "    elseif (1 in I[1] || -1 in I[1] || I == \"Not Realizable\")\n",
    "        \n",
    "    #println(\"ch2\")\n",
    "        \n",
    "        push!(not_realizable,z)\n",
    "        \n",
    "    elseif int_gens(I[1])\n",
    "        \n",
    "               \n",
    "    #println(\"ch3\")\n",
    "        \n",
    "        push!(int_generator,z)\n",
    "        \n",
    "    elseif f_needs_more(I[1]) == \"more work\"#not fully reduced\n",
    "        \n",
    "               \n",
    "    #println(\"ch4\")\n",
    "        \n",
    "        if length(I[1]) == 2\n",
    "            \n",
    "            push!(need_more_principle,z)\n",
    "            \n",
    "        else\n",
    "        \n",
    "            push!(need_more_not_principle,z)\n",
    "            \n",
    "        end\n",
    "        \n",
    "    elseif f_needs_more(I[1]) == \"fully simplified\"#fully reduced\n",
    "        \n",
    "               \n",
    "   # println(\"ch5\")\n",
    "        \n",
    "        if length(I[1]) == 2\n",
    "            \n",
    "            if length(vars(I[1][2])) == 1\n",
    "                \n",
    "                push!(simplified_principle_reducible,z)\n",
    "                \n",
    "            else\n",
    "                \n",
    "                push!(simplified_principle_n_reducible,z)\n",
    "            end\n",
    "            \n",
    "        else\n",
    "        \n",
    "            push!(simplified_not_principle,z)\n",
    "            \n",
    "        end\n",
    "        \n",
    "    end\n",
    "end\n"
   ]
  },
  {
   "cell_type": "code",
   "execution_count": null,
   "metadata": {},
   "outputs": [],
   "source": []
  },
  {
   "cell_type": "code",
   "execution_count": 76,
   "metadata": {},
   "outputs": [
    {
     "data": {
      "text/plain": [
       "8-element Vector{Vector{Any}}:\n",
       " [1072, 1546, 2671, 2742, 3123, 3599, 3658, 3666, 3725, 4825]\n",
       " [1607, 3648, 3802, 3840, 4493, 4789, 4800, 4808, 4809, 4810, 4839, 4841, 4910, 4917, 4919]\n",
       " [635, 1412, 2669, 3592]\n",
       " [630, 1080, 1417, 1438, 1544, 1558, 2460, 2743, 3156, 3417, 3419, 3426, 3626, 3634, 3770, 3801, 4822]\n",
       " [1521, 1522, 1543, 1556, 1593, 1602, 3588, 3645, 3647, 4568]\n",
       " [324, 423, 428, 450, 884, 894, 903, 904, 906, 908  …  1457, 2934, 3121, 3124, 3154, 3157, 3234, 3235, 3349, 3359]\n",
       " [798, 965, 995, 1524, 1594, 1596, 1598, 1674, 1675, 2740  …  3809, 4276, 4490, 4557, 4570, 4571, 4758, 4761, 4903, 5085]\n",
       " [1082, 1525, 1672, 2459, 2739, 2786, 2955, 2958, 3352, 3403, 3726, 3771, 3800, 3811, 3812, 3839, 4279, 4784, 4829, 4916]"
      ]
     },
     "execution_count": 76,
     "metadata": {},
     "output_type": "execute_result"
    }
   ],
   "source": [
    "C = [not_realizable,\n",
    "int_generator,\n",
    "\n",
    "need_more_not_principle,\n",
    "need_more_principle,\n",
    "\n",
    "simplified_not_principle,\n",
    "simplified_principle_n_reducible,\n",
    "simplified_principle_reducible,\n",
    "\n",
    "zero_ideal]"
   ]
  },
  {
   "cell_type": "code",
   "execution_count": 77,
   "metadata": {},
   "outputs": [
    {
     "name": "stdout",
     "output_type": "stream",
     "text": [
      "10\n",
      "15\n",
      "4\n",
      "17\n",
      "10\n",
      "45\n",
      "30\n",
      "20\n"
     ]
    },
    {
     "data": {
      "text/plain": [
       "151"
      ]
     },
     "execution_count": 77,
     "metadata": {},
     "output_type": "execute_result"
    }
   ],
   "source": [
    "for c in C\n",
    "    print(length(c),\"\\n\")\n",
    "end\n",
    "lc = [length(c) for c in C]\n",
    "sum(lc)"
   ]
  },
  {
   "cell_type": "code",
   "execution_count": 88,
   "metadata": {
    "scrolled": true
   },
   "outputs": [
    {
     "name": "stdout",
     "output_type": "stream",
     "text": [
      "Matroid : 630\n",
      "\n",
      "1 : 0\n",
      "\n",
      "2 : 1 * (x_{1, 6} - 1) * (2*x_{2, 5} - 1)\n",
      "\n",
      "Matroid : 1080\n",
      "\n",
      "1 : 0\n",
      "\n",
      "2 : 1 * (x_{1, 4}*x_{2, 5} - x_{1, 4}*x_{2, 6} - x_{2, 5}*x_{2, 6} + 2*x_{2, 6} - 1) * (x_{1, 4} - x_{2, 5})\n",
      "\n",
      "Matroid : 1417\n",
      "\n",
      "1 : 0\n",
      "\n",
      "2 : 1 * (x_{1, 6}^2 + x_{1, 6}*x_{2, 6} - x_{1, 6} - 2*x_{2, 6} + 1)\n",
      "\n",
      "Matroid : 1438\n",
      "\n",
      "1 : 0\n",
      "\n",
      "2 : 1 * (x_{1, 5}^2 + 2*x_{1, 5}*x_{2, 6} - 2*x_{1, 5} - x_{2, 6})\n",
      "\n",
      "Matroid : 1544\n",
      "\n",
      "1 : 0\n",
      "\n",
      "2 : 1 * (x_{2, 6} - 1)\n",
      "\n",
      "Matroid : 1558\n",
      "\n",
      "1 : 0\n",
      "\n",
      "2 : 1 * (2*x_{1, 6}*x_{2, 6} - x_{1, 6} - x_{2, 6}^2)\n",
      "\n",
      "Matroid : 2460\n",
      "\n",
      "1 : 0\n",
      "\n",
      "2 : 1 * 2 * (x_{1, 6} - 1)\n",
      "\n",
      "Matroid : 2743\n",
      "\n",
      "1 : 0\n",
      "\n",
      "2 : 1 * 2 * (x_{1, 6} - 1)\n",
      "\n",
      "Matroid : 3156\n",
      "\n",
      "1 : 0\n",
      "\n",
      "2 : 1 * (x_{2, 4}*x_{2, 6} - x_{2, 6}^2 + 1)\n",
      "\n",
      "Matroid : 3417\n",
      "\n",
      "1 : 0\n",
      "\n",
      "2 : 1 * (x_{1, 6}^2*x_{2, 6} - x_{1, 6}^2 - x_{1, 6}*x_{2, 6} + x_{2, 6})\n",
      "\n",
      "Matroid : 3419\n",
      "\n",
      "1 : 0\n",
      "\n",
      "2 : 1 * (x_{1, 5} - 2) * (x_{1, 5}*x_{2, 6} - 1)\n",
      "\n",
      "Matroid : 3426\n",
      "\n",
      "1 : 0\n",
      "\n",
      "2 : 1 * (x_{1, 6}^2*x_{2, 6} - 2*x_{1, 6}^2 + x_{2, 6})\n",
      "\n",
      "Matroid : 3626\n",
      "\n",
      "1 : 0\n",
      "\n",
      "2 : 1 * (x_{2, 5} + 2)\n",
      "\n",
      "Matroid : 3634\n",
      "\n",
      "1 : 0\n",
      "\n",
      "2 : 1 * (2*x_{1, 6} - 1)\n",
      "\n",
      "Matroid : 3770\n",
      "\n",
      "1 : 0\n",
      "\n",
      "2 : 1 * (3*x_{1, 6} - 1)\n",
      "\n",
      "Matroid : 3801\n",
      "\n",
      "1 : 0\n",
      "\n",
      "2 : 1 * (3*x_{1, 6} - 4)\n",
      "\n",
      "Matroid : 4822\n",
      "\n",
      "1 : 0\n",
      "\n",
      "2 : 1 * (3*x_{1, 6} + 1)\n",
      "\n"
     ]
    }
   ],
   "source": [
    "for z in C[4]\n",
    "    \n",
    "     Mz = matroid_from_revlex_basis_encoding(d3n10[z], 3, 10)\n",
    "     I = matroid_to_reduced_expression(Mz, ZZ,2)\n",
    "    \n",
    "    print(\"Matroid : \",z,\"\\n\\n\")\n",
    "    \n",
    "    if I isa String\n",
    "\n",
    "        print(I,\"\\n\\n\")\n",
    "        \n",
    "    else\n",
    "        \n",
    "    for j in 1:length(I[1])\n",
    "        print(j,\" : \", factor(I[1][j]),\"\\n\\n\")\n",
    "    end\n",
    "    end\n",
    "end"
   ]
  },
  {
   "cell_type": "code",
   "execution_count": null,
   "metadata": {},
   "outputs": [],
   "source": []
  }
 ],
 "metadata": {
  "kernelspec": {
   "display_name": "Julia 1.7.1",
   "language": "julia",
   "name": "julia-1.7"
  },
  "language_info": {
   "file_extension": ".jl",
   "mimetype": "application/julia",
   "name": "julia",
   "version": "1.7.1"
  }
 },
 "nbformat": 4,
 "nbformat_minor": 4
}
