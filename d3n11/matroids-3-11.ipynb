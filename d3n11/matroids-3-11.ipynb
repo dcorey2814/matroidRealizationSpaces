{
 "cells": [
  {
   "cell_type": "code",
   "execution_count": null,
   "metadata": {},
   "outputs": [],
   "source": [
    "using Oscar"
   ]
  },
  {
   "cell_type": "code",
   "execution_count": null,
   "metadata": {},
   "outputs": [],
   "source": [
    "cd(\"..\")"
   ]
  },
  {
   "cell_type": "code",
   "execution_count": null,
   "metadata": {},
   "outputs": [],
   "source": [
    "currentDir = pwd() # make sure you are running from the main directory.\n",
    "include(joinpath(currentDir, \"src/fileHandling.jl\"))\n",
    "include(joinpath(currentDir, \"src/isolate3Lines.jl\"))\n",
    "include(joinpath(currentDir, \"src/matroid_realization.jl\"))\n",
    "include(joinpath(currentDir, \"src/Jacobian_Criterion.jl\"))"
   ]
  },
  {
   "cell_type": "markdown",
   "metadata": {},
   "source": [
    "First we isolate those that satisfy the three lines property, i.e., every element of the ground set is contained in at least 3 lines (cyclic flats of rank 2). "
   ]
  },
  {
   "cell_type": "code",
   "execution_count": null,
   "metadata": {},
   "outputs": [],
   "source": [
    "db = Polymake.Polydb.get_db();\n",
    "collection = db[\"Matroids.Small\"];\n",
    "d3n11 = Polymake.Polydb.find(collection, Dict(\"RANK\" => 3, \"SIMPLE\"=>true, \"N_ELEMENTS\"=>11));\n",
    "\n",
    "\n",
    "n3C11 = subsets(collect(1:10), 3);\n",
    "n3C11 = sort(n3C11, by =  x-> reverse(x));\n",
    "\n",
    "lines_3 = []\n",
    "for c in d3n11\n",
    "    Q = Matroid(c)\n",
    "    ns = count_3_lines_thru_all_points(Q)\n",
    "    if length(ns) == 0\n",
    "        continue\n",
    "    end    \n",
    "    if minimum(ns) >= 3\n",
    "        push!(lines_3, to_revlex(Q, n3C11))\n",
    "    end\n",
    "end"
   ]
  },
  {
   "cell_type": "markdown",
   "metadata": {},
   "source": [
    "This data is precomputed in `d3n11/3lines_d3n11.dat`."
   ]
  },
  {
   "cell_type": "code",
   "execution_count": null,
   "metadata": {},
   "outputs": [],
   "source": [
    "lines_3_precomputed = vec(readlines(joinpath(currentDir, \"d3n11/3lines_d3n11.dat\")));"
   ]
  },
  {
   "cell_type": "code",
   "execution_count": null,
   "metadata": {},
   "outputs": [],
   "source": [
    "Set(lines_3) == Set(lines_3_precomputed)"
   ]
  },
  {
   "cell_type": "markdown",
   "metadata": {},
   "source": [
    "The file `d3n11/not_realizable.dat` contains those matroids in `d3n11/3lines_d3n11.dat` that are not realizable over $\\mathbb{Q}$. "
   ]
  },
  {
   "cell_type": "code",
   "execution_count": null,
   "metadata": {},
   "outputs": [],
   "source": [
    "not_realizable = vec(readlines(joinpath(currentDir, \"d3n11/nonrealizable.dat\")));"
   ]
  },
  {
   "cell_type": "markdown",
   "metadata": {},
   "source": [
    "**Warning:** the cell below takes ~10 minutes to complete. "
   ]
  },
  {
   "cell_type": "code",
   "execution_count": null,
   "metadata": {},
   "outputs": [],
   "source": [
    "test_nonrealizable = []\n",
    "\n",
    "for Qstr in not_realizable\n",
    "    Q = matroid_from_revlex_basis_encoding(Qstr, 3, 11) \n",
    "    As = rank_plus1_circuits(Q) \n",
    "    MR = new_matroid_realization_space(Q, As[1]; F=QQ, saturate=true)\n",
    "    push!(test_nonrealizable, !MR.representable)\n",
    "end"
   ]
  },
  {
   "cell_type": "code",
   "execution_count": null,
   "metadata": {},
   "outputs": [],
   "source": [
    "all(test_nonrealizable)"
   ]
  },
  {
   "cell_type": "markdown",
   "metadata": {},
   "source": [
    "The files `d3n11/zero_ideal.dat`, `d3n11/univariate_ideal.dat`, `d3n11/principal_ideal.dat`, `d3n11/_not_principal_ideal.dat` record matroids and a maximal circuit. A pair of matroid and circuit is recorded as a `*/0` vector. The first 11 entries record the circuit (e.g., `**0*00*0000` is the circuit `[1,2,4,7]`) and the rest record the matroid in the usual revlex basis encoding. \n",
    "\n",
    "**Note:** One could check that these are smooth using the `singular_locus` function in `src/Jacobian_Criterion.jl`. To make this computation more transparent, we carry out the smoothness check explicitly."
   ]
  },
  {
   "cell_type": "markdown",
   "metadata": {},
   "source": [
    "The files `d3n11/zero_ideal.dat` contains those matroids in `d3n11/3lines_d3n11.dat` and a maximal circuit such that the ideal of the realization space is zero. Therefore these realization spaces are smooth. \n",
    "\n",
    "**Warning:** this cell takes (fill in, something like 15 min) minutes to run."
   ]
  },
  {
   "cell_type": "code",
   "execution_count": null,
   "metadata": {},
   "outputs": [],
   "source": [
    "zero_ideal = joinpath(currentDir, vec(readlines(\"d3n11/zero_ideal.dat\")))\n",
    "\n",
    "test_zero = []\n",
    "for cir_Qstr in zero_ideal\n",
    "    A = [i for i in 1:11 if string(cir_Qstr[i]) == \"*\"]     \n",
    "    Qstr = cir_Qstr[12:176]\n",
    "    Q = matroid_from_revlex_basis_encoding(Qstr, 3, 11) \n",
    "    MR = new_matroid_realization_space(Q, A; F=QQ, saturate=false)\n",
    "        \n",
    "    MR = reduce_ideal_full(MR)\n",
    "    I = MR.defining_ideal\n",
    "    push!(test_zero, iszero(I))\n",
    "end"
   ]
  },
  {
   "cell_type": "code",
   "execution_count": null,
   "metadata": {},
   "outputs": [],
   "source": [
    "all(test_zero)"
   ]
  },
  {
   "cell_type": "markdown",
   "metadata": {},
   "source": [
    "The files `d3n11/univariate_ideal.dat` contains those matroids in `d3n11/3lines_d3n11.dat` and a maximal circuit such that the ideal of the realization space is univariate. These realization spaces are smooth provided the discriminant is nonzero. \n",
    "\n",
    "Missing, find appropiate circuit: `0******0******0**********0****************0************0********0*****************************0********0***************0************************0***0*********0******`"
   ]
  },
  {
   "cell_type": "markdown",
   "metadata": {},
   "source": [
    "**Warning:** this cell takes (fill in, something like 15 min) minutes to run."
   ]
  },
  {
   "cell_type": "code",
   "execution_count": null,
   "metadata": {},
   "outputs": [],
   "source": [
    "univariate_ideal = joinpath(currentDir, vec(readlines(\"d3n11/univariate_ideal.dat\")))\n",
    "\n",
    "test_univariate = []\n",
    "for cir_Qstr in univariate_ideal\n",
    "    A = [i for i in 1:11 if string(cir_Qstr[i]) == \"*\"]     \n",
    "    Qstr = cir_Qstr[12:176]\n",
    "    Q = matroid_from_revlex_basis_encoding(Qstr, 3, 11) \n",
    "    MR = new_matroid_realization_space(Q, A; F=QQ, saturate=true)\n",
    "        \n",
    "    MR = reduce_ideal_full(MR)\n",
    "    I = MR.defining_ideal\n",
    "    length_vs = length(ideal_vars(gens(I))) \n",
    "    push!(test_univariate, isone(length_vs))\n",
    "end"
   ]
  },
  {
   "cell_type": "code",
   "execution_count": null,
   "metadata": {},
   "outputs": [],
   "source": [
    "all(test_univariate)"
   ]
  },
  {
   "cell_type": "markdown",
   "metadata": {},
   "source": [
    "The files `d3n11/principal_ideal.dat` contains those matroids in `d3n11/3lines_d3n11.dat` and a maximal circuit such that the ideal of the realization space is principal. By the Jacobian criterion, the affine scheme $\\mathsf{Spec}(S^{-1}\\mathbb{Q}[x_1,\\ldots,x_n] / \\langle f \\rangle)$ is smooth if and only if the ideal\n",
    "\n",
    "$$\n",
    "J = \\langle f, \\frac{\\partial f}{\\partial x_1}, \\ldots, \\frac{\\partial f}{\\partial x_n}\\rangle\n",
    "$$\n",
    "\n",
    "is the unit ideal in $S^{-1} \\mathbb{Q}[x_1,\\ldots,x_n]$. This is equivalent to the saturation $(J:S^{\\infty})$ being the unit ideal in $\\mathbb{Q}[x_1,\\ldots,x_n]$. We perform this explicit check here. "
   ]
  },
  {
   "cell_type": "code",
   "execution_count": null,
   "metadata": {},
   "outputs": [],
   "source": [
    "principal_ideal = joinpath(currentDir, vec(readlines(\"d3n11/univariate_ideal.dat\")))\n",
    "\n",
    "test_principal = []\n",
    "for cir_Qstr in principal\n",
    "    A = [i for i in 1:11 if string(cir_Qstr[i]) == \"*\"]     \n",
    "    Qstr = cir_Qstr[12:176]\n",
    "    Q = matroid_from_revlex_basis_encoding(Qstr, 3, 11) \n",
    "    MR = new_matroid_realization_space(Q, A; F=QQ, saturate=true)\n",
    "        \n",
    "    MR = reduce_ideal_full(MR)\n",
    "    R = MR.ambient_ring\n",
    "    x = gens(R)\n",
    "    I = MR.defining_ideal\n",
    "    Igens = gens(I)\n",
    "    length(Igens) != 1 && error(\"not principal\") \n",
    "    JM = jacobian_matrix(R, x, Igens)\n",
    "    nr, nc = size(JM) \n",
    "    J = I + ideal(R, [JM[1,c] for c in 1:nc])\n",
    "    Sing = stepwise_saturation(J, MR.inequations)\n",
    "    #Sing = realization_space_2_singular_locus(MR)\n",
    "    push!(test_principal, isone(Sing))\n",
    "end"
   ]
  },
  {
   "cell_type": "code",
   "execution_count": null,
   "metadata": {},
   "outputs": [],
   "source": [
    "all(test_principal)"
   ]
  }
 ],
 "metadata": {
  "kernelspec": {
   "display_name": "Julia 1.8.5",
   "language": "julia",
   "name": "julia-1.8"
  },
  "language_info": {
   "file_extension": ".jl",
   "mimetype": "application/julia",
   "name": "julia",
   "version": "1.8.5"
  }
 },
 "nbformat": 4,
 "nbformat_minor": 4
}
