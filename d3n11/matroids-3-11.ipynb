{
 "cells": [
  {
   "cell_type": "code",
   "execution_count": 4,
   "metadata": {},
   "outputs": [
    {
     "name": "stdout",
     "output_type": "stream",
     "text": [
      "\r",
      " -----    -----    -----      -      -----   \n",
      "|     |  |     |  |     |    | |    |     |  \n",
      "|     |  |        |         |   |   |     |  \n",
      "|     |   -----   |        |     |  |-----   \n",
      "|     |        |  |        |-----|  |   |    \n",
      "|     |  |     |  |     |  |     |  |    |   \n",
      " -----    -----    -----   -     -  -     -  \n",
      "\n",
      "...combining (and extending) ANTIC, GAP, Polymake and Singular\n",
      "Version\u001b[32m 0.12.2-DEV \u001b[39m... \n",
      " ... which comes with absolutely no warranty whatsoever\n",
      "Type: '?Oscar' for more information\n",
      "(c) 2019-2023 by The OSCAR Development Team\n"
     ]
    }
   ],
   "source": [
    "using Oscar"
   ]
  },
  {
   "cell_type": "code",
   "execution_count": 2,
   "metadata": {},
   "outputs": [],
   "source": [
    "cd(\"..\")"
   ]
  },
  {
   "cell_type": "code",
   "execution_count": 5,
   "metadata": {
    "scrolled": true
   },
   "outputs": [
    {
     "data": {
      "text/plain": [
       "realization_space_2_singular_locus (generic function with 1 method)"
      ]
     },
     "execution_count": 5,
     "metadata": {},
     "output_type": "execute_result"
    }
   ],
   "source": [
    "currentDir = pwd() # make sure you are running from the main directory.\n",
    "include(joinpath(currentDir, \"src/fileHandling.jl\"))\n",
    "include(joinpath(currentDir, \"src/isolate3Lines.jl\"))\n",
    "include(joinpath(currentDir, \"src/matroid_realization.jl\"))\n",
    "include(joinpath(currentDir, \"src/Jacobian_Criterion.jl\"))"
   ]
  },
  {
   "cell_type": "markdown",
   "metadata": {},
   "source": [
    "First we isolate those that satisfy the three lines property, i.e., every element of the ground set is contained in at least 3 lines (cyclic flats of rank 2). There are **16234** such matroids.\n",
    "\n",
    "**Warning** this cell takes a long time to run. "
   ]
  },
  {
   "cell_type": "code",
   "execution_count": null,
   "metadata": {},
   "outputs": [],
   "source": [
    "db = Polymake.Polydb.get_db();\n",
    "collection = db[\"Matroids.Small\"];\n",
    "d3n11 = Polymake.Polydb.find(collection, Dict(\"RANK\" => 3, \"SIMPLE\"=>true, \"N_ELEMENTS\"=>11));\n",
    "\n",
    "n3C11 = subsets(collect(1:11), 3);\n",
    "n3C11 = sort(n3C11, by =  x-> reverse(x));\n",
    "\n",
    "lines_3 = []\n",
    "for c in d3n11\n",
    "    Q = Matroid(c)\n",
    "    ns = count_3_lines_thru_all_points(Q)\n",
    "    if length(ns) == 0\n",
    "        continue\n",
    "    end    \n",
    "    if minimum(ns) >= 3\n",
    "        push!(lines_3, to_revlex(Q, n3C11))\n",
    "    end\n",
    "end"
   ]
  },
  {
   "cell_type": "markdown",
   "metadata": {},
   "source": [
    "This data is precomputed in `d3n11/3lines_3_11.dat`."
   ]
  },
  {
   "cell_type": "code",
   "execution_count": 16,
   "metadata": {},
   "outputs": [
    {
     "data": {
      "text/plain": [
       "16234"
      ]
     },
     "execution_count": 16,
     "metadata": {},
     "output_type": "execute_result"
    }
   ],
   "source": [
    "lines_3_precomputed = vec(readlines(joinpath(currentDir, \"d3n11/3lines_3_11.dat\")));\n",
    "length(lines_3_precomputed)"
   ]
  },
  {
   "cell_type": "code",
   "execution_count": 14,
   "metadata": {},
   "outputs": [],
   "source": [
    "Set(lines_3) == Set(lines_3_precomputed)"
   ]
  },
  {
   "cell_type": "markdown",
   "metadata": {},
   "source": [
    "Alternately, run `julia d3n11/src/isolate_3_lines.jl`."
   ]
  },
  {
   "cell_type": "markdown",
   "metadata": {},
   "source": [
    "The file `d3n11/nonrealizable_3_11.dat` contains those matroids in `d3n11/3lines_3_11.dat` that are not realizable over $\\mathbb{Q}$. There are **4718** such matroids. "
   ]
  },
  {
   "cell_type": "code",
   "execution_count": 10,
   "metadata": {},
   "outputs": [
    {
     "data": {
      "text/plain": [
       "4718"
      ]
     },
     "execution_count": 10,
     "metadata": {},
     "output_type": "execute_result"
    }
   ],
   "source": [
    "not_realizable = vec(readlines(joinpath(currentDir, \"d3n11/nonrealizable_3_11.dat\")));\n",
    "length(not_realizable)"
   ]
  },
  {
   "cell_type": "markdown",
   "metadata": {},
   "source": [
    "**Warning:** the cell below takes ~10 minutes to complete. "
   ]
  },
  {
   "cell_type": "code",
   "execution_count": null,
   "metadata": {},
   "outputs": [],
   "source": [
    "test_nonrealizable = []\n",
    "\n",
    "for Qstr in not_realizable\n",
    "    Q = matroid_from_revlex_basis_encoding(Qstr, 3, 11) \n",
    "    As = rank_plus1_circuits(Q) \n",
    "    MR = new_matroid_realization_space(Q, As[1]; F=QQ, saturate=true)\n",
    "    push!(test_nonrealizable, !MR.representable)\n",
    "end"
   ]
  },
  {
   "cell_type": "code",
   "execution_count": null,
   "metadata": {},
   "outputs": [],
   "source": [
    "all(test_nonrealizable)"
   ]
  },
  {
   "cell_type": "markdown",
   "metadata": {},
   "source": [
    "Alternately, run `julia d3n11/src/test_nonrealizable.jl`."
   ]
  },
  {
   "cell_type": "markdown",
   "metadata": {},
   "source": [
    "The files `d3n11/zero_ideal_3_11.dat`, `d3n11/univariate_ideal_3_11.dat`, `d3n11/multivariate_principal_ideal_3_11.dat`, record matroids and a maximal circuit. A pair of matroid and circuit is recorded as a `*/0` vector. The first 11 entries record the circuit (e.g., `**0*00*0000` is the circuit `[1,2,4,7]`) and the rest record the matroid in the usual revlex basis encoding. \n",
    "\n",
    "**Note:** One could check that these are smooth using the `singular_locus` function in `src/Jacobian_Criterion.jl`. To make this computation more transparent, we carry out the smoothness check explicitly."
   ]
  },
  {
   "cell_type": "markdown",
   "metadata": {},
   "source": [
    "The files `d3n11/zero_ideal_3_11.dat` contains those matroids in `d3n11/3lines_3_11.dat` and a maximal circuit such that the ideal of the realization space is zero. There are **2220** such matroids. Therefore these realization spaces are smooth. "
   ]
  },
  {
   "cell_type": "code",
   "execution_count": 23,
   "metadata": {},
   "outputs": [
    {
     "data": {
      "text/plain": [
       "2220"
      ]
     },
     "execution_count": 23,
     "metadata": {},
     "output_type": "execute_result"
    }
   ],
   "source": [
    "zero_ideal = vec(readlines(joinpath(currentDir, \"d3n11/zero_ideal_3_11.dat\")));\n",
    "length(zero_ideal)"
   ]
  },
  {
   "cell_type": "markdown",
   "metadata": {},
   "source": [
    "**Warning:** this cell takes (fill in, something like 15 min) minutes to run."
   ]
  },
  {
   "cell_type": "code",
   "execution_count": null,
   "metadata": {},
   "outputs": [],
   "source": [
    "test_zero = []\n",
    "for cir_Qstr in zero_ideal\n",
    "    A = [i for i in 1:11 if string(cir_Qstr[i]) == \"*\"]     \n",
    "    Qstr = cir_Qstr[12:176]\n",
    "    Q = matroid_from_revlex_basis_encoding(Qstr, 3, 11) \n",
    "    MR = new_matroid_realization_space(Q, A; F=QQ, saturate=false)\n",
    "        \n",
    "    MR = reduce_ideal_full(MR)\n",
    "    I = MR.defining_ideal\n",
    "    push!(test_zero, iszero(I))\n",
    "end"
   ]
  },
  {
   "cell_type": "code",
   "execution_count": null,
   "metadata": {},
   "outputs": [],
   "source": [
    "all(test_zero)"
   ]
  },
  {
   "cell_type": "markdown",
   "metadata": {},
   "source": [
    "Alternately, run `julia d3n11/src/test_zero_ideal.jl`."
   ]
  },
  {
   "cell_type": "markdown",
   "metadata": {},
   "source": [
    "The file `d3n11/univariate_ideal_3_11.dat` contains those matroids in `d3n11/3lines_3_11.dat` and a maximal circuit such that the ideal of the realization space is univariate. There are **3658** such matroids. These realization spaces are smooth provided the discriminant is nonzero. "
   ]
  },
  {
   "cell_type": "code",
   "execution_count": 24,
   "metadata": {},
   "outputs": [
    {
     "data": {
      "text/plain": [
       "3658"
      ]
     },
     "execution_count": 24,
     "metadata": {},
     "output_type": "execute_result"
    }
   ],
   "source": [
    "univariate_ideal = vec(readlines(joinpath(currentDir, \"d3n11/univariate_ideal_3_11.dat\")));\n",
    "length(univariate_ideal)"
   ]
  },
  {
   "cell_type": "markdown",
   "metadata": {},
   "source": [
    "**Warning:** this cell takes (fill in, something like 15 min) minutes to run."
   ]
  },
  {
   "cell_type": "code",
   "execution_count": null,
   "metadata": {},
   "outputs": [],
   "source": [
    "test_univariate = []\n",
    "for cir_Qstr in univariate_ideal\n",
    "    A = [i for i in 1:11 if string(cir_Qstr[i]) == \"*\"]     \n",
    "    Qstr = cir_Qstr[12:176]\n",
    "    Q = matroid_from_revlex_basis_encoding(Qstr, 3, 11) \n",
    "    MR = new_matroid_realization_space(Q, A; F=QQ, saturate=true)\n",
    "        \n",
    "    MR = reduce_ideal_full(MR)\n",
    "    I = MR.defining_ideal\n",
    "    length_vs = length(ideal_vars(gens(I))) \n",
    "    push!(test_univariate, isone(length_vs))\n",
    "end"
   ]
  },
  {
   "cell_type": "code",
   "execution_count": null,
   "metadata": {},
   "outputs": [],
   "source": [
    "all(test_univariate)"
   ]
  },
  {
   "cell_type": "markdown",
   "metadata": {},
   "source": [
    "Alternately, run `julia d3n11/src/test_univariate_ideal.jl`."
   ]
  },
  {
   "cell_type": "markdown",
   "metadata": {},
   "source": [
    "The file `d3n11/multivariate_principal_ideal_3_11.dat` contains those matroids in `d3n11/3lines_3_11.dat` and a maximal circuit such that the defining ideal of the realization space is multivariate and principal. There are **5638** such matroids."
   ]
  },
  {
   "cell_type": "code",
   "execution_count": 25,
   "metadata": {},
   "outputs": [
    {
     "data": {
      "text/plain": [
       "5638"
      ]
     },
     "execution_count": 25,
     "metadata": {},
     "output_type": "execute_result"
    }
   ],
   "source": [
    "multivariate_principal = vec(readlines(joinpath(currentDir, \"d3n11/multivariate_principal_ideal_3_11.dat\")));\n",
    "length(principal_ideal)"
   ]
  },
  {
   "cell_type": "markdown",
   "metadata": {},
   "source": [
    "**Warning:** This cell takes a long time to run."
   ]
  },
  {
   "cell_type": "code",
   "execution_count": null,
   "metadata": {},
   "outputs": [],
   "source": [
    "test_multivariate = []\n",
    "for cir_Qstr in multivariate_principal\n",
    "    A = [i for i in 1:11 if string(cir_Qstr[i]) == \"*\"]     \n",
    "    Qstr = cir_Qstr[12:176]\n",
    "    Q = matroid_from_revlex_basis_encoding(Qstr, 3, 11) \n",
    "    MR = new_matroid_realization_space(Q, A; F=QQ, saturate=true)\n",
    "        \n",
    "    MR = reduce_ideal_full(MR)\n",
    "    I = MR.defining_ideal\n",
    "    length_gens = length(gens(I))\n",
    "    length_vs = length(ideal_vars(gens(I))) \n",
    "    \n",
    "    x = (length(Igens) == 1 && length(ideal_vars(Igens))>1)\n",
    "    \n",
    "    push!(test_multivariate,x)\n",
    "       \n",
    "end"
   ]
  },
  {
   "cell_type": "markdown",
   "metadata": {},
   "source": [
    "Alternately, run `julia d3n11/src/test_multivariate_principal.jl`."
   ]
  },
  {
   "cell_type": "markdown",
   "metadata": {},
   "source": [
    "The files `d3n11/univariate_ideal_3_11.dat` and `d3n11/multivariate_principal_ideal_3_11.dat` contains those matroids in `d3n11/3lines_3_11.dat` and a maximal circuit such that the ideal of the realization space is principal with multivariate generators. There are **5638** such matroids. By the Jacobian criterion, the affine scheme $\\mathsf{Spec}(S^{-1}\\mathbb{Q}[x_1,\\ldots,x_n] / \\langle f \\rangle)$ is smooth if and only if the ideal\n",
    "\n",
    "$$\n",
    "J = \\langle f, \\frac{\\partial f}{\\partial x_1}, \\ldots, \\frac{\\partial f}{\\partial x_n}\\rangle\n",
    "$$\n",
    "\n",
    "is the unit ideal in $S^{-1} \\mathbb{Q}[x_1,\\ldots,x_n]$. This is equivalent to the saturation $(J:S^{\\infty})$ being the unit ideal in $\\mathbb{Q}[x_1,\\ldots,x_n]$. We perform this explicit check here. "
   ]
  },
  {
   "cell_type": "code",
   "execution_count": 21,
   "metadata": {},
   "outputs": [
    {
     "data": {
      "text/plain": [
       "9296-element Vector{String}:\n",
       " \"**0*000000*0******0******0*****\" ⋯ 115 bytes ⋯ \"************0*0******0********\"\n",
       " \"**0*00000*00******0******0*****\" ⋯ 115 bytes ⋯ \"************0**0******0*******\"\n",
       " \"*0**00000*00******0******0*****\" ⋯ 115 bytes ⋯ \"************0*0********0******\"\n",
       " \"*0**000*0000******0******0*****\" ⋯ 115 bytes ⋯ \"********0*****0************0**\"\n",
       " \"*0**00000*00******0******0*****\" ⋯ 115 bytes ⋯ \"************0*0***********0***\"\n",
       " \"**0*00000*00******0******0*****\" ⋯ 115 bytes ⋯ \"************0**0**********0***\"\n",
       " \"**0*00000*00******0******0*****\" ⋯ 115 bytes ⋯ \"********0*********0********0**\"\n",
       " \"**00*00000*0******0******0*****\" ⋯ 115 bytes ⋯ \"************0****0***0********\"\n",
       " \"**00*00000*0******0******0*****\" ⋯ 115 bytes ⋯ \"************00***********0****\"\n",
       " \"**00*000*000******0******0*****\" ⋯ 115 bytes ⋯ \"************0****0*****0******\"\n",
       " \"**00*0000*00******0******0*****\" ⋯ 115 bytes ⋯ \"************0**0*********0****\"\n",
       " \"*0**00000*00******0******0*****\" ⋯ 115 bytes ⋯ \"************0*****0**0********\"\n",
       " \"**00*000*000******0******0*****\" ⋯ 115 bytes ⋯ \"***********0*0*********0******\"\n",
       " ⋮\n",
       " \"**000*0000*0000000000**********\" ⋯ 115 bytes ⋯ \"*******0*****0****************\"\n",
       " \"*0*000*00*00000000000**********\" ⋯ 115 bytes ⋯ \"*0***************0***0********\"\n",
       " \"**000*0000*0000000000**********\" ⋯ 115 bytes ⋯ \"*************0********0*******\"\n",
       " \"**000*0000*0000000000**********\" ⋯ 115 bytes ⋯ \"*******0*****0****************\"\n",
       " \"**000*0000*0000000000**********\" ⋯ 115 bytes ⋯ \"*0***********0****************\"\n",
       " \"*00*00*0*000******0******0***0*\" ⋯ 115 bytes ⋯ \"****0******0****0*************\"\n",
       " \"0****0000000******0******0***0*\" ⋯ 115 bytes ⋯ \"************0*****0***0*******\"\n",
       " \"0**0*0*00000******0******0***0*\" ⋯ 115 bytes ⋯ \"*********0*******0*****0******\"\n",
       " \"0*0**0000*00******0******0***0*\" ⋯ 115 bytes ⋯ \"*****00******************0****\"\n",
       " \"*000*00**000******0******0***0*\" ⋯ 115 bytes ⋯ \"*********0*******0********0***\"\n",
       " \"**00*000*000000************0***\" ⋯ 115 bytes ⋯ \"*********0*********0*0********\"\n",
       " \"**00*00*0000000************0***\" ⋯ 115 bytes ⋯ \"******0*********0********0****\""
      ]
     },
     "execution_count": 21,
     "metadata": {},
     "output_type": "execute_result"
    }
   ],
   "source": [
    "principal = union(multivariate_principal,univariate_ideal)"
   ]
  },
  {
   "cell_type": "markdown",
   "metadata": {},
   "source": [
    "**Warning** This cell takes a long time to run. "
   ]
  },
  {
   "cell_type": "code",
   "execution_count": null,
   "metadata": {},
   "outputs": [],
   "source": [
    "test_principal = []\n",
    "for cir_Qstr in multivariate_principal\n",
    "    A = [i for i in 1:11 if string(cir_Qstr[i]) == \"*\"]     \n",
    "    Qstr = cir_Qstr[12:176]\n",
    "    Q = matroid_from_revlex_basis_encoding(Qstr, 3, 11) \n",
    "    MR = new_matroid_realization_space(Q, A; F=QQ, saturate=true)\n",
    "        \n",
    "    MR = reduce_ideal_full(MR)\n",
    "    R = MR.ambient_ring\n",
    "    x = gens(R)\n",
    "    I = MR.defining_ideal\n",
    "    Igens = gens(I)\n",
    "    length(Igens) != 1 && error(\"not principal\") \n",
    "    JM = jacobian_matrix(R, x, Igens)\n",
    "    nr, nc = size(JM) \n",
    "    J = I + ideal(R, [JM[1,c] for c in 1:nc])\n",
    "    Sing = stepwise_saturation(J, MR.inequations)\n",
    "    #Sing = realization_space_2_singular_locus(MR)\n",
    "    push!(test_principal, isone(Sing))\n",
    "end"
   ]
  },
  {
   "cell_type": "code",
   "execution_count": null,
   "metadata": {},
   "outputs": [],
   "source": [
    "all(test_principal)"
   ]
  },
  {
   "cell_type": "markdown",
   "metadata": {},
   "source": [
    "Alternately, run `julia d3n11/src/test_principal.jl`."
   ]
  },
  {
   "cell_type": "markdown",
   "metadata": {},
   "source": [
    "Finally, we verify that all matroids have been checked. "
   ]
  },
  {
   "cell_type": "code",
   "execution_count": 19,
   "metadata": {},
   "outputs": [
    {
     "data": {
      "text/plain": [
       "true"
      ]
     },
     "execution_count": 19,
     "metadata": {},
     "output_type": "execute_result"
    }
   ],
   "source": [
    "checked_realizable = vcat(zero_ideal, univariate_ideal, principal_ideal)\n",
    "checked_realizable = [x[12:176] for x in checked_realizable]\n",
    "unique!(checked_realizable)\n",
    "checked = vcat(not_realizable, checked_realizable)\n",
    "Set(checked) == Set(lines_3_precomputed)"
   ]
  },
  {
   "cell_type": "code",
   "execution_count": null,
   "metadata": {},
   "outputs": [],
   "source": []
  }
 ],
 "metadata": {
  "kernelspec": {
   "display_name": "Julia 1.7.1",
   "language": "julia",
   "name": "julia-1.7"
  },
  "language_info": {
   "file_extension": ".jl",
   "mimetype": "application/julia",
   "name": "julia",
   "version": "1.7.1"
  }
 },
 "nbformat": 4,
 "nbformat_minor": 4
}
